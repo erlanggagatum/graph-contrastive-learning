{
 "cells": [
  {
   "cell_type": "code",
   "execution_count": 1,
   "metadata": {},
   "outputs": [],
   "source": [
    "import torch\n",
    "import torch_geometric\n",
    "\n",
    "from torch_geometric.datasets import TUDataset\n",
    "from torch_geometric.loader import DataLoader"
   ]
  },
  {
   "cell_type": "code",
   "execution_count": null,
   "metadata": {},
   "outputs": [],
   "source": [
    "import matplotlib as plt\n",
    "import numpy as np\n",
    "import networkx\n",
    "from torch_geometric.data import Data\n",
    "from sklearn.manifold import TSNE\n"
   ]
  },
  {
   "cell_type": "code",
   "execution_count": null,
   "metadata": {},
   "outputs": [],
   "source": [
    "from torch_geometric.utils import to_dense_adj"
   ]
  },
  {
   "cell_type": "markdown",
   "metadata": {},
   "source": [
    "### Data Preprocessing"
   ]
  },
  {
   "cell_type": "markdown",
   "metadata": {},
   "source": [
    "Dataset import"
   ]
  },
  {
   "cell_type": "code",
   "execution_count": null,
   "metadata": {},
   "outputs": [],
   "source": [
    "dataset = TUDataset(root=\"../dataset\", name='PROTEINS')"
   ]
  },
  {
   "cell_type": "code",
   "execution_count": null,
   "metadata": {},
   "outputs": [],
   "source": [
    "insp = 3\n",
    "print(dataset[insp+851])\n",
    "print(dataset[insp+213])\n",
    "print(dataset[insp+2]) "
   ]
  },
  {
   "cell_type": "markdown",
   "metadata": {},
   "source": [
    "Create complementary graph"
   ]
  },
  {
   "cell_type": "code",
   "execution_count": null,
   "metadata": {},
   "outputs": [],
   "source": [
    "adj_o = to_dense_adj(dataset[2].edge_index)\n",
    "adj_c = abs(to_dense_adj(dataset[2].edge_index) - 1) - torch.eye(len(dataset[2].x))\n",
    "\n",
    "print(\"Original:\", adj_o)\n",
    "print(\"Complementary:\", (adj_c))"
   ]
  },
  {
   "cell_type": "code",
   "execution_count": null,
   "metadata": {},
   "outputs": [],
   "source": [
    "print(adj_o[0].nonzero().t().contiguous() == dataset[2].edge_index)"
   ]
  },
  {
   "cell_type": "code",
   "execution_count": null,
   "metadata": {},
   "outputs": [],
   "source": [
    "adj_c[0].nonzero().t().contiguous()"
   ]
  },
  {
   "cell_type": "code",
   "execution_count": null,
   "metadata": {},
   "outputs": [],
   "source": [
    "def toComplementary(g):\n",
    "    c = abs(to_dense_adj(g.edge_index) - 1) - torch.eye(len(g.x))\n",
    "    c = c[0].nonzero().t().contiguous()\n",
    "    return c"
   ]
  },
  {
   "cell_type": "code",
   "execution_count": null,
   "metadata": {},
   "outputs": [],
   "source": [
    "dataset_c = []\n",
    "for graph in dataset:\n",
    "    edge_c = toComplementary(graph)\n",
    "    dataset_c.append(Data(edge_index=edge_c, x=graph.x, y=graph.y))"
   ]
  },
  {
   "cell_type": "code",
   "execution_count": null,
   "metadata": {},
   "outputs": [],
   "source": [
    "print(dataset_c[5])\n",
    "print(dataset[5])"
   ]
  },
  {
   "cell_type": "code",
   "execution_count": null,
   "metadata": {},
   "outputs": [],
   "source": [
    "torch.manual_seed(42)\n",
    "len((dataset.shuffle()).y)"
   ]
  },
  {
   "cell_type": "code",
   "execution_count": 293,
   "metadata": {},
   "outputs": [
    {
     "name": "stderr",
     "output_type": "stream",
     "text": [
      "Downloading https://www.chrsmrrs.com/graphkerneldatasets/MUTAG.zip\n",
      "Extracting ..\\dataset\\MUTAG\\MUTAG.zip\n",
      "Processing...\n",
      "Done!\n"
     ]
    }
   ],
   "source": [
    "# dataset = TUDataset(root=\"../dataset\", name='MUTAG')"
   ]
  },
  {
   "cell_type": "markdown",
   "metadata": {},
   "source": [
    "Train test split"
   ]
  },
  {
   "cell_type": "code",
   "execution_count": 294,
   "metadata": {},
   "outputs": [],
   "source": [
    "split = 0.8\n",
    "seed = 123\n",
    "\n",
    "num_split = round(len(dataset) * split)\n",
    "# dataset.shuffle()"
   ]
  },
  {
   "cell_type": "code",
   "execution_count": 295,
   "metadata": {},
   "outputs": [
    {
     "name": "stdout",
     "output_type": "stream",
     "text": [
      "Train:  150\n",
      "Test:  38\n"
     ]
    }
   ],
   "source": [
    "train_dataset = dataset[:num_split]\n",
    "test_dataset = dataset[num_split:]\n",
    "print('Train: ', len(train_dataset))\n",
    "print('Test: ', len(test_dataset))"
   ]
  },
  {
   "cell_type": "code",
   "execution_count": 296,
   "metadata": {},
   "outputs": [],
   "source": [
    "train_loader = DataLoader(train_dataset, batch_size=32, shuffle=True)\n",
    "test_loader = DataLoader(test_dataset, batch_size=32, shuffle=True)"
   ]
  },
  {
   "cell_type": "code",
   "execution_count": 297,
   "metadata": {},
   "outputs": [
    {
     "name": "stdout",
     "output_type": "stream",
     "text": [
      "tensor([0, 1, 1, 1, 1, 0, 0, 1, 1, 1, 1, 1, 1, 1, 1, 0, 0, 1, 1, 1, 1, 0, 0, 1,\n",
      "        1, 1, 1, 0, 1, 1, 1, 0])\n"
     ]
    }
   ],
   "source": [
    "for d in train_loader:\n",
    "    print(d.y)\n",
    "    break"
   ]
  },
  {
   "cell_type": "code",
   "execution_count": null,
   "metadata": {},
   "outputs": [],
   "source": []
  },
  {
   "cell_type": "code",
   "execution_count": null,
   "metadata": {},
   "outputs": [],
   "source": []
  },
  {
   "cell_type": "markdown",
   "metadata": {},
   "source": [
    "### Base Model (GCN)"
   ]
  },
  {
   "cell_type": "code",
   "execution_count": 298,
   "metadata": {},
   "outputs": [],
   "source": [
    "from torch_geometric.nn import GCNConv\n",
    "from torch.nn import Linear\n",
    "from torch.nn import Linear\n",
    "from torch_geometric.nn import global_mean_pool\n",
    "from torch_geometric.nn import global_max_pool\n",
    "from torch_geometric.nn import global_add_pool\n",
    "import torch.nn.functional as F"
   ]
  },
  {
   "cell_type": "code",
   "execution_count": 299,
   "metadata": {},
   "outputs": [],
   "source": [
    "class GCN(torch.nn.Module):\n",
    "    def __init__(self, dataset, hidden_channels):\n",
    "        super(GCN, self).__init__()\n",
    "        \n",
    "        # weight seed\n",
    "        torch.manual_seed(42)\n",
    "        self.conv1 = GCNConv(dataset.num_node_features, hidden_channels)\n",
    "        self.conv2 = GCNConv(hidden_channels, hidden_channels)\n",
    "        self.conv3 = GCNConv(hidden_channels, hidden_channels)\n",
    "        self.lin = Linear(hidden_channels, dataset.num_classes) # for final classification\n",
    "\n",
    "    def forward(self, x, edge_index, batch):\n",
    "        # step 1. get node embedding using GCNConv layer\n",
    "        x = self.conv1(x, edge_index)\n",
    "        x = x.relu() # apply relu activation after conv\n",
    "        x = self.conv2(x, edge_index)\n",
    "        x = x.relu()\n",
    "        x = self.conv3(x, edge_index)\n",
    "\n",
    "        # step 2. add readout layer to aggregate all node features of graph\n",
    "        e = global_add_pool(x, batch)\n",
    "\n",
    "        # apply classifier (using linear)\n",
    "        x = F.dropout(e, p=0.5, training=self.training)\n",
    "        x = self.lin(x)\n",
    "\n",
    "        return x, e"
   ]
  },
  {
   "cell_type": "code",
   "execution_count": 300,
   "metadata": {},
   "outputs": [],
   "source": [
    "def train(model, loader):\n",
    "    criterion = torch.nn.CrossEntropyLoss()\n",
    "    optimizer = torch.optim.Adam(model.parameters(), lr=0.01)\n",
    "    \n",
    "    model.train()\n",
    "    \n",
    "    for data in loader:\n",
    "        out, z = model(data.x, data.edge_index, data.batch)\n",
    "        loss = criterion(out, data.y)\n",
    "        loss.backward()\n",
    "        optimizer.step()\n",
    "        optimizer.zero_grad()\n",
    "    return out, loss\n",
    "\n",
    "@torch.no_grad()\n",
    "def test(model, loader):\n",
    "    model.eval()\n",
    "    correct = 0\n",
    "    for data in loader:\n",
    "        out, z = model(data.x, data.edge_index, data.batch)\n",
    "        pred = out.argmax(dim=1)\n",
    "        correct += int((pred == data.y).sum())\n",
    "    return correct/len(loader.dataset), z"
   ]
  },
  {
   "cell_type": "code",
   "execution_count": 301,
   "metadata": {},
   "outputs": [],
   "source": [
    "model = GCN(dataset, 64)\n",
    "# dataset.num_node_features"
   ]
  },
  {
   "cell_type": "code",
   "execution_count": 302,
   "metadata": {},
   "outputs": [
    {
     "name": "stdout",
     "output_type": "stream",
     "text": [
      "epoch: 1 train_acc: 0.6600 loss: 0.9123 test_acc: 0.6842\n",
      "epoch: 2 train_acc: 0.6600 loss: 0.5043 test_acc: 0.6842\n",
      "epoch: 3 train_acc: 0.6600 loss: 0.5662 test_acc: 0.6842\n",
      "epoch: 4 train_acc: 0.6600 loss: 0.6777 test_acc: 0.6842\n",
      "epoch: 5 train_acc: 0.6600 loss: 0.7570 test_acc: 0.6842\n",
      "epoch: 6 train_acc: 0.7067 loss: 0.6504 test_acc: 0.7105\n",
      "epoch: 7 train_acc: 0.6600 loss: 0.6339 test_acc: 0.7105\n",
      "epoch: 8 train_acc: 0.6933 loss: 0.5130 test_acc: 0.7105\n",
      "epoch: 9 train_acc: 0.6600 loss: 0.8391 test_acc: 0.6842\n",
      "epoch: 10 train_acc: 0.7000 loss: 0.6510 test_acc: 0.7105\n",
      "epoch: 11 train_acc: 0.7467 loss: 0.4059 test_acc: 0.7105\n",
      "epoch: 12 train_acc: 0.6600 loss: 0.4858 test_acc: 0.6842\n",
      "epoch: 13 train_acc: 0.7000 loss: 0.5843 test_acc: 0.7105\n",
      "epoch: 14 train_acc: 0.6600 loss: 0.5435 test_acc: 0.7105\n",
      "epoch: 15 train_acc: 0.6867 loss: 0.6472 test_acc: 0.7105\n",
      "epoch: 16 train_acc: 0.6800 loss: 0.7247 test_acc: 0.7105\n",
      "epoch: 17 train_acc: 0.6800 loss: 0.4440 test_acc: 0.7105\n",
      "epoch: 18 train_acc: 0.7600 loss: 0.4057 test_acc: 0.6842\n",
      "epoch: 19 train_acc: 0.7667 loss: 0.6031 test_acc: 0.6579\n",
      "epoch: 20 train_acc: 0.7600 loss: 0.4864 test_acc: 0.6842\n",
      "epoch: 21 train_acc: 0.7067 loss: 1.0548 test_acc: 0.7105\n",
      "epoch: 22 train_acc: 0.7533 loss: 0.3494 test_acc: 0.6842\n",
      "epoch: 23 train_acc: 0.6800 loss: 0.6791 test_acc: 0.7105\n",
      "epoch: 24 train_acc: 0.7867 loss: 0.7638 test_acc: 0.7368\n",
      "epoch: 25 train_acc: 0.7800 loss: 0.3514 test_acc: 0.7105\n",
      "epoch: 26 train_acc: 0.7667 loss: 0.4275 test_acc: 0.7632\n",
      "epoch: 27 train_acc: 0.7667 loss: 0.4499 test_acc: 0.6579\n",
      "epoch: 28 train_acc: 0.7533 loss: 0.4735 test_acc: 0.6579\n",
      "epoch: 29 train_acc: 0.7267 loss: 0.2864 test_acc: 0.6579\n",
      "epoch: 30 train_acc: 0.7733 loss: 0.6978 test_acc: 0.6842\n",
      "epoch: 31 train_acc: 0.7533 loss: 0.2864 test_acc: 0.7105\n",
      "epoch: 32 train_acc: 0.7533 loss: 0.6120 test_acc: 0.6842\n",
      "epoch: 33 train_acc: 0.7600 loss: 0.5689 test_acc: 0.6842\n",
      "epoch: 34 train_acc: 0.7600 loss: 0.5302 test_acc: 0.6842\n",
      "epoch: 35 train_acc: 0.7533 loss: 0.6924 test_acc: 0.6842\n",
      "epoch: 36 train_acc: 0.7667 loss: 0.5320 test_acc: 0.6842\n",
      "epoch: 37 train_acc: 0.7800 loss: 0.9061 test_acc: 0.7632\n",
      "epoch: 38 train_acc: 0.7867 loss: 0.4814 test_acc: 0.7368\n",
      "epoch: 39 train_acc: 0.7667 loss: 0.3476 test_acc: 0.6579\n",
      "epoch: 40 train_acc: 0.7867 loss: 0.4759 test_acc: 0.7368\n",
      "epoch: 41 train_acc: 0.7733 loss: 0.4816 test_acc: 0.6842\n",
      "epoch: 42 train_acc: 0.7733 loss: 0.3751 test_acc: 0.7105\n",
      "epoch: 43 train_acc: 0.7867 loss: 0.6781 test_acc: 0.7368\n",
      "epoch: 44 train_acc: 0.8067 loss: 0.5719 test_acc: 0.8158\n",
      "epoch: 45 train_acc: 0.7733 loss: 0.5628 test_acc: 0.7105\n",
      "epoch: 46 train_acc: 0.7000 loss: 0.4720 test_acc: 0.6579\n",
      "epoch: 47 train_acc: 0.7733 loss: 0.7763 test_acc: 0.7105\n",
      "epoch: 48 train_acc: 0.8000 loss: 0.3531 test_acc: 0.7105\n",
      "epoch: 49 train_acc: 0.7800 loss: 0.7998 test_acc: 0.7368\n",
      "epoch: 50 train_acc: 0.7733 loss: 0.4570 test_acc: 0.7105\n",
      "epoch: 51 train_acc: 0.7467 loss: 0.7091 test_acc: 0.6579\n",
      "epoch: 52 train_acc: 0.7733 loss: 0.5053 test_acc: 0.6842\n",
      "epoch: 53 train_acc: 0.7867 loss: 0.4150 test_acc: 0.7368\n",
      "epoch: 54 train_acc: 0.7800 loss: 0.6145 test_acc: 0.7632\n",
      "epoch: 55 train_acc: 0.8000 loss: 0.4928 test_acc: 0.7632\n",
      "epoch: 56 train_acc: 0.7867 loss: 0.8360 test_acc: 0.6842\n",
      "epoch: 57 train_acc: 0.7867 loss: 0.3695 test_acc: 0.6842\n",
      "epoch: 58 train_acc: 0.7867 loss: 1.0703 test_acc: 0.6842\n",
      "epoch: 59 train_acc: 0.7867 loss: 0.5053 test_acc: 0.7632\n",
      "epoch: 60 train_acc: 0.7933 loss: 0.7527 test_acc: 0.7105\n",
      "epoch: 61 train_acc: 0.7867 loss: 0.4590 test_acc: 0.6842\n",
      "epoch: 62 train_acc: 0.7733 loss: 0.4278 test_acc: 0.6842\n",
      "epoch: 63 train_acc: 0.7800 loss: 0.4619 test_acc: 0.6842\n",
      "epoch: 64 train_acc: 0.7933 loss: 0.4537 test_acc: 0.6842\n",
      "epoch: 65 train_acc: 0.7933 loss: 0.4830 test_acc: 0.6842\n",
      "epoch: 66 train_acc: 0.7867 loss: 0.5371 test_acc: 0.7105\n",
      "epoch: 67 train_acc: 0.7867 loss: 0.5894 test_acc: 0.7105\n",
      "epoch: 68 train_acc: 0.7867 loss: 0.4449 test_acc: 0.7105\n",
      "epoch: 69 train_acc: 0.7800 loss: 0.5142 test_acc: 0.6842\n",
      "epoch: 70 train_acc: 0.8333 loss: 0.5881 test_acc: 0.7632\n",
      "epoch: 71 train_acc: 0.7800 loss: 0.1634 test_acc: 0.7368\n",
      "epoch: 72 train_acc: 0.8267 loss: 0.4085 test_acc: 0.7632\n",
      "epoch: 73 train_acc: 0.7867 loss: 0.4384 test_acc: 0.7632\n",
      "epoch: 74 train_acc: 0.8200 loss: 0.4515 test_acc: 0.7632\n",
      "epoch: 75 train_acc: 0.7800 loss: 0.7176 test_acc: 0.6842\n",
      "epoch: 76 train_acc: 0.7933 loss: 0.4607 test_acc: 0.7368\n",
      "epoch: 77 train_acc: 0.8000 loss: 0.4342 test_acc: 0.6842\n",
      "epoch: 78 train_acc: 0.7867 loss: 0.3174 test_acc: 0.6842\n",
      "epoch: 79 train_acc: 0.7800 loss: 0.7021 test_acc: 0.7105\n",
      "epoch: 80 train_acc: 0.7933 loss: 0.7568 test_acc: 0.7632\n",
      "epoch: 81 train_acc: 0.8333 loss: 0.5092 test_acc: 0.7895\n",
      "epoch: 82 train_acc: 0.7800 loss: 0.3519 test_acc: 0.7368\n",
      "epoch: 83 train_acc: 0.7933 loss: 0.4656 test_acc: 0.7368\n",
      "epoch: 84 train_acc: 0.8067 loss: 0.3818 test_acc: 0.7895\n",
      "epoch: 85 train_acc: 0.8000 loss: 0.5655 test_acc: 0.7895\n",
      "epoch: 86 train_acc: 0.7800 loss: 1.0107 test_acc: 0.7895\n",
      "epoch: 87 train_acc: 0.7933 loss: 0.7011 test_acc: 0.8158\n",
      "epoch: 88 train_acc: 0.8267 loss: 0.8196 test_acc: 0.7368\n",
      "epoch: 89 train_acc: 0.7867 loss: 0.4995 test_acc: 0.6842\n",
      "epoch: 90 train_acc: 0.8000 loss: 0.3641 test_acc: 0.7368\n",
      "epoch: 91 train_acc: 0.8067 loss: 0.5791 test_acc: 0.6842\n",
      "epoch: 92 train_acc: 0.8000 loss: 0.3039 test_acc: 0.7368\n",
      "epoch: 93 train_acc: 0.7867 loss: 0.3935 test_acc: 0.7368\n",
      "epoch: 94 train_acc: 0.8000 loss: 0.6746 test_acc: 0.7105\n",
      "epoch: 95 train_acc: 0.8000 loss: 0.2933 test_acc: 0.6842\n",
      "epoch: 96 train_acc: 0.7867 loss: 0.2785 test_acc: 0.7105\n",
      "epoch: 97 train_acc: 0.8067 loss: 0.4376 test_acc: 0.7632\n",
      "epoch: 98 train_acc: 0.7800 loss: 0.4201 test_acc: 0.6842\n",
      "epoch: 99 train_acc: 0.7933 loss: 0.4039 test_acc: 0.7368\n",
      "epoch: 100 train_acc: 0.7667 loss: 0.6290 test_acc: 0.6579\n"
     ]
    }
   ],
   "source": [
    "list_loss = []\n",
    "list_train_acc = []\n",
    "list_test_acc = []\n",
    "z = None\n",
    "\n",
    "for epoch in range(0, 100):\n",
    "    out, loss = train(model, train_loader)\n",
    "    train_acc, z = test(model, train_loader)\n",
    "    test_acc, z = test(model, test_loader)\n",
    "    \n",
    "    list_train_acc.append(round(train_acc, 4))\n",
    "    list_test_acc.append(round(test_acc, 4))\n",
    "    list_loss.append(round(loss.item(), 4))\n",
    "\n",
    "    print(f\"epoch: {epoch+1} train_acc: {train_acc:.4f} loss: {loss:.4f} test_acc: {test_acc:.4f}\")"
   ]
  },
  {
   "cell_type": "code",
   "execution_count": 419,
   "metadata": {},
   "outputs": [],
   "source": [
    "embeddings = [] \n",
    "labels = [] \n",
    "color_list = ['red', 'blue']\n",
    "\n",
    "for dt in train_loader:\n",
    "    _ , z = model(dt.x, dt.edge_index, dt.batch)\n",
    "    for emb in z:\n",
    "        # print(emb.detach().numpy())|\n",
    "        embeddings.append(emb.detach().numpy())\n",
    "    labels += [color_list[y-1] for y in dt.y]\n",
    "\n",
    "for dt in test_loader:\n",
    "    _ , z = model(dt.x, dt.edge_index, dt.batch)\n",
    "    for emb in z:\n",
    "        # print(emb.detach().numpy())|\n",
    "        embeddings.append(emb.detach().numpy())\n",
    "    labels += [color_list[y-1] for y in dt.y]"
   ]
  },
  {
   "cell_type": "code",
   "execution_count": 420,
   "metadata": {},
   "outputs": [
    {
     "name": "stdout",
     "output_type": "stream",
     "text": [
      "188\n",
      "188\n"
     ]
    }
   ],
   "source": [
    "print(len(embeddings))\n",
    "print(len(labels))"
   ]
  },
  {
   "cell_type": "code",
   "execution_count": 422,
   "metadata": {},
   "outputs": [],
   "source": [
    "embeddings = np.array(embeddings)"
   ]
  },
  {
   "cell_type": "code",
   "execution_count": null,
   "metadata": {},
   "outputs": [],
   "source": []
  },
  {
   "cell_type": "code",
   "execution_count": 433,
   "metadata": {},
   "outputs": [
    {
     "data": {
      "text/plain": [
       "0.1634192019701004"
      ]
     },
     "execution_count": 433,
     "metadata": {},
     "output_type": "execute_result"
    }
   ],
   "source": [
    "tsne = TSNE(n_components=2, random_state=42)\n",
    "X_tsne = tsne.fit_transform(embeddings)\n",
    "tsne.kl_divergence_"
   ]
  },
  {
   "cell_type": "code",
   "execution_count": 434,
   "metadata": {},
   "outputs": [],
   "source": [
    "import plotly.express as px"
   ]
  },
  {
   "cell_type": "code",
   "execution_count": 437,
   "metadata": {},
   "outputs": [
    {
     "data": {
      "application/vnd.plotly.v1+json": {
       "config": {
        "plotlyServerURL": "https://plot.ly"
       },
       "data": [
        {
         "hovertemplate": "color=blue<br>x=%{x}<br>y=%{y}<extra></extra>",
         "legendgroup": "blue",
         "marker": {
          "color": "#636efa",
          "symbol": "circle"
         },
         "mode": "markers",
         "name": "blue",
         "orientation": "v",
         "showlegend": true,
         "type": "scatter",
         "x": [
          15.38628101348877,
          14.137396812438965,
          12.741148948669434,
          -4.839419364929199,
          9.348243713378906,
          13.199694633483887,
          13.279267311096191,
          7.949038982391357,
          0.6076758503913879,
          -9.809977531433105,
          9.917158126831055,
          7.990443229675293,
          9.334903717041016,
          6.280602931976318,
          11.671557426452637,
          12.717308044433594,
          15.144919395446777,
          9.728260040283203,
          11.894466400146484,
          14.889602661132812,
          3.9797234535217285,
          6.240787506103516,
          -0.45806339383125305,
          16.433696746826172,
          5.537997722625732,
          14.02307415008545,
          14.515551567077637,
          8.198643684387207,
          10.923102378845215,
          4.001957416534424,
          15.55761432647705,
          13.726141929626465,
          9.729962348937988,
          2.7302334308624268,
          2.6297261714935303,
          8.901909828186035,
          0.615439772605896,
          1.84288489818573,
          13.328691482543945,
          5.7764892578125,
          2.7288143634796143,
          10.729948997497559,
          -4.4171648025512695,
          9.318325996398926,
          10.716095924377441,
          15.172971725463867,
          15.434758186340332,
          6.352705001831055,
          8.12200927734375,
          6.109421253204346,
          5.821976661682129,
          13.533004760742188,
          8.553203582763672,
          14.338139533996582,
          10.305509567260742,
          5.085566997528076,
          -8.540246963500977,
          6.027451992034912,
          6.933361530303955,
          9.170137405395508,
          15.764006614685059,
          8.407999038696289,
          6.633927822113037
         ],
         "xaxis": "x",
         "y": [
          6.7533345222473145,
          4.696888446807861,
          6.175632476806641,
          1.8455857038497925,
          2.231254816055298,
          6.32393217086792,
          5.88126277923584,
          4.518666744232178,
          1.6580750942230225,
          -3.6008288860321045,
          5.763008117675781,
          3.2165708541870117,
          2.2343521118164062,
          5.353455066680908,
          5.899582386016846,
          6.140961170196533,
          6.608808517456055,
          2.2375173568725586,
          5.950026035308838,
          5.059860706329346,
          3.9401650428771973,
          5.352597236633301,
          0.9637420177459717,
          6.411960601806641,
          5.2451252937316895,
          6.225936412811279,
          6.532116889953613,
          4.380280494689941,
          5.377686977386475,
          3.9501290321350098,
          6.223937511444092,
          6.457779884338379,
          2.243474006652832,
          3.103923797607422,
          1.7076367139816284,
          4.528370380401611,
          1.6254597902297974,
          2.5100057125091553,
          6.307590484619141,
          4.720824718475342,
          3.103832483291626,
          5.716797828674316,
          -0.7408894896507263,
          2.2142627239227295,
          5.865682601928711,
          6.237270832061768,
          6.7588372230529785,
          3.8153302669525146,
          4.642032623291016,
          5.343776226043701,
          4.717418193817139,
          6.410423278808594,
          5.1990065574646,
          6.378948211669922,
          2.999689817428589,
          2.043591260910034,
          -1.642025113105774,
          3.731796979904175,
          3.7365667819976807,
          4.85349178314209,
          5.409970760345459,
          5.117187023162842,
          5.3675432205200195
         ],
         "yaxis": "y"
        },
        {
         "hovertemplate": "color=red<br>x=%{x}<br>y=%{y}<extra></extra>",
         "legendgroup": "red",
         "marker": {
          "color": "#EF553B",
          "symbol": "circle"
         },
         "mode": "markers",
         "name": "red",
         "orientation": "v",
         "showlegend": true,
         "type": "scatter",
         "x": [
          7.455226421356201,
          -4.681806564331055,
          -14.165584564208984,
          9.277277946472168,
          -9.30051326751709,
          -9.946059226989746,
          1.4023767709732056,
          -4.929394245147705,
          14.324337005615234,
          -15.086223602294922,
          -13.254261016845703,
          8.457898139953613,
          -9.362903594970703,
          6.507541179656982,
          -13.145934104919434,
          4.9602742195129395,
          -13.752997398376465,
          10.084211349487305,
          10.569255828857422,
          -6.1988935470581055,
          -13.348027229309082,
          -4.829336643218994,
          -10.675718307495117,
          -8.814248085021973,
          -0.30615234375,
          8.13492488861084,
          -13.765849113464355,
          -5.283485412597656,
          -4.723212242126465,
          -5.069189548492432,
          -6.052927494049072,
          1.967198133468628,
          -13.330201148986816,
          9.965848922729492,
          3.0255684852600098,
          2.2506070137023926,
          -14.047439575195312,
          -0.3085390031337738,
          -12.96793270111084,
          -1.871532917022705,
          -9.626265525817871,
          1.584871530532837,
          12.505613327026367,
          -2.94230580329895,
          -4.106966495513916,
          -12.172942161560059,
          -4.6968674659729,
          -5.302855491638184,
          -1.8752326965332031,
          -13.834945678710938,
          -13.69518756866455,
          -0.5569878816604614,
          -14.146367073059082,
          9.263447761535645,
          -0.5430240035057068,
          -4.114715576171875,
          -12.174777030944824,
          -8.95807933807373,
          -3.1049137115478516,
          -0.30853912234306335,
          0.6328157186508179,
          2.72513484954834,
          -15.42228889465332,
          10.149969100952148,
          -6.124770164489746,
          -3.112950563430786,
          -9.896333694458008,
          -5.293361186981201,
          -4.103005409240723,
          -13.33021068572998,
          -13.834532737731934,
          -4.990194320678711,
          -13.950674057006836,
          9.355827331542969,
          -0.6007468700408936,
          6.761011123657227,
          -13.12661361694336,
          9.607726097106934,
          -10.294791221618652,
          9.417594909667969,
          -4.823629379272461,
          -5.052707672119141,
          -2.9367456436157227,
          -13.601715087890625,
          4.874119281768799,
          1.60028076171875,
          -14.128199577331543,
          -11.942464828491211,
          -14.451335906982422,
          -9.953630447387695,
          1.584871530532837,
          9.011780738830566,
          -14.165785789489746,
          -0.2951030731201172,
          -12.16793441772461,
          -5.099698066711426,
          -0.28752008080482483,
          9.263452529907227,
          -1.5424623489379883,
          15.906684875488281,
          -14.12820053100586,
          -8.814248085021973,
          -4.98425817489624,
          -9.036828994750977,
          -9.37209701538086,
          -5.026057720184326,
          -15.092378616333008,
          15.334047317504883,
          -8.946036338806152,
          9.462526321411133,
          -5.946267604827881,
          15.80219841003418,
          4.9602742195129395,
          -9.512412071228027,
          -10.001148223876953,
          9.288826942443848,
          -10.264276504516602,
          1.5947530269622803,
          9.243589401245117,
          -8.896578788757324,
          -9.820685386657715,
          -5.9462690353393555,
          -10.882255554199219,
          -9.326886177062988,
          -4.1883440017700195
         ],
         "xaxis": "x",
         "y": [
          0.9726317524909973,
          -1.7881661653518677,
          0.5810731053352356,
          -0.02458896115422249,
          -1.1315780878067017,
          -0.30902746319770813,
          2.4967823028564453,
          0.09591768682003021,
          4.595058917999268,
          -1.707688331604004,
          0.8787229657173157,
          1.2932405471801758,
          -3.2220685482025146,
          4.7494635581970215,
          0.3837495744228363,
          4.635254859924316,
          -0.9743592739105225,
          -0.3887820839881897,
          1.906315565109253,
          -1.7058002948760986,
          0.9576340913772583,
          1.8619942665100098,
          -3.5139546394348145,
          -0.8650848865509033,
          1.620222568511963,
          0.2112150639295578,
          -0.9660716652870178,
          -2.0884335041046143,
          -1.9231983423233032,
          -1.4735724925994873,
          -1.2482026815414429,
          1.6379653215408325,
          0.24664971232414246,
          1.3983826637268066,
          1.708804726600647,
          1.0885974168777466,
          0.3825009763240814,
          0.6030898690223694,
          -2.8681108951568604,
          1.8436568975448608,
          -0.691254734992981,
          2.2470808029174805,
          3.490206003189087,
          2.223829507827759,
          1.5462672710418701,
          -2.2679340839385986,
          -1.6838089227676392,
          -1.9832956790924072,
          1.853266716003418,
          1.0063378810882568,
          0.26011380553245544,
          0.8483386635780334,
          -1.4983950853347778,
          -0.08465452492237091,
          0.8696797490119934,
          -3.5288162231445312,
          -2.266491174697876,
          -0.4829363226890564,
          1.2595007419586182,
          0.6030911803245544,
          1.4898359775543213,
          1.705379843711853,
          -1.2383596897125244,
          5.12876033782959,
          -1.4401594400405884,
          1.2294872999191284,
          -3.4653048515319824,
          -2.0588796138763428,
          -3.62304425239563,
          0.2466469556093216,
          0.2849123179912567,
          1.5994845628738403,
          0.9461343288421631,
          2.2464094161987305,
          0.4917367994785309,
          4.857915878295898,
          0.633733868598938,
          2.1799328327178955,
          0.7281023263931274,
          1.1651651859283447,
          1.8711447715759277,
          -1.4572972059249878,
          2.2617571353912354,
          1.0424336194992065,
          1.967764139175415,
          2.609292507171631,
          -1.5127116441726685,
          -2.435978651046753,
          -1.2370144128799438,
          -0.29437124729156494,
          2.2470808029174805,
          1.5915054082870483,
          0.594477117061615,
          1.6846897602081299,
          -2.271348714828491,
          -2.147202253341675,
          0.619784414768219,
          -0.08465583622455597,
          1.0291768312454224,
          6.521446228027344,
          -1.5127116441726685,
          -0.8650848865509033,
          1.608642816543579,
          -1.1123948097229004,
          -1.0857462882995605,
          -1.4301248788833618,
          -1.7026585340499878,
          6.210230827331543,
          -0.4892047941684723,
          1.249869704246521,
          -1.0644701719284058,
          6.658597946166992,
          4.635254859924316,
          -0.3880540430545807,
          -3.303546190261841,
          0.031449273228645325,
          0.7143411040306091,
          2.6098215579986572,
          4.871852397918701,
          -0.5263125896453857,
          -3.584007501602173,
          -1.0644704103469849,
          -0.5492067337036133,
          -1.116628646850586,
          1.0382052659988403
         ],
         "yaxis": "y"
        }
       ],
       "layout": {
        "legend": {
         "title": {
          "text": "color"
         },
         "tracegroupgap": 0
        },
        "margin": {
         "t": 60
        },
        "template": {
         "data": {
          "bar": [
           {
            "error_x": {
             "color": "#2a3f5f"
            },
            "error_y": {
             "color": "#2a3f5f"
            },
            "marker": {
             "line": {
              "color": "#E5ECF6",
              "width": 0.5
             },
             "pattern": {
              "fillmode": "overlay",
              "size": 10,
              "solidity": 0.2
             }
            },
            "type": "bar"
           }
          ],
          "barpolar": [
           {
            "marker": {
             "line": {
              "color": "#E5ECF6",
              "width": 0.5
             },
             "pattern": {
              "fillmode": "overlay",
              "size": 10,
              "solidity": 0.2
             }
            },
            "type": "barpolar"
           }
          ],
          "carpet": [
           {
            "aaxis": {
             "endlinecolor": "#2a3f5f",
             "gridcolor": "white",
             "linecolor": "white",
             "minorgridcolor": "white",
             "startlinecolor": "#2a3f5f"
            },
            "baxis": {
             "endlinecolor": "#2a3f5f",
             "gridcolor": "white",
             "linecolor": "white",
             "minorgridcolor": "white",
             "startlinecolor": "#2a3f5f"
            },
            "type": "carpet"
           }
          ],
          "choropleth": [
           {
            "colorbar": {
             "outlinewidth": 0,
             "ticks": ""
            },
            "type": "choropleth"
           }
          ],
          "contour": [
           {
            "colorbar": {
             "outlinewidth": 0,
             "ticks": ""
            },
            "colorscale": [
             [
              0,
              "#0d0887"
             ],
             [
              0.1111111111111111,
              "#46039f"
             ],
             [
              0.2222222222222222,
              "#7201a8"
             ],
             [
              0.3333333333333333,
              "#9c179e"
             ],
             [
              0.4444444444444444,
              "#bd3786"
             ],
             [
              0.5555555555555556,
              "#d8576b"
             ],
             [
              0.6666666666666666,
              "#ed7953"
             ],
             [
              0.7777777777777778,
              "#fb9f3a"
             ],
             [
              0.8888888888888888,
              "#fdca26"
             ],
             [
              1,
              "#f0f921"
             ]
            ],
            "type": "contour"
           }
          ],
          "contourcarpet": [
           {
            "colorbar": {
             "outlinewidth": 0,
             "ticks": ""
            },
            "type": "contourcarpet"
           }
          ],
          "heatmap": [
           {
            "colorbar": {
             "outlinewidth": 0,
             "ticks": ""
            },
            "colorscale": [
             [
              0,
              "#0d0887"
             ],
             [
              0.1111111111111111,
              "#46039f"
             ],
             [
              0.2222222222222222,
              "#7201a8"
             ],
             [
              0.3333333333333333,
              "#9c179e"
             ],
             [
              0.4444444444444444,
              "#bd3786"
             ],
             [
              0.5555555555555556,
              "#d8576b"
             ],
             [
              0.6666666666666666,
              "#ed7953"
             ],
             [
              0.7777777777777778,
              "#fb9f3a"
             ],
             [
              0.8888888888888888,
              "#fdca26"
             ],
             [
              1,
              "#f0f921"
             ]
            ],
            "type": "heatmap"
           }
          ],
          "heatmapgl": [
           {
            "colorbar": {
             "outlinewidth": 0,
             "ticks": ""
            },
            "colorscale": [
             [
              0,
              "#0d0887"
             ],
             [
              0.1111111111111111,
              "#46039f"
             ],
             [
              0.2222222222222222,
              "#7201a8"
             ],
             [
              0.3333333333333333,
              "#9c179e"
             ],
             [
              0.4444444444444444,
              "#bd3786"
             ],
             [
              0.5555555555555556,
              "#d8576b"
             ],
             [
              0.6666666666666666,
              "#ed7953"
             ],
             [
              0.7777777777777778,
              "#fb9f3a"
             ],
             [
              0.8888888888888888,
              "#fdca26"
             ],
             [
              1,
              "#f0f921"
             ]
            ],
            "type": "heatmapgl"
           }
          ],
          "histogram": [
           {
            "marker": {
             "pattern": {
              "fillmode": "overlay",
              "size": 10,
              "solidity": 0.2
             }
            },
            "type": "histogram"
           }
          ],
          "histogram2d": [
           {
            "colorbar": {
             "outlinewidth": 0,
             "ticks": ""
            },
            "colorscale": [
             [
              0,
              "#0d0887"
             ],
             [
              0.1111111111111111,
              "#46039f"
             ],
             [
              0.2222222222222222,
              "#7201a8"
             ],
             [
              0.3333333333333333,
              "#9c179e"
             ],
             [
              0.4444444444444444,
              "#bd3786"
             ],
             [
              0.5555555555555556,
              "#d8576b"
             ],
             [
              0.6666666666666666,
              "#ed7953"
             ],
             [
              0.7777777777777778,
              "#fb9f3a"
             ],
             [
              0.8888888888888888,
              "#fdca26"
             ],
             [
              1,
              "#f0f921"
             ]
            ],
            "type": "histogram2d"
           }
          ],
          "histogram2dcontour": [
           {
            "colorbar": {
             "outlinewidth": 0,
             "ticks": ""
            },
            "colorscale": [
             [
              0,
              "#0d0887"
             ],
             [
              0.1111111111111111,
              "#46039f"
             ],
             [
              0.2222222222222222,
              "#7201a8"
             ],
             [
              0.3333333333333333,
              "#9c179e"
             ],
             [
              0.4444444444444444,
              "#bd3786"
             ],
             [
              0.5555555555555556,
              "#d8576b"
             ],
             [
              0.6666666666666666,
              "#ed7953"
             ],
             [
              0.7777777777777778,
              "#fb9f3a"
             ],
             [
              0.8888888888888888,
              "#fdca26"
             ],
             [
              1,
              "#f0f921"
             ]
            ],
            "type": "histogram2dcontour"
           }
          ],
          "mesh3d": [
           {
            "colorbar": {
             "outlinewidth": 0,
             "ticks": ""
            },
            "type": "mesh3d"
           }
          ],
          "parcoords": [
           {
            "line": {
             "colorbar": {
              "outlinewidth": 0,
              "ticks": ""
             }
            },
            "type": "parcoords"
           }
          ],
          "pie": [
           {
            "automargin": true,
            "type": "pie"
           }
          ],
          "scatter": [
           {
            "fillpattern": {
             "fillmode": "overlay",
             "size": 10,
             "solidity": 0.2
            },
            "type": "scatter"
           }
          ],
          "scatter3d": [
           {
            "line": {
             "colorbar": {
              "outlinewidth": 0,
              "ticks": ""
             }
            },
            "marker": {
             "colorbar": {
              "outlinewidth": 0,
              "ticks": ""
             }
            },
            "type": "scatter3d"
           }
          ],
          "scattercarpet": [
           {
            "marker": {
             "colorbar": {
              "outlinewidth": 0,
              "ticks": ""
             }
            },
            "type": "scattercarpet"
           }
          ],
          "scattergeo": [
           {
            "marker": {
             "colorbar": {
              "outlinewidth": 0,
              "ticks": ""
             }
            },
            "type": "scattergeo"
           }
          ],
          "scattergl": [
           {
            "marker": {
             "colorbar": {
              "outlinewidth": 0,
              "ticks": ""
             }
            },
            "type": "scattergl"
           }
          ],
          "scattermapbox": [
           {
            "marker": {
             "colorbar": {
              "outlinewidth": 0,
              "ticks": ""
             }
            },
            "type": "scattermapbox"
           }
          ],
          "scatterpolar": [
           {
            "marker": {
             "colorbar": {
              "outlinewidth": 0,
              "ticks": ""
             }
            },
            "type": "scatterpolar"
           }
          ],
          "scatterpolargl": [
           {
            "marker": {
             "colorbar": {
              "outlinewidth": 0,
              "ticks": ""
             }
            },
            "type": "scatterpolargl"
           }
          ],
          "scatterternary": [
           {
            "marker": {
             "colorbar": {
              "outlinewidth": 0,
              "ticks": ""
             }
            },
            "type": "scatterternary"
           }
          ],
          "surface": [
           {
            "colorbar": {
             "outlinewidth": 0,
             "ticks": ""
            },
            "colorscale": [
             [
              0,
              "#0d0887"
             ],
             [
              0.1111111111111111,
              "#46039f"
             ],
             [
              0.2222222222222222,
              "#7201a8"
             ],
             [
              0.3333333333333333,
              "#9c179e"
             ],
             [
              0.4444444444444444,
              "#bd3786"
             ],
             [
              0.5555555555555556,
              "#d8576b"
             ],
             [
              0.6666666666666666,
              "#ed7953"
             ],
             [
              0.7777777777777778,
              "#fb9f3a"
             ],
             [
              0.8888888888888888,
              "#fdca26"
             ],
             [
              1,
              "#f0f921"
             ]
            ],
            "type": "surface"
           }
          ],
          "table": [
           {
            "cells": {
             "fill": {
              "color": "#EBF0F8"
             },
             "line": {
              "color": "white"
             }
            },
            "header": {
             "fill": {
              "color": "#C8D4E3"
             },
             "line": {
              "color": "white"
             }
            },
            "type": "table"
           }
          ]
         },
         "layout": {
          "annotationdefaults": {
           "arrowcolor": "#2a3f5f",
           "arrowhead": 0,
           "arrowwidth": 1
          },
          "autotypenumbers": "strict",
          "coloraxis": {
           "colorbar": {
            "outlinewidth": 0,
            "ticks": ""
           }
          },
          "colorscale": {
           "diverging": [
            [
             0,
             "#8e0152"
            ],
            [
             0.1,
             "#c51b7d"
            ],
            [
             0.2,
             "#de77ae"
            ],
            [
             0.3,
             "#f1b6da"
            ],
            [
             0.4,
             "#fde0ef"
            ],
            [
             0.5,
             "#f7f7f7"
            ],
            [
             0.6,
             "#e6f5d0"
            ],
            [
             0.7,
             "#b8e186"
            ],
            [
             0.8,
             "#7fbc41"
            ],
            [
             0.9,
             "#4d9221"
            ],
            [
             1,
             "#276419"
            ]
           ],
           "sequential": [
            [
             0,
             "#0d0887"
            ],
            [
             0.1111111111111111,
             "#46039f"
            ],
            [
             0.2222222222222222,
             "#7201a8"
            ],
            [
             0.3333333333333333,
             "#9c179e"
            ],
            [
             0.4444444444444444,
             "#bd3786"
            ],
            [
             0.5555555555555556,
             "#d8576b"
            ],
            [
             0.6666666666666666,
             "#ed7953"
            ],
            [
             0.7777777777777778,
             "#fb9f3a"
            ],
            [
             0.8888888888888888,
             "#fdca26"
            ],
            [
             1,
             "#f0f921"
            ]
           ],
           "sequentialminus": [
            [
             0,
             "#0d0887"
            ],
            [
             0.1111111111111111,
             "#46039f"
            ],
            [
             0.2222222222222222,
             "#7201a8"
            ],
            [
             0.3333333333333333,
             "#9c179e"
            ],
            [
             0.4444444444444444,
             "#bd3786"
            ],
            [
             0.5555555555555556,
             "#d8576b"
            ],
            [
             0.6666666666666666,
             "#ed7953"
            ],
            [
             0.7777777777777778,
             "#fb9f3a"
            ],
            [
             0.8888888888888888,
             "#fdca26"
            ],
            [
             1,
             "#f0f921"
            ]
           ]
          },
          "colorway": [
           "#636efa",
           "#EF553B",
           "#00cc96",
           "#ab63fa",
           "#FFA15A",
           "#19d3f3",
           "#FF6692",
           "#B6E880",
           "#FF97FF",
           "#FECB52"
          ],
          "font": {
           "color": "#2a3f5f"
          },
          "geo": {
           "bgcolor": "white",
           "lakecolor": "white",
           "landcolor": "#E5ECF6",
           "showlakes": true,
           "showland": true,
           "subunitcolor": "white"
          },
          "hoverlabel": {
           "align": "left"
          },
          "hovermode": "closest",
          "mapbox": {
           "style": "light"
          },
          "paper_bgcolor": "white",
          "plot_bgcolor": "#E5ECF6",
          "polar": {
           "angularaxis": {
            "gridcolor": "white",
            "linecolor": "white",
            "ticks": ""
           },
           "bgcolor": "#E5ECF6",
           "radialaxis": {
            "gridcolor": "white",
            "linecolor": "white",
            "ticks": ""
           }
          },
          "scene": {
           "xaxis": {
            "backgroundcolor": "#E5ECF6",
            "gridcolor": "white",
            "gridwidth": 2,
            "linecolor": "white",
            "showbackground": true,
            "ticks": "",
            "zerolinecolor": "white"
           },
           "yaxis": {
            "backgroundcolor": "#E5ECF6",
            "gridcolor": "white",
            "gridwidth": 2,
            "linecolor": "white",
            "showbackground": true,
            "ticks": "",
            "zerolinecolor": "white"
           },
           "zaxis": {
            "backgroundcolor": "#E5ECF6",
            "gridcolor": "white",
            "gridwidth": 2,
            "linecolor": "white",
            "showbackground": true,
            "ticks": "",
            "zerolinecolor": "white"
           }
          },
          "shapedefaults": {
           "line": {
            "color": "#2a3f5f"
           }
          },
          "ternary": {
           "aaxis": {
            "gridcolor": "white",
            "linecolor": "white",
            "ticks": ""
           },
           "baxis": {
            "gridcolor": "white",
            "linecolor": "white",
            "ticks": ""
           },
           "bgcolor": "#E5ECF6",
           "caxis": {
            "gridcolor": "white",
            "linecolor": "white",
            "ticks": ""
           }
          },
          "title": {
           "x": 0.05
          },
          "xaxis": {
           "automargin": true,
           "gridcolor": "white",
           "linecolor": "white",
           "ticks": "",
           "title": {
            "standoff": 15
           },
           "zerolinecolor": "white",
           "zerolinewidth": 2
          },
          "yaxis": {
           "automargin": true,
           "gridcolor": "white",
           "linecolor": "white",
           "ticks": "",
           "title": {
            "standoff": 15
           },
           "zerolinecolor": "white",
           "zerolinewidth": 2
          }
         }
        },
        "title": {
         "text": "GCN MUTAG Dataset"
        },
        "xaxis": {
         "anchor": "y",
         "domain": [
          0,
          1
         ],
         "title": {
          "text": "First t-SNE"
         }
        },
        "yaxis": {
         "anchor": "x",
         "domain": [
          0,
          1
         ],
         "title": {
          "text": "Second t-SNE"
         }
        }
       }
      }
     },
     "metadata": {},
     "output_type": "display_data"
    }
   ],
   "source": [
    "fig = px.scatter(x=X_tsne[:, 0], y=X_tsne[:, 1], color=labels)\n",
    "fig.update_layout(\n",
    "    title=\"GCN MUTAG Dataset\",\n",
    "    xaxis_title=\"First t-SNE\",\n",
    "    yaxis_title=\"Second t-SNE\",\n",
    ")\n",
    "fig.show()"
   ]
  },
  {
   "cell_type": "code",
   "execution_count": null,
   "metadata": {},
   "outputs": [],
   "source": []
  },
  {
   "cell_type": "code",
   "execution_count": null,
   "metadata": {},
   "outputs": [],
   "source": []
  },
  {
   "cell_type": "code",
   "execution_count": null,
   "metadata": {},
   "outputs": [],
   "source": []
  }
 ],
 "metadata": {
  "kernelspec": {
   "display_name": "base",
   "language": "python",
   "name": "python3"
  },
  "language_info": {
   "codemirror_mode": {
    "name": "ipython",
    "version": 3
   },
   "file_extension": ".py",
   "mimetype": "text/x-python",
   "name": "python",
   "nbconvert_exporter": "python",
   "pygments_lexer": "ipython3",
   "version": "3.11.4"
  },
  "orig_nbformat": 4
 },
 "nbformat": 4,
 "nbformat_minor": 2
}
