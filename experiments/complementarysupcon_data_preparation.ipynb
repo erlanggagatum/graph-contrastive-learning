{
 "cells": [
  {
   "cell_type": "code",
   "execution_count": 1,
   "metadata": {},
   "outputs": [],
   "source": [
    "import torch\n",
    "import torch_geometric\n",
    "\n",
    "from torch_geometric.datasets import TUDataset\n",
    "from torch_geometric.loader import DataLoader"
   ]
  },
  {
   "cell_type": "code",
   "execution_count": 2,
   "metadata": {},
   "outputs": [],
   "source": [
    "import matplotlib as plt\n",
    "import numpy as np\n",
    "import networkx\n",
    "from torch_geometric.data import Data\n",
    "from sklearn.manifold import TSNE"
   ]
  },
  {
   "cell_type": "code",
   "execution_count": 3,
   "metadata": {},
   "outputs": [],
   "source": [
    "from torch_geometric.utils import to_dense_adj"
   ]
  },
  {
   "cell_type": "markdown",
   "metadata": {},
   "source": [
    "## Data Preparation on MUTAG"
   ]
  },
  {
   "cell_type": "code",
   "execution_count": 4,
   "metadata": {},
   "outputs": [],
   "source": [
    "dataset = TUDataset(root=\"../dataset\", name='MUTAG')"
   ]
  },
  {
   "cell_type": "code",
   "execution_count": 5,
   "metadata": {},
   "outputs": [
    {
     "name": "stdout",
     "output_type": "stream",
     "text": [
      "Original:\n",
      " tensor([[[0., 1., 0., 0., 0., 0., 0., 0., 0., 1., 0., 0., 0.],\n",
      "         [1., 0., 1., 0., 0., 0., 0., 0., 0., 0., 0., 0., 0.],\n",
      "         [0., 1., 0., 1., 0., 0., 0., 1., 0., 0., 0., 0., 0.],\n",
      "         [0., 0., 1., 0., 1., 0., 0., 0., 1., 0., 0., 0., 0.],\n",
      "         [0., 0., 0., 1., 0., 1., 0., 0., 0., 0., 0., 0., 0.],\n",
      "         [0., 0., 0., 0., 1., 0., 1., 0., 0., 0., 0., 0., 0.],\n",
      "         [0., 0., 0., 0., 0., 1., 0., 1., 0., 0., 0., 0., 0.],\n",
      "         [0., 0., 1., 0., 0., 0., 1., 0., 0., 0., 0., 0., 0.],\n",
      "         [0., 0., 0., 1., 0., 0., 0., 0., 0., 1., 1., 0., 0.],\n",
      "         [1., 0., 0., 0., 0., 0., 0., 0., 1., 0., 0., 0., 0.],\n",
      "         [0., 0., 0., 0., 0., 0., 0., 0., 1., 0., 0., 1., 1.],\n",
      "         [0., 0., 0., 0., 0., 0., 0., 0., 0., 0., 1., 0., 0.],\n",
      "         [0., 0., 0., 0., 0., 0., 0., 0., 0., 0., 1., 0., 0.]]])\n",
      "Complementary:\n",
      " tensor([[[0., 0., 1., 1., 1., 1., 1., 1., 1., 0., 1., 1., 1.],\n",
      "         [0., 0., 0., 1., 1., 1., 1., 1., 1., 1., 1., 1., 1.],\n",
      "         [1., 0., 0., 0., 1., 1., 1., 0., 1., 1., 1., 1., 1.],\n",
      "         [1., 1., 0., 0., 0., 1., 1., 1., 0., 1., 1., 1., 1.],\n",
      "         [1., 1., 1., 0., 0., 0., 1., 1., 1., 1., 1., 1., 1.],\n",
      "         [1., 1., 1., 1., 0., 0., 0., 1., 1., 1., 1., 1., 1.],\n",
      "         [1., 1., 1., 1., 1., 0., 0., 0., 1., 1., 1., 1., 1.],\n",
      "         [1., 1., 0., 1., 1., 1., 0., 0., 1., 1., 1., 1., 1.],\n",
      "         [1., 1., 1., 0., 1., 1., 1., 1., 0., 0., 0., 1., 1.],\n",
      "         [0., 1., 1., 1., 1., 1., 1., 1., 0., 0., 1., 1., 1.],\n",
      "         [1., 1., 1., 1., 1., 1., 1., 1., 0., 1., 0., 0., 0.],\n",
      "         [1., 1., 1., 1., 1., 1., 1., 1., 1., 1., 0., 0., 1.],\n",
      "         [1., 1., 1., 1., 1., 1., 1., 1., 1., 1., 0., 1., 0.]]])\n"
     ]
    }
   ],
   "source": [
    "adj_o = to_dense_adj(dataset[2].edge_index)\n",
    "adj_c = abs(to_dense_adj(dataset[2].edge_index) - 1) - torch.eye(len(dataset[2].x))\n",
    "\n",
    "print(\"Original:\\n\", adj_o)\n",
    "print(\"Complementary:\\n\", (adj_c))"
   ]
  },
  {
   "cell_type": "code",
   "execution_count": 6,
   "metadata": {},
   "outputs": [],
   "source": [
    "def toComplementary(g):\n",
    "    c = abs(to_dense_adj(g.edge_index) - 1) - torch.eye(len(g.x))\n",
    "    c = c[0].nonzero().t().contiguous()\n",
    "    return c"
   ]
  },
  {
   "cell_type": "code",
   "execution_count": 7,
   "metadata": {},
   "outputs": [],
   "source": [
    "dataset_c = []\n",
    "for graph in dataset:\n",
    "    edge_c = toComplementary(graph)\n",
    "    dataset_c.append(Data(edge_index=edge_c, x=graph.x, y=graph.y))"
   ]
  },
  {
   "cell_type": "code",
   "execution_count": 8,
   "metadata": {},
   "outputs": [
    {
     "data": {
      "text/plain": [
       "tensor([1, 0, 0, 1, 0, 1, 0, 1, 0, 1, 1, 1, 1, 0, 1, 1, 0, 1, 0, 1, 1, 1, 1, 1,\n",
       "        1, 1, 1, 1, 1, 1, 1, 1, 1, 0, 1, 0, 1, 0, 0, 0, 1, 0, 1, 1, 1, 1, 1, 1,\n",
       "        1, 1, 1, 1, 1, 1, 0, 1, 1, 1, 1, 1, 1, 0, 1, 1, 0, 0, 1, 1, 1, 0, 1, 1,\n",
       "        0, 1, 1, 0, 0, 0, 1, 1, 1, 1, 1, 0, 1, 1, 1, 0, 0, 1, 1, 1, 1, 1, 1, 1,\n",
       "        1, 0, 1, 0, 1, 1, 1, 1, 1, 1, 1, 1, 1, 0, 0, 1, 0, 0, 1, 0, 1, 1, 0, 0,\n",
       "        1, 1, 0, 0, 1, 1, 1, 1, 0, 0, 0, 0, 0, 1, 0, 1, 1, 0, 0, 1, 0, 0, 0, 0,\n",
       "        1, 1, 0, 1, 1, 0, 1, 1, 1, 0, 0, 0, 1, 1, 1, 0, 1, 1, 1, 1, 1, 1, 1, 0,\n",
       "        1, 1, 1, 1, 1, 1, 0, 1, 1, 1, 0, 1, 0, 0, 1, 1, 0, 0, 1, 0])"
      ]
     },
     "execution_count": 8,
     "metadata": {},
     "output_type": "execute_result"
    }
   ],
   "source": [
    "dataset.y"
   ]
  },
  {
   "cell_type": "code",
   "execution_count": 9,
   "metadata": {},
   "outputs": [
    {
     "name": "stdout",
     "output_type": "stream",
     "text": [
      "[1, 0, 0, 1, 0, 1, 0, 1, 0, 1, 1, 1, 1, 0, 1, 1, 0, 1, 0, 1, 1, 1, 1, 1, 1, 1, 1, 1, 1, 1, 1, 1, 1, 0, 1, 0, 1, 0, 0, 0, 1, 0, 1, 1, 1, 1, 1, 1, 1, 1, 1, 1, 1, 1, 0, 1, 1, 1, 1, 1, 1, 0, 1, 1, 0, 0, 1, 1, 1, 0, 1, 1, 0, 1, 1, 0, 0, 0, 1, 1, 1, 1, 1, 0, 1, 1, 1, 0, 0, 1, 1, 1, 1, 1, 1, 1, 1, 0, 1, 0, 1, 1, 1, 1, 1, 1, 1, 1, 1, 0, 0, 1, 0, 0, 1, 0, 1, 1, 0, 0, 1, 1, 0, 0, 1, 1, 1, 1, 0, 0, 0, 0, 0, 1, 0, 1, 1, 0, 0, 1, 0, 0, 0, 0, 1, 1, 0, 1, 1, 0, 1, 1, 1, 0, 0, 0, 1, 1, 1, 0, 1, 1, 1, 1, 1, 1, 1, 0, 1, 1, 1, 1, 1, 1, 0, 1, 1, 1, 0, 1, 0, 0, 1, 1, 0, 0, 1, 0]\n"
     ]
    }
   ],
   "source": [
    "ys = []\n",
    "for d in dataset_c:\n",
    "    ys.append(d.y.item())\n",
    "print(ys)"
   ]
  },
  {
   "cell_type": "code",
   "execution_count": 10,
   "metadata": {},
   "outputs": [],
   "source": [
    "# Train test split\n",
    "ratio = 0.5\n",
    "total = len(dataset)\n",
    "\n",
    "# original graph\n",
    "g_train = dataset[:round(ratio*total)]\n",
    "g_test = dataset[round(ratio*total):]\n",
    "\n",
    "# complementary graph\n",
    "gc_train = dataset_c[:round(ratio*total)]\n",
    "gc_test = dataset_c[round(ratio*total):]"
   ]
  },
  {
   "cell_type": "code",
   "execution_count": 11,
   "metadata": {},
   "outputs": [
    {
     "name": "stdout",
     "output_type": "stream",
     "text": [
      "g_train MUTAG(94)\n",
      "g_test MUTAG(94)\n",
      "gc_train 94\n",
      "gc_test 94\n"
     ]
    }
   ],
   "source": [
    "print(f'g_train {g_train}')\n",
    "print(f'g_test {g_test}')\n",
    "print(f'gc_train {len(gc_train)}')\n",
    "print(f'gc_test {len(gc_test)}')"
   ]
  },
  {
   "cell_type": "code",
   "execution_count": 12,
   "metadata": {},
   "outputs": [
    {
     "name": "stdout",
     "output_type": "stream",
     "text": [
      "[1, 0, 0, 1, 0, 1, 0, 1, 0, 1, 1, 1, 1, 0, 1, 1, 0, 1, 0, 1, 1, 1, 1, 1, 1, 1, 1, 1, 1, 1, 1, 1, 1, 0, 1, 0, 1, 0, 0, 0, 1, 0, 1, 1, 1, 1, 1, 1, 1, 1, 1, 1, 1, 1, 0, 1, 1, 1, 1, 1, 1, 0, 1, 1, 0, 0, 1, 1, 1, 0, 1, 1, 0, 1, 1, 0, 0, 0, 1, 1, 1, 1, 1, 0, 1, 1, 1, 0, 0, 1, 1, 1, 1, 1]\n"
     ]
    }
   ],
   "source": [
    "print([x.y.item() for x in g_train])"
   ]
  },
  {
   "cell_type": "code",
   "execution_count": 13,
   "metadata": {},
   "outputs": [
    {
     "name": "stdout",
     "output_type": "stream",
     "text": [
      "[1, 0, 0, 1, 0, 1, 0, 1, 0, 1, 1, 1, 1, 0, 1, 1, 0, 1, 0, 1, 1, 1, 1, 1, 1, 1, 1, 1, 1, 1, 1, 1, 1, 0, 1, 0, 1, 0, 0, 0, 1, 0, 1, 1, 1, 1, 1, 1, 1, 1, 1, 1, 1, 1, 0, 1, 1, 1, 1, 1, 1, 0, 1, 1, 0, 0, 1, 1, 1, 0, 1, 1, 0, 1, 1, 0, 0, 0, 1, 1, 1, 1, 1, 0, 1, 1, 1, 0, 0, 1, 1, 1, 1, 1]\n"
     ]
    }
   ],
   "source": [
    "print([x.y.item() for x in gc_train])"
   ]
  },
  {
   "cell_type": "code",
   "execution_count": 14,
   "metadata": {},
   "outputs": [],
   "source": [
    "bs = 32\n",
    "seed = 12345\n",
    "\n",
    "g_train_loader = DataLoader(g_train, batch_size=bs, shuffle=False)\n",
    "g_test_loader = DataLoader(g_test, batch_size=bs, shuffle=False)\n",
    "\n",
    "gc_train_loader = DataLoader(gc_train, batch_size=bs, shuffle=False)\n",
    "gc_test_loader = DataLoader(gc_test, batch_size=bs, shuffle=False)"
   ]
  },
  {
   "cell_type": "code",
   "execution_count": 15,
   "metadata": {},
   "outputs": [
    {
     "name": "stdout",
     "output_type": "stream",
     "text": [
      "tensor([1, 0, 0, 1, 0, 1, 0, 1, 0, 1, 1, 1, 1, 0, 1, 1, 0, 1, 0, 1, 1, 1, 1, 1,\n",
      "        1, 1, 1, 1, 1, 1, 1, 1])\n",
      "tensor([1, 0, 1, 0, 1, 0, 0, 0, 1, 0, 1, 1, 1, 1, 1, 1, 1, 1, 1, 1, 1, 1, 0, 1,\n",
      "        1, 1, 1, 1, 1, 0, 1, 1])\n",
      "tensor([0, 0, 1, 1, 1, 0, 1, 1, 0, 1, 1, 0, 0, 0, 1, 1, 1, 1, 1, 0, 1, 1, 1, 0,\n",
      "        0, 1, 1, 1, 1, 1])\n"
     ]
    }
   ],
   "source": [
    "for g in g_train_loader:\n",
    "    print(g.y)\n",
    "#     break"
   ]
  },
  {
   "cell_type": "code",
   "execution_count": 16,
   "metadata": {},
   "outputs": [
    {
     "name": "stdout",
     "output_type": "stream",
     "text": [
      "tensor([1, 1, 1, 0, 1, 0, 1, 1, 1, 1, 1, 1, 1, 1, 1, 0, 0, 1, 0, 0, 1, 0, 1, 1,\n",
      "        0, 0, 1, 1, 0, 0, 1, 1])\n"
     ]
    }
   ],
   "source": [
    "for g in g_test_loader:\n",
    "    print(g.y)\n",
    "    break"
   ]
  },
  {
   "cell_type": "code",
   "execution_count": 17,
   "metadata": {},
   "outputs": [
    {
     "name": "stdout",
     "output_type": "stream",
     "text": [
      "tensor([1, 0, 0, 1, 0, 1, 0, 1, 0, 1, 1, 1, 1, 0, 1, 1, 0, 1, 0, 1, 1, 1, 1, 1,\n",
      "        1, 1, 1, 1, 1, 1, 1, 1])\n",
      "tensor([1, 0, 1, 0, 1, 0, 0, 0, 1, 0, 1, 1, 1, 1, 1, 1, 1, 1, 1, 1, 1, 1, 0, 1,\n",
      "        1, 1, 1, 1, 1, 0, 1, 1])\n",
      "tensor([0, 0, 1, 1, 1, 0, 1, 1, 0, 1, 1, 0, 0, 0, 1, 1, 1, 1, 1, 0, 1, 1, 1, 0,\n",
      "        0, 1, 1, 1, 1, 1])\n"
     ]
    }
   ],
   "source": [
    "for g in gc_train_loader:\n",
    "    print(g.y)\n",
    "#     break"
   ]
  },
  {
   "cell_type": "code",
   "execution_count": 18,
   "metadata": {},
   "outputs": [
    {
     "name": "stdout",
     "output_type": "stream",
     "text": [
      "tensor([1, 1, 1, 0, 1, 0, 1, 1, 1, 1, 1, 1, 1, 1, 1, 0, 0, 1, 0, 0, 1, 0, 1, 1,\n",
      "        0, 0, 1, 1, 0, 0, 1, 1])\n"
     ]
    }
   ],
   "source": [
    "for g in gc_test_loader:\n",
    "    print(g.y)\n",
    "    break"
   ]
  },
  {
   "cell_type": "markdown",
   "metadata": {},
   "source": [
    "## Building model"
   ]
  },
  {
   "cell_type": "code",
   "execution_count": 19,
   "metadata": {},
   "outputs": [],
   "source": [
    "from torch_geometric.nn import GCNConv\n",
    "from torch.nn import Linear\n",
    "from torch.nn import Linear\n",
    "from torch_geometric.nn import global_mean_pool\n",
    "from torch_geometric.nn import global_max_pool\n",
    "from torch_geometric.nn import global_add_pool\n",
    "import torch.nn.functional as F"
   ]
  },
  {
   "cell_type": "code",
   "execution_count": 186,
   "metadata": {},
   "outputs": [],
   "source": [
    "class ComplementarySupCon(torch.nn.Module):\n",
    "    def __init__(self, dataset, hidden_channels):\n",
    "        super(ComplementarySupCon, self).__init__()\n",
    "        \n",
    "        # weight seed\n",
    "        torch.manual_seed(42)\n",
    "        self.conv1_o = GCNConv(dataset.num_node_features, hidden_channels)\n",
    "        self.conv2_o = GCNConv(hidden_channels, hidden_channels)\n",
    "        self.conv3_o = GCNConv(hidden_channels, hidden_channels)\n",
    "        \n",
    "        self.conv1_c = GCNConv(dataset.num_node_features, hidden_channels)\n",
    "        self.conv2_c = GCNConv(hidden_channels, hidden_channels)\n",
    "        self.conv3_c = GCNConv(hidden_channels, hidden_channels)\n",
    "        \n",
    "        # classification layer\n",
    "        self.lin1 = Linear(hidden_channels, hidden_channels)\n",
    "        self.lin2 = Linear(hidden_channels, dataset.num_classes)\n",
    "\n",
    "    def forward(self, x_o, x_c, edge_index_o, edge_index_c, batch_o, classification = False):\n",
    "        x_o = self.conv1_o(x_o, edge_index_o)\n",
    "        x_o = x_o.relu()\n",
    "        x_o = self.conv2_o(x_o, edge_index_o)\n",
    "        x_o = x_o.relu()\n",
    "        x_o = self.conv3_o(x_o, edge_index_o)\n",
    "\n",
    "        x_c = self.conv1_c(x_c, edge_index_c)\n",
    "        x_c = x_c.relu()\n",
    "        x_c = self.conv2_c(x_c, edge_index_c)\n",
    "        x_c = x_c.relu()\n",
    "        x_c = self.conv2_c(x_c, edge_index_c)\n",
    "\n",
    "\n",
    "        h = x_o + x_c\n",
    "        \n",
    "        h = global_add_pool(h, batch_o)\n",
    "        \n",
    "        if (classification):\n",
    "            y = F.dropout(h, p=0.5, training=self.training)\n",
    "            y = self.lin2(y)\n",
    "            # y.relu()\n",
    "            # y = self.lin2(y)\n",
    "            \n",
    "            return h, y\n",
    "            \n",
    "        return h, x_o, x_c"
   ]
  },
  {
   "cell_type": "code",
   "execution_count": 187,
   "metadata": {},
   "outputs": [],
   "source": [
    "model = ComplementarySupCon(dataset, 64)"
   ]
  },
  {
   "cell_type": "code",
   "execution_count": 188,
   "metadata": {},
   "outputs": [
    {
     "data": {
      "text/plain": [
       "ComplementarySupCon(\n",
       "  (conv1_o): GCNConv(7, 64)\n",
       "  (conv2_o): GCNConv(64, 64)\n",
       "  (conv3_o): GCNConv(64, 64)\n",
       "  (conv1_c): GCNConv(7, 64)\n",
       "  (conv2_c): GCNConv(64, 64)\n",
       "  (conv3_c): GCNConv(64, 64)\n",
       "  (lin1): Linear(in_features=64, out_features=64, bias=True)\n",
       "  (lin2): Linear(in_features=64, out_features=2, bias=True)\n",
       ")"
      ]
     },
     "execution_count": 188,
     "metadata": {},
     "output_type": "execute_result"
    }
   ],
   "source": [
    "model"
   ]
  },
  {
   "cell_type": "markdown",
   "metadata": {},
   "source": [
    "SupCon Loss"
   ]
  },
  {
   "cell_type": "code",
   "execution_count": 189,
   "metadata": {},
   "outputs": [],
   "source": [
    "# Based on Khosla 2020 - Supervised contrastive learning\n",
    "\n",
    "def supervisedContrastiveLoss(embeddings, labels, tau):\n",
    "    loss = 0\n",
    "    outer = 0\n",
    "    inner = 0\n",
    "    denom = 0\n",
    "\n",
    "    # outer\n",
    "    # z_i = embeddings of graph i\n",
    "    # z_i = label of graph i\n",
    "    for out_index, (z_i, y_i) in enumerate(zip(embeddings, labels)):\n",
    "        Pi = torch.sum(labels == y_i)\n",
    "        # loss = z_i\n",
    "        # loop to all positive pair with z_i and skip z_i\n",
    "        for in_index, (zp_i, lp_i) in enumerate(zip(embeddings, labels)):\n",
    "            if lp_i != y_i or out_index == in_index:\n",
    "                continue\n",
    "            num = torch.exp(torch.matmul(z_i, zp_i)/tau)\n",
    "            # calculate denumerator\n",
    "            for _, za_i in enumerate(embeddings):\n",
    "                # only take zi != za_i\n",
    "                if out_index == in_index:\n",
    "                    continue\n",
    "                denom = denom + torch.exp(torch.matmul(z_i, za_i)/tau)\n",
    "                \n",
    "            inner = inner + torch.log(num/denom)\n",
    "        \n",
    "        outer = outer + (-1 / Pi * inner)\n",
    "\n",
    "        # reset inner denom and inner\n",
    "        denom, inner = 0, 0\n",
    "        \n",
    "    \n",
    "    loss = outer            \n",
    "    # print(loss)\n",
    "    return outer, embeddings"
   ]
  },
  {
   "cell_type": "code",
   "execution_count": 190,
   "metadata": {},
   "outputs": [],
   "source": [
    "h, x_o, x_c = None, None, None\n",
    "loss = None\n",
    "y = None\n",
    "for index, (g_o, g_c) in enumerate(zip(g_train_loader, gc_train_loader)):\n",
    "    h, x_o, x_c = (model(g_o.x, g_c.x, g_o.edge_index, g_c.edge_index, g_o.batch))\n",
    "    loss, y = supervisedContrastiveLoss(h, g_o.y, 100)\n",
    "    # break"
   ]
  },
  {
   "cell_type": "code",
   "execution_count": 191,
   "metadata": {},
   "outputs": [],
   "source": [
    "# torch.autograd.set_detect_anomaly(False)"
   ]
  },
  {
   "cell_type": "code",
   "execution_count": 192,
   "metadata": {},
   "outputs": [],
   "source": [
    "def train(model, g_loader, gc_loader, classification = False):\n",
    "    optimizer = torch.optim.Adam(model.parameters(), lr=0.01)\n",
    "    \n",
    "    model.train()\n",
    "    classification = classification\n",
    "    criterion = torch.nn.CrossEntropyLoss() if classification else None\n",
    "    \n",
    "    for _, (g_o, g_c) in enumerate(zip(g_loader, gc_loader)):\n",
    "        if classification: # classification\n",
    "            # last parameter is classification mode\n",
    "            h, y = model(g_o.x, g_c.x, g_o.edge_index, g_c.edge_index, g_o.batch, True)\n",
    "            # print(y.size(), g_o.y)\n",
    "            loss = criterion(y, g_o.y)\n",
    "            loss.backward()\n",
    "        else: # pretrain model\n",
    "            h, x_o, x_c = model(g_o.x, g_c.x, g_o.edge_index, g_c.edge_index, g_o.batch)\n",
    "            loss, _ = supervisedContrastiveLoss(h, g_o.y, 32)\n",
    "            loss.backward()\n",
    "        optimizer.step()\n",
    "        optimizer.zero_grad()\n",
    "        \n",
    "    if classification:\n",
    "        return h, loss, y \n",
    "    else:\n",
    "        return h, loss\n",
    "\n",
    "@torch.no_grad()\n",
    "def test(model, g_loader, gc_loader):\n",
    "    model.eval()\n",
    "    correct = 0\n",
    "    for _, (g_o, g_c) in enumerate(zip(g_loader, gc_loader)):\n",
    "        z, y = model(g_o.x, g_c.x, g_o.edge_index, g_c.edge_index, g_o.batch, True)\n",
    "        pred = y.argmax(dim=1)\n",
    "        correct += int((pred == g_o.y).sum())\n",
    "\n",
    "    return correct/len(g_loader.dataset), z"
   ]
  },
  {
   "cell_type": "markdown",
   "metadata": {},
   "source": [
    "Pretrain model"
   ]
  },
  {
   "cell_type": "code",
   "execution_count": 193,
   "metadata": {},
   "outputs": [
    {
     "name": "stdout",
     "output_type": "stream",
     "text": [
      "epoch: 1 training loss: 161.6640\n",
      "epoch: 2 training loss: 156.5426\n",
      "epoch: 3 training loss: 147.9382\n",
      "epoch: 4 training loss: 147.1410\n",
      "epoch: 5 training loss: 147.1851\n",
      "epoch: 6 training loss: 147.1852\n",
      "epoch: 7 training loss: 147.1551\n",
      "epoch: 8 training loss: 147.1588\n",
      "epoch: 9 training loss: 147.1602\n",
      "epoch: 10 training loss: 147.1184\n",
      "epoch: 11 training loss: 147.1413\n",
      "epoch: 12 training loss: 147.1540\n",
      "epoch: 13 training loss: 147.1621\n",
      "epoch: 14 training loss: 147.1340\n",
      "epoch: 15 training loss: 147.1867\n",
      "epoch: 16 training loss: 147.1607\n",
      "epoch: 17 training loss: 147.1237\n",
      "epoch: 18 training loss: 147.1258\n",
      "epoch: 19 training loss: 147.0938\n",
      "epoch: 20 training loss: 147.0182\n",
      "epoch: 21 training loss: 147.0282\n",
      "epoch: 22 training loss: 146.9368\n",
      "epoch: 23 training loss: 147.0302\n",
      "epoch: 24 training loss: 146.7238\n",
      "epoch: 25 training loss: 147.4445\n",
      "epoch: 26 training loss: 146.9435\n",
      "epoch: 27 training loss: 146.8771\n",
      "epoch: 28 training loss: 146.8087\n",
      "epoch: 29 training loss: 146.7990\n",
      "epoch: 30 training loss: 147.5001\n",
      "epoch: 31 training loss: 146.9482\n",
      "epoch: 32 training loss: 146.9766\n",
      "epoch: 33 training loss: 146.5559\n",
      "epoch: 34 training loss: 147.9781\n",
      "epoch: 35 training loss: 146.6990\n",
      "epoch: 36 training loss: 147.0648\n",
      "epoch: 37 training loss: 148.1437\n",
      "epoch: 38 training loss: 147.6850\n",
      "epoch: 39 training loss: 146.9855\n",
      "epoch: 40 training loss: 146.6334\n",
      "epoch: 41 training loss: 146.7486\n",
      "epoch: 42 training loss: 147.0202\n",
      "epoch: 43 training loss: 146.6389\n",
      "epoch: 44 training loss: 147.8679\n",
      "epoch: 45 training loss: 147.1033\n",
      "epoch: 46 training loss: 148.0643\n",
      "epoch: 47 training loss: 146.7979\n",
      "epoch: 48 training loss: 148.9013\n",
      "epoch: 49 training loss: 146.4892\n",
      "epoch: 50 training loss: 147.2177\n"
     ]
    }
   ],
   "source": [
    "model = ComplementarySupCon(dataset, 64)\n",
    "\n",
    "list_loss = []\n",
    "list_train_acc = []\n",
    "list_test_acc = []\n",
    "z = None\n",
    "# torch.autograd.set_detect_anomaly(True)\n",
    "for epoch in range(0, 50):\n",
    "    h, loss = train(model, g_train_loader, gc_train_loader)\n",
    "    print(f\"epoch: {epoch+1} training loss: {loss:.4f}\")\n",
    "    # print(f\"epoch: {epoch+1} training loss: {loss:.4f}; test loss: {loss_test:.4}\")\n",
    "    # break\n"
   ]
  },
  {
   "cell_type": "code",
   "execution_count": 239,
   "metadata": {},
   "outputs": [],
   "source": [
    "embeddings = [] \n",
    "labels = [] \n",
    "color_list = ['blue', 'red']\n",
    "\n",
    "for _, (g_o, g_c) in enumerate(zip(g_train_loader, gc_train_loader)):\n",
    "    h, x_o, x_c = (model(g_o.x, g_c.x, g_o.edge_index, g_c.edge_index, g_o.batch))\n",
    "    for emb in h:\n",
    "        # print(emb.detach().numpy())|\n",
    "        embeddings.append(emb.detach().numpy())\n",
    "    labels += [color_list[y-1] for y in g_o.y]\n",
    "\n",
    "for _, (g_o, g_c) in enumerate(zip(g_test_loader, gc_test_loader)):\n",
    "    h, x_o, x_c = (model(g_o.x, g_c.x, g_o.edge_index, g_c.edge_index, g_o.batch))\n",
    "    for emb in h:\n",
    "        # print(emb.detach().numpy())|\n",
    "        embeddings.append(emb.detach().numpy())\n",
    "    labels += [color_list[y-1] for y in g_o.y]"
   ]
  },
  {
   "cell_type": "code",
   "execution_count": 195,
   "metadata": {},
   "outputs": [
    {
     "data": {
      "text/plain": [
       "array([[-0.06038104,  0.27327865, -0.2863886 , ..., -0.1449476 ,\n",
       "         0.0328261 ,  0.09892015],\n",
       "       [-0.60276896,  0.02389679, -0.2827059 , ..., -0.47818267,\n",
       "        -0.00666186,  1.5269356 ],\n",
       "       [-0.60738057,  0.01979841, -0.2839278 , ..., -0.48364395,\n",
       "        -0.00804713,  1.5462067 ],\n",
       "       ...,\n",
       "       [-0.57898957, -0.02137418, -0.26479858, ..., -0.46739453,\n",
       "        -0.01881554,  1.5641738 ],\n",
       "       [-0.00320464,  0.3476408 , -0.38063475, ..., -0.12328957,\n",
       "         0.03076834, -0.04761375],\n",
       "       [-0.639507  ,  0.11901614, -0.34278452, ..., -0.5153953 ,\n",
       "         0.00670383,  1.457835  ]], dtype=float32)"
      ]
     },
     "execution_count": 195,
     "metadata": {},
     "output_type": "execute_result"
    }
   ],
   "source": [
    "embeddings = np.array(embeddings)\n",
    "embeddings"
   ]
  },
  {
   "cell_type": "code",
   "execution_count": 233,
   "metadata": {},
   "outputs": [],
   "source": [
    "tsne = TSNE(n_components=2, random_state=42)\n",
    "X_tsne = tsne.fit_transform(embeddings)\n",
    "# tsne.kl_divergence_"
   ]
  },
  {
   "cell_type": "code",
   "execution_count": 234,
   "metadata": {},
   "outputs": [],
   "source": [
    "import plotly.express as px"
   ]
  },
  {
   "cell_type": "code",
   "execution_count": 240,
   "metadata": {},
   "outputs": [
    {
     "data": {
      "application/vnd.plotly.v1+json": {
       "config": {
        "plotlyServerURL": "https://plot.ly"
       },
       "data": [
        {
         "hovertemplate": "color=blue<br>x=%{x}<br>y=%{y}<extra></extra>",
         "legendgroup": "blue",
         "marker": {
          "color": "#636efa",
          "symbol": "circle"
         },
         "mode": "markers",
         "name": "blue",
         "orientation": "v",
         "showlegend": true,
         "type": "scatter",
         "x": [
          -4.012026309967041,
          -6.536767959594727,
          0.414225310087204,
          -8.811792373657227,
          -3.854219436645508,
          -4.325249671936035,
          16.86906623840332,
          2.8205370903015137,
          -6.4799628257751465,
          3.1641650199890137,
          -5.42033052444458,
          17.269987106323242,
          1.0378481149673462,
          -8.898355484008789,
          -10.728880882263184,
          -11.89002799987793,
          -5.4417243003845215,
          -0.220876082777977,
          -10.910094261169434,
          16.53360939025879,
          -3.984220504760742,
          -11.158207893371582,
          3.2039735317230225,
          -3.6897635459899902,
          19.818374633789062,
          17.588071823120117,
          -3.8571746349334717,
          -4.177976131439209,
          -6.115106105804443,
          -4.012026786804199,
          -0.32606637477874756,
          -11.061723709106445,
          2.8129453659057617,
          -4.033945083618164,
          24.98764419555664,
          0.46134647727012634,
          2.197604179382324,
          2.1948812007904053,
          1.3987170457839966,
          -8.259418487548828,
          24.482624053955078,
          -0.9353298544883728,
          -10.969535827636719,
          -11.267813682556152,
          -2.266885757446289,
          -4.692829608917236,
          -0.20705543458461761,
          -4.471916675567627,
          -8.144062042236328,
          -10.684783935546875,
          1.3907283544540405,
          2.195700168609619,
          -2.99916410446167,
          -10.41942024230957,
          1.0432630777359009,
          -8.565134048461914,
          -6.482480525970459,
          -0.31935539841651917,
          1.5682529211044312,
          18.743032455444336,
          -11.29439640045166,
          -10.979753494262695,
          -5.179874897003174,
          -10.657764434814453,
          -10.96899700164795,
          -6.174890041351318,
          -10.464888572692871,
          -6.4533538818359375,
          -2.2707483768463135,
          1.558426856994629,
          -6.115171432495117,
          -2.16437029838562,
          -10.564088821411133,
          -4.561813831329346,
          -6.0118937492370605,
          -11.248980522155762,
          24.40976905822754,
          -7.914928913116455,
          1.5749233961105347,
          -6.254370212554932,
          2.0365874767303467,
          -2.0754387378692627,
          -0.010068938136100769,
          -0.9500368237495422,
          -10.566158294677734,
          1.573675513267517,
          -9.387653350830078,
          -6.0118937492370605,
          24.928743362426758,
          -0.9538624882698059,
          -2.1236517429351807,
          2.8008832931518555,
          -7.918870449066162,
          3.1896698474884033,
          0.4603736102581024,
          18.019943237304688,
          18.010555267333984,
          -2.0754387378692627,
          24.987646102905273,
          23.440813064575195,
          2.6984212398529053,
          -2.1236307621002197,
          -7.8230156898498535,
          16.810823440551758,
          -7.819242000579834,
          2.1976819038391113,
          -3.6889002323150635,
          2.8126795291900635,
          3.2578256130218506,
          -5.980780601501465,
          -10.46899700164795,
          2.720005512237549,
          17.631675720214844,
          24.30160140991211,
          -3.688109874725342,
          23.439762115478516,
          -0.9386574625968933,
          2.738112211227417,
          -0.010068938136100769,
          24.87340545654297,
          24.046037673950195,
          2.0342793464660645,
          2.725144147872925,
          3.179319381713867,
          -9.292025566101074
         ],
         "xaxis": "x",
         "y": [
          1.718774437904358,
          1.2374752759933472,
          -4.01086950302124,
          0.691007137298584,
          1.277807354927063,
          1.528861403465271,
          -0.28222113847732544,
          -4.1566081047058105,
          1.3581600189208984,
          -3.534515857696533,
          -0.7170155644416809,
          0.06208732724189758,
          -0.6067454218864441,
          0.6038566827774048,
          -0.9329092502593994,
          -0.266961008310318,
          -0.7305503487586975,
          5.609076976776123,
          -1.7519848346710205,
          -0.35052746534347534,
          -3.8901329040527344,
          -1.0284751653671265,
          -4.062132835388184,
          -4.0881147384643555,
          2.751795768737793,
          0.20270411670207977,
          1.3607007265090942,
          0.8143825531005859,
          1.463694453239441,
          1.718774676322937,
          4.860177040100098,
          -1.7044674158096313,
          -4.153127670288086,
          1.7108128070831299,
          1.673319697380066,
          0.5967404246330261,
          -6.830080032348633,
          -6.837042331695557,
          -1.1267372369766235,
          -2.5199201107025146,
          2.3291494846343994,
          -2.390557050704956,
          0.4818628430366516,
          -1.1872527599334717,
          -2.9455370903015137,
          1.0240291357040405,
          -2.5272934436798096,
          -1.5837571620941162,
          -0.462403267621994,
          -1.721360445022583,
          -1.1329705715179443,
          -6.8350300788879395,
          1.6980133056640625,
          -1.4617725610733032,
          -0.607467770576477,
          0.9808858633041382,
          0.9888918995857239,
          4.875009536743164,
          -4.011436939239502,
          0.7705783843994141,
          -1.3534468412399292,
          -0.9341750144958496,
          -0.7455562353134155,
          -0.9678294658660889,
          0.4827459454536438,
          1.481109857559204,
          -1.3397098779678345,
          0.9459511041641235,
          -2.947183847427368,
          -4.009469985961914,
          -0.685053825378418,
          1.9000749588012695,
          -1.6382392644882202,
          -4.392874717712402,
          1.0447088479995728,
          -1.5189664363861084,
          2.38004994392395,
          -0.4033498466014862,
          -4.003598213195801,
          0.9060938358306885,
          -7.193209171295166,
          1.4770272970199585,
          2.147735118865967,
          -2.3947858810424805,
          -1.0459840297698975,
          -4.008415699005127,
          -0.8793014287948608,
          1.0447088479995728,
          2.0031349658966064,
          -2.389538288116455,
          1.8815861940383911,
          -3.4238288402557373,
          -0.4048760235309601,
          -4.067203521728516,
          0.603212833404541,
          0.4682304561138153,
          0.6324739456176758,
          1.4770272970199585,
          1.6733195781707764,
          1.3580166101455688,
          -3.9773929119110107,
          1.881595492362976,
          -0.37295448780059814,
          -0.26172012090682983,
          -0.3732336163520813,
          -6.829806804656982,
          -4.086982727050781,
          -4.152871608734131,
          -3.779268980026245,
          1.3957092761993408,
          0.6058504581451416,
          -3.52881121635437,
          2.0954978466033936,
          2.449462413787842,
          -4.088563919067383,
          1.960071086883545,
          -2.3851497173309326,
          -3.4643967151641846,
          2.147735118865967,
          2.092369556427002,
          1.7183173894882202,
          -7.196357727050781,
          -3.5215420722961426,
          -3.567427396774292,
          -0.8365455269813538
         ],
         "yaxis": "y"
        },
        {
         "hovertemplate": "color=red<br>x=%{x}<br>y=%{y}<extra></extra>",
         "legendgroup": "red",
         "marker": {
          "color": "#EF553B",
          "symbol": "circle"
         },
         "mode": "markers",
         "name": "red",
         "orientation": "v",
         "showlegend": true,
         "type": "scatter",
         "x": [
          19.22206687927246,
          19.34355926513672,
          20.318363189697266,
          -2.9965200424194336,
          23.679100036621094,
          24.147289276123047,
          22.811561584472656,
          19.55133819580078,
          -0.5172239542007446,
          -1.2227667570114136,
          -1.9321624040603638,
          17.97120475769043,
          -0.5754725933074951,
          24.300249099731445,
          -1.2112385034561157,
          16.486467361450195,
          0.47461068630218506,
          18.026992797851562,
          0.9053049683570862,
          17.659210205078125,
          0.5153661370277405,
          17.55137825012207,
          -2.926366090774536,
          0.2958170175552368,
          0.7721477746963501,
          24.03697967529297,
          19.208282470703125,
          17.869112014770508,
          -3.703977584838867,
          0.5730665922164917,
          17.00811767578125,
          17.591083526611328,
          17.837512969970703,
          -0.9852378368377686,
          24.166688919067383,
          -3.913745641708374,
          20.30476188659668,
          22.288503646850586,
          0.6327508687973022,
          -7.0350470542907715,
          0.5878778696060181,
          -8.347593307495117,
          17.047176361083984,
          24.282075881958008,
          17.480127334594727,
          0.7265804409980774,
          -8.312332153320312,
          0.8254806399345398,
          0.7469067573547363,
          23.91919708251953,
          22.83101463317871,
          23.399925231933594,
          -0.47558867931365967,
          19.661941528320312,
          16.505741119384766,
          0.6158055663108826,
          -8.371957778930664,
          -4.494219779968262,
          22.973676681518555,
          19.28864288330078,
          17.789249420166016,
          19.707727432250977,
          18.754735946655273
         ],
         "xaxis": "x",
         "y": [
          1.5725187063217163,
          1.4859504699707031,
          1.384196400642395,
          1.5005996227264404,
          2.0972819328308105,
          1.196334958076477,
          1.6065069437026978,
          1.0969256162643433,
          1.9125299453735352,
          1.7937126159667969,
          1.4809587001800537,
          1.4787566661834717,
          1.9608361721038818,
          1.2778657674789429,
          1.7863340377807617,
          2.7089240550994873,
          0.5954763293266296,
          0.471000999212265,
          1.3037296533584595,
          0.7224845290184021,
          3.9714086055755615,
          0.7100560665130615,
          1.5109167098999023,
          2.3339436054229736,
          4.835570812225342,
          1.7270983457565308,
          1.5725994110107422,
          0.724987268447876,
          -4.091647148132324,
          5.03641939163208,
          2.500877618789673,
          0.7213796377182007,
          2.1693243980407715,
          -2.405820846557617,
          1.1995521783828735,
          1.2762476205825806,
          1.3820092678070068,
          1.5768488645553589,
          5.089399814605713,
          -0.34687337279319763,
          5.110451698303223,
          -3.115349769592285,
          2.0611517429351807,
          1.2821918725967407,
          2.234621524810791,
          4.532329559326172,
          -2.9267048835754395,
          4.941722869873047,
          4.56198263168335,
          2.153651237487793,
          1.5502113103866577,
          1.3703359365463257,
          6.042111396789551,
          1.5886743068695068,
          2.7226510047912598,
          4.991093635559082,
          -3.19870924949646,
          -1.6618095636367798,
          1.7582241296768188,
          1.0269626379013062,
          2.0870048999786377,
          1.4498848915100098,
          0.7651509046554565
         ],
         "yaxis": "y"
        }
       ],
       "layout": {
        "legend": {
         "title": {
          "text": "color"
         },
         "tracegroupgap": 0
        },
        "margin": {
         "t": 60
        },
        "template": {
         "data": {
          "bar": [
           {
            "error_x": {
             "color": "#2a3f5f"
            },
            "error_y": {
             "color": "#2a3f5f"
            },
            "marker": {
             "line": {
              "color": "#E5ECF6",
              "width": 0.5
             },
             "pattern": {
              "fillmode": "overlay",
              "size": 10,
              "solidity": 0.2
             }
            },
            "type": "bar"
           }
          ],
          "barpolar": [
           {
            "marker": {
             "line": {
              "color": "#E5ECF6",
              "width": 0.5
             },
             "pattern": {
              "fillmode": "overlay",
              "size": 10,
              "solidity": 0.2
             }
            },
            "type": "barpolar"
           }
          ],
          "carpet": [
           {
            "aaxis": {
             "endlinecolor": "#2a3f5f",
             "gridcolor": "white",
             "linecolor": "white",
             "minorgridcolor": "white",
             "startlinecolor": "#2a3f5f"
            },
            "baxis": {
             "endlinecolor": "#2a3f5f",
             "gridcolor": "white",
             "linecolor": "white",
             "minorgridcolor": "white",
             "startlinecolor": "#2a3f5f"
            },
            "type": "carpet"
           }
          ],
          "choropleth": [
           {
            "colorbar": {
             "outlinewidth": 0,
             "ticks": ""
            },
            "type": "choropleth"
           }
          ],
          "contour": [
           {
            "colorbar": {
             "outlinewidth": 0,
             "ticks": ""
            },
            "colorscale": [
             [
              0,
              "#0d0887"
             ],
             [
              0.1111111111111111,
              "#46039f"
             ],
             [
              0.2222222222222222,
              "#7201a8"
             ],
             [
              0.3333333333333333,
              "#9c179e"
             ],
             [
              0.4444444444444444,
              "#bd3786"
             ],
             [
              0.5555555555555556,
              "#d8576b"
             ],
             [
              0.6666666666666666,
              "#ed7953"
             ],
             [
              0.7777777777777778,
              "#fb9f3a"
             ],
             [
              0.8888888888888888,
              "#fdca26"
             ],
             [
              1,
              "#f0f921"
             ]
            ],
            "type": "contour"
           }
          ],
          "contourcarpet": [
           {
            "colorbar": {
             "outlinewidth": 0,
             "ticks": ""
            },
            "type": "contourcarpet"
           }
          ],
          "heatmap": [
           {
            "colorbar": {
             "outlinewidth": 0,
             "ticks": ""
            },
            "colorscale": [
             [
              0,
              "#0d0887"
             ],
             [
              0.1111111111111111,
              "#46039f"
             ],
             [
              0.2222222222222222,
              "#7201a8"
             ],
             [
              0.3333333333333333,
              "#9c179e"
             ],
             [
              0.4444444444444444,
              "#bd3786"
             ],
             [
              0.5555555555555556,
              "#d8576b"
             ],
             [
              0.6666666666666666,
              "#ed7953"
             ],
             [
              0.7777777777777778,
              "#fb9f3a"
             ],
             [
              0.8888888888888888,
              "#fdca26"
             ],
             [
              1,
              "#f0f921"
             ]
            ],
            "type": "heatmap"
           }
          ],
          "heatmapgl": [
           {
            "colorbar": {
             "outlinewidth": 0,
             "ticks": ""
            },
            "colorscale": [
             [
              0,
              "#0d0887"
             ],
             [
              0.1111111111111111,
              "#46039f"
             ],
             [
              0.2222222222222222,
              "#7201a8"
             ],
             [
              0.3333333333333333,
              "#9c179e"
             ],
             [
              0.4444444444444444,
              "#bd3786"
             ],
             [
              0.5555555555555556,
              "#d8576b"
             ],
             [
              0.6666666666666666,
              "#ed7953"
             ],
             [
              0.7777777777777778,
              "#fb9f3a"
             ],
             [
              0.8888888888888888,
              "#fdca26"
             ],
             [
              1,
              "#f0f921"
             ]
            ],
            "type": "heatmapgl"
           }
          ],
          "histogram": [
           {
            "marker": {
             "pattern": {
              "fillmode": "overlay",
              "size": 10,
              "solidity": 0.2
             }
            },
            "type": "histogram"
           }
          ],
          "histogram2d": [
           {
            "colorbar": {
             "outlinewidth": 0,
             "ticks": ""
            },
            "colorscale": [
             [
              0,
              "#0d0887"
             ],
             [
              0.1111111111111111,
              "#46039f"
             ],
             [
              0.2222222222222222,
              "#7201a8"
             ],
             [
              0.3333333333333333,
              "#9c179e"
             ],
             [
              0.4444444444444444,
              "#bd3786"
             ],
             [
              0.5555555555555556,
              "#d8576b"
             ],
             [
              0.6666666666666666,
              "#ed7953"
             ],
             [
              0.7777777777777778,
              "#fb9f3a"
             ],
             [
              0.8888888888888888,
              "#fdca26"
             ],
             [
              1,
              "#f0f921"
             ]
            ],
            "type": "histogram2d"
           }
          ],
          "histogram2dcontour": [
           {
            "colorbar": {
             "outlinewidth": 0,
             "ticks": ""
            },
            "colorscale": [
             [
              0,
              "#0d0887"
             ],
             [
              0.1111111111111111,
              "#46039f"
             ],
             [
              0.2222222222222222,
              "#7201a8"
             ],
             [
              0.3333333333333333,
              "#9c179e"
             ],
             [
              0.4444444444444444,
              "#bd3786"
             ],
             [
              0.5555555555555556,
              "#d8576b"
             ],
             [
              0.6666666666666666,
              "#ed7953"
             ],
             [
              0.7777777777777778,
              "#fb9f3a"
             ],
             [
              0.8888888888888888,
              "#fdca26"
             ],
             [
              1,
              "#f0f921"
             ]
            ],
            "type": "histogram2dcontour"
           }
          ],
          "mesh3d": [
           {
            "colorbar": {
             "outlinewidth": 0,
             "ticks": ""
            },
            "type": "mesh3d"
           }
          ],
          "parcoords": [
           {
            "line": {
             "colorbar": {
              "outlinewidth": 0,
              "ticks": ""
             }
            },
            "type": "parcoords"
           }
          ],
          "pie": [
           {
            "automargin": true,
            "type": "pie"
           }
          ],
          "scatter": [
           {
            "fillpattern": {
             "fillmode": "overlay",
             "size": 10,
             "solidity": 0.2
            },
            "type": "scatter"
           }
          ],
          "scatter3d": [
           {
            "line": {
             "colorbar": {
              "outlinewidth": 0,
              "ticks": ""
             }
            },
            "marker": {
             "colorbar": {
              "outlinewidth": 0,
              "ticks": ""
             }
            },
            "type": "scatter3d"
           }
          ],
          "scattercarpet": [
           {
            "marker": {
             "colorbar": {
              "outlinewidth": 0,
              "ticks": ""
             }
            },
            "type": "scattercarpet"
           }
          ],
          "scattergeo": [
           {
            "marker": {
             "colorbar": {
              "outlinewidth": 0,
              "ticks": ""
             }
            },
            "type": "scattergeo"
           }
          ],
          "scattergl": [
           {
            "marker": {
             "colorbar": {
              "outlinewidth": 0,
              "ticks": ""
             }
            },
            "type": "scattergl"
           }
          ],
          "scattermapbox": [
           {
            "marker": {
             "colorbar": {
              "outlinewidth": 0,
              "ticks": ""
             }
            },
            "type": "scattermapbox"
           }
          ],
          "scatterpolar": [
           {
            "marker": {
             "colorbar": {
              "outlinewidth": 0,
              "ticks": ""
             }
            },
            "type": "scatterpolar"
           }
          ],
          "scatterpolargl": [
           {
            "marker": {
             "colorbar": {
              "outlinewidth": 0,
              "ticks": ""
             }
            },
            "type": "scatterpolargl"
           }
          ],
          "scatterternary": [
           {
            "marker": {
             "colorbar": {
              "outlinewidth": 0,
              "ticks": ""
             }
            },
            "type": "scatterternary"
           }
          ],
          "surface": [
           {
            "colorbar": {
             "outlinewidth": 0,
             "ticks": ""
            },
            "colorscale": [
             [
              0,
              "#0d0887"
             ],
             [
              0.1111111111111111,
              "#46039f"
             ],
             [
              0.2222222222222222,
              "#7201a8"
             ],
             [
              0.3333333333333333,
              "#9c179e"
             ],
             [
              0.4444444444444444,
              "#bd3786"
             ],
             [
              0.5555555555555556,
              "#d8576b"
             ],
             [
              0.6666666666666666,
              "#ed7953"
             ],
             [
              0.7777777777777778,
              "#fb9f3a"
             ],
             [
              0.8888888888888888,
              "#fdca26"
             ],
             [
              1,
              "#f0f921"
             ]
            ],
            "type": "surface"
           }
          ],
          "table": [
           {
            "cells": {
             "fill": {
              "color": "#EBF0F8"
             },
             "line": {
              "color": "white"
             }
            },
            "header": {
             "fill": {
              "color": "#C8D4E3"
             },
             "line": {
              "color": "white"
             }
            },
            "type": "table"
           }
          ]
         },
         "layout": {
          "annotationdefaults": {
           "arrowcolor": "#2a3f5f",
           "arrowhead": 0,
           "arrowwidth": 1
          },
          "autotypenumbers": "strict",
          "coloraxis": {
           "colorbar": {
            "outlinewidth": 0,
            "ticks": ""
           }
          },
          "colorscale": {
           "diverging": [
            [
             0,
             "#8e0152"
            ],
            [
             0.1,
             "#c51b7d"
            ],
            [
             0.2,
             "#de77ae"
            ],
            [
             0.3,
             "#f1b6da"
            ],
            [
             0.4,
             "#fde0ef"
            ],
            [
             0.5,
             "#f7f7f7"
            ],
            [
             0.6,
             "#e6f5d0"
            ],
            [
             0.7,
             "#b8e186"
            ],
            [
             0.8,
             "#7fbc41"
            ],
            [
             0.9,
             "#4d9221"
            ],
            [
             1,
             "#276419"
            ]
           ],
           "sequential": [
            [
             0,
             "#0d0887"
            ],
            [
             0.1111111111111111,
             "#46039f"
            ],
            [
             0.2222222222222222,
             "#7201a8"
            ],
            [
             0.3333333333333333,
             "#9c179e"
            ],
            [
             0.4444444444444444,
             "#bd3786"
            ],
            [
             0.5555555555555556,
             "#d8576b"
            ],
            [
             0.6666666666666666,
             "#ed7953"
            ],
            [
             0.7777777777777778,
             "#fb9f3a"
            ],
            [
             0.8888888888888888,
             "#fdca26"
            ],
            [
             1,
             "#f0f921"
            ]
           ],
           "sequentialminus": [
            [
             0,
             "#0d0887"
            ],
            [
             0.1111111111111111,
             "#46039f"
            ],
            [
             0.2222222222222222,
             "#7201a8"
            ],
            [
             0.3333333333333333,
             "#9c179e"
            ],
            [
             0.4444444444444444,
             "#bd3786"
            ],
            [
             0.5555555555555556,
             "#d8576b"
            ],
            [
             0.6666666666666666,
             "#ed7953"
            ],
            [
             0.7777777777777778,
             "#fb9f3a"
            ],
            [
             0.8888888888888888,
             "#fdca26"
            ],
            [
             1,
             "#f0f921"
            ]
           ]
          },
          "colorway": [
           "#636efa",
           "#EF553B",
           "#00cc96",
           "#ab63fa",
           "#FFA15A",
           "#19d3f3",
           "#FF6692",
           "#B6E880",
           "#FF97FF",
           "#FECB52"
          ],
          "font": {
           "color": "#2a3f5f"
          },
          "geo": {
           "bgcolor": "white",
           "lakecolor": "white",
           "landcolor": "#E5ECF6",
           "showlakes": true,
           "showland": true,
           "subunitcolor": "white"
          },
          "hoverlabel": {
           "align": "left"
          },
          "hovermode": "closest",
          "mapbox": {
           "style": "light"
          },
          "paper_bgcolor": "white",
          "plot_bgcolor": "#E5ECF6",
          "polar": {
           "angularaxis": {
            "gridcolor": "white",
            "linecolor": "white",
            "ticks": ""
           },
           "bgcolor": "#E5ECF6",
           "radialaxis": {
            "gridcolor": "white",
            "linecolor": "white",
            "ticks": ""
           }
          },
          "scene": {
           "xaxis": {
            "backgroundcolor": "#E5ECF6",
            "gridcolor": "white",
            "gridwidth": 2,
            "linecolor": "white",
            "showbackground": true,
            "ticks": "",
            "zerolinecolor": "white"
           },
           "yaxis": {
            "backgroundcolor": "#E5ECF6",
            "gridcolor": "white",
            "gridwidth": 2,
            "linecolor": "white",
            "showbackground": true,
            "ticks": "",
            "zerolinecolor": "white"
           },
           "zaxis": {
            "backgroundcolor": "#E5ECF6",
            "gridcolor": "white",
            "gridwidth": 2,
            "linecolor": "white",
            "showbackground": true,
            "ticks": "",
            "zerolinecolor": "white"
           }
          },
          "shapedefaults": {
           "line": {
            "color": "#2a3f5f"
           }
          },
          "ternary": {
           "aaxis": {
            "gridcolor": "white",
            "linecolor": "white",
            "ticks": ""
           },
           "baxis": {
            "gridcolor": "white",
            "linecolor": "white",
            "ticks": ""
           },
           "bgcolor": "#E5ECF6",
           "caxis": {
            "gridcolor": "white",
            "linecolor": "white",
            "ticks": ""
           }
          },
          "title": {
           "x": 0.05
          },
          "xaxis": {
           "automargin": true,
           "gridcolor": "white",
           "linecolor": "white",
           "ticks": "",
           "title": {
            "standoff": 15
           },
           "zerolinecolor": "white",
           "zerolinewidth": 2
          },
          "yaxis": {
           "automargin": true,
           "gridcolor": "white",
           "linecolor": "white",
           "ticks": "",
           "title": {
            "standoff": 15
           },
           "zerolinecolor": "white",
           "zerolinewidth": 2
          }
         }
        },
        "title": {
         "text": "GCN + SupCon + Complementary Graph"
        },
        "xaxis": {
         "anchor": "y",
         "domain": [
          0,
          1
         ],
         "title": {
          "text": "First t-SNE"
         }
        },
        "yaxis": {
         "anchor": "x",
         "domain": [
          0,
          1
         ],
         "title": {
          "text": "Second t-SNE"
         }
        }
       }
      }
     },
     "metadata": {},
     "output_type": "display_data"
    }
   ],
   "source": [
    "fig = px.scatter(x=X_tsne[:, 0], y=X_tsne[:, 1], color=labels)\n",
    "fig.update_layout(\n",
    "    title=\"GCN + SupCon + Complementary Graph\",\n",
    "    xaxis_title=\"First t-SNE\",\n",
    "    yaxis_title=\"Second t-SNE\",\n",
    ")\n",
    "fig.show()"
   ]
  },
  {
   "cell_type": "markdown",
   "metadata": {},
   "source": [
    "#### After Pre-training (training classifier)"
   ]
  },
  {
   "cell_type": "markdown",
   "metadata": {},
   "source": [
    "freeze model parameter (just the conv layer)"
   ]
  },
  {
   "cell_type": "code",
   "execution_count": 199,
   "metadata": {},
   "outputs": [],
   "source": [
    "for name, para in model.named_parameters():\n",
    "    if \"conv\" in name:\n",
    "        para.requires_grad = False"
   ]
  },
  {
   "cell_type": "code",
   "execution_count": null,
   "metadata": {},
   "outputs": [],
   "source": []
  },
  {
   "cell_type": "code",
   "execution_count": 200,
   "metadata": {},
   "outputs": [
    {
     "name": "stdout",
     "output_type": "stream",
     "text": [
      "epoch: 1 loss: 0.6424; train_acc: 0.7234; test_acc: 0.6064\n",
      "epoch: 2 loss: 0.5911; train_acc: 0.766; test_acc: 0.6064\n",
      "epoch: 3 loss: 0.5047; train_acc: 0.7979; test_acc: 0.6596\n",
      "epoch: 4 loss: 0.5609; train_acc: 0.7979; test_acc: 0.6702\n",
      "epoch: 5 loss: 0.4926; train_acc: 0.7872; test_acc: 0.6809\n",
      "epoch: 6 loss: 0.6007; train_acc: 0.7872; test_acc: 0.6809\n",
      "epoch: 7 loss: 0.4991; train_acc: 0.7872; test_acc: 0.6809\n",
      "epoch: 8 loss: 0.5977; train_acc: 0.7872; test_acc: 0.6809\n",
      "epoch: 9 loss: 0.5484; train_acc: 0.7979; test_acc: 0.6702\n",
      "epoch: 10 loss: 0.4764; train_acc: 0.7872; test_acc: 0.6915\n",
      "epoch: 11 loss: 0.5842; train_acc: 0.7979; test_acc: 0.6702\n",
      "epoch: 12 loss: 0.5292; train_acc: 0.8191; test_acc: 0.7021\n",
      "epoch: 13 loss: 0.4930; train_acc: 0.7979; test_acc: 0.6809\n",
      "epoch: 14 loss: 0.5688; train_acc: 0.8085; test_acc: 0.6809\n",
      "epoch: 15 loss: 0.5181; train_acc: 0.7872; test_acc: 0.6915\n",
      "epoch: 16 loss: 0.5211; train_acc: 0.7979; test_acc: 0.6809\n",
      "epoch: 17 loss: 0.6010; train_acc: 0.8191; test_acc: 0.7021\n",
      "epoch: 18 loss: 0.5930; train_acc: 0.7979; test_acc: 0.6915\n",
      "epoch: 19 loss: 0.4851; train_acc: 0.8191; test_acc: 0.7021\n",
      "epoch: 20 loss: 0.5197; train_acc: 0.7872; test_acc: 0.6915\n",
      "epoch: 21 loss: 0.5304; train_acc: 0.7979; test_acc: 0.6809\n",
      "epoch: 22 loss: 0.5204; train_acc: 0.8191; test_acc: 0.7021\n",
      "epoch: 23 loss: 0.5967; train_acc: 0.7979; test_acc: 0.6809\n",
      "epoch: 24 loss: 0.4534; train_acc: 0.8191; test_acc: 0.7021\n",
      "epoch: 25 loss: 0.5572; train_acc: 0.7979; test_acc: 0.6915\n",
      "epoch: 26 loss: 0.5282; train_acc: 0.8191; test_acc: 0.7021\n",
      "epoch: 27 loss: 0.5624; train_acc: 0.7979; test_acc: 0.6809\n",
      "epoch: 28 loss: 0.5102; train_acc: 0.8191; test_acc: 0.7021\n",
      "epoch: 29 loss: 0.5147; train_acc: 0.7979; test_acc: 0.6915\n",
      "epoch: 30 loss: 0.4415; train_acc: 0.8298; test_acc: 0.7021\n",
      "epoch: 31 loss: 0.5286; train_acc: 0.7979; test_acc: 0.6915\n",
      "epoch: 32 loss: 0.4503; train_acc: 0.8298; test_acc: 0.7021\n",
      "epoch: 33 loss: 0.5954; train_acc: 0.7979; test_acc: 0.7021\n",
      "epoch: 34 loss: 0.5036; train_acc: 0.8085; test_acc: 0.6702\n",
      "epoch: 35 loss: 0.4615; train_acc: 0.7979; test_acc: 0.6915\n",
      "epoch: 36 loss: 0.4858; train_acc: 0.8404; test_acc: 0.7021\n",
      "epoch: 37 loss: 0.4917; train_acc: 0.8298; test_acc: 0.6915\n",
      "epoch: 38 loss: 0.4968; train_acc: 0.7979; test_acc: 0.6915\n",
      "epoch: 39 loss: 0.5203; train_acc: 0.8298; test_acc: 0.7021\n",
      "epoch: 40 loss: 0.4499; train_acc: 0.7979; test_acc: 0.6915\n",
      "epoch: 41 loss: 0.4768; train_acc: 0.7979; test_acc: 0.7021\n",
      "epoch: 42 loss: 0.5692; train_acc: 0.8404; test_acc: 0.7021\n",
      "epoch: 43 loss: 0.5298; train_acc: 0.7979; test_acc: 0.6915\n",
      "epoch: 44 loss: 0.5533; train_acc: 0.8298; test_acc: 0.7021\n",
      "epoch: 45 loss: 0.5215; train_acc: 0.8085; test_acc: 0.6809\n",
      "epoch: 46 loss: 0.6178; train_acc: 0.7979; test_acc: 0.6915\n",
      "epoch: 47 loss: 0.5057; train_acc: 0.7979; test_acc: 0.7021\n",
      "epoch: 48 loss: 0.4685; train_acc: 0.8298; test_acc: 0.7021\n",
      "epoch: 49 loss: 0.4854; train_acc: 0.7979; test_acc: 0.7021\n",
      "epoch: 50 loss: 0.5312; train_acc: 0.8298; test_acc: 0.6915\n",
      "epoch: 51 loss: 0.4540; train_acc: 0.8404; test_acc: 0.7021\n",
      "epoch: 52 loss: 0.6119; train_acc: 0.8085; test_acc: 0.7021\n",
      "epoch: 53 loss: 0.5313; train_acc: 0.8191; test_acc: 0.7021\n",
      "epoch: 54 loss: 0.5448; train_acc: 0.8404; test_acc: 0.7021\n",
      "epoch: 55 loss: 0.5026; train_acc: 0.7979; test_acc: 0.6915\n",
      "epoch: 56 loss: 0.4555; train_acc: 0.8404; test_acc: 0.7021\n",
      "epoch: 57 loss: 0.5610; train_acc: 0.7979; test_acc: 0.6915\n",
      "epoch: 58 loss: 0.5415; train_acc: 0.8085; test_acc: 0.7021\n",
      "epoch: 59 loss: 0.6086; train_acc: 0.8085; test_acc: 0.7021\n",
      "epoch: 60 loss: 0.4683; train_acc: 0.7979; test_acc: 0.6915\n",
      "epoch: 61 loss: 0.5339; train_acc: 0.8085; test_acc: 0.7021\n",
      "epoch: 62 loss: 0.4946; train_acc: 0.8404; test_acc: 0.7021\n",
      "epoch: 63 loss: 0.4956; train_acc: 0.8085; test_acc: 0.7021\n",
      "epoch: 64 loss: 0.5190; train_acc: 0.7979; test_acc: 0.6915\n",
      "epoch: 65 loss: 0.4989; train_acc: 0.8085; test_acc: 0.7021\n",
      "epoch: 66 loss: 0.4249; train_acc: 0.8404; test_acc: 0.7021\n",
      "epoch: 67 loss: 0.5049; train_acc: 0.8085; test_acc: 0.6809\n",
      "epoch: 68 loss: 0.4741; train_acc: 0.8404; test_acc: 0.7021\n",
      "epoch: 69 loss: 0.4860; train_acc: 0.7979; test_acc: 0.6809\n",
      "epoch: 70 loss: 0.6257; train_acc: 0.8085; test_acc: 0.6915\n",
      "epoch: 71 loss: 0.4362; train_acc: 0.8404; test_acc: 0.7021\n",
      "epoch: 72 loss: 0.5108; train_acc: 0.8085; test_acc: 0.6915\n",
      "epoch: 73 loss: 0.4639; train_acc: 0.8085; test_acc: 0.7021\n",
      "epoch: 74 loss: 0.4920; train_acc: 0.8404; test_acc: 0.7021\n",
      "epoch: 75 loss: 0.5167; train_acc: 0.8298; test_acc: 0.6915\n",
      "epoch: 76 loss: 0.4796; train_acc: 0.8085; test_acc: 0.6915\n",
      "epoch: 77 loss: 0.4635; train_acc: 0.8191; test_acc: 0.6915\n",
      "epoch: 78 loss: 0.4044; train_acc: 0.8404; test_acc: 0.7021\n",
      "epoch: 79 loss: 0.4977; train_acc: 0.8085; test_acc: 0.7021\n",
      "epoch: 80 loss: 0.4552; train_acc: 0.8085; test_acc: 0.6915\n",
      "epoch: 81 loss: 0.4944; train_acc: 0.8085; test_acc: 0.6915\n",
      "epoch: 82 loss: 0.4584; train_acc: 0.8191; test_acc: 0.6809\n",
      "epoch: 83 loss: 0.4656; train_acc: 0.7979; test_acc: 0.6915\n",
      "epoch: 84 loss: 0.5319; train_acc: 0.8085; test_acc: 0.7021\n",
      "epoch: 85 loss: 0.4293; train_acc: 0.8404; test_acc: 0.7021\n",
      "epoch: 86 loss: 0.5198; train_acc: 0.8404; test_acc: 0.7021\n",
      "epoch: 87 loss: 0.4600; train_acc: 0.7979; test_acc: 0.6809\n",
      "epoch: 88 loss: 0.4988; train_acc: 0.8085; test_acc: 0.7021\n",
      "epoch: 89 loss: 0.4820; train_acc: 0.8085; test_acc: 0.6915\n",
      "epoch: 90 loss: 0.5101; train_acc: 0.8085; test_acc: 0.7021\n",
      "epoch: 91 loss: 0.4895; train_acc: 0.8085; test_acc: 0.6915\n",
      "epoch: 92 loss: 0.4841; train_acc: 0.8298; test_acc: 0.7021\n",
      "epoch: 93 loss: 0.4132; train_acc: 0.8404; test_acc: 0.7021\n",
      "epoch: 94 loss: 0.4758; train_acc: 0.8085; test_acc: 0.7021\n",
      "epoch: 95 loss: 0.4887; train_acc: 0.8085; test_acc: 0.6915\n",
      "epoch: 96 loss: 0.3935; train_acc: 0.8191; test_acc: 0.6809\n",
      "epoch: 97 loss: 0.4395; train_acc: 0.8404; test_acc: 0.7021\n",
      "epoch: 98 loss: 0.4345; train_acc: 0.8085; test_acc: 0.7021\n",
      "epoch: 99 loss: 0.5184; train_acc: 0.8404; test_acc: 0.7021\n",
      "epoch: 100 loss: 0.4052; train_acc: 0.8298; test_acc: 0.6915\n"
     ]
    }
   ],
   "source": [
    "losses = []\n",
    "train_accs = []\n",
    "test_accs = []\n",
    "\n",
    "for epoch in range(0, 100):\n",
    "    h, loss, y = train(model, g_train_loader, gc_train_loader, classification=True)\n",
    "    train_acc, z = test(model, g_train_loader, gc_train_loader)\n",
    "    test_acc, z = test(model, g_test_loader, gc_test_loader)\n",
    "    \n",
    "    losses.append(round(loss.item(), 4))\n",
    "    train_accs.append(round(train_acc, 4))\n",
    "    test_accs.append(round(test_acc, 4))\n",
    "    \n",
    "    # print(f\"epoch: {epoch+1} training loss: {loss:.4f}\")\n",
    "    print(f\"epoch: {epoch+1} loss: {loss:.4f}; train_acc: {train_acc:.4}; test_acc: {test_acc:.4}\")\n",
    "    # break\n"
   ]
  },
  {
   "cell_type": "markdown",
   "metadata": {},
   "source": [
    "1st Result (embeddings)"
   ]
  },
  {
   "cell_type": "code",
   "execution_count": 201,
   "metadata": {},
   "outputs": [],
   "source": [
    "import matplotlib.pyplot as plt"
   ]
  },
  {
   "cell_type": "code",
   "execution_count": 242,
   "metadata": {},
   "outputs": [
    {
     "data": {
      "image/png": "[encoded data removed]",
      "text/plain": [
       "<Figure size 640x480 with 1 Axes>"
      ]
     },
     "metadata": {},
     "output_type": "display_data"
    }
   ],
   "source": [
    "fig, ax = plt.subplots()\n",
    "ax.plot(train_accs, label='train')\n",
    "ax.plot(test_accs, label='test')\n",
    "ax.set_xlabel('epoch')\n",
    "ax.set_ylabel('accuracy')\n",
    "ax.legend()\n",
    "\n",
    "plt.xlim([0, 100])\n",
    "plt.ylim([0, 1.0])\n",
    "\n",
    "plt.title('GCN + SupCon + Complementary Graph evaluation')\n",
    "plt.show()"
   ]
  },
  {
   "cell_type": "code",
   "execution_count": 214,
   "metadata": {},
   "outputs": [
    {
     "name": "stdout",
     "output_type": "stream",
     "text": [
      "average train accuracy 8.111\n",
      "average test accuracy 6.919\n"
     ]
    }
   ],
   "source": [
    "print(\"average train accuracy\", round(sum(train_accs)/len(train_accs), 4) * 10)\n",
    "print(\"average test accuracy\", round(sum(test_accs)/len(test_accs), 4) * 10)"
   ]
  },
  {
   "cell_type": "markdown",
   "metadata": {},
   "source": [
    "other"
   ]
  },
  {
   "cell_type": "code",
   "execution_count": 227,
   "metadata": {},
   "outputs": [],
   "source": [
    "classes = {}\n",
    "for cls in dataset.y:\n",
    "    if cls.item() not in classes:\n",
    "        classes[cls.item()] = 1\n",
    "    else:\n",
    "        classes[cls.item()] = classes[cls.item()] + 1 "
   ]
  },
  {
   "cell_type": "code",
   "execution_count": 228,
   "metadata": {},
   "outputs": [
    {
     "data": {
      "text/plain": [
       "{1: 125, 0: 63}"
      ]
     },
     "execution_count": 228,
     "metadata": {},
     "output_type": "execute_result"
    }
   ],
   "source": [
    "classes"
   ]
  },
  {
   "cell_type": "code",
   "execution_count": 232,
   "metadata": {},
   "outputs": [
    {
     "data": {
      "text/plain": [
       "0.6648936170212766"
      ]
     },
     "execution_count": 232,
     "metadata": {},
     "output_type": "execute_result"
    }
   ],
   "source": [
    "classes[1]/(classes[1]+classes[0])"
   ]
  }
 ],
 "metadata": {
  "kernelspec": {
   "display_name": "Python 3",
   "language": "python",
   "name": "python3"
  },
  "language_info": {
   "codemirror_mode": {
    "name": "ipython",
    "version": 3
   },
   "file_extension": ".py",
   "mimetype": "text/x-python",
   "name": "python",
   "nbconvert_exporter": "python",
   "pygments_lexer": "ipython3",
   "version": "3.11.4"
  }
 },
 "nbformat": 4,
 "nbformat_minor": 4
}
