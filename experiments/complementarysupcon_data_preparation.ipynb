{
 "cells": [
  {
   "cell_type": "code",
   "execution_count": 1,
   "metadata": {},
   "outputs": [],
   "source": [
    "import torch\n",
    "import torch_geometric\n",
    "\n",
    "from torch_geometric.datasets import TUDataset\n",
    "from torch_geometric.loader import DataLoader"
   ]
  },
  {
   "cell_type": "code",
   "execution_count": 2,
   "metadata": {},
   "outputs": [],
   "source": [
    "import matplotlib as plt\n",
    "import numpy as np\n",
    "import networkx\n",
    "from torch_geometric.data import Data\n",
    "from sklearn.manifold import TSNE"
   ]
  },
  {
   "cell_type": "code",
   "execution_count": 3,
   "metadata": {},
   "outputs": [],
   "source": [
    "from torch_geometric.utils import to_dense_adj"
   ]
  },
  {
   "cell_type": "markdown",
   "metadata": {},
   "source": [
    "## Data Preparation on MUTAG"
   ]
  },
  {
   "cell_type": "code",
   "execution_count": 4,
   "metadata": {},
   "outputs": [],
   "source": [
    "dataset = TUDataset(root=\"../dataset\", name='MUTAG')"
   ]
  },
  {
   "cell_type": "code",
   "execution_count": 5,
   "metadata": {},
   "outputs": [
    {
     "name": "stdout",
     "output_type": "stream",
     "text": [
      "Original:\n",
      " tensor([[[0., 1., 0., 0., 0., 0., 0., 0., 0., 1., 0., 0., 0.],\n",
      "         [1., 0., 1., 0., 0., 0., 0., 0., 0., 0., 0., 0., 0.],\n",
      "         [0., 1., 0., 1., 0., 0., 0., 1., 0., 0., 0., 0., 0.],\n",
      "         [0., 0., 1., 0., 1., 0., 0., 0., 1., 0., 0., 0., 0.],\n",
      "         [0., 0., 0., 1., 0., 1., 0., 0., 0., 0., 0., 0., 0.],\n",
      "         [0., 0., 0., 0., 1., 0., 1., 0., 0., 0., 0., 0., 0.],\n",
      "         [0., 0., 0., 0., 0., 1., 0., 1., 0., 0., 0., 0., 0.],\n",
      "         [0., 0., 1., 0., 0., 0., 1., 0., 0., 0., 0., 0., 0.],\n",
      "         [0., 0., 0., 1., 0., 0., 0., 0., 0., 1., 1., 0., 0.],\n",
      "         [1., 0., 0., 0., 0., 0., 0., 0., 1., 0., 0., 0., 0.],\n",
      "         [0., 0., 0., 0., 0., 0., 0., 0., 1., 0., 0., 1., 1.],\n",
      "         [0., 0., 0., 0., 0., 0., 0., 0., 0., 0., 1., 0., 0.],\n",
      "         [0., 0., 0., 0., 0., 0., 0., 0., 0., 0., 1., 0., 0.]]])\n",
      "Complementary:\n",
      " tensor([[[0., 0., 1., 1., 1., 1., 1., 1., 1., 0., 1., 1., 1.],\n",
      "         [0., 0., 0., 1., 1., 1., 1., 1., 1., 1., 1., 1., 1.],\n",
      "         [1., 0., 0., 0., 1., 1., 1., 0., 1., 1., 1., 1., 1.],\n",
      "         [1., 1., 0., 0., 0., 1., 1., 1., 0., 1., 1., 1., 1.],\n",
      "         [1., 1., 1., 0., 0., 0., 1., 1., 1., 1., 1., 1., 1.],\n",
      "         [1., 1., 1., 1., 0., 0., 0., 1., 1., 1., 1., 1., 1.],\n",
      "         [1., 1., 1., 1., 1., 0., 0., 0., 1., 1., 1., 1., 1.],\n",
      "         [1., 1., 0., 1., 1., 1., 0., 0., 1., 1., 1., 1., 1.],\n",
      "         [1., 1., 1., 0., 1., 1., 1., 1., 0., 0., 0., 1., 1.],\n",
      "         [0., 1., 1., 1., 1., 1., 1., 1., 0., 0., 1., 1., 1.],\n",
      "         [1., 1., 1., 1., 1., 1., 1., 1., 0., 1., 0., 0., 0.],\n",
      "         [1., 1., 1., 1., 1., 1., 1., 1., 1., 1., 0., 0., 1.],\n",
      "         [1., 1., 1., 1., 1., 1., 1., 1., 1., 1., 0., 1., 0.]]])\n"
     ]
    }
   ],
   "source": [
    "adj_o = to_dense_adj(dataset[2].edge_index)\n",
    "adj_c = abs(to_dense_adj(dataset[2].edge_index) - 1) - torch.eye(len(dataset[2].x))\n",
    "\n",
    "print(\"Original:\\n\", adj_o)\n",
    "print(\"Complementary:\\n\", (adj_c))"
   ]
  },
  {
   "cell_type": "code",
   "execution_count": 6,
   "metadata": {},
   "outputs": [],
   "source": [
    "def toComplementary(g):\n",
    "    c = abs(to_dense_adj(g.edge_index) - 1) - torch.eye(len(g.x))\n",
    "    c = c[0].nonzero().t().contiguous()\n",
    "    return c"
   ]
  },
  {
   "cell_type": "code",
   "execution_count": 7,
   "metadata": {},
   "outputs": [],
   "source": [
    "dataset_c = []\n",
    "for graph in dataset:\n",
    "    edge_c = toComplementary(graph)\n",
    "    dataset_c.append(Data(edge_index=edge_c, x=graph.x, y=graph.y))"
   ]
  },
  {
   "cell_type": "code",
   "execution_count": 8,
   "metadata": {},
   "outputs": [
    {
     "data": {
      "text/plain": [
       "tensor([1, 0, 0, 1, 0, 1, 0, 1, 0, 1, 1, 1, 1, 0, 1, 1, 0, 1, 0, 1, 1, 1, 1, 1,\n",
       "        1, 1, 1, 1, 1, 1, 1, 1, 1, 0, 1, 0, 1, 0, 0, 0, 1, 0, 1, 1, 1, 1, 1, 1,\n",
       "        1, 1, 1, 1, 1, 1, 0, 1, 1, 1, 1, 1, 1, 0, 1, 1, 0, 0, 1, 1, 1, 0, 1, 1,\n",
       "        0, 1, 1, 0, 0, 0, 1, 1, 1, 1, 1, 0, 1, 1, 1, 0, 0, 1, 1, 1, 1, 1, 1, 1,\n",
       "        1, 0, 1, 0, 1, 1, 1, 1, 1, 1, 1, 1, 1, 0, 0, 1, 0, 0, 1, 0, 1, 1, 0, 0,\n",
       "        1, 1, 0, 0, 1, 1, 1, 1, 0, 0, 0, 0, 0, 1, 0, 1, 1, 0, 0, 1, 0, 0, 0, 0,\n",
       "        1, 1, 0, 1, 1, 0, 1, 1, 1, 0, 0, 0, 1, 1, 1, 0, 1, 1, 1, 1, 1, 1, 1, 0,\n",
       "        1, 1, 1, 1, 1, 1, 0, 1, 1, 1, 0, 1, 0, 0, 1, 1, 0, 0, 1, 0])"
      ]
     },
     "execution_count": 8,
     "metadata": {},
     "output_type": "execute_result"
    }
   ],
   "source": [
    "dataset.y"
   ]
  },
  {
   "cell_type": "code",
   "execution_count": 9,
   "metadata": {},
   "outputs": [
    {
     "name": "stdout",
     "output_type": "stream",
     "text": [
      "[1, 0, 0, 1, 0, 1, 0, 1, 0, 1, 1, 1, 1, 0, 1, 1, 0, 1, 0, 1, 1, 1, 1, 1, 1, 1, 1, 1, 1, 1, 1, 1, 1, 0, 1, 0, 1, 0, 0, 0, 1, 0, 1, 1, 1, 1, 1, 1, 1, 1, 1, 1, 1, 1, 0, 1, 1, 1, 1, 1, 1, 0, 1, 1, 0, 0, 1, 1, 1, 0, 1, 1, 0, 1, 1, 0, 0, 0, 1, 1, 1, 1, 1, 0, 1, 1, 1, 0, 0, 1, 1, 1, 1, 1, 1, 1, 1, 0, 1, 0, 1, 1, 1, 1, 1, 1, 1, 1, 1, 0, 0, 1, 0, 0, 1, 0, 1, 1, 0, 0, 1, 1, 0, 0, 1, 1, 1, 1, 0, 0, 0, 0, 0, 1, 0, 1, 1, 0, 0, 1, 0, 0, 0, 0, 1, 1, 0, 1, 1, 0, 1, 1, 1, 0, 0, 0, 1, 1, 1, 0, 1, 1, 1, 1, 1, 1, 1, 0, 1, 1, 1, 1, 1, 1, 0, 1, 1, 1, 0, 1, 0, 0, 1, 1, 0, 0, 1, 0]\n"
     ]
    }
   ],
   "source": [
    "ys = []\n",
    "for d in dataset_c:\n",
    "    ys.append(d.y.item())\n",
    "print(ys)"
   ]
  },
  {
   "cell_type": "code",
   "execution_count": 10,
   "metadata": {},
   "outputs": [],
   "source": [
    "# Train test split\n",
    "ratio = 0.5\n",
    "total = len(dataset)\n",
    "\n",
    "# original graph\n",
    "g_train = dataset[:round(ratio*total)]\n",
    "g_test = dataset[round(ratio*total):]\n",
    "\n",
    "# complementary graph\n",
    "gc_train = dataset_c[:round(ratio*total)]\n",
    "gc_test = dataset_c[round(ratio*total):]"
   ]
  },
  {
   "cell_type": "code",
   "execution_count": 11,
   "metadata": {},
   "outputs": [
    {
     "name": "stdout",
     "output_type": "stream",
     "text": [
      "g_train MUTAG(94)\n",
      "g_test MUTAG(94)\n",
      "gc_train 94\n",
      "gc_test 94\n"
     ]
    }
   ],
   "source": [
    "print(f'g_train {g_train}')\n",
    "print(f'g_test {g_test}')\n",
    "print(f'gc_train {len(gc_train)}')\n",
    "print(f'gc_test {len(gc_test)}')"
   ]
  },
  {
   "cell_type": "code",
   "execution_count": 12,
   "metadata": {},
   "outputs": [
    {
     "name": "stdout",
     "output_type": "stream",
     "text": [
      "[1, 0, 0, 1, 0, 1, 0, 1, 0, 1, 1, 1, 1, 0, 1, 1, 0, 1, 0, 1, 1, 1, 1, 1, 1, 1, 1, 1, 1, 1, 1, 1, 1, 0, 1, 0, 1, 0, 0, 0, 1, 0, 1, 1, 1, 1, 1, 1, 1, 1, 1, 1, 1, 1, 0, 1, 1, 1, 1, 1, 1, 0, 1, 1, 0, 0, 1, 1, 1, 0, 1, 1, 0, 1, 1, 0, 0, 0, 1, 1, 1, 1, 1, 0, 1, 1, 1, 0, 0, 1, 1, 1, 1, 1]\n"
     ]
    }
   ],
   "source": [
    "print([x.y.item() for x in g_train])"
   ]
  },
  {
   "cell_type": "code",
   "execution_count": 13,
   "metadata": {},
   "outputs": [
    {
     "name": "stdout",
     "output_type": "stream",
     "text": [
      "[1, 0, 0, 1, 0, 1, 0, 1, 0, 1, 1, 1, 1, 0, 1, 1, 0, 1, 0, 1, 1, 1, 1, 1, 1, 1, 1, 1, 1, 1, 1, 1, 1, 0, 1, 0, 1, 0, 0, 0, 1, 0, 1, 1, 1, 1, 1, 1, 1, 1, 1, 1, 1, 1, 0, 1, 1, 1, 1, 1, 1, 0, 1, 1, 0, 0, 1, 1, 1, 0, 1, 1, 0, 1, 1, 0, 0, 0, 1, 1, 1, 1, 1, 0, 1, 1, 1, 0, 0, 1, 1, 1, 1, 1]\n"
     ]
    }
   ],
   "source": [
    "print([x.y.item() for x in gc_train])"
   ]
  },
  {
   "cell_type": "code",
   "execution_count": 14,
   "metadata": {},
   "outputs": [],
   "source": [
    "bs = 32\n",
    "seed = 12345\n",
    "\n",
    "g_train_loader = DataLoader(g_train, batch_size=bs, shuffle=False)\n",
    "g_test_loader = DataLoader(g_test, batch_size=bs, shuffle=False)\n",
    "\n",
    "gc_train_loader = DataLoader(gc_train, batch_size=bs, shuffle=False)\n",
    "gc_test_loader = DataLoader(gc_test, batch_size=bs, shuffle=False)"
   ]
  },
  {
   "cell_type": "code",
   "execution_count": 15,
   "metadata": {},
   "outputs": [
    {
     "name": "stdout",
     "output_type": "stream",
     "text": [
      "tensor([1, 0, 0, 1, 0, 1, 0, 1, 0, 1, 1, 1, 1, 0, 1, 1, 0, 1, 0, 1, 1, 1, 1, 1,\n",
      "        1, 1, 1, 1, 1, 1, 1, 1])\n",
      "tensor([1, 0, 1, 0, 1, 0, 0, 0, 1, 0, 1, 1, 1, 1, 1, 1, 1, 1, 1, 1, 1, 1, 0, 1,\n",
      "        1, 1, 1, 1, 1, 0, 1, 1])\n",
      "tensor([0, 0, 1, 1, 1, 0, 1, 1, 0, 1, 1, 0, 0, 0, 1, 1, 1, 1, 1, 0, 1, 1, 1, 0,\n",
      "        0, 1, 1, 1, 1, 1])\n"
     ]
    }
   ],
   "source": [
    "for g in g_train_loader:\n",
    "    print(g.y)\n",
    "#     break"
   ]
  },
  {
   "cell_type": "code",
   "execution_count": 16,
   "metadata": {},
   "outputs": [
    {
     "name": "stdout",
     "output_type": "stream",
     "text": [
      "tensor([1, 1, 1, 0, 1, 0, 1, 1, 1, 1, 1, 1, 1, 1, 1, 0, 0, 1, 0, 0, 1, 0, 1, 1,\n",
      "        0, 0, 1, 1, 0, 0, 1, 1])\n"
     ]
    }
   ],
   "source": [
    "for g in g_test_loader:\n",
    "    print(g.y)\n",
    "    break"
   ]
  },
  {
   "cell_type": "code",
   "execution_count": 17,
   "metadata": {},
   "outputs": [
    {
     "name": "stdout",
     "output_type": "stream",
     "text": [
      "tensor([1, 0, 0, 1, 0, 1, 0, 1, 0, 1, 1, 1, 1, 0, 1, 1, 0, 1, 0, 1, 1, 1, 1, 1,\n",
      "        1, 1, 1, 1, 1, 1, 1, 1])\n",
      "tensor([1, 0, 1, 0, 1, 0, 0, 0, 1, 0, 1, 1, 1, 1, 1, 1, 1, 1, 1, 1, 1, 1, 0, 1,\n",
      "        1, 1, 1, 1, 1, 0, 1, 1])\n",
      "tensor([0, 0, 1, 1, 1, 0, 1, 1, 0, 1, 1, 0, 0, 0, 1, 1, 1, 1, 1, 0, 1, 1, 1, 0,\n",
      "        0, 1, 1, 1, 1, 1])\n"
     ]
    }
   ],
   "source": [
    "for g in gc_train_loader:\n",
    "    print(g.y)\n",
    "#     break"
   ]
  },
  {
   "cell_type": "code",
   "execution_count": 18,
   "metadata": {},
   "outputs": [
    {
     "name": "stdout",
     "output_type": "stream",
     "text": [
      "tensor([1, 1, 1, 0, 1, 0, 1, 1, 1, 1, 1, 1, 1, 1, 1, 0, 0, 1, 0, 0, 1, 0, 1, 1,\n",
      "        0, 0, 1, 1, 0, 0, 1, 1])\n"
     ]
    }
   ],
   "source": [
    "for g in gc_test_loader:\n",
    "    print(g.y)\n",
    "    break"
   ]
  },
  {
   "cell_type": "markdown",
   "metadata": {},
   "source": [
    "## Building model"
   ]
  },
  {
   "cell_type": "code",
   "execution_count": 19,
   "metadata": {},
   "outputs": [],
   "source": [
    "from torch_geometric.nn import GCNConv\n",
    "from torch.nn import Linear\n",
    "from torch.nn import Linear\n",
    "from torch_geometric.nn import global_mean_pool\n",
    "from torch_geometric.nn import global_max_pool\n",
    "from torch_geometric.nn import global_add_pool\n",
    "import torch.nn.functional as F"
   ]
  },
  {
   "cell_type": "code",
   "execution_count": 186,
   "metadata": {},
   "outputs": [],
   "source": [
    "class ComplementarySupCon(torch.nn.Module):\n",
    "    def __init__(self, dataset, hidden_channels):\n",
    "        super(ComplementarySupCon, self).__init__()\n",
    "        \n",
    "        # weight seed\n",
    "        torch.manual_seed(42)\n",
    "        self.conv1_o = GCNConv(dataset.num_node_features, hidden_channels)\n",
    "        self.conv2_o = GCNConv(hidden_channels, hidden_channels)\n",
    "        self.conv3_o = GCNConv(hidden_channels, hidden_channels)\n",
    "        \n",
    "        self.conv1_c = GCNConv(dataset.num_node_features, hidden_channels)\n",
    "        self.conv2_c = GCNConv(hidden_channels, hidden_channels)\n",
    "        self.conv3_c = GCNConv(hidden_channels, hidden_channels)\n",
    "        \n",
    "        # classification layer\n",
    "        self.lin1 = Linear(hidden_channels, hidden_channels)\n",
    "        self.lin2 = Linear(hidden_channels, dataset.num_classes)\n",
    "\n",
    "    def forward(self, x_o, x_c, edge_index_o, edge_index_c, batch_o, classification = False):\n",
    "        x_o = self.conv1_o(x_o, edge_index_o)\n",
    "        x_o = x_o.relu()\n",
    "        x_o = self.conv2_o(x_o, edge_index_o)\n",
    "        x_o = x_o.relu()\n",
    "        x_o = self.conv3_o(x_o, edge_index_o)\n",
    "\n",
    "        x_c = self.conv1_c(x_c, edge_index_c)\n",
    "        x_c = x_c.relu()\n",
    "        x_c = self.conv2_c(x_c, edge_index_c)\n",
    "        x_c = x_c.relu()\n",
    "        x_c = self.conv2_c(x_c, edge_index_c)\n",
    "\n",
    "\n",
    "        h = x_o + x_c\n",
    "        \n",
    "        h = global_add_pool(h, batch_o)\n",
    "        \n",
    "        if (classification):\n",
    "            y = F.dropout(h, p=0.5, training=self.training)\n",
    "            y = self.lin2(y)\n",
    "            # y.relu()\n",
    "            # y = self.lin2(y)\n",
    "            \n",
    "            return h, y\n",
    "            \n",
    "        return h, x_o, x_c"
   ]
  },
  {
   "cell_type": "code",
   "execution_count": 187,
   "metadata": {},
   "outputs": [],
   "source": [
    "model = ComplementarySupCon(dataset, 64)"
   ]
  },
  {
   "cell_type": "code",
   "execution_count": 188,
   "metadata": {},
   "outputs": [
    {
     "data": {
      "text/plain": [
       "ComplementarySupCon(\n",
       "  (conv1_o): GCNConv(7, 64)\n",
       "  (conv2_o): GCNConv(64, 64)\n",
       "  (conv3_o): GCNConv(64, 64)\n",
       "  (conv1_c): GCNConv(7, 64)\n",
       "  (conv2_c): GCNConv(64, 64)\n",
       "  (conv3_c): GCNConv(64, 64)\n",
       "  (lin1): Linear(in_features=64, out_features=64, bias=True)\n",
       "  (lin2): Linear(in_features=64, out_features=2, bias=True)\n",
       ")"
      ]
     },
     "execution_count": 188,
     "metadata": {},
     "output_type": "execute_result"
    }
   ],
   "source": [
    "model"
   ]
  },
  {
   "cell_type": "markdown",
   "metadata": {},
   "source": [
    "SupCon Loss"
   ]
  },
  {
   "cell_type": "code",
   "execution_count": 189,
   "metadata": {},
   "outputs": [],
   "source": [
    "# Based on Khosla 2020 - Supervised contrastive learning\n",
    "\n",
    "def supervisedContrastiveLoss(embeddings, labels, tau):\n",
    "    loss = 0\n",
    "    outer = 0\n",
    "    inner = 0\n",
    "    denom = 0\n",
    "\n",
    "    # outer\n",
    "    # z_i = embeddings of graph i\n",
    "    # z_i = label of graph i\n",
    "    for out_index, (z_i, y_i) in enumerate(zip(embeddings, labels)):\n",
    "        Pi = torch.sum(labels == y_i)\n",
    "        # loss = z_i\n",
    "        # loop to all positive pair with z_i and skip z_i\n",
    "        for in_index, (zp_i, lp_i) in enumerate(zip(embeddings, labels)):\n",
    "            if lp_i != y_i or out_index == in_index:\n",
    "                continue\n",
    "            num = torch.exp(torch.matmul(z_i, zp_i)/tau)\n",
    "            # calculate denumerator\n",
    "            for _, za_i in enumerate(embeddings):\n",
    "                # only take zi != za_i\n",
    "                if out_index == in_index:\n",
    "                    continue\n",
    "                denom = denom + torch.exp(torch.matmul(z_i, za_i)/tau)\n",
    "                \n",
    "            inner = inner + torch.log(num/denom)\n",
    "        \n",
    "        outer = outer + (-1 / Pi * inner)\n",
    "\n",
    "        # reset inner denom and inner\n",
    "        denom, inner = 0, 0\n",
    "        \n",
    "    \n",
    "    loss = outer            \n",
    "    # print(loss)\n",
    "    return outer, embeddings"
   ]
  },
  {
   "cell_type": "code",
   "execution_count": 190,
   "metadata": {},
   "outputs": [],
   "source": [
    "h, x_o, x_c = None, None, None\n",
    "loss = None\n",
    "y = None\n",
    "for index, (g_o, g_c) in enumerate(zip(g_train_loader, gc_train_loader)):\n",
    "    h, x_o, x_c = (model(g_o.x, g_c.x, g_o.edge_index, g_c.edge_index, g_o.batch))\n",
    "    loss, y = supervisedContrastiveLoss(h, g_o.y, 100)\n",
    "    # break"
   ]
  },
  {
   "cell_type": "code",
   "execution_count": 191,
   "metadata": {},
   "outputs": [],
   "source": [
    "# torch.autograd.set_detect_anomaly(False)"
   ]
  },
  {
   "cell_type": "code",
   "execution_count": 192,
   "metadata": {},
   "outputs": [],
   "source": [
    "def train(model, g_loader, gc_loader, classification = False):\n",
    "    optimizer = torch.optim.Adam(model.parameters(), lr=0.01)\n",
    "    \n",
    "    model.train()\n",
    "    classification = classification\n",
    "    criterion = torch.nn.CrossEntropyLoss() if classification else None\n",
    "    \n",
    "    for _, (g_o, g_c) in enumerate(zip(g_loader, gc_loader)):\n",
    "        if classification: # classification\n",
    "            # last parameter is classification mode\n",
    "            h, y = model(g_o.x, g_c.x, g_o.edge_index, g_c.edge_index, g_o.batch, True)\n",
    "            # print(y.size(), g_o.y)\n",
    "            loss = criterion(y, g_o.y)\n",
    "            loss.backward()\n",
    "        else: # pretrain model\n",
    "            h, x_o, x_c = model(g_o.x, g_c.x, g_o.edge_index, g_c.edge_index, g_o.batch)\n",
    "            loss, _ = supervisedContrastiveLoss(h, g_o.y, 32)\n",
    "            loss.backward()\n",
    "        optimizer.step()\n",
    "        optimizer.zero_grad()\n",
    "        \n",
    "    if classification:\n",
    "        return h, loss, y \n",
    "    else:\n",
    "        return h, loss\n",
    "\n",
    "@torch.no_grad()\n",
    "def test(model, g_loader, gc_loader):\n",
    "    model.eval()\n",
    "    correct = 0\n",
    "    for _, (g_o, g_c) in enumerate(zip(g_loader, gc_loader)):\n",
    "        z, y = model(g_o.x, g_c.x, g_o.edge_index, g_c.edge_index, g_o.batch, True)\n",
    "        pred = y.argmax(dim=1)\n",
    "        correct += int((pred == g_o.y).sum())\n",
    "\n",
    "    return correct/len(g_loader.dataset), z"
   ]
  },
  {
   "cell_type": "markdown",
   "metadata": {},
   "source": [
    "Pretrain model"
   ]
  },
  {
   "cell_type": "code",
   "execution_count": 193,
   "metadata": {},
   "outputs": [
    {
     "name": "stdout",
     "output_type": "stream",
     "text": [
      "epoch: 1 training loss: 161.6640\n",
      "epoch: 2 training loss: 156.5426\n",
      "epoch: 3 training loss: 147.9382\n",
      "epoch: 4 training loss: 147.1410\n",
      "epoch: 5 training loss: 147.1851\n",
      "epoch: 6 training loss: 147.1852\n",
      "epoch: 7 training loss: 147.1551\n",
      "epoch: 8 training loss: 147.1588\n",
      "epoch: 9 training loss: 147.1602\n",
      "epoch: 10 training loss: 147.1184\n",
      "epoch: 11 training loss: 147.1413\n",
      "epoch: 12 training loss: 147.1540\n",
      "epoch: 13 training loss: 147.1621\n",
      "epoch: 14 training loss: 147.1340\n",
      "epoch: 15 training loss: 147.1867\n",
      "epoch: 16 training loss: 147.1607\n",
      "epoch: 17 training loss: 147.1237\n",
      "epoch: 18 training loss: 147.1258\n",
      "epoch: 19 training loss: 147.0938\n",
      "epoch: 20 training loss: 147.0182\n",
      "epoch: 21 training loss: 147.0282\n",
      "epoch: 22 training loss: 146.9368\n",
      "epoch: 23 training loss: 147.0302\n",
      "epoch: 24 training loss: 146.7238\n",
      "epoch: 25 training loss: 147.4445\n",
      "epoch: 26 training loss: 146.9435\n",
      "epoch: 27 training loss: 146.8771\n",
      "epoch: 28 training loss: 146.8087\n",
      "epoch: 29 training loss: 146.7990\n",
      "epoch: 30 training loss: 147.5001\n",
      "epoch: 31 training loss: 146.9482\n",
      "epoch: 32 training loss: 146.9766\n",
      "epoch: 33 training loss: 146.5559\n",
      "epoch: 34 training loss: 147.9781\n",
      "epoch: 35 training loss: 146.6990\n",
      "epoch: 36 training loss: 147.0648\n",
      "epoch: 37 training loss: 148.1437\n",
      "epoch: 38 training loss: 147.6850\n",
      "epoch: 39 training loss: 146.9855\n",
      "epoch: 40 training loss: 146.6334\n",
      "epoch: 41 training loss: 146.7486\n",
      "epoch: 42 training loss: 147.0202\n",
      "epoch: 43 training loss: 146.6389\n",
      "epoch: 44 training loss: 147.8679\n",
      "epoch: 45 training loss: 147.1033\n",
      "epoch: 46 training loss: 148.0643\n",
      "epoch: 47 training loss: 146.7979\n",
      "epoch: 48 training loss: 148.9013\n",
      "epoch: 49 training loss: 146.4892\n",
      "epoch: 50 training loss: 147.2177\n"
     ]
    }
   ],
   "source": [
    "model = ComplementarySupCon(dataset, 64)\n",
    "\n",
    "list_loss = []\n",
    "list_train_acc = []\n",
    "list_test_acc = []\n",
    "z = None\n",
    "# torch.autograd.set_detect_anomaly(True)\n",
    "for epoch in range(0, 50):\n",
    "    h, loss = train(model, g_train_loader, gc_train_loader)\n",
    "    print(f\"epoch: {epoch+1} training loss: {loss:.4f}\")\n",
    "    # print(f\"epoch: {epoch+1} training loss: {loss:.4f}; test loss: {loss_test:.4}\")\n",
    "    # break\n"
   ]
  },
  {
   "cell_type": "code",
   "execution_count": 194,
   "metadata": {},
   "outputs": [],
   "source": [
    "embeddings = [] \n",
    "labels = [] \n",
    "color_list = ['red', 'blue']\n",
    "color_list2 = ['white', 'gray']\n",
    "\n",
    "for _, (g_o, g_c) in enumerate(zip(g_train_loader, gc_train_loader)):\n",
    "    h, x_o, x_c = (model(g_o.x, g_c.x, g_o.edge_index, g_c.edge_index, g_o.batch))\n",
    "    for emb in h:\n",
    "        # print(emb.detach().numpy())|\n",
    "        embeddings.append(emb.detach().numpy())\n",
    "    labels += [color_list[y-1] for y in g_o.y]\n",
    "\n",
    "for _, (g_o, g_c) in enumerate(zip(g_test_loader, gc_test_loader)):\n",
    "    h, x_o, x_c = (model(g_o.x, g_c.x, g_o.edge_index, g_c.edge_index, g_o.batch))\n",
    "    for emb in h:\n",
    "        # print(emb.detach().numpy())|\n",
    "        embeddings.append(emb.detach().numpy())\n",
    "    labels += [color_list[y-1] for y in g_o.y]"
   ]
  },
  {
   "cell_type": "code",
   "execution_count": 195,
   "metadata": {},
   "outputs": [
    {
     "data": {
      "text/plain": [
       "array([[-0.06038104,  0.27327865, -0.2863886 , ..., -0.1449476 ,\n",
       "         0.0328261 ,  0.09892015],\n",
       "       [-0.60276896,  0.02389679, -0.2827059 , ..., -0.47818267,\n",
       "        -0.00666186,  1.5269356 ],\n",
       "       [-0.60738057,  0.01979841, -0.2839278 , ..., -0.48364395,\n",
       "        -0.00804713,  1.5462067 ],\n",
       "       ...,\n",
       "       [-0.57898957, -0.02137418, -0.26479858, ..., -0.46739453,\n",
       "        -0.01881554,  1.5641738 ],\n",
       "       [-0.00320464,  0.3476408 , -0.38063475, ..., -0.12328957,\n",
       "         0.03076834, -0.04761375],\n",
       "       [-0.639507  ,  0.11901614, -0.34278452, ..., -0.5153953 ,\n",
       "         0.00670383,  1.457835  ]], dtype=float32)"
      ]
     },
     "execution_count": 195,
     "metadata": {},
     "output_type": "execute_result"
    }
   ],
   "source": [
    "embeddings = np.array(embeddings)\n",
    "embeddings"
   ]
  },
  {
   "cell_type": "code",
   "execution_count": 196,
   "metadata": {},
   "outputs": [],
   "source": [
    "tsne = TSNE(n_components=3, random_state=42)\n",
    "X_tsne = tsne.fit_transform(embeddings)\n",
    "# tsne.kl_divergence_"
   ]
  },
  {
   "cell_type": "code",
   "execution_count": 197,
   "metadata": {},
   "outputs": [],
   "source": [
    "import plotly.express as px"
   ]
  },
  {
   "cell_type": "code",
   "execution_count": 198,
   "metadata": {},
   "outputs": [
    {
     "data": {
      "application/vnd.plotly.v1+json": {
       "config": {
        "plotlyServerURL": "https://plot.ly"
       },
       "data": [
        {
         "hovertemplate": "color=red<br>x=%{x}<br>y=%{y}<extra></extra>",
         "legendgroup": "red",
         "marker": {
          "color": "#636efa",
          "symbol": "circle"
         },
         "mode": "markers",
         "name": "red",
         "orientation": "v",
         "showlegend": true,
         "type": "scatter",
         "x": [
          -0.8420305252075195,
          -2.4963443279266357,
          -2.295781135559082,
          -4.499942779541016,
          -0.6586283445358276,
          -0.8756160140037537,
          3.854097604751587,
          -1.6440927982330322,
          -2.465773105621338,
          -1.5654844045639038,
          -2.4370555877685547,
          4.252499103546143,
          0.15017859637737274,
          -4.773637294769287,
          -5.687685012817383,
          -6.4740424156188965,
          -2.4562246799468994,
          -0.28015804290771484,
          -5.246402263641357,
          3.576789140701294,
          -3.261981964111328,
          -5.584416389465332,
          -1.5438705682754517,
          -3.206355571746826,
          6.139590740203857,
          4.5469183921813965,
          -0.6822931170463562,
          -1.0247434377670288,
          -2.3151919841766357,
          -0.8418444991111755,
          0.22291170060634613,
          -5.240765571594238,
          -1.2947391271591187,
          -0.6850605607032776,
          10.131270408630371,
          0.665276050567627,
          -3.5707640647888184,
          -3.5754613876342773,
          -0.10442669689655304,
          -5.14705228805542,
          9.477581977844238,
          -1.3846749067306519,
          -6.019269943237305,
          -5.700648307800293,
          -1.9570561647415161,
          -1.3835862874984741,
          -1.163221001625061,
          -2.5698907375335693,
          -4.031038284301758,
          -5.298251628875732,
          -0.11424708366394043,
          -3.5741357803344727,
          -0.04819491133093834,
          -5.050907135009766,
          0.1523081362247467,
          -4.239032745361328,
          -2.4523684978485107,
          0.21727600693702698,
          -2.0442328453063965,
          5.569179058074951,
          -5.333892345428467,
          -5.3552656173706055,
          -2.268339157104492,
          -5.379739761352539,
          -6.019356727600098,
          -2.345682382583618,
          -5.206096172332764,
          -2.4524383544921875,
          -1.9590562582015991,
          -2.044020175933838,
          -2.856935977935791,
          0.41814497113227844,
          -5.201933860778809,
          -3.8240630626678467,
          -2.228832244873047,
          -5.379650592803955,
          9.332565307617188,
          -3.878303289413452,
          -2.036165475845337,
          -2.3642079830169678,
          -3.8067829608917236,
          0.2975829839706421,
          1.2702010869979858,
          -1.3918808698654175,
          -5.288316249847412,
          -2.0397846698760986,
          -4.076996326446533,
          -2.228832244873047,
          9.856587409973145,
          -1.3898518085479736,
          0.5128956437110901,
          -1.2368947267532349,
          -3.8822062015533447,
          -1.4670673608779907,
          0.6697610020637512,
          4.757436752319336,
          4.784424781799316,
          0.2975829839706421,
          10.050679206848145,
          8.824884414672852,
          -1.2347098588943481,
          0.5029743313789368,
          -3.8159139156341553,
          3.8140249252319336,
          -3.8159186840057373,
          -3.5707640647888184,
          -3.2050771713256836,
          -1.470788598060608,
          -1.7067502737045288,
          -2.1749391555786133,
          -5.7262163162231445,
          -1.8234199285507202,
          4.910541534423828,
          9.321283340454102,
          -3.2059450149536133,
          9.114973068237305,
          -1.3826261758804321,
          -1.3649296760559082,
          1.2702010869979858,
          9.939919471740723,
          9.580402374267578,
          -3.80965256690979,
          -1.823233723640442,
          -1.7895528078079224,
          -3.9596033096313477
         ],
         "xaxis": "x",
         "y": [
          -0.23952293395996094,
          0.17276108264923096,
          0.13762524724006653,
          -2.1729211807250977,
          -0.38354387879371643,
          -0.4128505289554596,
          1.3551195859909058,
          2.2189595699310303,
          0.1789911389350891,
          1.803674340248108,
          -1.956675410270691,
          1.1129356622695923,
          -0.03543252497911453,
          -2.6957883834838867,
          0.8551390767097473,
          0.0239194855093956,
          -1.9665424823760986,
          -4.2017502784729,
          0.5960361361503601,
          1.3836926221847534,
          -2.8985071182250977,
          0.6084791421890259,
          2.2406909465789795,
          -2.9229331016540527,
          1.269718885421753,
          0.9751179218292236,
          -0.18659299612045288,
          -0.9836768507957458,
          0.2602800726890564,
          -0.23943829536437988,
          -3.7914936542510986,
          0.8557530641555786,
          2.0352933406829834,
          -0.3635805547237396,
          0.04120178520679474,
          -0.9557670950889587,
          2.555363655090332,
          2.555466651916504,
          0.3908056616783142,
          -2.7078230381011963,
          0.363508403301239,
          -1.306028127670288,
          -0.9538639783859253,
          0.9004542827606201,
          -2.362839937210083,
          -0.8067125082015991,
          -1.0723966360092163,
          -1.7185779809951782,
          -0.8399091362953186,
          0.6481412649154663,
          0.391135573387146,
          2.5554497241973877,
          -0.582585871219635,
          1.0329681634902954,
          -0.03329230099916458,
          -2.574612855911255,
          0.05120658874511719,
          -3.8022947311401367,
          1.1070928573608398,
          0.6706843376159668,
          0.4472901523113251,
          0.4239692986011505,
          -2.162850856781006,
          0.540337085723877,
          -0.9550018310546875,
          0.22838415205478668,
          1.0300542116165161,
          0.01590816117823124,
          -2.365630626678467,
          1.1027978658676147,
          -1.7095352411270142,
          -0.9731983542442322,
          0.8906018733978271,
          -3.18298077583313,
          0.0616554394364357,
          0.5404084920883179,
          0.1388522833585739,
          -0.8423011898994446,
          1.1165021657943726,
          0.009736030362546444,
          2.5584564208984375,
          -0.8667958974838257,
          -1.7327203750610352,
          -1.3132319450378418,
          1.1132475137710571,
          1.113722562789917,
          0.5053898692131042,
          0.0616554394364357,
          -0.04423544928431511,
          -1.3146499395370483,
          -0.845953106880188,
          1.9380062818527222,
          -0.8470226526260376,
          2.115110397338867,
          -0.9548241496086121,
          0.5281375050544739,
          0.5211909413337708,
          -0.8667958974838257,
          -0.09250612556934357,
          -0.46617937088012695,
          1.922505497932434,
          -0.6936080455780029,
          -0.8459039330482483,
          1.3359099626541138,
          -0.8459033966064453,
          2.555363655090332,
          -2.922630548477173,
          2.1652424335479736,
          1.866760492324829,
          0.3181559443473816,
          -1.292477011680603,
          2.1494152545928955,
          -0.5275148749351501,
          0.2822941541671753,
          -2.9224910736083984,
          -0.5383116006851196,
          -1.3074356317520142,
          1.801722526550293,
          -1.7327203750610352,
          0.2772335708141327,
          -0.0922350212931633,
          2.5576207637786865,
          2.1496026515960693,
          1.9089486598968506,
          0.5224512219429016
         ],
         "yaxis": "y"
        },
        {
         "hovertemplate": "color=blue<br>x=%{x}<br>y=%{y}<extra></extra>",
         "legendgroup": "blue",
         "marker": {
          "color": "#EF553B",
          "symbol": "circle"
         },
         "mode": "markers",
         "name": "blue",
         "orientation": "v",
         "showlegend": true,
         "type": "scatter",
         "x": [
          6.15736722946167,
          6.0416669845581055,
          6.78285026550293,
          -0.09860110282897949,
          9.315914154052734,
          9.768830299377441,
          8.437049865722656,
          6.265254497528076,
          1.0980435609817505,
          0.8391883373260498,
          0.4992087781429291,
          5.089682102203369,
          1.079385757446289,
          9.792776107788086,
          0.8426656126976013,
          4.116783618927002,
          0.6731472015380859,
          4.937273979187012,
          1.2849079370498657,
          4.828551292419434,
          1.0491535663604736,
          4.608332633972168,
          -0.04793679714202881,
          1.3826011419296265,
          0.7085722088813782,
          9.567824363708496,
          5.964848518371582,
          4.904765605926514,
          -3.215090274810791,
          0.6027495861053467,
          4.538436412811279,
          4.6243181228637695,
          4.98335599899292,
          -1.4090737104415894,
          9.436484336853027,
          -0.878461480140686,
          6.772308349609375,
          8.058106422424316,
          0.5878005027770996,
          -3.2763559818267822,
          0.5627533197402954,
          -5.755784511566162,
          4.42483377456665,
          9.652338981628418,
          4.87772274017334,
          0.8951120972633362,
          -5.561894416809082,
          0.6611111760139465,
          0.8847618103027344,
          9.258625984191895,
          8.484397888183594,
          8.90616512298584,
          -0.7856648564338684,
          6.31276273727417,
          4.158426284790039,
          0.6434860229492188,
          -5.8399200439453125,
          -2.676668405532837,
          8.555624961853027,
          5.9858503341674805,
          5.007828235626221,
          6.329593658447266,
          5.579046249389648
         ],
         "xaxis": "x",
         "y": [
          0.11512227356433868,
          -0.1448279768228531,
          -0.16361182928085327,
          -0.675678551197052,
          -0.805621862411499,
          -0.46080392599105835,
          -0.4468260109424591,
          0.15982791781425476,
          -1.40233314037323,
          -1.0815645456314087,
          -0.6161449551582336,
          0.144687682390213,
          -1.418649673461914,
          -0.59026700258255,
          -1.0773162841796875,
          -0.919280469417572,
          -0.9476413726806641,
          0.8085005283355713,
          -1.4043108224868774,
          0.7958642840385437,
          -3.256075143814087,
          0.560937762260437,
          -0.43776148557662964,
          -1.9508858919143677,
          -3.9641284942626953,
          -0.08047883212566376,
          -0.16716963052749634,
          0.8044899702072144,
          -2.9270753860473633,
          -4.059316158294678,
          -0.6881316900253296,
          0.566635251045227,
          -0.6586376428604126,
          -1.33095121383667,
          -0.6606150269508362,
          -0.30419766902923584,
          -0.16537578403949738,
          -0.4712444245815277,
          -4.084969997406006,
          -1.1709444522857666,
          -4.094202995300293,
          -2.804854393005371,
          -0.629059374332428,
          -0.7289820313453674,
          -0.5721517205238342,
          -3.7902121543884277,
          -2.776916980743408,
          -4.015935897827148,
          -3.8188724517822266,
          -0.4772908687591553,
          -0.5366270542144775,
          -0.1637023687362671,
          -4.3558430671691895,
          -0.2687501609325409,
          -0.8786513209342957,
          -4.039669513702393,
          -2.8115663528442383,
          -1.5640740394592285,
          -0.45931997895240784,
          0.20686745643615723,
          -0.5177260637283325,
          -0.2516647279262543,
          0.6740326285362244
         ],
         "yaxis": "y"
        }
       ],
       "layout": {
        "legend": {
         "title": {
          "text": "color"
         },
         "tracegroupgap": 0
        },
        "margin": {
         "t": 60
        },
        "template": {
         "data": {
          "bar": [
           {
            "error_x": {
             "color": "#2a3f5f"
            },
            "error_y": {
             "color": "#2a3f5f"
            },
            "marker": {
             "line": {
              "color": "#E5ECF6",
              "width": 0.5
             },
             "pattern": {
              "fillmode": "overlay",
              "size": 10,
              "solidity": 0.2
             }
            },
            "type": "bar"
           }
          ],
          "barpolar": [
           {
            "marker": {
             "line": {
              "color": "#E5ECF6",
              "width": 0.5
             },
             "pattern": {
              "fillmode": "overlay",
              "size": 10,
              "solidity": 0.2
             }
            },
            "type": "barpolar"
           }
          ],
          "carpet": [
           {
            "aaxis": {
             "endlinecolor": "#2a3f5f",
             "gridcolor": "white",
             "linecolor": "white",
             "minorgridcolor": "white",
             "startlinecolor": "#2a3f5f"
            },
            "baxis": {
             "endlinecolor": "#2a3f5f",
             "gridcolor": "white",
             "linecolor": "white",
             "minorgridcolor": "white",
             "startlinecolor": "#2a3f5f"
            },
            "type": "carpet"
           }
          ],
          "choropleth": [
           {
            "colorbar": {
             "outlinewidth": 0,
             "ticks": ""
            },
            "type": "choropleth"
           }
          ],
          "contour": [
           {
            "colorbar": {
             "outlinewidth": 0,
             "ticks": ""
            },
            "colorscale": [
             [
              0,
              "#0d0887"
             ],
             [
              0.1111111111111111,
              "#46039f"
             ],
             [
              0.2222222222222222,
              "#7201a8"
             ],
             [
              0.3333333333333333,
              "#9c179e"
             ],
             [
              0.4444444444444444,
              "#bd3786"
             ],
             [
              0.5555555555555556,
              "#d8576b"
             ],
             [
              0.6666666666666666,
              "#ed7953"
             ],
             [
              0.7777777777777778,
              "#fb9f3a"
             ],
             [
              0.8888888888888888,
              "#fdca26"
             ],
             [
              1,
              "#f0f921"
             ]
            ],
            "type": "contour"
           }
          ],
          "contourcarpet": [
           {
            "colorbar": {
             "outlinewidth": 0,
             "ticks": ""
            },
            "type": "contourcarpet"
           }
          ],
          "heatmap": [
           {
            "colorbar": {
             "outlinewidth": 0,
             "ticks": ""
            },
            "colorscale": [
             [
              0,
              "#0d0887"
             ],
             [
              0.1111111111111111,
              "#46039f"
             ],
             [
              0.2222222222222222,
              "#7201a8"
             ],
             [
              0.3333333333333333,
              "#9c179e"
             ],
             [
              0.4444444444444444,
              "#bd3786"
             ],
             [
              0.5555555555555556,
              "#d8576b"
             ],
             [
              0.6666666666666666,
              "#ed7953"
             ],
             [
              0.7777777777777778,
              "#fb9f3a"
             ],
             [
              0.8888888888888888,
              "#fdca26"
             ],
             [
              1,
              "#f0f921"
             ]
            ],
            "type": "heatmap"
           }
          ],
          "heatmapgl": [
           {
            "colorbar": {
             "outlinewidth": 0,
             "ticks": ""
            },
            "colorscale": [
             [
              0,
              "#0d0887"
             ],
             [
              0.1111111111111111,
              "#46039f"
             ],
             [
              0.2222222222222222,
              "#7201a8"
             ],
             [
              0.3333333333333333,
              "#9c179e"
             ],
             [
              0.4444444444444444,
              "#bd3786"
             ],
             [
              0.5555555555555556,
              "#d8576b"
             ],
             [
              0.6666666666666666,
              "#ed7953"
             ],
             [
              0.7777777777777778,
              "#fb9f3a"
             ],
             [
              0.8888888888888888,
              "#fdca26"
             ],
             [
              1,
              "#f0f921"
             ]
            ],
            "type": "heatmapgl"
           }
          ],
          "histogram": [
           {
            "marker": {
             "pattern": {
              "fillmode": "overlay",
              "size": 10,
              "solidity": 0.2
             }
            },
            "type": "histogram"
           }
          ],
          "histogram2d": [
           {
            "colorbar": {
             "outlinewidth": 0,
             "ticks": ""
            },
            "colorscale": [
             [
              0,
              "#0d0887"
             ],
             [
              0.1111111111111111,
              "#46039f"
             ],
             [
              0.2222222222222222,
              "#7201a8"
             ],
             [
              0.3333333333333333,
              "#9c179e"
             ],
             [
              0.4444444444444444,
              "#bd3786"
             ],
             [
              0.5555555555555556,
              "#d8576b"
             ],
             [
              0.6666666666666666,
              "#ed7953"
             ],
             [
              0.7777777777777778,
              "#fb9f3a"
             ],
             [
              0.8888888888888888,
              "#fdca26"
             ],
             [
              1,
              "#f0f921"
             ]
            ],
            "type": "histogram2d"
           }
          ],
          "histogram2dcontour": [
           {
            "colorbar": {
             "outlinewidth": 0,
             "ticks": ""
            },
            "colorscale": [
             [
              0,
              "#0d0887"
             ],
             [
              0.1111111111111111,
              "#46039f"
             ],
             [
              0.2222222222222222,
              "#7201a8"
             ],
             [
              0.3333333333333333,
              "#9c179e"
             ],
             [
              0.4444444444444444,
              "#bd3786"
             ],
             [
              0.5555555555555556,
              "#d8576b"
             ],
             [
              0.6666666666666666,
              "#ed7953"
             ],
             [
              0.7777777777777778,
              "#fb9f3a"
             ],
             [
              0.8888888888888888,
              "#fdca26"
             ],
             [
              1,
              "#f0f921"
             ]
            ],
            "type": "histogram2dcontour"
           }
          ],
          "mesh3d": [
           {
            "colorbar": {
             "outlinewidth": 0,
             "ticks": ""
            },
            "type": "mesh3d"
           }
          ],
          "parcoords": [
           {
            "line": {
             "colorbar": {
              "outlinewidth": 0,
              "ticks": ""
             }
            },
            "type": "parcoords"
           }
          ],
          "pie": [
           {
            "automargin": true,
            "type": "pie"
           }
          ],
          "scatter": [
           {
            "fillpattern": {
             "fillmode": "overlay",
             "size": 10,
             "solidity": 0.2
            },
            "type": "scatter"
           }
          ],
          "scatter3d": [
           {
            "line": {
             "colorbar": {
              "outlinewidth": 0,
              "ticks": ""
             }
            },
            "marker": {
             "colorbar": {
              "outlinewidth": 0,
              "ticks": ""
             }
            },
            "type": "scatter3d"
           }
          ],
          "scattercarpet": [
           {
            "marker": {
             "colorbar": {
              "outlinewidth": 0,
              "ticks": ""
             }
            },
            "type": "scattercarpet"
           }
          ],
          "scattergeo": [
           {
            "marker": {
             "colorbar": {
              "outlinewidth": 0,
              "ticks": ""
             }
            },
            "type": "scattergeo"
           }
          ],
          "scattergl": [
           {
            "marker": {
             "colorbar": {
              "outlinewidth": 0,
              "ticks": ""
             }
            },
            "type": "scattergl"
           }
          ],
          "scattermapbox": [
           {
            "marker": {
             "colorbar": {
              "outlinewidth": 0,
              "ticks": ""
             }
            },
            "type": "scattermapbox"
           }
          ],
          "scatterpolar": [
           {
            "marker": {
             "colorbar": {
              "outlinewidth": 0,
              "ticks": ""
             }
            },
            "type": "scatterpolar"
           }
          ],
          "scatterpolargl": [
           {
            "marker": {
             "colorbar": {
              "outlinewidth": 0,
              "ticks": ""
             }
            },
            "type": "scatterpolargl"
           }
          ],
          "scatterternary": [
           {
            "marker": {
             "colorbar": {
              "outlinewidth": 0,
              "ticks": ""
             }
            },
            "type": "scatterternary"
           }
          ],
          "surface": [
           {
            "colorbar": {
             "outlinewidth": 0,
             "ticks": ""
            },
            "colorscale": [
             [
              0,
              "#0d0887"
             ],
             [
              0.1111111111111111,
              "#46039f"
             ],
             [
              0.2222222222222222,
              "#7201a8"
             ],
             [
              0.3333333333333333,
              "#9c179e"
             ],
             [
              0.4444444444444444,
              "#bd3786"
             ],
             [
              0.5555555555555556,
              "#d8576b"
             ],
             [
              0.6666666666666666,
              "#ed7953"
             ],
             [
              0.7777777777777778,
              "#fb9f3a"
             ],
             [
              0.8888888888888888,
              "#fdca26"
             ],
             [
              1,
              "#f0f921"
             ]
            ],
            "type": "surface"
           }
          ],
          "table": [
           {
            "cells": {
             "fill": {
              "color": "#EBF0F8"
             },
             "line": {
              "color": "white"
             }
            },
            "header": {
             "fill": {
              "color": "#C8D4E3"
             },
             "line": {
              "color": "white"
             }
            },
            "type": "table"
           }
          ]
         },
         "layout": {
          "annotationdefaults": {
           "arrowcolor": "#2a3f5f",
           "arrowhead": 0,
           "arrowwidth": 1
          },
          "autotypenumbers": "strict",
          "coloraxis": {
           "colorbar": {
            "outlinewidth": 0,
            "ticks": ""
           }
          },
          "colorscale": {
           "diverging": [
            [
             0,
             "#8e0152"
            ],
            [
             0.1,
             "#c51b7d"
            ],
            [
             0.2,
             "#de77ae"
            ],
            [
             0.3,
             "#f1b6da"
            ],
            [
             0.4,
             "#fde0ef"
            ],
            [
             0.5,
             "#f7f7f7"
            ],
            [
             0.6,
             "#e6f5d0"
            ],
            [
             0.7,
             "#b8e186"
            ],
            [
             0.8,
             "#7fbc41"
            ],
            [
             0.9,
             "#4d9221"
            ],
            [
             1,
             "#276419"
            ]
           ],
           "sequential": [
            [
             0,
             "#0d0887"
            ],
            [
             0.1111111111111111,
             "#46039f"
            ],
            [
             0.2222222222222222,
             "#7201a8"
            ],
            [
             0.3333333333333333,
             "#9c179e"
            ],
            [
             0.4444444444444444,
             "#bd3786"
            ],
            [
             0.5555555555555556,
             "#d8576b"
            ],
            [
             0.6666666666666666,
             "#ed7953"
            ],
            [
             0.7777777777777778,
             "#fb9f3a"
            ],
            [
             0.8888888888888888,
             "#fdca26"
            ],
            [
             1,
             "#f0f921"
            ]
           ],
           "sequentialminus": [
            [
             0,
             "#0d0887"
            ],
            [
             0.1111111111111111,
             "#46039f"
            ],
            [
             0.2222222222222222,
             "#7201a8"
            ],
            [
             0.3333333333333333,
             "#9c179e"
            ],
            [
             0.4444444444444444,
             "#bd3786"
            ],
            [
             0.5555555555555556,
             "#d8576b"
            ],
            [
             0.6666666666666666,
             "#ed7953"
            ],
            [
             0.7777777777777778,
             "#fb9f3a"
            ],
            [
             0.8888888888888888,
             "#fdca26"
            ],
            [
             1,
             "#f0f921"
            ]
           ]
          },
          "colorway": [
           "#636efa",
           "#EF553B",
           "#00cc96",
           "#ab63fa",
           "#FFA15A",
           "#19d3f3",
           "#FF6692",
           "#B6E880",
           "#FF97FF",
           "#FECB52"
          ],
          "font": {
           "color": "#2a3f5f"
          },
          "geo": {
           "bgcolor": "white",
           "lakecolor": "white",
           "landcolor": "#E5ECF6",
           "showlakes": true,
           "showland": true,
           "subunitcolor": "white"
          },
          "hoverlabel": {
           "align": "left"
          },
          "hovermode": "closest",
          "mapbox": {
           "style": "light"
          },
          "paper_bgcolor": "white",
          "plot_bgcolor": "#E5ECF6",
          "polar": {
           "angularaxis": {
            "gridcolor": "white",
            "linecolor": "white",
            "ticks": ""
           },
           "bgcolor": "#E5ECF6",
           "radialaxis": {
            "gridcolor": "white",
            "linecolor": "white",
            "ticks": ""
           }
          },
          "scene": {
           "xaxis": {
            "backgroundcolor": "#E5ECF6",
            "gridcolor": "white",
            "gridwidth": 2,
            "linecolor": "white",
            "showbackground": true,
            "ticks": "",
            "zerolinecolor": "white"
           },
           "yaxis": {
            "backgroundcolor": "#E5ECF6",
            "gridcolor": "white",
            "gridwidth": 2,
            "linecolor": "white",
            "showbackground": true,
            "ticks": "",
            "zerolinecolor": "white"
           },
           "zaxis": {
            "backgroundcolor": "#E5ECF6",
            "gridcolor": "white",
            "gridwidth": 2,
            "linecolor": "white",
            "showbackground": true,
            "ticks": "",
            "zerolinecolor": "white"
           }
          },
          "shapedefaults": {
           "line": {
            "color": "#2a3f5f"
           }
          },
          "ternary": {
           "aaxis": {
            "gridcolor": "white",
            "linecolor": "white",
            "ticks": ""
           },
           "baxis": {
            "gridcolor": "white",
            "linecolor": "white",
            "ticks": ""
           },
           "bgcolor": "#E5ECF6",
           "caxis": {
            "gridcolor": "white",
            "linecolor": "white",
            "ticks": ""
           }
          },
          "title": {
           "x": 0.05
          },
          "xaxis": {
           "automargin": true,
           "gridcolor": "white",
           "linecolor": "white",
           "ticks": "",
           "title": {
            "standoff": 15
           },
           "zerolinecolor": "white",
           "zerolinewidth": 2
          },
          "yaxis": {
           "automargin": true,
           "gridcolor": "white",
           "linecolor": "white",
           "ticks": "",
           "title": {
            "standoff": 15
           },
           "zerolinecolor": "white",
           "zerolinewidth": 2
          }
         }
        },
        "title": {
         "text": "GCN + SupCon + Complementary Graph"
        },
        "xaxis": {
         "anchor": "y",
         "domain": [
          0,
          1
         ],
         "title": {
          "text": "First t-SNE"
         }
        },
        "yaxis": {
         "anchor": "x",
         "domain": [
          0,
          1
         ],
         "title": {
          "text": "Second t-SNE"
         }
        }
       }
      }
     },
     "metadata": {},
     "output_type": "display_data"
    }
   ],
   "source": [
    "fig = px.scatter(x=X_tsne[:, 0], y=X_tsne[:, 1], color=labels)\n",
    "fig.update_layout(\n",
    "    title=\"GCN + SupCon + Complementary Graph\",\n",
    "    xaxis_title=\"First t-SNE\",\n",
    "    yaxis_title=\"Second t-SNE\",\n",
    ")\n",
    "fig.show()"
   ]
  },
  {
   "cell_type": "markdown",
   "metadata": {},
   "source": [
    "#### After Pre-training (training classifier)"
   ]
  },
  {
   "cell_type": "markdown",
   "metadata": {},
   "source": [
    "freeze model parameter (just the conv layer)"
   ]
  },
  {
   "cell_type": "code",
   "execution_count": 199,
   "metadata": {},
   "outputs": [],
   "source": [
    "for name, para in model.named_parameters():\n",
    "    if \"conv\" in name:\n",
    "        para.requires_grad = False"
   ]
  },
  {
   "cell_type": "code",
   "execution_count": null,
   "metadata": {},
   "outputs": [],
   "source": []
  },
  {
   "cell_type": "code",
   "execution_count": 200,
   "metadata": {},
   "outputs": [
    {
     "name": "stdout",
     "output_type": "stream",
     "text": [
      "epoch: 1 loss: 0.6424; train_acc: 0.7234; test_acc: 0.6064\n",
      "epoch: 2 loss: 0.5911; train_acc: 0.766; test_acc: 0.6064\n",
      "epoch: 3 loss: 0.5047; train_acc: 0.7979; test_acc: 0.6596\n",
      "epoch: 4 loss: 0.5609; train_acc: 0.7979; test_acc: 0.6702\n",
      "epoch: 5 loss: 0.4926; train_acc: 0.7872; test_acc: 0.6809\n",
      "epoch: 6 loss: 0.6007; train_acc: 0.7872; test_acc: 0.6809\n",
      "epoch: 7 loss: 0.4991; train_acc: 0.7872; test_acc: 0.6809\n",
      "epoch: 8 loss: 0.5977; train_acc: 0.7872; test_acc: 0.6809\n",
      "epoch: 9 loss: 0.5484; train_acc: 0.7979; test_acc: 0.6702\n",
      "epoch: 10 loss: 0.4764; train_acc: 0.7872; test_acc: 0.6915\n",
      "epoch: 11 loss: 0.5842; train_acc: 0.7979; test_acc: 0.6702\n",
      "epoch: 12 loss: 0.5292; train_acc: 0.8191; test_acc: 0.7021\n",
      "epoch: 13 loss: 0.4930; train_acc: 0.7979; test_acc: 0.6809\n",
      "epoch: 14 loss: 0.5688; train_acc: 0.8085; test_acc: 0.6809\n",
      "epoch: 15 loss: 0.5181; train_acc: 0.7872; test_acc: 0.6915\n",
      "epoch: 16 loss: 0.5211; train_acc: 0.7979; test_acc: 0.6809\n",
      "epoch: 17 loss: 0.6010; train_acc: 0.8191; test_acc: 0.7021\n",
      "epoch: 18 loss: 0.5930; train_acc: 0.7979; test_acc: 0.6915\n",
      "epoch: 19 loss: 0.4851; train_acc: 0.8191; test_acc: 0.7021\n",
      "epoch: 20 loss: 0.5197; train_acc: 0.7872; test_acc: 0.6915\n",
      "epoch: 21 loss: 0.5304; train_acc: 0.7979; test_acc: 0.6809\n",
      "epoch: 22 loss: 0.5204; train_acc: 0.8191; test_acc: 0.7021\n",
      "epoch: 23 loss: 0.5967; train_acc: 0.7979; test_acc: 0.6809\n",
      "epoch: 24 loss: 0.4534; train_acc: 0.8191; test_acc: 0.7021\n",
      "epoch: 25 loss: 0.5572; train_acc: 0.7979; test_acc: 0.6915\n",
      "epoch: 26 loss: 0.5282; train_acc: 0.8191; test_acc: 0.7021\n",
      "epoch: 27 loss: 0.5624; train_acc: 0.7979; test_acc: 0.6809\n",
      "epoch: 28 loss: 0.5102; train_acc: 0.8191; test_acc: 0.7021\n",
      "epoch: 29 loss: 0.5147; train_acc: 0.7979; test_acc: 0.6915\n",
      "epoch: 30 loss: 0.4415; train_acc: 0.8298; test_acc: 0.7021\n",
      "epoch: 31 loss: 0.5286; train_acc: 0.7979; test_acc: 0.6915\n",
      "epoch: 32 loss: 0.4503; train_acc: 0.8298; test_acc: 0.7021\n",
      "epoch: 33 loss: 0.5954; train_acc: 0.7979; test_acc: 0.7021\n",
      "epoch: 34 loss: 0.5036; train_acc: 0.8085; test_acc: 0.6702\n",
      "epoch: 35 loss: 0.4615; train_acc: 0.7979; test_acc: 0.6915\n",
      "epoch: 36 loss: 0.4858; train_acc: 0.8404; test_acc: 0.7021\n",
      "epoch: 37 loss: 0.4917; train_acc: 0.8298; test_acc: 0.6915\n",
      "epoch: 38 loss: 0.4968; train_acc: 0.7979; test_acc: 0.6915\n",
      "epoch: 39 loss: 0.5203; train_acc: 0.8298; test_acc: 0.7021\n",
      "epoch: 40 loss: 0.4499; train_acc: 0.7979; test_acc: 0.6915\n",
      "epoch: 41 loss: 0.4768; train_acc: 0.7979; test_acc: 0.7021\n",
      "epoch: 42 loss: 0.5692; train_acc: 0.8404; test_acc: 0.7021\n",
      "epoch: 43 loss: 0.5298; train_acc: 0.7979; test_acc: 0.6915\n",
      "epoch: 44 loss: 0.5533; train_acc: 0.8298; test_acc: 0.7021\n",
      "epoch: 45 loss: 0.5215; train_acc: 0.8085; test_acc: 0.6809\n",
      "epoch: 46 loss: 0.6178; train_acc: 0.7979; test_acc: 0.6915\n",
      "epoch: 47 loss: 0.5057; train_acc: 0.7979; test_acc: 0.7021\n",
      "epoch: 48 loss: 0.4685; train_acc: 0.8298; test_acc: 0.7021\n",
      "epoch: 49 loss: 0.4854; train_acc: 0.7979; test_acc: 0.7021\n",
      "epoch: 50 loss: 0.5312; train_acc: 0.8298; test_acc: 0.6915\n",
      "epoch: 51 loss: 0.4540; train_acc: 0.8404; test_acc: 0.7021\n",
      "epoch: 52 loss: 0.6119; train_acc: 0.8085; test_acc: 0.7021\n",
      "epoch: 53 loss: 0.5313; train_acc: 0.8191; test_acc: 0.7021\n",
      "epoch: 54 loss: 0.5448; train_acc: 0.8404; test_acc: 0.7021\n",
      "epoch: 55 loss: 0.5026; train_acc: 0.7979; test_acc: 0.6915\n",
      "epoch: 56 loss: 0.4555; train_acc: 0.8404; test_acc: 0.7021\n",
      "epoch: 57 loss: 0.5610; train_acc: 0.7979; test_acc: 0.6915\n",
      "epoch: 58 loss: 0.5415; train_acc: 0.8085; test_acc: 0.7021\n",
      "epoch: 59 loss: 0.6086; train_acc: 0.8085; test_acc: 0.7021\n",
      "epoch: 60 loss: 0.4683; train_acc: 0.7979; test_acc: 0.6915\n",
      "epoch: 61 loss: 0.5339; train_acc: 0.8085; test_acc: 0.7021\n",
      "epoch: 62 loss: 0.4946; train_acc: 0.8404; test_acc: 0.7021\n",
      "epoch: 63 loss: 0.4956; train_acc: 0.8085; test_acc: 0.7021\n",
      "epoch: 64 loss: 0.5190; train_acc: 0.7979; test_acc: 0.6915\n",
      "epoch: 65 loss: 0.4989; train_acc: 0.8085; test_acc: 0.7021\n",
      "epoch: 66 loss: 0.4249; train_acc: 0.8404; test_acc: 0.7021\n",
      "epoch: 67 loss: 0.5049; train_acc: 0.8085; test_acc: 0.6809\n",
      "epoch: 68 loss: 0.4741; train_acc: 0.8404; test_acc: 0.7021\n",
      "epoch: 69 loss: 0.4860; train_acc: 0.7979; test_acc: 0.6809\n",
      "epoch: 70 loss: 0.6257; train_acc: 0.8085; test_acc: 0.6915\n",
      "epoch: 71 loss: 0.4362; train_acc: 0.8404; test_acc: 0.7021\n",
      "epoch: 72 loss: 0.5108; train_acc: 0.8085; test_acc: 0.6915\n",
      "epoch: 73 loss: 0.4639; train_acc: 0.8085; test_acc: 0.7021\n",
      "epoch: 74 loss: 0.4920; train_acc: 0.8404; test_acc: 0.7021\n",
      "epoch: 75 loss: 0.5167; train_acc: 0.8298; test_acc: 0.6915\n",
      "epoch: 76 loss: 0.4796; train_acc: 0.8085; test_acc: 0.6915\n",
      "epoch: 77 loss: 0.4635; train_acc: 0.8191; test_acc: 0.6915\n",
      "epoch: 78 loss: 0.4044; train_acc: 0.8404; test_acc: 0.7021\n",
      "epoch: 79 loss: 0.4977; train_acc: 0.8085; test_acc: 0.7021\n",
      "epoch: 80 loss: 0.4552; train_acc: 0.8085; test_acc: 0.6915\n",
      "epoch: 81 loss: 0.4944; train_acc: 0.8085; test_acc: 0.6915\n",
      "epoch: 82 loss: 0.4584; train_acc: 0.8191; test_acc: 0.6809\n",
      "epoch: 83 loss: 0.4656; train_acc: 0.7979; test_acc: 0.6915\n",
      "epoch: 84 loss: 0.5319; train_acc: 0.8085; test_acc: 0.7021\n",
      "epoch: 85 loss: 0.4293; train_acc: 0.8404; test_acc: 0.7021\n",
      "epoch: 86 loss: 0.5198; train_acc: 0.8404; test_acc: 0.7021\n",
      "epoch: 87 loss: 0.4600; train_acc: 0.7979; test_acc: 0.6809\n",
      "epoch: 88 loss: 0.4988; train_acc: 0.8085; test_acc: 0.7021\n",
      "epoch: 89 loss: 0.4820; train_acc: 0.8085; test_acc: 0.6915\n",
      "epoch: 90 loss: 0.5101; train_acc: 0.8085; test_acc: 0.7021\n",
      "epoch: 91 loss: 0.4895; train_acc: 0.8085; test_acc: 0.6915\n",
      "epoch: 92 loss: 0.4841; train_acc: 0.8298; test_acc: 0.7021\n",
      "epoch: 93 loss: 0.4132; train_acc: 0.8404; test_acc: 0.7021\n",
      "epoch: 94 loss: 0.4758; train_acc: 0.8085; test_acc: 0.7021\n",
      "epoch: 95 loss: 0.4887; train_acc: 0.8085; test_acc: 0.6915\n",
      "epoch: 96 loss: 0.3935; train_acc: 0.8191; test_acc: 0.6809\n",
      "epoch: 97 loss: 0.4395; train_acc: 0.8404; test_acc: 0.7021\n",
      "epoch: 98 loss: 0.4345; train_acc: 0.8085; test_acc: 0.7021\n",
      "epoch: 99 loss: 0.5184; train_acc: 0.8404; test_acc: 0.7021\n",
      "epoch: 100 loss: 0.4052; train_acc: 0.8298; test_acc: 0.6915\n"
     ]
    }
   ],
   "source": [
    "losses = []\n",
    "train_accs = []\n",
    "test_accs = []\n",
    "\n",
    "for epoch in range(0, 100):\n",
    "    h, loss, y = train(model, g_train_loader, gc_train_loader, classification=True)\n",
    "    train_acc, z = test(model, g_train_loader, gc_train_loader)\n",
    "    test_acc, z = test(model, g_test_loader, gc_test_loader)\n",
    "    \n",
    "    losses.append(round(loss.item(), 4))\n",
    "    train_accs.append(round(train_acc, 4))\n",
    "    test_accs.append(round(test_acc, 4))\n",
    "    \n",
    "    # print(f\"epoch: {epoch+1} training loss: {loss:.4f}\")\n",
    "    print(f\"epoch: {epoch+1} loss: {loss:.4f}; train_acc: {train_acc:.4}; test_acc: {test_acc:.4}\")\n",
    "    # break\n"
   ]
  },
  {
   "cell_type": "markdown",
   "metadata": {},
   "source": [
    "1st Result (embeddings)"
   ]
  },
  {
   "cell_type": "code",
   "execution_count": 201,
   "metadata": {},
   "outputs": [],
   "source": [
    "import matplotlib.pyplot as plt"
   ]
  },
  {
   "cell_type": "code",
   "execution_count": 218,
   "metadata": {},
   "outputs": [
    {
     "data": {
      "image/png": "[encoded data removed]",
      "text/plain": [
       "<Figure size 640x480 with 1 Axes>"
      ]
     },
     "metadata": {},
     "output_type": "display_data"
    }
   ],
   "source": [
    "fig, ax = plt.subplots()\n",
    "ax.plot(train_accs, label='train')\n",
    "ax.plot(test_accs, label='test')\n",
    "ax.set_xlabel('epoch')\n",
    "ax.set_ylabel('accuracy')\n",
    "ax.legend()\n",
    "\n",
    "plt.xlim([0, 1.0])\n",
    "plt.ylim([0, 1.0])\n",
    "\n",
    "plt.title('GCN + SupCon + Complementary Graph evaluation')\n",
    "plt.show()"
   ]
  },
  {
   "cell_type": "code",
   "execution_count": 214,
   "metadata": {},
   "outputs": [
    {
     "name": "stdout",
     "output_type": "stream",
     "text": [
      "average train accuracy 8.111\n",
      "average test accuracy 6.919\n"
     ]
    }
   ],
   "source": [
    "print(\"average train accuracy\", round(sum(train_accs)/len(train_accs), 4) * 10)\n",
    "print(\"average test accuracy\", round(sum(test_accs)/len(test_accs), 4) * 10)"
   ]
  },
  {
   "cell_type": "markdown",
   "metadata": {},
   "source": [
    "other"
   ]
  },
  {
   "cell_type": "code",
   "execution_count": 227,
   "metadata": {},
   "outputs": [],
   "source": [
    "classes = {}\n",
    "for cls in dataset.y:\n",
    "    if cls.item() not in classes:\n",
    "        classes[cls.item()] = 1\n",
    "    else:\n",
    "        classes[cls.item()] = classes[cls.item()] + 1 "
   ]
  },
  {
   "cell_type": "code",
   "execution_count": 228,
   "metadata": {},
   "outputs": [
    {
     "data": {
      "text/plain": [
       "{1: 125, 0: 63}"
      ]
     },
     "execution_count": 228,
     "metadata": {},
     "output_type": "execute_result"
    }
   ],
   "source": [
    "classes"
   ]
  },
  {
   "cell_type": "code",
   "execution_count": 232,
   "metadata": {},
   "outputs": [
    {
     "data": {
      "text/plain": [
       "0.6648936170212766"
      ]
     },
     "execution_count": 232,
     "metadata": {},
     "output_type": "execute_result"
    }
   ],
   "source": [
    "classes[1]/(classes[1]+classes[0])"
   ]
  }
 ],
 "metadata": {
  "kernelspec": {
   "display_name": "Python 3",
   "language": "python",
   "name": "python3"
  },
  "language_info": {
   "codemirror_mode": {
    "name": "ipython",
    "version": 3
   },
   "file_extension": ".py",
   "mimetype": "text/x-python",
   "name": "python",
   "nbconvert_exporter": "python",
   "pygments_lexer": "ipython3",
   "version": "3.11.4"
  }
 },
 "nbformat": 4,
 "nbformat_minor": 4
}
