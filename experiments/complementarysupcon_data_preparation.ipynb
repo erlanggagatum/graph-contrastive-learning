{
 "cells": [
  {
   "cell_type": "code",
   "execution_count": 1,
   "metadata": {},
   "outputs": [],
   "source": [
    "import torch\n",
    "import torch_geometric\n",
    "\n",
    "from torch_geometric.datasets import TUDataset\n",
    "from torch_geometric.loader import DataLoader"
   ]
  },
  {
   "cell_type": "code",
   "execution_count": 2,
   "metadata": {},
   "outputs": [],
   "source": [
    "import matplotlib as plt\n",
    "import numpy as np\n",
    "import networkx\n",
    "from torch_geometric.data import Data\n",
    "from sklearn.manifold import TSNE"
   ]
  },
  {
   "cell_type": "code",
   "execution_count": 3,
   "metadata": {},
   "outputs": [],
   "source": [
    "from torch_geometric.utils import to_dense_adj"
   ]
  },
  {
   "cell_type": "markdown",
   "metadata": {},
   "source": [
    "## Data Preparation on MUTAG"
   ]
  },
  {
   "cell_type": "code",
   "execution_count": 4,
   "metadata": {},
   "outputs": [],
   "source": [
    "dataset = TUDataset(root=\"../dataset\", name='MUTAG')"
   ]
  },
  {
   "cell_type": "code",
   "execution_count": 5,
   "metadata": {},
   "outputs": [
    {
     "name": "stdout",
     "output_type": "stream",
     "text": [
      "Original:\n",
      " tensor([[[0., 1., 0., 0., 0., 0., 0., 0., 0., 1., 0., 0., 0.],\n",
      "         [1., 0., 1., 0., 0., 0., 0., 0., 0., 0., 0., 0., 0.],\n",
      "         [0., 1., 0., 1., 0., 0., 0., 1., 0., 0., 0., 0., 0.],\n",
      "         [0., 0., 1., 0., 1., 0., 0., 0., 1., 0., 0., 0., 0.],\n",
      "         [0., 0., 0., 1., 0., 1., 0., 0., 0., 0., 0., 0., 0.],\n",
      "         [0., 0., 0., 0., 1., 0., 1., 0., 0., 0., 0., 0., 0.],\n",
      "         [0., 0., 0., 0., 0., 1., 0., 1., 0., 0., 0., 0., 0.],\n",
      "         [0., 0., 1., 0., 0., 0., 1., 0., 0., 0., 0., 0., 0.],\n",
      "         [0., 0., 0., 1., 0., 0., 0., 0., 0., 1., 1., 0., 0.],\n",
      "         [1., 0., 0., 0., 0., 0., 0., 0., 1., 0., 0., 0., 0.],\n",
      "         [0., 0., 0., 0., 0., 0., 0., 0., 1., 0., 0., 1., 1.],\n",
      "         [0., 0., 0., 0., 0., 0., 0., 0., 0., 0., 1., 0., 0.],\n",
      "         [0., 0., 0., 0., 0., 0., 0., 0., 0., 0., 1., 0., 0.]]])\n",
      "Complementary:\n",
      " tensor([[[0., 0., 1., 1., 1., 1., 1., 1., 1., 0., 1., 1., 1.],\n",
      "         [0., 0., 0., 1., 1., 1., 1., 1., 1., 1., 1., 1., 1.],\n",
      "         [1., 0., 0., 0., 1., 1., 1., 0., 1., 1., 1., 1., 1.],\n",
      "         [1., 1., 0., 0., 0., 1., 1., 1., 0., 1., 1., 1., 1.],\n",
      "         [1., 1., 1., 0., 0., 0., 1., 1., 1., 1., 1., 1., 1.],\n",
      "         [1., 1., 1., 1., 0., 0., 0., 1., 1., 1., 1., 1., 1.],\n",
      "         [1., 1., 1., 1., 1., 0., 0., 0., 1., 1., 1., 1., 1.],\n",
      "         [1., 1., 0., 1., 1., 1., 0., 0., 1., 1., 1., 1., 1.],\n",
      "         [1., 1., 1., 0., 1., 1., 1., 1., 0., 0., 0., 1., 1.],\n",
      "         [0., 1., 1., 1., 1., 1., 1., 1., 0., 0., 1., 1., 1.],\n",
      "         [1., 1., 1., 1., 1., 1., 1., 1., 0., 1., 0., 0., 0.],\n",
      "         [1., 1., 1., 1., 1., 1., 1., 1., 1., 1., 0., 0., 1.],\n",
      "         [1., 1., 1., 1., 1., 1., 1., 1., 1., 1., 0., 1., 0.]]])\n"
     ]
    }
   ],
   "source": [
    "adj_o = to_dense_adj(dataset[2].edge_index)\n",
    "adj_c = abs(to_dense_adj(dataset[2].edge_index) - 1) - torch.eye(len(dataset[2].x))\n",
    "\n",
    "print(\"Original:\\n\", adj_o)\n",
    "print(\"Complementary:\\n\", (adj_c))"
   ]
  },
  {
   "cell_type": "code",
   "execution_count": 6,
   "metadata": {},
   "outputs": [],
   "source": [
    "def toComplementary(g):\n",
    "    c = abs(to_dense_adj(g.edge_index) - 1) - torch.eye(len(g.x))\n",
    "    c = c[0].nonzero().t().contiguous()\n",
    "    return c"
   ]
  },
  {
   "cell_type": "code",
   "execution_count": 7,
   "metadata": {},
   "outputs": [],
   "source": [
    "dataset_c = []\n",
    "for graph in dataset:\n",
    "    edge_c = toComplementary(graph)\n",
    "    dataset_c.append(Data(edge_index=edge_c, x=graph.x, y=graph.y))"
   ]
  },
  {
   "cell_type": "code",
   "execution_count": 8,
   "metadata": {},
   "outputs": [
    {
     "data": {
      "text/plain": [
       "tensor([1, 0, 0, 1, 0, 1, 0, 1, 0, 1, 1, 1, 1, 0, 1, 1, 0, 1, 0, 1, 1, 1, 1, 1,\n",
       "        1, 1, 1, 1, 1, 1, 1, 1, 1, 0, 1, 0, 1, 0, 0, 0, 1, 0, 1, 1, 1, 1, 1, 1,\n",
       "        1, 1, 1, 1, 1, 1, 0, 1, 1, 1, 1, 1, 1, 0, 1, 1, 0, 0, 1, 1, 1, 0, 1, 1,\n",
       "        0, 1, 1, 0, 0, 0, 1, 1, 1, 1, 1, 0, 1, 1, 1, 0, 0, 1, 1, 1, 1, 1, 1, 1,\n",
       "        1, 0, 1, 0, 1, 1, 1, 1, 1, 1, 1, 1, 1, 0, 0, 1, 0, 0, 1, 0, 1, 1, 0, 0,\n",
       "        1, 1, 0, 0, 1, 1, 1, 1, 0, 0, 0, 0, 0, 1, 0, 1, 1, 0, 0, 1, 0, 0, 0, 0,\n",
       "        1, 1, 0, 1, 1, 0, 1, 1, 1, 0, 0, 0, 1, 1, 1, 0, 1, 1, 1, 1, 1, 1, 1, 0,\n",
       "        1, 1, 1, 1, 1, 1, 0, 1, 1, 1, 0, 1, 0, 0, 1, 1, 0, 0, 1, 0])"
      ]
     },
     "execution_count": 8,
     "metadata": {},
     "output_type": "execute_result"
    }
   ],
   "source": [
    "dataset.y"
   ]
  },
  {
   "cell_type": "code",
   "execution_count": 9,
   "metadata": {},
   "outputs": [
    {
     "name": "stdout",
     "output_type": "stream",
     "text": [
      "[1, 0, 0, 1, 0, 1, 0, 1, 0, 1, 1, 1, 1, 0, 1, 1, 0, 1, 0, 1, 1, 1, 1, 1, 1, 1, 1, 1, 1, 1, 1, 1, 1, 0, 1, 0, 1, 0, 0, 0, 1, 0, 1, 1, 1, 1, 1, 1, 1, 1, 1, 1, 1, 1, 0, 1, 1, 1, 1, 1, 1, 0, 1, 1, 0, 0, 1, 1, 1, 0, 1, 1, 0, 1, 1, 0, 0, 0, 1, 1, 1, 1, 1, 0, 1, 1, 1, 0, 0, 1, 1, 1, 1, 1, 1, 1, 1, 0, 1, 0, 1, 1, 1, 1, 1, 1, 1, 1, 1, 0, 0, 1, 0, 0, 1, 0, 1, 1, 0, 0, 1, 1, 0, 0, 1, 1, 1, 1, 0, 0, 0, 0, 0, 1, 0, 1, 1, 0, 0, 1, 0, 0, 0, 0, 1, 1, 0, 1, 1, 0, 1, 1, 1, 0, 0, 0, 1, 1, 1, 0, 1, 1, 1, 1, 1, 1, 1, 0, 1, 1, 1, 1, 1, 1, 0, 1, 1, 1, 0, 1, 0, 0, 1, 1, 0, 0, 1, 0]\n"
     ]
    }
   ],
   "source": [
    "ys = []\n",
    "for d in dataset_c:\n",
    "    ys.append(d.y.item())\n",
    "print(ys)"
   ]
  },
  {
   "cell_type": "code",
   "execution_count": 10,
   "metadata": {},
   "outputs": [],
   "source": [
    "# Train test split\n",
    "ratio = 0.5\n",
    "total = len(dataset)\n",
    "\n",
    "# original graph\n",
    "g_train = dataset[:round(ratio*total)]\n",
    "g_test = dataset[round(ratio*total):]\n",
    "\n",
    "# complementary graph\n",
    "gc_train = dataset_c[:round(ratio*total)]\n",
    "gc_test = dataset_c[round(ratio*total):]"
   ]
  },
  {
   "cell_type": "code",
   "execution_count": 11,
   "metadata": {},
   "outputs": [
    {
     "name": "stdout",
     "output_type": "stream",
     "text": [
      "g_train MUTAG(94)\n",
      "g_test MUTAG(94)\n",
      "gc_train 94\n",
      "gc_test 94\n"
     ]
    }
   ],
   "source": [
    "print(f'g_train {g_train}')\n",
    "print(f'g_test {g_test}')\n",
    "print(f'gc_train {len(gc_train)}')\n",
    "print(f'gc_test {len(gc_test)}')"
   ]
  },
  {
   "cell_type": "code",
   "execution_count": 12,
   "metadata": {},
   "outputs": [
    {
     "name": "stdout",
     "output_type": "stream",
     "text": [
      "[1, 0, 0, 1, 0, 1, 0, 1, 0, 1, 1, 1, 1, 0, 1, 1, 0, 1, 0, 1, 1, 1, 1, 1, 1, 1, 1, 1, 1, 1, 1, 1, 1, 0, 1, 0, 1, 0, 0, 0, 1, 0, 1, 1, 1, 1, 1, 1, 1, 1, 1, 1, 1, 1, 0, 1, 1, 1, 1, 1, 1, 0, 1, 1, 0, 0, 1, 1, 1, 0, 1, 1, 0, 1, 1, 0, 0, 0, 1, 1, 1, 1, 1, 0, 1, 1, 1, 0, 0, 1, 1, 1, 1, 1]\n"
     ]
    }
   ],
   "source": [
    "print([x.y.item() for x in g_train])"
   ]
  },
  {
   "cell_type": "code",
   "execution_count": 13,
   "metadata": {},
   "outputs": [
    {
     "name": "stdout",
     "output_type": "stream",
     "text": [
      "[1, 0, 0, 1, 0, 1, 0, 1, 0, 1, 1, 1, 1, 0, 1, 1, 0, 1, 0, 1, 1, 1, 1, 1, 1, 1, 1, 1, 1, 1, 1, 1, 1, 0, 1, 0, 1, 0, 0, 0, 1, 0, 1, 1, 1, 1, 1, 1, 1, 1, 1, 1, 1, 1, 0, 1, 1, 1, 1, 1, 1, 0, 1, 1, 0, 0, 1, 1, 1, 0, 1, 1, 0, 1, 1, 0, 0, 0, 1, 1, 1, 1, 1, 0, 1, 1, 1, 0, 0, 1, 1, 1, 1, 1]\n"
     ]
    }
   ],
   "source": [
    "print([x.y.item() for x in gc_train])"
   ]
  },
  {
   "cell_type": "code",
   "execution_count": 14,
   "metadata": {},
   "outputs": [],
   "source": [
    "bs = 32\n",
    "seed = 12345\n",
    "\n",
    "g_train_loader = DataLoader(g_train, batch_size=bs, shuffle=False)\n",
    "g_test_loader = DataLoader(g_test, batch_size=bs, shuffle=False)\n",
    "\n",
    "gc_train_loader = DataLoader(gc_train, batch_size=bs, shuffle=False)\n",
    "gc_test_loader = DataLoader(gc_test, batch_size=bs, shuffle=False)"
   ]
  },
  {
   "cell_type": "code",
   "execution_count": 15,
   "metadata": {},
   "outputs": [
    {
     "name": "stdout",
     "output_type": "stream",
     "text": [
      "tensor([1, 0, 0, 1, 0, 1, 0, 1, 0, 1, 1, 1, 1, 0, 1, 1, 0, 1, 0, 1, 1, 1, 1, 1,\n",
      "        1, 1, 1, 1, 1, 1, 1, 1])\n",
      "tensor([1, 0, 1, 0, 1, 0, 0, 0, 1, 0, 1, 1, 1, 1, 1, 1, 1, 1, 1, 1, 1, 1, 0, 1,\n",
      "        1, 1, 1, 1, 1, 0, 1, 1])\n",
      "tensor([0, 0, 1, 1, 1, 0, 1, 1, 0, 1, 1, 0, 0, 0, 1, 1, 1, 1, 1, 0, 1, 1, 1, 0,\n",
      "        0, 1, 1, 1, 1, 1])\n"
     ]
    }
   ],
   "source": [
    "for g in g_train_loader:\n",
    "    print(g.y)\n",
    "#     break"
   ]
  },
  {
   "cell_type": "code",
   "execution_count": 16,
   "metadata": {},
   "outputs": [
    {
     "name": "stdout",
     "output_type": "stream",
     "text": [
      "tensor([1, 1, 1, 0, 1, 0, 1, 1, 1, 1, 1, 1, 1, 1, 1, 0, 0, 1, 0, 0, 1, 0, 1, 1,\n",
      "        0, 0, 1, 1, 0, 0, 1, 1])\n"
     ]
    }
   ],
   "source": [
    "for g in g_test_loader:\n",
    "    print(g.y)\n",
    "    break"
   ]
  },
  {
   "cell_type": "code",
   "execution_count": 17,
   "metadata": {},
   "outputs": [
    {
     "name": "stdout",
     "output_type": "stream",
     "text": [
      "tensor([1, 0, 0, 1, 0, 1, 0, 1, 0, 1, 1, 1, 1, 0, 1, 1, 0, 1, 0, 1, 1, 1, 1, 1,\n",
      "        1, 1, 1, 1, 1, 1, 1, 1])\n",
      "tensor([1, 0, 1, 0, 1, 0, 0, 0, 1, 0, 1, 1, 1, 1, 1, 1, 1, 1, 1, 1, 1, 1, 0, 1,\n",
      "        1, 1, 1, 1, 1, 0, 1, 1])\n",
      "tensor([0, 0, 1, 1, 1, 0, 1, 1, 0, 1, 1, 0, 0, 0, 1, 1, 1, 1, 1, 0, 1, 1, 1, 0,\n",
      "        0, 1, 1, 1, 1, 1])\n"
     ]
    }
   ],
   "source": [
    "for g in gc_train_loader:\n",
    "    print(g.y)\n",
    "#     break"
   ]
  },
  {
   "cell_type": "code",
   "execution_count": 18,
   "metadata": {},
   "outputs": [
    {
     "name": "stdout",
     "output_type": "stream",
     "text": [
      "tensor([1, 1, 1, 0, 1, 0, 1, 1, 1, 1, 1, 1, 1, 1, 1, 0, 0, 1, 0, 0, 1, 0, 1, 1,\n",
      "        0, 0, 1, 1, 0, 0, 1, 1])\n"
     ]
    }
   ],
   "source": [
    "for g in gc_test_loader:\n",
    "    print(g.y)\n",
    "    break"
   ]
  },
  {
   "cell_type": "markdown",
   "metadata": {},
   "source": [
    "## Building model"
   ]
  },
  {
   "cell_type": "code",
   "execution_count": 19,
   "metadata": {},
   "outputs": [],
   "source": [
    "from torch_geometric.nn import GCNConv\n",
    "from torch.nn import Linear\n",
    "from torch.nn import Linear\n",
    "from torch_geometric.nn import global_mean_pool\n",
    "from torch_geometric.nn import global_max_pool\n",
    "from torch_geometric.nn import global_add_pool\n",
    "import torch.nn.functional as F"
   ]
  },
  {
   "cell_type": "code",
   "execution_count": 299,
   "metadata": {},
   "outputs": [],
   "source": [
    "class ComplementarySupCon(torch.nn.Module):\n",
    "    def __init__(self, dataset, hidden_channels):\n",
    "        super(ComplementarySupCon, self).__init__()\n",
    "        \n",
    "        # weight seed\n",
    "        torch.manual_seed(42)\n",
    "        self.conv1_o = GCNConv(dataset.num_node_features, hidden_channels)\n",
    "        self.conv2_o = GCNConv(hidden_channels, hidden_channels)\n",
    "        self.conv3_o = GCNConv(hidden_channels, hidden_channels)\n",
    "        \n",
    "        self.conv1_c = GCNConv(dataset.num_node_features, hidden_channels)\n",
    "        self.conv2_c = GCNConv(hidden_channels, hidden_channels)\n",
    "        self.conv3_c = GCNConv(hidden_channels, hidden_channels)\n",
    "\n",
    "    def forward(self, x_o, x_c, edge_index_o, edge_index_c, batch_o):\n",
    "        x_o = self.conv1_o(x_o, edge_index_o)\n",
    "        x_o = x_o.relu()\n",
    "        x_o = self.conv2_o(x_o, edge_index_o)\n",
    "        x_o = x_o.relu()\n",
    "        x_o = self.conv3_o(x_o, edge_index_o)\n",
    "\n",
    "        x_c = self.conv1_c(x_c, edge_index_c)\n",
    "        x_c = x_c.relu()\n",
    "        x_c = self.conv2_c(x_c, edge_index_c)\n",
    "        x_c = x_c.relu()\n",
    "        x_c = self.conv2_c(x_c, edge_index_c)\n",
    "\n",
    "\n",
    "        h = x_o + x_c\n",
    "        \n",
    "        h = global_add_pool(h, batch_o)\n",
    "        \n",
    "        return h, x_o, x_c"
   ]
  },
  {
   "cell_type": "code",
   "execution_count": 209,
   "metadata": {},
   "outputs": [],
   "source": [
    "model = ComplementarySupCon(dataset, 64)"
   ]
  },
  {
   "cell_type": "code",
   "execution_count": 178,
   "metadata": {},
   "outputs": [
    {
     "data": {
      "text/plain": [
       "ComplementarySupCon(\n",
       "  (conv1_o): GCNConv(7, 64)\n",
       "  (conv2_o): GCNConv(64, 64)\n",
       "  (conv1_c): GCNConv(7, 64)\n",
       "  (conv2_c): GCNConv(64, 64)\n",
       ")"
      ]
     },
     "execution_count": 178,
     "metadata": {},
     "output_type": "execute_result"
    }
   ],
   "source": [
    "model"
   ]
  },
  {
   "cell_type": "code",
   "execution_count": 203,
   "metadata": {},
   "outputs": [],
   "source": [
    "# Based on Khosla 2020 - Supervised contrastive learning\n",
    "\n",
    "def supervisedContrastiveLoss(embeddings, labels, tau):\n",
    "    loss = 0\n",
    "    outer = 0\n",
    "    inner = 0\n",
    "    denom = 0\n",
    "\n",
    "    # outer\n",
    "    # z_i = embeddings of graph i\n",
    "    # z_i = label of graph i\n",
    "    for out_index, (z_i, y_i) in enumerate(zip(embeddings, labels)):\n",
    "        Pi = torch.sum(labels == y_i)\n",
    "        # loss = z_i\n",
    "        # loop to all positive pair with z_i and skip z_i\n",
    "        for in_index, (zp_i, lp_i) in enumerate(zip(embeddings, labels)):\n",
    "            if lp_i != y_i or out_index == in_index:\n",
    "                continue\n",
    "            num = torch.exp(torch.matmul(z_i, zp_i)/tau)\n",
    "            # calculate denumerator\n",
    "            for _, za_i in enumerate(embeddings):\n",
    "                # only take zi != za_i\n",
    "                if out_index == in_index:\n",
    "                    continue\n",
    "                denom = denom + torch.exp(torch.matmul(z_i, za_i)/tau)\n",
    "                \n",
    "            inner = inner + torch.log(num/denom)\n",
    "        \n",
    "        outer = outer + (-1 / Pi * inner)\n",
    "\n",
    "        # reset inner denom and inner\n",
    "        denom, inner = 0, 0\n",
    "        \n",
    "    \n",
    "    loss = outer            \n",
    "    # print(loss)\n",
    "    return outer, embeddings"
   ]
  },
  {
   "cell_type": "code",
   "execution_count": 198,
   "metadata": {},
   "outputs": [
    {
     "name": "stdout",
     "output_type": "stream",
     "text": [
      "tensor(182.2872, grad_fn=<AddBackward0>)\n",
      "tensor(179.7015, grad_fn=<AddBackward0>)\n",
      "tensor(164.2228, grad_fn=<AddBackward0>)\n"
     ]
    }
   ],
   "source": [
    "h, x_o, x_c = None, None, None\n",
    "loss = None\n",
    "y = None\n",
    "for index, (g_o, g_c) in enumerate(zip(g_train_loader, gc_train_loader)):\n",
    "    h, x_o, x_c = (model(g_o.x, g_c.x, g_o.edge_index, g_c.edge_index, g_o.batch))\n",
    "    loss, y = supervisedContrastiveLoss(h, g_o.y, 100)\n",
    "    # break"
   ]
  },
  {
   "cell_type": "code",
   "execution_count": 197,
   "metadata": {},
   "outputs": [
    {
     "data": {
      "text/plain": [
       "<torch.autograd.anomaly_mode.set_detect_anomaly at 0x1676d351040>"
      ]
     },
     "execution_count": 197,
     "metadata": {},
     "output_type": "execute_result"
    }
   ],
   "source": [
    "# torch.autograd.set_detect_anomaly(False)"
   ]
  },
  {
   "cell_type": "code",
   "execution_count": 300,
   "metadata": {},
   "outputs": [],
   "source": [
    "def train(model, g_loader, gc_loader):\n",
    "    optimizer = torch.optim.Adam(model.parameters(), lr=0.01)\n",
    "    \n",
    "    model.train()\n",
    "    \n",
    "    for _, (g_o, g_c) in enumerate(zip(g_loader, gc_loader)):\n",
    "        h, x_o, x_c = (model(g_o.x, g_c.x, g_o.edge_index, g_c.edge_index, g_o.batch))\n",
    "        loss, _ = supervisedContrastiveLoss(h, g_o.y, 32)\n",
    "        loss.backward()\n",
    "        optimizer.step()\n",
    "        optimizer.zero_grad()\n",
    "    return h, loss\n",
    "\n",
    "@torch.no_grad()\n",
    "def test(model, loader):\n",
    "    model.eval()\n",
    "    for data in loader:\n",
    "        z, loss = model(data.x, data.edge_index, data.batch)\n",
    "    return z, loss"
   ]
  },
  {
   "cell_type": "code",
   "execution_count": 301,
   "metadata": {},
   "outputs": [
    {
     "name": "stdout",
     "output_type": "stream",
     "text": [
      "epoch: 1 training loss: 161.6641\n",
      "epoch: 2 training loss: 156.5426\n",
      "epoch: 3 training loss: 147.9382\n",
      "epoch: 4 training loss: 147.1410\n",
      "epoch: 5 training loss: 147.1851\n",
      "epoch: 6 training loss: 147.1852\n",
      "epoch: 7 training loss: 147.1653\n",
      "epoch: 8 training loss: 147.0699\n",
      "epoch: 9 training loss: 147.1870\n",
      "epoch: 10 training loss: 147.1501\n",
      "epoch: 11 training loss: 147.1663\n",
      "epoch: 12 training loss: 147.1658\n",
      "epoch: 13 training loss: 147.1409\n",
      "epoch: 14 training loss: 147.0844\n",
      "epoch: 15 training loss: 147.1079\n",
      "epoch: 16 training loss: 147.0854\n",
      "epoch: 17 training loss: 147.0117\n",
      "epoch: 18 training loss: 147.0333\n",
      "epoch: 19 training loss: 147.0114\n",
      "epoch: 20 training loss: 146.8990\n",
      "epoch: 21 training loss: 146.7960\n",
      "epoch: 22 training loss: 146.9786\n",
      "epoch: 23 training loss: 146.6019\n",
      "epoch: 24 training loss: 147.2462\n",
      "epoch: 25 training loss: 147.0716\n",
      "epoch: 26 training loss: 146.9159\n",
      "epoch: 27 training loss: 146.9176\n",
      "epoch: 28 training loss: 147.6386\n",
      "epoch: 29 training loss: 146.6279\n",
      "epoch: 30 training loss: 146.8245\n",
      "epoch: 31 training loss: 147.0727\n",
      "epoch: 32 training loss: 147.7434\n",
      "epoch: 33 training loss: 146.8259\n",
      "epoch: 34 training loss: 146.7946\n",
      "epoch: 35 training loss: 146.7393\n",
      "epoch: 36 training loss: 146.9452\n",
      "epoch: 37 training loss: 146.6105\n",
      "epoch: 38 training loss: 147.2339\n",
      "epoch: 39 training loss: 146.9975\n",
      "epoch: 40 training loss: 148.2584\n",
      "epoch: 41 training loss: 147.2229\n",
      "epoch: 42 training loss: 146.7215\n",
      "epoch: 43 training loss: 146.6874\n",
      "epoch: 44 training loss: 146.9631\n",
      "epoch: 45 training loss: 146.7818\n",
      "epoch: 46 training loss: 146.8572\n",
      "epoch: 47 training loss: 146.7562\n",
      "epoch: 48 training loss: 146.6091\n",
      "epoch: 49 training loss: 148.0648\n",
      "epoch: 50 training loss: 146.5723\n"
     ]
    }
   ],
   "source": [
    "model = ComplementarySupCon(dataset, 64)\n",
    "\n",
    "list_loss = []\n",
    "list_train_acc = []\n",
    "list_test_acc = []\n",
    "z = None\n",
    "# torch.autograd.set_detect_anomaly(True)\n",
    "for epoch in range(0, 50):\n",
    "    h, loss = train(model, g_train_loader, gc_train_loader)\n",
    "    print(f\"epoch: {epoch+1} training loss: {loss:.4f}\")\n",
    "    # print(f\"epoch: {epoch+1} training loss: {loss:.4f}; test loss: {loss_test:.4}\")\n",
    "    # break\n"
   ]
  },
  {
   "cell_type": "code",
   "execution_count": 290,
   "metadata": {},
   "outputs": [],
   "source": [
    "embeddings = [] \n",
    "labels = [] \n",
    "color_list = ['red', 'blue']\n",
    "color_list2 = ['white', 'gray']\n",
    "\n",
    "for _, (g_o, g_c) in enumerate(zip(g_train_loader, gc_train_loader)):\n",
    "    h, x_o, x_c = (model(g_o.x, g_c.x, g_o.edge_index, g_c.edge_index, g_o.batch))\n",
    "    for emb in h:\n",
    "        # print(emb.detach().numpy())|\n",
    "        embeddings.append(emb.detach().numpy())\n",
    "    labels += [color_list[y-1] for y in g_o.y]\n",
    "\n",
    "for _, (g_o, g_c) in enumerate(zip(g_test_loader, gc_test_loader)):\n",
    "    h, x_o, x_c = (model(g_o.x, g_c.x, g_o.edge_index, g_c.edge_index, g_o.batch))\n",
    "    for emb in h:\n",
    "        # print(emb.detach().numpy())|\n",
    "        embeddings.append(emb.detach().numpy())\n",
    "    labels += [color_list[y-1] for y in g_o.y]"
   ]
  },
  {
   "cell_type": "code",
   "execution_count": 291,
   "metadata": {},
   "outputs": [
    {
     "data": {
      "text/plain": [
       "array([[-0.36881438, -0.12340486,  0.02199826, ...,  0.0451711 ,\n",
       "         0.13098003,  0.35874978],\n",
       "       [-0.7055712 ,  0.15735087,  0.3552161 , ..., -0.11775713,\n",
       "         0.11129105,  0.4992735 ],\n",
       "       [-0.70408946,  0.15702295,  0.35772353, ..., -0.12094232,\n",
       "         0.11112064,  0.5003334 ],\n",
       "       ...,\n",
       "       [-0.6827925 ,  0.16901954,  0.37004864, ..., -0.13747919,\n",
       "         0.11617702,  0.47918075],\n",
       "       [-0.270846  , -0.2744132 , -0.07618007, ...,  0.04173164,\n",
       "         0.20364578,  0.41225892],\n",
       "       [-0.65976477,  0.05680251,  0.29274914, ..., -0.09539726,\n",
       "         0.12269305,  0.5188308 ]], dtype=float32)"
      ]
     },
     "execution_count": 291,
     "metadata": {},
     "output_type": "execute_result"
    }
   ],
   "source": [
    "embeddings = np.array(embeddings)\n",
    "embeddings"
   ]
  },
  {
   "cell_type": "code",
   "execution_count": 292,
   "metadata": {},
   "outputs": [],
   "source": [
    "tsne = TSNE(n_components=3, random_state=42)\n",
    "X_tsne = tsne.fit_transform(embeddings)\n",
    "# tsne.kl_divergence_"
   ]
  },
  {
   "cell_type": "code",
   "execution_count": 293,
   "metadata": {},
   "outputs": [],
   "source": [
    "import plotly.express as px"
   ]
  },
  {
   "cell_type": "code",
   "execution_count": 302,
   "metadata": {},
   "outputs": [
    {
     "data": {
      "application/vnd.plotly.v1+json": {
       "config": {
        "plotlyServerURL": "https://plot.ly"
       },
       "data": [
        {
         "hovertemplate": "color=red<br>x=%{x}<br>y=%{y}<extra></extra>",
         "legendgroup": "red",
         "marker": {
          "color": "#636efa",
          "symbol": "circle"
         },
         "mode": "markers",
         "name": "red",
         "orientation": "v",
         "showlegend": true,
         "type": "scatter",
         "x": [
          -5.184054374694824,
          -6.869286060333252,
          2.1958768367767334,
          -5.625762462615967,
          -4.952251434326172,
          -5.281457424163818,
          3.160701036453247,
          2.5946357250213623,
          -6.9174909591674805,
          2.3790266513824463,
          -4.180012226104736,
          4.462605953216553,
          1.171284794807434,
          -10.296172142028809,
          -8.816832542419434,
          -9.914286613464355,
          -4.110466003417969,
          -1.1392595767974854,
          -9.045140266418457,
          1.1985721588134766,
          -0.6143487095832825,
          -8.723461151123047,
          2.246846914291382,
          0.028721125796437263,
          8.57844066619873,
          4.686732292175293,
          -5.20659875869751,
          -2.4942586421966553,
          -6.750857353210449,
          -5.182919979095459,
          -2.054480791091919,
          -9.018328666687012,
          2.8657636642456055,
          -5.123054504394531,
          11.076058387756348,
          0.22368571162223816,
          2.2739672660827637,
          2.274932622909546,
          1.6386808156967163,
          -0.8532293438911438,
          9.84249210357666,
          0.9744648933410645,
          -6.697373867034912,
          -9.0770845413208,
          -0.02383446879684925,
          -3.0693647861480713,
          3.5110960006713867,
          -0.2009996771812439,
          -5.887535095214844,
          -9.056212425231934,
          1.5835251808166504,
          2.273521900177002,
          -4.287684440612793,
          -8.787931442260742,
          1.1676334142684937,
          -5.206099510192871,
          -6.87321138381958,
          -2.050710916519165,
          2.73893666267395,
          5.563864231109619,
          -8.772184371948242,
          -8.825270652770996,
          -3.957785129547119,
          -9.084365844726562,
          -6.696709632873535,
          -6.734676837921143,
          -9.153780937194824,
          -6.904314994812012,
          -0.040518853813409805,
          2.763046979904175,
          -4.376373767852783,
          -3.5075221061706543,
          -9.073986053466797,
          -0.7192122936248779,
          -6.599762916564941,
          -9.031447410583496,
          9.986854553222656,
          -5.828917026519775,
          2.765294313430786,
          -6.791515350341797,
          2.196380376815796,
          -3.5403928756713867,
          -1.8571699857711792,
          0.9777107238769531,
          -9.090317726135254,
          2.76381778717041,
          -8.032583236694336,
          -6.599762916564941,
          10.964550971984863,
          0.9553980827331543,
          -3.5404512882232666,
          2.7115602493286133,
          -5.827362060546875,
          2.2502424716949463,
          0.2223910391330719,
          5.063167095184326,
          5.12803316116333,
          -3.54045033454895,
          11.058592796325684,
          10.421021461486816,
          2.672473907470703,
          -3.537492036819458,
          -5.832441329956055,
          3.743105173110962,
          -5.832497596740723,
          2.2740015983581543,
          0.014579682610929012,
          2.7115602493286133,
          2.5246541500091553,
          -6.640954971313477,
          -6.286024570465088,
          2.506592273712158,
          7.027143955230713,
          9.797636985778809,
          0.042782433331012726,
          10.419514656066895,
          0.9519783854484558,
          2.796154737472534,
          -1.8571699857711792,
          10.888154983520508,
          10.765280723571777,
          2.1962780952453613,
          2.4008569717407227,
          2.3790242671966553,
          -8.00240421295166
         ],
         "xaxis": "x",
         "y": [
          -2.0589046478271484,
          -2.053565502166748,
          2.5934808254241943,
          0.20445749163627625,
          -1.933648705482483,
          -2.072810649871826,
          -0.8196882009506226,
          0.5409989953041077,
          -2.1120083332061768,
          -0.05289696156978607,
          -0.5361887812614441,
          -0.9628090858459473,
          0.10744761675596237,
          -2.370288610458374,
          -3.0976572036743164,
          -3.0039196014404297,
          -0.4960678219795227,
          -0.5046568512916565,
          -2.8318440914154053,
          -0.6708764433860779,
          2.230397939682007,
          -2.707179069519043,
          0.3805983364582062,
          2.662832498550415,
          -1.049281120300293,
          -1.0031911134719849,
          -2.06636905670166,
          -0.12007099390029907,
          -2.3258652687072754,
          -2.058236598968506,
          -0.6225302815437317,
          -2.2851381301879883,
          0.3949390649795532,
          -2.0397961139678955,
          -1.1175673007965088,
          -0.06324698030948639,
          0.01689787022769451,
          0.017961755394935608,
          0.18574576079845428,
          0.45225563645362854,
          -1.3376535177230835,
          1.6748946905136108,
          0.3653460443019867,
          -2.5803067684173584,
          1.5613460540771484,
          -0.4955552816390991,
          2.213282346725464,
          0.8304247856140137,
          -0.5913209319114685,
          -2.3009626865386963,
          0.1730080246925354,
          0.016738981008529663,
          -1.8797968626022339,
          -3.056133985519409,
          0.10581854730844498,
          0.10455784946680069,
          -2.047559976577759,
          -0.6218247413635254,
          2.0712368488311768,
          -1.0647878646850586,
          -2.9952340126037598,
          -2.396061420440674,
          -0.46690717339515686,
          -2.476078748703003,
          0.36522215604782104,
          -2.22316575050354,
          -2.9345924854278564,
          -2.1395821571350098,
          1.5627557039260864,
          2.081693172454834,
          -0.24162444472312927,
          -1.6413044929504395,
          -3.1068689823150635,
          2.6983907222747803,
          -2.095496654510498,
          -2.776311159133911,
          -1.3051501512527466,
          -0.566188633441925,
          2.0842363834381104,
          -2.4182419776916504,
          -0.07360765337944031,
          -1.6718517541885376,
          -1.4315322637557983,
          1.6770973205566406,
          -2.4383344650268555,
          2.0838613510131836,
          -2.507568359375,
          -2.095496654510498,
          -1.0500092506408691,
          1.6760179996490479,
          -1.6718968152999878,
          0.37061071395874023,
          -0.5647203326225281,
          0.38594603538513184,
          -0.06334251910448074,
          -1.215250849723816,
          -1.2200205326080322,
          -1.67189621925354,
          -1.2245118618011475,
          -2.120145082473755,
          0.320747435092926,
          -1.669172763824463,
          -0.5668416619300842,
          -0.3673018515110016,
          -0.5668361783027649,
          0.016911301761865616,
          2.66201114654541,
          0.37061071395874023,
          -0.07255690544843674,
          -2.3856120109558105,
          0.3609110713005066,
          -0.07625505328178406,
          -0.7525790929794312,
          -1.3457460403442383,
          2.664029359817505,
          -1.870694637298584,
          1.6732414960861206,
          0.3402099013328552,
          -1.4315322637557983,
          -1.131431221961975,
          -1.557247519493103,
          -0.07369288057088852,
          0.5177969932556152,
          -0.05289524793624878,
          -2.4990744590759277
         ],
         "yaxis": "y"
        },
        {
         "hovertemplate": "color=blue<br>x=%{x}<br>y=%{y}<extra></extra>",
         "legendgroup": "blue",
         "marker": {
          "color": "#EF553B",
          "symbol": "circle"
         },
         "mode": "markers",
         "name": "blue",
         "orientation": "v",
         "showlegend": true,
         "type": "scatter",
         "x": [
          6.557501316070557,
          6.683290958404541,
          8.674034118652344,
          -4.294104099273682,
          10.423428535461426,
          11.034401893615723,
          9.830734252929688,
          6.744724750518799,
          -2.1916370391845703,
          -2.7004289627075195,
          -3.530128240585327,
          5.591977119445801,
          -2.260899543762207,
          10.911917686462402,
          -2.738891124725342,
          0.16746774315834045,
          0.26856449246406555,
          5.063167095184326,
          -1.029807686805725,
          4.9959235191345215,
          -1.0098081827163696,
          5.0679521560668945,
          -4.256173133850098,
          -1.6944226026535034,
          -4.085836887359619,
          10.825721740722656,
          6.818670749664307,
          5.06702184677124,
          0.014278116635978222,
          -4.203169822692871,
          5.357097625732422,
          5.062617301940918,
          5.935964584350586,
          0.9339484572410583,
          11.034401893615723,
          -5.004491806030273,
          8.674034118652344,
          9.697248458862305,
          -4.093774795532227,
          -5.173117160797119,
          -4.218197345733643,
          -0.8205247521400452,
          6.457844257354736,
          10.858165740966797,
          6.351789474487305,
          -0.513065755367279,
          -0.835663378238678,
          -3.9767043590545654,
          -0.5166204571723938,
          10.463725090026855,
          9.384577751159668,
          10.360527038574219,
          -4.3467512130737305,
          6.7265729904174805,
          5.212612628936768,
          -4.0678205490112305,
          -0.8099978566169739,
          0.26227644085884094,
          9.873151779174805,
          6.272682189941406,
          7.01581335067749,
          6.7265729904174805,
          5.5638041496276855
         ],
         "xaxis": "x",
         "y": [
          -1.5027016401290894,
          -1.1540950536727905,
          -1.4861855506896973,
          -1.8535676002502441,
          -2.0808167457580566,
          -1.9490976333618164,
          -2.0560250282287598,
          -1.2026642560958862,
          -1.485495686531067,
          -1.5026397705078125,
          -1.6671215295791626,
          -0.5493882298469543,
          -1.497374176979065,
          -1.9820564985275269,
          -1.5155354738235474,
          -1.1277953386306763,
          -0.06020638346672058,
          -1.2152507305145264,
          -0.6122857928276062,
          -1.1125051975250244,
          -1.396821141242981,
          -0.9420711398124695,
          -1.8402255773544312,
          -1.390212893486023,
          -1.2460111379623413,
          -1.597632884979248,
          -1.2676517963409424,
          -1.2174512147903442,
          2.658452272415161,
          -1.2680964469909668,
          -0.39313170313835144,
          -0.9422634840011597,
          -1.1712149381637573,
          1.6657410860061646,
          -1.9490970373153687,
          -1.9235336780548096,
          -1.486185908317566,
          -2.1067862510681152,
          -1.2300199270248413,
          -0.47583720088005066,
          -1.2718498706817627,
          0.4708813428878784,
          -1.0112261772155762,
          -1.9289422035217285,
          -1.3274918794631958,
          -1.4637250900268555,
          0.4608705937862396,
          -1.2006970643997192,
          -1.4638988971710205,
          -1.7434638738632202,
          -1.8920785188674927,
          -2.252427577972412,
          -0.6859756112098694,
          -1.5249978303909302,
          -0.16406352818012238,
          -1.226103663444519,
          0.47906768321990967,
          0.736986517906189,
          -2.0717012882232666,
          -1.158682107925415,
          -0.7455736994743347,
          -1.5249978303909302,
          -1.065146565437317
         ],
         "yaxis": "y"
        }
       ],
       "layout": {
        "legend": {
         "title": {
          "text": "color"
         },
         "tracegroupgap": 0
        },
        "margin": {
         "t": 60
        },
        "template": {
         "data": {
          "bar": [
           {
            "error_x": {
             "color": "#2a3f5f"
            },
            "error_y": {
             "color": "#2a3f5f"
            },
            "marker": {
             "line": {
              "color": "#E5ECF6",
              "width": 0.5
             },
             "pattern": {
              "fillmode": "overlay",
              "size": 10,
              "solidity": 0.2
             }
            },
            "type": "bar"
           }
          ],
          "barpolar": [
           {
            "marker": {
             "line": {
              "color": "#E5ECF6",
              "width": 0.5
             },
             "pattern": {
              "fillmode": "overlay",
              "size": 10,
              "solidity": 0.2
             }
            },
            "type": "barpolar"
           }
          ],
          "carpet": [
           {
            "aaxis": {
             "endlinecolor": "#2a3f5f",
             "gridcolor": "white",
             "linecolor": "white",
             "minorgridcolor": "white",
             "startlinecolor": "#2a3f5f"
            },
            "baxis": {
             "endlinecolor": "#2a3f5f",
             "gridcolor": "white",
             "linecolor": "white",
             "minorgridcolor": "white",
             "startlinecolor": "#2a3f5f"
            },
            "type": "carpet"
           }
          ],
          "choropleth": [
           {
            "colorbar": {
             "outlinewidth": 0,
             "ticks": ""
            },
            "type": "choropleth"
           }
          ],
          "contour": [
           {
            "colorbar": {
             "outlinewidth": 0,
             "ticks": ""
            },
            "colorscale": [
             [
              0,
              "#0d0887"
             ],
             [
              0.1111111111111111,
              "#46039f"
             ],
             [
              0.2222222222222222,
              "#7201a8"
             ],
             [
              0.3333333333333333,
              "#9c179e"
             ],
             [
              0.4444444444444444,
              "#bd3786"
             ],
             [
              0.5555555555555556,
              "#d8576b"
             ],
             [
              0.6666666666666666,
              "#ed7953"
             ],
             [
              0.7777777777777778,
              "#fb9f3a"
             ],
             [
              0.8888888888888888,
              "#fdca26"
             ],
             [
              1,
              "#f0f921"
             ]
            ],
            "type": "contour"
           }
          ],
          "contourcarpet": [
           {
            "colorbar": {
             "outlinewidth": 0,
             "ticks": ""
            },
            "type": "contourcarpet"
           }
          ],
          "heatmap": [
           {
            "colorbar": {
             "outlinewidth": 0,
             "ticks": ""
            },
            "colorscale": [
             [
              0,
              "#0d0887"
             ],
             [
              0.1111111111111111,
              "#46039f"
             ],
             [
              0.2222222222222222,
              "#7201a8"
             ],
             [
              0.3333333333333333,
              "#9c179e"
             ],
             [
              0.4444444444444444,
              "#bd3786"
             ],
             [
              0.5555555555555556,
              "#d8576b"
             ],
             [
              0.6666666666666666,
              "#ed7953"
             ],
             [
              0.7777777777777778,
              "#fb9f3a"
             ],
             [
              0.8888888888888888,
              "#fdca26"
             ],
             [
              1,
              "#f0f921"
             ]
            ],
            "type": "heatmap"
           }
          ],
          "heatmapgl": [
           {
            "colorbar": {
             "outlinewidth": 0,
             "ticks": ""
            },
            "colorscale": [
             [
              0,
              "#0d0887"
             ],
             [
              0.1111111111111111,
              "#46039f"
             ],
             [
              0.2222222222222222,
              "#7201a8"
             ],
             [
              0.3333333333333333,
              "#9c179e"
             ],
             [
              0.4444444444444444,
              "#bd3786"
             ],
             [
              0.5555555555555556,
              "#d8576b"
             ],
             [
              0.6666666666666666,
              "#ed7953"
             ],
             [
              0.7777777777777778,
              "#fb9f3a"
             ],
             [
              0.8888888888888888,
              "#fdca26"
             ],
             [
              1,
              "#f0f921"
             ]
            ],
            "type": "heatmapgl"
           }
          ],
          "histogram": [
           {
            "marker": {
             "pattern": {
              "fillmode": "overlay",
              "size": 10,
              "solidity": 0.2
             }
            },
            "type": "histogram"
           }
          ],
          "histogram2d": [
           {
            "colorbar": {
             "outlinewidth": 0,
             "ticks": ""
            },
            "colorscale": [
             [
              0,
              "#0d0887"
             ],
             [
              0.1111111111111111,
              "#46039f"
             ],
             [
              0.2222222222222222,
              "#7201a8"
             ],
             [
              0.3333333333333333,
              "#9c179e"
             ],
             [
              0.4444444444444444,
              "#bd3786"
             ],
             [
              0.5555555555555556,
              "#d8576b"
             ],
             [
              0.6666666666666666,
              "#ed7953"
             ],
             [
              0.7777777777777778,
              "#fb9f3a"
             ],
             [
              0.8888888888888888,
              "#fdca26"
             ],
             [
              1,
              "#f0f921"
             ]
            ],
            "type": "histogram2d"
           }
          ],
          "histogram2dcontour": [
           {
            "colorbar": {
             "outlinewidth": 0,
             "ticks": ""
            },
            "colorscale": [
             [
              0,
              "#0d0887"
             ],
             [
              0.1111111111111111,
              "#46039f"
             ],
             [
              0.2222222222222222,
              "#7201a8"
             ],
             [
              0.3333333333333333,
              "#9c179e"
             ],
             [
              0.4444444444444444,
              "#bd3786"
             ],
             [
              0.5555555555555556,
              "#d8576b"
             ],
             [
              0.6666666666666666,
              "#ed7953"
             ],
             [
              0.7777777777777778,
              "#fb9f3a"
             ],
             [
              0.8888888888888888,
              "#fdca26"
             ],
             [
              1,
              "#f0f921"
             ]
            ],
            "type": "histogram2dcontour"
           }
          ],
          "mesh3d": [
           {
            "colorbar": {
             "outlinewidth": 0,
             "ticks": ""
            },
            "type": "mesh3d"
           }
          ],
          "parcoords": [
           {
            "line": {
             "colorbar": {
              "outlinewidth": 0,
              "ticks": ""
             }
            },
            "type": "parcoords"
           }
          ],
          "pie": [
           {
            "automargin": true,
            "type": "pie"
           }
          ],
          "scatter": [
           {
            "fillpattern": {
             "fillmode": "overlay",
             "size": 10,
             "solidity": 0.2
            },
            "type": "scatter"
           }
          ],
          "scatter3d": [
           {
            "line": {
             "colorbar": {
              "outlinewidth": 0,
              "ticks": ""
             }
            },
            "marker": {
             "colorbar": {
              "outlinewidth": 0,
              "ticks": ""
             }
            },
            "type": "scatter3d"
           }
          ],
          "scattercarpet": [
           {
            "marker": {
             "colorbar": {
              "outlinewidth": 0,
              "ticks": ""
             }
            },
            "type": "scattercarpet"
           }
          ],
          "scattergeo": [
           {
            "marker": {
             "colorbar": {
              "outlinewidth": 0,
              "ticks": ""
             }
            },
            "type": "scattergeo"
           }
          ],
          "scattergl": [
           {
            "marker": {
             "colorbar": {
              "outlinewidth": 0,
              "ticks": ""
             }
            },
            "type": "scattergl"
           }
          ],
          "scattermapbox": [
           {
            "marker": {
             "colorbar": {
              "outlinewidth": 0,
              "ticks": ""
             }
            },
            "type": "scattermapbox"
           }
          ],
          "scatterpolar": [
           {
            "marker": {
             "colorbar": {
              "outlinewidth": 0,
              "ticks": ""
             }
            },
            "type": "scatterpolar"
           }
          ],
          "scatterpolargl": [
           {
            "marker": {
             "colorbar": {
              "outlinewidth": 0,
              "ticks": ""
             }
            },
            "type": "scatterpolargl"
           }
          ],
          "scatterternary": [
           {
            "marker": {
             "colorbar": {
              "outlinewidth": 0,
              "ticks": ""
             }
            },
            "type": "scatterternary"
           }
          ],
          "surface": [
           {
            "colorbar": {
             "outlinewidth": 0,
             "ticks": ""
            },
            "colorscale": [
             [
              0,
              "#0d0887"
             ],
             [
              0.1111111111111111,
              "#46039f"
             ],
             [
              0.2222222222222222,
              "#7201a8"
             ],
             [
              0.3333333333333333,
              "#9c179e"
             ],
             [
              0.4444444444444444,
              "#bd3786"
             ],
             [
              0.5555555555555556,
              "#d8576b"
             ],
             [
              0.6666666666666666,
              "#ed7953"
             ],
             [
              0.7777777777777778,
              "#fb9f3a"
             ],
             [
              0.8888888888888888,
              "#fdca26"
             ],
             [
              1,
              "#f0f921"
             ]
            ],
            "type": "surface"
           }
          ],
          "table": [
           {
            "cells": {
             "fill": {
              "color": "#EBF0F8"
             },
             "line": {
              "color": "white"
             }
            },
            "header": {
             "fill": {
              "color": "#C8D4E3"
             },
             "line": {
              "color": "white"
             }
            },
            "type": "table"
           }
          ]
         },
         "layout": {
          "annotationdefaults": {
           "arrowcolor": "#2a3f5f",
           "arrowhead": 0,
           "arrowwidth": 1
          },
          "autotypenumbers": "strict",
          "coloraxis": {
           "colorbar": {
            "outlinewidth": 0,
            "ticks": ""
           }
          },
          "colorscale": {
           "diverging": [
            [
             0,
             "#8e0152"
            ],
            [
             0.1,
             "#c51b7d"
            ],
            [
             0.2,
             "#de77ae"
            ],
            [
             0.3,
             "#f1b6da"
            ],
            [
             0.4,
             "#fde0ef"
            ],
            [
             0.5,
             "#f7f7f7"
            ],
            [
             0.6,
             "#e6f5d0"
            ],
            [
             0.7,
             "#b8e186"
            ],
            [
             0.8,
             "#7fbc41"
            ],
            [
             0.9,
             "#4d9221"
            ],
            [
             1,
             "#276419"
            ]
           ],
           "sequential": [
            [
             0,
             "#0d0887"
            ],
            [
             0.1111111111111111,
             "#46039f"
            ],
            [
             0.2222222222222222,
             "#7201a8"
            ],
            [
             0.3333333333333333,
             "#9c179e"
            ],
            [
             0.4444444444444444,
             "#bd3786"
            ],
            [
             0.5555555555555556,
             "#d8576b"
            ],
            [
             0.6666666666666666,
             "#ed7953"
            ],
            [
             0.7777777777777778,
             "#fb9f3a"
            ],
            [
             0.8888888888888888,
             "#fdca26"
            ],
            [
             1,
             "#f0f921"
            ]
           ],
           "sequentialminus": [
            [
             0,
             "#0d0887"
            ],
            [
             0.1111111111111111,
             "#46039f"
            ],
            [
             0.2222222222222222,
             "#7201a8"
            ],
            [
             0.3333333333333333,
             "#9c179e"
            ],
            [
             0.4444444444444444,
             "#bd3786"
            ],
            [
             0.5555555555555556,
             "#d8576b"
            ],
            [
             0.6666666666666666,
             "#ed7953"
            ],
            [
             0.7777777777777778,
             "#fb9f3a"
            ],
            [
             0.8888888888888888,
             "#fdca26"
            ],
            [
             1,
             "#f0f921"
            ]
           ]
          },
          "colorway": [
           "#636efa",
           "#EF553B",
           "#00cc96",
           "#ab63fa",
           "#FFA15A",
           "#19d3f3",
           "#FF6692",
           "#B6E880",
           "#FF97FF",
           "#FECB52"
          ],
          "font": {
           "color": "#2a3f5f"
          },
          "geo": {
           "bgcolor": "white",
           "lakecolor": "white",
           "landcolor": "#E5ECF6",
           "showlakes": true,
           "showland": true,
           "subunitcolor": "white"
          },
          "hoverlabel": {
           "align": "left"
          },
          "hovermode": "closest",
          "mapbox": {
           "style": "light"
          },
          "paper_bgcolor": "white",
          "plot_bgcolor": "#E5ECF6",
          "polar": {
           "angularaxis": {
            "gridcolor": "white",
            "linecolor": "white",
            "ticks": ""
           },
           "bgcolor": "#E5ECF6",
           "radialaxis": {
            "gridcolor": "white",
            "linecolor": "white",
            "ticks": ""
           }
          },
          "scene": {
           "xaxis": {
            "backgroundcolor": "#E5ECF6",
            "gridcolor": "white",
            "gridwidth": 2,
            "linecolor": "white",
            "showbackground": true,
            "ticks": "",
            "zerolinecolor": "white"
           },
           "yaxis": {
            "backgroundcolor": "#E5ECF6",
            "gridcolor": "white",
            "gridwidth": 2,
            "linecolor": "white",
            "showbackground": true,
            "ticks": "",
            "zerolinecolor": "white"
           },
           "zaxis": {
            "backgroundcolor": "#E5ECF6",
            "gridcolor": "white",
            "gridwidth": 2,
            "linecolor": "white",
            "showbackground": true,
            "ticks": "",
            "zerolinecolor": "white"
           }
          },
          "shapedefaults": {
           "line": {
            "color": "#2a3f5f"
           }
          },
          "ternary": {
           "aaxis": {
            "gridcolor": "white",
            "linecolor": "white",
            "ticks": ""
           },
           "baxis": {
            "gridcolor": "white",
            "linecolor": "white",
            "ticks": ""
           },
           "bgcolor": "#E5ECF6",
           "caxis": {
            "gridcolor": "white",
            "linecolor": "white",
            "ticks": ""
           }
          },
          "title": {
           "x": 0.05
          },
          "xaxis": {
           "automargin": true,
           "gridcolor": "white",
           "linecolor": "white",
           "ticks": "",
           "title": {
            "standoff": 15
           },
           "zerolinecolor": "white",
           "zerolinewidth": 2
          },
          "yaxis": {
           "automargin": true,
           "gridcolor": "white",
           "linecolor": "white",
           "ticks": "",
           "title": {
            "standoff": 15
           },
           "zerolinecolor": "white",
           "zerolinewidth": 2
          }
         }
        },
        "title": {
         "text": "GCN + SupCon + Complementary Graph"
        },
        "xaxis": {
         "anchor": "y",
         "domain": [
          0,
          1
         ],
         "title": {
          "text": "First t-SNE"
         }
        },
        "yaxis": {
         "anchor": "x",
         "domain": [
          0,
          1
         ],
         "title": {
          "text": "Second t-SNE"
         }
        }
       }
      }
     },
     "metadata": {},
     "output_type": "display_data"
    }
   ],
   "source": [
    "fig = px.scatter(x=X_tsne[:, 0], y=X_tsne[:, 1], color=labels)\n",
    "fig.update_layout(\n",
    "    title=\"GCN + SupCon + Complementary Graph\",\n",
    "    xaxis_title=\"First t-SNE\",\n",
    "    yaxis_title=\"Second t-SNE\",\n",
    ")\n",
    "fig.show()"
   ]
  },
  {
   "cell_type": "code",
   "execution_count": null,
   "metadata": {},
   "outputs": [],
   "source": []
  }
 ],
 "metadata": {
  "kernelspec": {
   "display_name": "Python 3",
   "language": "python",
   "name": "python3"
  },
  "language_info": {
   "codemirror_mode": {
    "name": "ipython",
    "version": 3
   },
   "file_extension": ".py",
   "mimetype": "text/x-python",
   "name": "python",
   "nbconvert_exporter": "python",
   "pygments_lexer": "ipython3",
   "version": "3.8.2"
  }
 },
 "nbformat": 4,
 "nbformat_minor": 4
}
