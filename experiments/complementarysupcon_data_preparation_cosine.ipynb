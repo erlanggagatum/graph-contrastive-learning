{
 "cells": [
  {
   "cell_type": "code",
   "execution_count": 1,
   "metadata": {},
   "outputs": [],
   "source": [
    "import torch\n",
    "import torch_geometric\n",
    "\n",
    "from torch_geometric.datasets import TUDataset\n",
    "from torch_geometric.loader import DataLoader"
   ]
  },
  {
   "cell_type": "code",
   "execution_count": 2,
   "metadata": {},
   "outputs": [],
   "source": [
    "import matplotlib as plt\n",
    "import numpy as np\n",
    "import networkx\n",
    "from torch_geometric.data import Data\n",
    "from sklearn.manifold import TSNE"
   ]
  },
  {
   "cell_type": "code",
   "execution_count": 23,
   "metadata": {},
   "outputs": [],
   "source": [
    "from torch_geometric.utils import to_dense_adj\n",
    "from torch.nn import CosineSimilarity"
   ]
  },
  {
   "cell_type": "markdown",
   "metadata": {},
   "source": [
    "## Data Preparation on MUTAG"
   ]
  },
  {
   "cell_type": "code",
   "execution_count": 4,
   "metadata": {},
   "outputs": [],
   "source": [
    "dataset = TUDataset(root=\"../dataset\", name='MUTAG')"
   ]
  },
  {
   "cell_type": "code",
   "execution_count": 5,
   "metadata": {},
   "outputs": [
    {
     "name": "stdout",
     "output_type": "stream",
     "text": [
      "Original:\n",
      " tensor([[[0., 1., 0., 0., 0., 0., 0., 0., 0., 1., 0., 0., 0.],\n",
      "         [1., 0., 1., 0., 0., 0., 0., 0., 0., 0., 0., 0., 0.],\n",
      "         [0., 1., 0., 1., 0., 0., 0., 1., 0., 0., 0., 0., 0.],\n",
      "         [0., 0., 1., 0., 1., 0., 0., 0., 1., 0., 0., 0., 0.],\n",
      "         [0., 0., 0., 1., 0., 1., 0., 0., 0., 0., 0., 0., 0.],\n",
      "         [0., 0., 0., 0., 1., 0., 1., 0., 0., 0., 0., 0., 0.],\n",
      "         [0., 0., 0., 0., 0., 1., 0., 1., 0., 0., 0., 0., 0.],\n",
      "         [0., 0., 1., 0., 0., 0., 1., 0., 0., 0., 0., 0., 0.],\n",
      "         [0., 0., 0., 1., 0., 0., 0., 0., 0., 1., 1., 0., 0.],\n",
      "         [1., 0., 0., 0., 0., 0., 0., 0., 1., 0., 0., 0., 0.],\n",
      "         [0., 0., 0., 0., 0., 0., 0., 0., 1., 0., 0., 1., 1.],\n",
      "         [0., 0., 0., 0., 0., 0., 0., 0., 0., 0., 1., 0., 0.],\n",
      "         [0., 0., 0., 0., 0., 0., 0., 0., 0., 0., 1., 0., 0.]]])\n",
      "Complementary:\n",
      " tensor([[[0., 0., 1., 1., 1., 1., 1., 1., 1., 0., 1., 1., 1.],\n",
      "         [0., 0., 0., 1., 1., 1., 1., 1., 1., 1., 1., 1., 1.],\n",
      "         [1., 0., 0., 0., 1., 1., 1., 0., 1., 1., 1., 1., 1.],\n",
      "         [1., 1., 0., 0., 0., 1., 1., 1., 0., 1., 1., 1., 1.],\n",
      "         [1., 1., 1., 0., 0., 0., 1., 1., 1., 1., 1., 1., 1.],\n",
      "         [1., 1., 1., 1., 0., 0., 0., 1., 1., 1., 1., 1., 1.],\n",
      "         [1., 1., 1., 1., 1., 0., 0., 0., 1., 1., 1., 1., 1.],\n",
      "         [1., 1., 0., 1., 1., 1., 0., 0., 1., 1., 1., 1., 1.],\n",
      "         [1., 1., 1., 0., 1., 1., 1., 1., 0., 0., 0., 1., 1.],\n",
      "         [0., 1., 1., 1., 1., 1., 1., 1., 0., 0., 1., 1., 1.],\n",
      "         [1., 1., 1., 1., 1., 1., 1., 1., 0., 1., 0., 0., 0.],\n",
      "         [1., 1., 1., 1., 1., 1., 1., 1., 1., 1., 0., 0., 1.],\n",
      "         [1., 1., 1., 1., 1., 1., 1., 1., 1., 1., 0., 1., 0.]]])\n"
     ]
    }
   ],
   "source": [
    "adj_o = to_dense_adj(dataset[2].edge_index)\n",
    "adj_c = abs(to_dense_adj(dataset[2].edge_index) - 1) - torch.eye(len(dataset[2].x))\n",
    "\n",
    "print(\"Original:\\n\", adj_o)\n",
    "print(\"Complementary:\\n\", (adj_c))"
   ]
  },
  {
   "cell_type": "code",
   "execution_count": 6,
   "metadata": {},
   "outputs": [],
   "source": [
    "def toComplementary(g):\n",
    "    c = abs(to_dense_adj(g.edge_index) - 1) - torch.eye(len(g.x))\n",
    "    c = c[0].nonzero().t().contiguous()\n",
    "    return c"
   ]
  },
  {
   "cell_type": "code",
   "execution_count": 7,
   "metadata": {},
   "outputs": [],
   "source": [
    "dataset_c = []\n",
    "for graph in dataset:\n",
    "    edge_c = toComplementary(graph)\n",
    "    dataset_c.append(Data(edge_index=edge_c, x=graph.x, y=graph.y))"
   ]
  },
  {
   "cell_type": "code",
   "execution_count": 8,
   "metadata": {},
   "outputs": [
    {
     "data": {
      "text/plain": [
       "tensor([1, 0, 0, 1, 0, 1, 0, 1, 0, 1, 1, 1, 1, 0, 1, 1, 0, 1, 0, 1, 1, 1, 1, 1,\n",
       "        1, 1, 1, 1, 1, 1, 1, 1, 1, 0, 1, 0, 1, 0, 0, 0, 1, 0, 1, 1, 1, 1, 1, 1,\n",
       "        1, 1, 1, 1, 1, 1, 0, 1, 1, 1, 1, 1, 1, 0, 1, 1, 0, 0, 1, 1, 1, 0, 1, 1,\n",
       "        0, 1, 1, 0, 0, 0, 1, 1, 1, 1, 1, 0, 1, 1, 1, 0, 0, 1, 1, 1, 1, 1, 1, 1,\n",
       "        1, 0, 1, 0, 1, 1, 1, 1, 1, 1, 1, 1, 1, 0, 0, 1, 0, 0, 1, 0, 1, 1, 0, 0,\n",
       "        1, 1, 0, 0, 1, 1, 1, 1, 0, 0, 0, 0, 0, 1, 0, 1, 1, 0, 0, 1, 0, 0, 0, 0,\n",
       "        1, 1, 0, 1, 1, 0, 1, 1, 1, 0, 0, 0, 1, 1, 1, 0, 1, 1, 1, 1, 1, 1, 1, 0,\n",
       "        1, 1, 1, 1, 1, 1, 0, 1, 1, 1, 0, 1, 0, 0, 1, 1, 0, 0, 1, 0])"
      ]
     },
     "execution_count": 8,
     "metadata": {},
     "output_type": "execute_result"
    }
   ],
   "source": [
    "dataset.y"
   ]
  },
  {
   "cell_type": "code",
   "execution_count": 9,
   "metadata": {},
   "outputs": [
    {
     "name": "stdout",
     "output_type": "stream",
     "text": [
      "[1, 0, 0, 1, 0, 1, 0, 1, 0, 1, 1, 1, 1, 0, 1, 1, 0, 1, 0, 1, 1, 1, 1, 1, 1, 1, 1, 1, 1, 1, 1, 1, 1, 0, 1, 0, 1, 0, 0, 0, 1, 0, 1, 1, 1, 1, 1, 1, 1, 1, 1, 1, 1, 1, 0, 1, 1, 1, 1, 1, 1, 0, 1, 1, 0, 0, 1, 1, 1, 0, 1, 1, 0, 1, 1, 0, 0, 0, 1, 1, 1, 1, 1, 0, 1, 1, 1, 0, 0, 1, 1, 1, 1, 1, 1, 1, 1, 0, 1, 0, 1, 1, 1, 1, 1, 1, 1, 1, 1, 0, 0, 1, 0, 0, 1, 0, 1, 1, 0, 0, 1, 1, 0, 0, 1, 1, 1, 1, 0, 0, 0, 0, 0, 1, 0, 1, 1, 0, 0, 1, 0, 0, 0, 0, 1, 1, 0, 1, 1, 0, 1, 1, 1, 0, 0, 0, 1, 1, 1, 0, 1, 1, 1, 1, 1, 1, 1, 0, 1, 1, 1, 1, 1, 1, 0, 1, 1, 1, 0, 1, 0, 0, 1, 1, 0, 0, 1, 0]\n"
     ]
    }
   ],
   "source": [
    "ys = []\n",
    "for d in dataset_c:\n",
    "    ys.append(d.y.item())\n",
    "print(ys)"
   ]
  },
  {
   "cell_type": "code",
   "execution_count": 10,
   "metadata": {},
   "outputs": [],
   "source": [
    "# Train test split\n",
    "ratio = 0.5\n",
    "total = len(dataset)\n",
    "\n",
    "# original graph\n",
    "g_train = dataset[:round(ratio*total)]\n",
    "g_test = dataset[round(ratio*total):]\n",
    "\n",
    "# complementary graph\n",
    "gc_train = dataset_c[:round(ratio*total)]\n",
    "gc_test = dataset_c[round(ratio*total):]"
   ]
  },
  {
   "cell_type": "code",
   "execution_count": 11,
   "metadata": {},
   "outputs": [
    {
     "name": "stdout",
     "output_type": "stream",
     "text": [
      "g_train MUTAG(94)\n",
      "g_test MUTAG(94)\n",
      "gc_train 94\n",
      "gc_test 94\n"
     ]
    }
   ],
   "source": [
    "print(f'g_train {g_train}')\n",
    "print(f'g_test {g_test}')\n",
    "print(f'gc_train {len(gc_train)}')\n",
    "print(f'gc_test {len(gc_test)}')"
   ]
  },
  {
   "cell_type": "code",
   "execution_count": 12,
   "metadata": {},
   "outputs": [
    {
     "name": "stdout",
     "output_type": "stream",
     "text": [
      "[1, 0, 0, 1, 0, 1, 0, 1, 0, 1, 1, 1, 1, 0, 1, 1, 0, 1, 0, 1, 1, 1, 1, 1, 1, 1, 1, 1, 1, 1, 1, 1, 1, 0, 1, 0, 1, 0, 0, 0, 1, 0, 1, 1, 1, 1, 1, 1, 1, 1, 1, 1, 1, 1, 0, 1, 1, 1, 1, 1, 1, 0, 1, 1, 0, 0, 1, 1, 1, 0, 1, 1, 0, 1, 1, 0, 0, 0, 1, 1, 1, 1, 1, 0, 1, 1, 1, 0, 0, 1, 1, 1, 1, 1]\n"
     ]
    }
   ],
   "source": [
    "print([x.y.item() for x in g_train])"
   ]
  },
  {
   "cell_type": "code",
   "execution_count": 13,
   "metadata": {},
   "outputs": [
    {
     "name": "stdout",
     "output_type": "stream",
     "text": [
      "[1, 0, 0, 1, 0, 1, 0, 1, 0, 1, 1, 1, 1, 0, 1, 1, 0, 1, 0, 1, 1, 1, 1, 1, 1, 1, 1, 1, 1, 1, 1, 1, 1, 0, 1, 0, 1, 0, 0, 0, 1, 0, 1, 1, 1, 1, 1, 1, 1, 1, 1, 1, 1, 1, 0, 1, 1, 1, 1, 1, 1, 0, 1, 1, 0, 0, 1, 1, 1, 0, 1, 1, 0, 1, 1, 0, 0, 0, 1, 1, 1, 1, 1, 0, 1, 1, 1, 0, 0, 1, 1, 1, 1, 1]\n"
     ]
    }
   ],
   "source": [
    "print([x.y.item() for x in gc_train])"
   ]
  },
  {
   "cell_type": "code",
   "execution_count": 280,
   "metadata": {},
   "outputs": [],
   "source": [
    "bs = 16\n",
    "seed = 12345\n",
    "\n",
    "g_train_loader = DataLoader(g_train, batch_size=bs, shuffle=False)\n",
    "g_test_loader = DataLoader(g_test, batch_size=bs, shuffle=False)\n",
    "\n",
    "gc_train_loader = DataLoader(gc_train, batch_size=bs, shuffle=False)\n",
    "gc_test_loader = DataLoader(gc_test, batch_size=bs, shuffle=False)"
   ]
  },
  {
   "cell_type": "code",
   "execution_count": 281,
   "metadata": {},
   "outputs": [
    {
     "name": "stdout",
     "output_type": "stream",
     "text": [
      "tensor([1, 0, 0, 1, 0, 1, 0, 1, 0, 1, 1, 1, 1, 0, 1, 1])\n",
      "tensor([0, 1, 0, 1, 1, 1, 1, 1, 1, 1, 1, 1, 1, 1, 1, 1])\n",
      "tensor([1, 0, 1, 0, 1, 0, 0, 0, 1, 0, 1, 1, 1, 1, 1, 1])\n",
      "tensor([1, 1, 1, 1, 1, 1, 0, 1, 1, 1, 1, 1, 1, 0, 1, 1])\n",
      "tensor([0, 0, 1, 1, 1, 0, 1, 1, 0, 1, 1, 0, 0, 0, 1, 1])\n",
      "tensor([1, 1, 1, 0, 1, 1, 1, 0, 0, 1, 1, 1, 1, 1])\n"
     ]
    }
   ],
   "source": [
    "for g in g_train_loader:\n",
    "    print(g.y)\n",
    "#     break"
   ]
  },
  {
   "cell_type": "code",
   "execution_count": 145,
   "metadata": {},
   "outputs": [
    {
     "name": "stdout",
     "output_type": "stream",
     "text": [
      "tensor([1, 1, 1, 0, 1, 0, 1, 1, 1, 1, 1, 1, 1, 1, 1, 0])\n"
     ]
    }
   ],
   "source": [
    "for g in g_test_loader:\n",
    "    print(g.y)\n",
    "    break"
   ]
  },
  {
   "cell_type": "code",
   "execution_count": 146,
   "metadata": {},
   "outputs": [
    {
     "name": "stdout",
     "output_type": "stream",
     "text": [
      "tensor([1, 0, 0, 1, 0, 1, 0, 1, 0, 1, 1, 1, 1, 0, 1, 1])\n",
      "tensor([0, 1, 0, 1, 1, 1, 1, 1, 1, 1, 1, 1, 1, 1, 1, 1])\n",
      "tensor([1, 0, 1, 0, 1, 0, 0, 0, 1, 0, 1, 1, 1, 1, 1, 1])\n",
      "tensor([1, 1, 1, 1, 1, 1, 0, 1, 1, 1, 1, 1, 1, 0, 1, 1])\n",
      "tensor([0, 0, 1, 1, 1, 0, 1, 1, 0, 1, 1, 0, 0, 0, 1, 1])\n",
      "tensor([1, 1, 1, 0, 1, 1, 1, 0, 0, 1, 1, 1, 1, 1])\n"
     ]
    }
   ],
   "source": [
    "for g in gc_train_loader:\n",
    "    print(g.y)\n",
    "#     break"
   ]
  },
  {
   "cell_type": "code",
   "execution_count": 147,
   "metadata": {},
   "outputs": [
    {
     "name": "stdout",
     "output_type": "stream",
     "text": [
      "tensor([1, 1, 1, 0, 1, 0, 1, 1, 1, 1, 1, 1, 1, 1, 1, 0])\n"
     ]
    }
   ],
   "source": [
    "for g in gc_test_loader:\n",
    "    print(g.y)\n",
    "    break"
   ]
  },
  {
   "cell_type": "markdown",
   "metadata": {},
   "source": [
    "## Building model"
   ]
  },
  {
   "cell_type": "code",
   "execution_count": 148,
   "metadata": {},
   "outputs": [],
   "source": [
    "from torch_geometric.nn import GCNConv\n",
    "from torch.nn import Linear\n",
    "from torch.nn import Linear\n",
    "from torch_geometric.nn import global_mean_pool\n",
    "from torch_geometric.nn import global_max_pool\n",
    "from torch_geometric.nn import global_add_pool\n",
    "import torch.nn.functional as F"
   ]
  },
  {
   "cell_type": "code",
   "execution_count": 194,
   "metadata": {},
   "outputs": [],
   "source": [
    "class ComplementarySupCon(torch.nn.Module):\n",
    "    def __init__(self, dataset, hidden_channels):\n",
    "        super(ComplementarySupCon, self).__init__()\n",
    "        \n",
    "        # weight seed\n",
    "        torch.manual_seed(42)\n",
    "        self.conv1_o = GCNConv(dataset.num_node_features, hidden_channels)\n",
    "        self.conv2_o = GCNConv(hidden_channels, hidden_channels)\n",
    "        self.conv3_o = GCNConv(hidden_channels, hidden_channels)\n",
    "        \n",
    "        self.conv1_c = GCNConv(dataset.num_node_features, hidden_channels)\n",
    "        self.conv2_c = GCNConv(hidden_channels, hidden_channels)\n",
    "        self.conv3_c = GCNConv(hidden_channels, hidden_channels)\n",
    "        \n",
    "        # classification layer\n",
    "        self.lin1 = Linear(hidden_channels, hidden_channels)\n",
    "        self.lin2 = Linear(hidden_channels, dataset.num_classes)\n",
    "\n",
    "    def forward(self, x_o, x_c, edge_index_o, edge_index_c, batch_o, classification = False):\n",
    "        x_o = self.conv1_o(x_o, edge_index_o)\n",
    "        x_o = x_o.relu()\n",
    "        x_o = self.conv2_o(x_o, edge_index_o)\n",
    "        x_o = x_o.relu()\n",
    "        x_o = self.conv3_o(x_o, edge_index_o)\n",
    "\n",
    "        x_c = self.conv1_c(x_c, edge_index_c)\n",
    "        x_c = x_c.relu()\n",
    "        x_c = self.conv2_c(x_c, edge_index_c)\n",
    "        x_c = x_c.relu()\n",
    "        x_c = self.conv3_c(x_c, edge_index_c)\n",
    "\n",
    "\n",
    "        h = (x_o + x_c) / 2\n",
    "        \n",
    "        h = global_add_pool(h, batch_o)\n",
    "        h = self.lin1(h)\n",
    "        \n",
    "        if (classification):\n",
    "            h.relu()\n",
    "            y = F.dropout(h, p=0.5, training=self.training)\n",
    "            y = self.lin2(y)\n",
    "            # y.relu()\n",
    "            # y = self.lin2(y)\n",
    "            \n",
    "            return h, y\n",
    "            \n",
    "        return h, x_o, x_c"
   ]
  },
  {
   "cell_type": "code",
   "execution_count": 195,
   "metadata": {},
   "outputs": [],
   "source": [
    "model = ComplementarySupCon(dataset, 64)"
   ]
  },
  {
   "cell_type": "code",
   "execution_count": 196,
   "metadata": {},
   "outputs": [
    {
     "data": {
      "text/plain": [
       "ComplementarySupCon(\n",
       "  (conv1_o): GCNConv(7, 64)\n",
       "  (conv2_o): GCNConv(64, 64)\n",
       "  (conv3_o): GCNConv(64, 64)\n",
       "  (conv1_c): GCNConv(7, 64)\n",
       "  (conv2_c): GCNConv(64, 64)\n",
       "  (conv3_c): GCNConv(64, 64)\n",
       "  (lin1): Linear(in_features=64, out_features=64, bias=True)\n",
       "  (lin2): Linear(in_features=64, out_features=2, bias=True)\n",
       ")"
      ]
     },
     "execution_count": 196,
     "metadata": {},
     "output_type": "execute_result"
    }
   ],
   "source": [
    "model"
   ]
  },
  {
   "cell_type": "markdown",
   "metadata": {},
   "source": [
    "SupCon Loss"
   ]
  },
  {
   "cell_type": "code",
   "execution_count": 197,
   "metadata": {},
   "outputs": [],
   "source": [
    "# Based on Khosla 2020 - Supervised contrastive learning\n",
    "\n",
    "def supervisedContrastiveLoss(embeddings, labels, tau):\n",
    "    loss = 0\n",
    "    outer = 0\n",
    "    inner = 0\n",
    "    denom = 0\n",
    "    cos = CosineSimilarity(dim=0)\n",
    "\n",
    "    # outer\n",
    "    # z_i = embeddings of graph i\n",
    "    # z_i = label of graph i\n",
    "    for out_index, (z_i, y_i) in enumerate(zip(embeddings, labels)):\n",
    "        Pi = torch.sum(labels == y_i)\n",
    "        # loss = z_i\n",
    "        # loop to all positive pair with z_i and skip z_i\n",
    "        for in_index, (zp_i, lp_i) in enumerate(zip(embeddings, labels)):\n",
    "            if lp_i != y_i or out_index == in_index:\n",
    "                continue\n",
    "            # print(z_i, zp_i)\n",
    "            # print(cos(z_i, zp_i))\n",
    "            num = torch.exp(cos(z_i, zp_i)/tau)\n",
    "            # calculate denumerator\n",
    "            for _, za_i in enumerate(embeddings):\n",
    "                # only take zi != za_i\n",
    "                if out_index == in_index:\n",
    "                    continue\n",
    "                denom = denom + torch.exp(cos(z_i, za_i)/tau)\n",
    "                \n",
    "            inner = inner + torch.log(num/denom)\n",
    "        \n",
    "        outer = outer + (-1 / Pi * inner)\n",
    "\n",
    "        # reset inner denom and inner\n",
    "        denom, inner = 0, 0\n",
    "        \n",
    "    \n",
    "    loss = outer            \n",
    "    # print(loss)\n",
    "    return outer, embeddings"
   ]
  },
  {
   "cell_type": "code",
   "execution_count": 198,
   "metadata": {},
   "outputs": [],
   "source": [
    "# h, x_o, x_c = None, None, None\n",
    "# loss = None\n",
    "# y = None\n",
    "# for index, (g_o, g_c) in enumerate(zip(g_train_loader, gc_train_loader)):\n",
    "#     h, x_o, x_c = (model(g_o.x, g_c.x, g_o.edge_index, g_c.edge_index, g_o.batch))\n",
    "#     loss, y = supervisedContrastiveLoss(h, g_o.y, 100)\n",
    "#     # break"
   ]
  },
  {
   "cell_type": "code",
   "execution_count": 199,
   "metadata": {},
   "outputs": [],
   "source": [
    "# torch.autograd.set_detect_anomaly(False)"
   ]
  },
  {
   "cell_type": "code",
   "execution_count": 300,
   "metadata": {},
   "outputs": [],
   "source": [
    "def train(model, g_loader, gc_loader, classification = False):\n",
    "    optimizer = torch.optim.Adam(model.parameters(), lr=0.01)\n",
    "    \n",
    "    model.train()\n",
    "    classification = classification\n",
    "    criterion = torch.nn.CrossEntropyLoss() if classification else None\n",
    "    \n",
    "    for _, (g_o, g_c) in enumerate(zip(g_loader, gc_loader)):\n",
    "        if classification: # classification\n",
    "            # last parameter is classification mode\n",
    "            h, y = model(g_o.x, g_c.x, g_o.edge_index, g_c.edge_index, g_o.batch, True)\n",
    "            # print(y.size(), g_o.y)\n",
    "            loss = criterion(y, g_o.y)\n",
    "            loss.backward()\n",
    "        else: # pretrain model\n",
    "            h, x_o, x_c = model(g_o.x, g_c.x, g_o.edge_index, g_c.edge_index, g_o.batch)\n",
    "            loss, _ = supervisedContrastiveLoss(h, g_o.y, 0.2)\n",
    "            loss.backward()\n",
    "        optimizer.step()\n",
    "        optimizer.zero_grad()\n",
    "        \n",
    "    if classification:\n",
    "        return h, loss, y \n",
    "    else:\n",
    "        return h, loss\n",
    "\n",
    "@torch.no_grad()\n",
    "def test(model, g_loader, gc_loader):\n",
    "    model.eval()\n",
    "    correct = 0\n",
    "    for _, (g_o, g_c) in enumerate(zip(g_loader, gc_loader)):\n",
    "        z, y = model(g_o.x, g_c.x, g_o.edge_index, g_c.edge_index, g_o.batch, True)\n",
    "        pred = y.argmax(dim=1)\n",
    "        correct += int((pred == g_o.y).sum())\n",
    "\n",
    "    return correct/len(g_loader.dataset), z"
   ]
  },
  {
   "cell_type": "markdown",
   "metadata": {},
   "source": [
    "Pretrain model"
   ]
  },
  {
   "cell_type": "code",
   "execution_count": 301,
   "metadata": {},
   "outputs": [
    {
     "name": "stdout",
     "output_type": "stream",
     "text": [
      "epoch: 1 training loss: 47.4665\n",
      "epoch: 2 training loss: 47.4668\n",
      "epoch: 3 training loss: 47.4608\n",
      "epoch: 4 training loss: 47.4526\n",
      "epoch: 5 training loss: 47.4417\n",
      "epoch: 6 training loss: 47.4294\n",
      "epoch: 7 training loss: 47.3918\n",
      "epoch: 8 training loss: 47.2743\n",
      "epoch: 9 training loss: 47.3903\n",
      "epoch: 10 training loss: 46.9203\n",
      "epoch: 11 training loss: 46.5053\n",
      "epoch: 12 training loss: 47.4007\n",
      "epoch: 13 training loss: 47.2973\n",
      "epoch: 14 training loss: 46.7787\n",
      "epoch: 15 training loss: 46.5491\n",
      "epoch: 16 training loss: 47.3374\n",
      "epoch: 17 training loss: 46.9253\n",
      "epoch: 18 training loss: 45.5580\n",
      "epoch: 19 training loss: 47.3446\n",
      "epoch: 20 training loss: 46.3417\n",
      "epoch: 21 training loss: 46.3845\n",
      "epoch: 22 training loss: 47.2779\n",
      "epoch: 23 training loss: 47.0010\n",
      "epoch: 24 training loss: 47.3818\n",
      "epoch: 25 training loss: 45.1116\n",
      "epoch: 26 training loss: 46.7650\n",
      "epoch: 27 training loss: 46.4692\n",
      "epoch: 28 training loss: 46.3997\n",
      "epoch: 29 training loss: 45.7223\n",
      "epoch: 30 training loss: 45.0842\n",
      "epoch: 31 training loss: 46.2343\n",
      "epoch: 32 training loss: 47.2105\n",
      "epoch: 33 training loss: 46.5276\n",
      "epoch: 34 training loss: 45.1379\n",
      "epoch: 35 training loss: 46.0417\n",
      "epoch: 36 training loss: 45.5252\n",
      "epoch: 37 training loss: 45.4356\n",
      "epoch: 38 training loss: 45.3645\n",
      "epoch: 39 training loss: 45.3341\n",
      "epoch: 40 training loss: 45.4566\n",
      "epoch: 41 training loss: 45.4421\n",
      "epoch: 42 training loss: 45.5741\n",
      "epoch: 43 training loss: 45.2836\n",
      "epoch: 44 training loss: 45.9999\n",
      "epoch: 45 training loss: 45.8771\n",
      "epoch: 46 training loss: 45.5901\n",
      "epoch: 47 training loss: 44.7923\n",
      "epoch: 48 training loss: 45.1776\n",
      "epoch: 49 training loss: 44.5505\n",
      "epoch: 50 training loss: 45.8735\n"
     ]
    }
   ],
   "source": [
    "model = ComplementarySupCon(dataset, 64)\n",
    "\n",
    "pretrain_losses = []\n",
    "\n",
    "z = None\n",
    "# torch.autograd.set_detect_anomaly(True)\n",
    "for epoch in range(0, 50):\n",
    "    h, loss = train(model, g_train_loader, gc_train_loader)\n",
    "    pretrain_losses.append(loss.item())\n",
    "    print(f\"epoch: {epoch+1} training loss: {loss:.4f}\")\n",
    "    # print(f\"epoch: {epoch+1} training loss: {loss:.4f}; test loss: {loss_test:.4}\")\n",
    "    # break\n"
   ]
  },
  {
   "cell_type": "code",
   "execution_count": 302,
   "metadata": {},
   "outputs": [],
   "source": [
    "embeddings = [] \n",
    "labels = [] \n",
    "color_list = ['blue', 'red']\n",
    "\n",
    "for _, (g_o, g_c) in enumerate(zip(g_train_loader, gc_train_loader)):\n",
    "    h, x_o, x_c = (model(g_o.x, g_c.x, g_o.edge_index, g_c.edge_index, g_o.batch))\n",
    "    for emb in h:\n",
    "        # print(emb.detach().numpy())|\n",
    "        embeddings.append(emb.detach().numpy())\n",
    "    labels += [color_list[y-1] for y in g_o.y]\n",
    "\n",
    "for _, (g_o, g_c) in enumerate(zip(g_test_loader, gc_test_loader)):\n",
    "    h, x_o, x_c = (model(g_o.x, g_c.x, g_o.edge_index, g_c.edge_index, g_o.batch))\n",
    "    for emb in h:\n",
    "        # print(emb.detach().numpy())|\n",
    "        embeddings.append(emb.detach().numpy())\n",
    "    labels += [color_list[y-1] for y in g_o.y]"
   ]
  },
  {
   "cell_type": "code",
   "execution_count": 303,
   "metadata": {},
   "outputs": [
    {
     "data": {
      "text/plain": [
       "array([[ 1.0197142 , -0.6379214 ,  1.7902473 , ..., -1.2139672 ,\n",
       "        -1.0275047 , -0.70893025],\n",
       "       [ 0.46608818, -0.26094598,  1.1084774 , ..., -1.1287627 ,\n",
       "        -0.55748636, -0.7436807 ],\n",
       "       [ 0.46916068, -0.26256663,  1.1104692 , ..., -1.129127  ,\n",
       "        -0.55799514, -0.74121344],\n",
       "       ...,\n",
       "       [ 0.34926605, -0.1773268 ,  0.9649823 , ..., -1.1088128 ,\n",
       "        -0.45169097, -0.75308824],\n",
       "       [ 1.5306677 , -0.9829331 ,  2.4164634 , ..., -1.3036174 ,\n",
       "        -1.4713483 , -0.67464983],\n",
       "       [ 0.8467268 , -0.51697236,  1.5688878 , ..., -1.1992679 ,\n",
       "        -0.8864065 , -0.7114735 ]], dtype=float32)"
      ]
     },
     "execution_count": 303,
     "metadata": {},
     "output_type": "execute_result"
    }
   ],
   "source": [
    "embeddings = np.array(embeddings)\n",
    "embeddings"
   ]
  },
  {
   "cell_type": "code",
   "execution_count": 304,
   "metadata": {},
   "outputs": [],
   "source": [
    "tsne = TSNE(n_components=2, random_state=42)\n",
    "X_tsne = tsne.fit_transform(embeddings)\n",
    "# tsne.kl_divergence_"
   ]
  },
  {
   "cell_type": "code",
   "execution_count": 305,
   "metadata": {},
   "outputs": [],
   "source": [
    "import plotly.express as px"
   ]
  },
  {
   "cell_type": "code",
   "execution_count": 306,
   "metadata": {},
   "outputs": [
    {
     "data": {
      "application/vnd.plotly.v1+json": {
       "config": {
        "plotlyServerURL": "https://plot.ly"
       },
       "data": [
        {
         "hovertemplate": "color=blue<br>x=%{x}<br>y=%{y}<extra></extra>",
         "legendgroup": "blue",
         "marker": {
          "color": "#636efa",
          "symbol": "circle"
         },
         "mode": "markers",
         "name": "blue",
         "orientation": "v",
         "showlegend": true,
         "type": "scatter",
         "x": [
          -3.023729085922241,
          2.471965789794922,
          18.970945358276367,
          6.126533031463623,
          -3.0272445678710938,
          -3.0226430892944336,
          3.7815442085266113,
          11.327428817749023,
          2.4856090545654297,
          11.337784767150879,
          -2.087183713912964,
          -1.8103801012039185,
          1.4471204280853271,
          1.8324470520019531,
          13.268765449523926,
          18.13174057006836,
          -2.08880352973938,
          -3.388286590576172,
          13.21713924407959,
          -2.4344780445098877,
          16.731021881103516,
          13.132052421569824,
          11.332475662231445,
          18.039274215698242,
          13.78121280670166,
          -3.860745429992676,
          -3.0194432735443115,
          1.070317268371582,
          2.489203691482544,
          -3.023729085922241,
          -9.95144271850586,
          13.217226028442383,
          10.836372375488281,
          -3.024754762649536,
          3.2003207206726074,
          -3.8346848487854004,
          17.476362228393555,
          17.4791202545166,
          3.2553350925445557,
          12.26927661895752,
          -4.792224884033203,
          11.172330856323242,
          17.170785903930664,
          13.262617111206055,
          6.373199939727783,
          0.808691143989563,
          15.568548202514648,
          6.268171310424805,
          5.202398300170898,
          13.217300415039062,
          3.255014419555664,
          17.476408004760742,
          -5.442601680755615,
          13.298049926757812,
          1.4466731548309326,
          0.493661493062973,
          2.486999034881592,
          -9.945357322692871,
          17.196969985961914,
          -6.247487545013428,
          13.32658576965332,
          13.132536888122559,
          -4.092347621917725,
          13.297616958618164,
          17.170915603637695,
          2.4716527462005615,
          13.137916564941406,
          2.486873149871826,
          6.3651123046875,
          17.198211669921875,
          1.4095295667648315,
          -7.525041103363037,
          13.137964248657227,
          19.08465003967285,
          2.4716522693634033,
          13.255574226379395,
          -4.790343284606934,
          5.202663421630859,
          17.197490692138672,
          2.487377643585205,
          18.499141693115234,
          -7.526562690734863,
          -14.849074363708496,
          11.174446105957031,
          13.124419212341309,
          17.19746971130371,
          6.3395843505859375,
          2.4716522693634033,
          3.162585973739624,
          11.156676292419434,
          -7.526561260223389,
          11.173629760742188,
          5.201677322387695,
          11.332268714904785,
          -3.8280467987060547,
          -6.365893840789795,
          -6.3539886474609375,
          -7.526562690734863,
          3.200322151184082,
          -16.720964431762695,
          11.193490982055664,
          -7.526642799377441,
          5.202746391296387,
          3.960214614868164,
          5.20274543762207,
          17.476360321044922,
          18.037879943847656,
          11.173629760742188,
          10.914520263671875,
          2.4720916748046875,
          14.375245094299316,
          10.831986427307129,
          -9.213052749633789,
          -4.838701248168945,
          18.040729522705078,
          -16.687000274658203,
          11.154448509216309,
          10.83466911315918,
          -14.849074363708496,
          3.1248717308044434,
          -14.878914833068848,
          18.499174118041992,
          10.831976890563965,
          11.138644218444824,
          6.339976787567139
         ],
         "xaxis": "x",
         "y": [
          0.11223872005939484,
          0.28834980726242065,
          -0.8044186234474182,
          -0.08066006004810333,
          0.11304633319377899,
          0.11203613132238388,
          0.008356240577995777,
          -0.40022924542427063,
          -0.25127455592155457,
          -0.40679776668548584,
          0.041332025080919266,
          0.07068866491317749,
          0.037572845816612244,
          -0.06059306114912033,
          -0.17464114725589752,
          -0.39389267563819885,
          0.04113820567727089,
          -1.1018849611282349,
          -0.1800280213356018,
          0.03870293125510216,
          -0.6111968159675598,
          -0.7065410017967224,
          -0.4183875620365143,
          -0.8698364496231079,
          -0.39921554923057556,
          0.22727729380130768,
          0.10864806175231934,
          0.023232698440551758,
          -0.25306519865989685,
          0.11223872005939484,
          0.3292014002799988,
          -0.1799924671649933,
          -0.3449736535549164,
          0.11206057667732239,
          0.201838418841362,
          -0.02066894620656967,
          -0.3275958299636841,
          -0.327588826417923,
          -0.23515570163726807,
          0.942346453666687,
          0.14768362045288086,
          0.21480317413806915,
          -0.4726111590862274,
          -0.1738443672657013,
          -0.07860731333494186,
          0.027490198612213135,
          -0.5243603587150574,
          -0.0847037062048912,
          -0.04988827556371689,
          -0.17996132373809814,
          -0.23526327311992645,
          -0.32760536670684814,
          0.12756802141666412,
          -0.7064442038536072,
          0.03756694123148918,
          0.02921449951827526,
          -0.2519162893295288,
          0.33016237616539,
          -0.5388668179512024,
          0.2495119422674179,
          -0.20859171450138092,
          -0.7067216634750366,
          0.031208349391818047,
          -0.7065582275390625,
          -0.4725930094718933,
          0.28844764828681946,
          -0.7086300253868103,
          -0.2519017159938812,
          -0.07810769975185394,
          -0.5382722616195679,
          0.03786110132932663,
          0.16560770571231842,
          -0.7086471915245056,
          -0.9461625218391418,
          0.2884478271007538,
          -0.1730096936225891,
          0.14801844954490662,
          -0.049961090087890625,
          -0.5392030477523804,
          -0.25208717584609985,
          -0.5074313879013062,
          0.16483579576015472,
          -0.01709209568798542,
          0.2145799845457077,
          -0.7034159898757935,
          -0.5392107367515564,
          -0.09958826750516891,
          0.2884478271007538,
          0.23234641551971436,
          0.2152107059955597,
          0.16483648121356964,
          -0.6721992492675781,
          -0.04985889419913292,
          -0.4174913167953491,
          -0.020861657336354256,
          -0.02435414306819439,
          0.265800803899765,
          0.16483579576015472,
          0.20183724164962769,
          0.45592790842056274,
          -0.6668837070465088,
          0.1645488440990448,
          -0.04989921301603317,
          -0.004024141002446413,
          -0.04989918693900108,
          -0.32759571075439453,
          -0.8707278370857239,
          -0.6721992492675781,
          -0.5401914119720459,
          0.2885919511318207,
          -0.4783806800842285,
          -0.33852189779281616,
          0.26572734117507935,
          0.14484289288520813,
          -0.8690523505210876,
          0.47088876366615295,
          0.21540366113185883,
          -0.34123143553733826,
          -0.01709289476275444,
          0.25814089179039,
          0.5091500282287598,
          -0.507444441318512,
          -0.3385179936885834,
          -0.6754775643348694,
          -0.09961191564798355
         ],
         "yaxis": "y"
        },
        {
         "hovertemplate": "color=red<br>x=%{x}<br>y=%{y}<extra></extra>",
         "legendgroup": "red",
         "marker": {
          "color": "#EF553B",
          "symbol": "circle"
         },
         "mode": "markers",
         "name": "red",
         "orientation": "v",
         "showlegend": true,
         "type": "scatter",
         "x": [
          -13.936049461364746,
          -13.90084171295166,
          -16.569889068603516,
          -5.444055080413818,
          -16.716129302978516,
          -14.806283950805664,
          -17.54303741455078,
          -13.906537055969238,
          -12.86314868927002,
          -9.66862964630127,
          -7.53536319732666,
          -7.7915544509887695,
          -12.863958358764648,
          -14.815848350524902,
          -9.66836929321289,
          -16.381423950195312,
          -3.825090169906616,
          -6.352906227111816,
          -7.982140064239502,
          -6.364956855773926,
          -15.860219955444336,
          -6.351076126098633,
          -5.442718505859375,
          -16.777891159057617,
          -13.436714172363281,
          -14.881017684936523,
          -13.934380531311035,
          -6.352895736694336,
          18.040157318115234,
          -15.266135215759277,
          -9.828950881958008,
          -6.364173889160156,
          -17.549968719482422,
          11.169073104858398,
          -14.819890022277832,
          -3.0252022743225098,
          -16.571544647216797,
          -9.437219619750977,
          -15.474166870117188,
          3.2389588356018066,
          -15.262978553771973,
          18.845712661743164,
          -14.307198524475098,
          -14.802600860595703,
          -15.409215927124023,
          -8.658746719360352,
          17.11843490600586,
          -13.540299415588379,
          -8.771709442138672,
          -14.661774635314941,
          -15.719182014465332,
          -16.62944793701172,
          -3.649576425552368,
          -15.971753120422363,
          -4.965044021606445,
          -15.4749174118042,
          19.314735412597656,
          12.57873249053955,
          -17.53628921508789,
          -10.64814281463623,
          -9.219754219055176,
          -15.979230880737305,
          -6.276816368103027
         ],
         "xaxis": "x",
         "y": [
          0.2900221049785614,
          0.29846513271331787,
          0.03970961272716522,
          0.12769253551959991,
          0.45306074619293213,
          0.47418421506881714,
          0.284482479095459,
          0.2981933057308197,
          0.217116117477417,
          0.10289347171783447,
          0.15680678188800812,
          0.12190946936607361,
          0.21711978316307068,
          0.47911491990089417,
          0.10278069972991943,
          0.008603454567492008,
          -0.020832370966672897,
          0.26598042249679565,
          0.2734880745410919,
          -0.02448425441980362,
          -0.40711548924446106,
          0.2661858797073364,
          0.12768399715423584,
          0.09490413218736649,
          0.11683963984251022,
          0.5097489953041077,
          0.28710708022117615,
          0.26595377922058105,
          -0.8692154288291931,
          -0.25220176577568054,
          0.25036925077438354,
          -0.024308642372488976,
          0.24715937674045563,
          0.21504250168800354,
          0.4815066158771515,
          0.1118028536438942,
          0.03926694765686989,
          0.17042528092861176,
          -0.1283414363861084,
          -0.23236511647701263,
          -0.2538052797317505,
          -1.0680675506591797,
          -0.3085099756717682,
          0.4717049300670624,
          -0.19367250800132751,
          0.8139992356300354,
          -1.1406883001327515,
          0.08325369656085968,
          0.7592654824256897,
          0.2567612826824188,
          0.3668777048587799,
          0.4815346896648407,
          -0.8652698993682861,
          0.45043259859085083,
          -0.4961256980895996,
          -0.12799586355686188,
          -1.0917376279830933,
          -0.0948152169585228,
          0.2851927578449249,
          0.19046173989772797,
          0.2672506868839264,
          0.45011332631111145,
          -0.020274899899959564
         ],
         "yaxis": "y"
        }
       ],
       "layout": {
        "legend": {
         "title": {
          "text": "color"
         },
         "tracegroupgap": 0
        },
        "margin": {
         "t": 60
        },
        "template": {
         "data": {
          "bar": [
           {
            "error_x": {
             "color": "#2a3f5f"
            },
            "error_y": {
             "color": "#2a3f5f"
            },
            "marker": {
             "line": {
              "color": "#E5ECF6",
              "width": 0.5
             },
             "pattern": {
              "fillmode": "overlay",
              "size": 10,
              "solidity": 0.2
             }
            },
            "type": "bar"
           }
          ],
          "barpolar": [
           {
            "marker": {
             "line": {
              "color": "#E5ECF6",
              "width": 0.5
             },
             "pattern": {
              "fillmode": "overlay",
              "size": 10,
              "solidity": 0.2
             }
            },
            "type": "barpolar"
           }
          ],
          "carpet": [
           {
            "aaxis": {
             "endlinecolor": "#2a3f5f",
             "gridcolor": "white",
             "linecolor": "white",
             "minorgridcolor": "white",
             "startlinecolor": "#2a3f5f"
            },
            "baxis": {
             "endlinecolor": "#2a3f5f",
             "gridcolor": "white",
             "linecolor": "white",
             "minorgridcolor": "white",
             "startlinecolor": "#2a3f5f"
            },
            "type": "carpet"
           }
          ],
          "choropleth": [
           {
            "colorbar": {
             "outlinewidth": 0,
             "ticks": ""
            },
            "type": "choropleth"
           }
          ],
          "contour": [
           {
            "colorbar": {
             "outlinewidth": 0,
             "ticks": ""
            },
            "colorscale": [
             [
              0,
              "#0d0887"
             ],
             [
              0.1111111111111111,
              "#46039f"
             ],
             [
              0.2222222222222222,
              "#7201a8"
             ],
             [
              0.3333333333333333,
              "#9c179e"
             ],
             [
              0.4444444444444444,
              "#bd3786"
             ],
             [
              0.5555555555555556,
              "#d8576b"
             ],
             [
              0.6666666666666666,
              "#ed7953"
             ],
             [
              0.7777777777777778,
              "#fb9f3a"
             ],
             [
              0.8888888888888888,
              "#fdca26"
             ],
             [
              1,
              "#f0f921"
             ]
            ],
            "type": "contour"
           }
          ],
          "contourcarpet": [
           {
            "colorbar": {
             "outlinewidth": 0,
             "ticks": ""
            },
            "type": "contourcarpet"
           }
          ],
          "heatmap": [
           {
            "colorbar": {
             "outlinewidth": 0,
             "ticks": ""
            },
            "colorscale": [
             [
              0,
              "#0d0887"
             ],
             [
              0.1111111111111111,
              "#46039f"
             ],
             [
              0.2222222222222222,
              "#7201a8"
             ],
             [
              0.3333333333333333,
              "#9c179e"
             ],
             [
              0.4444444444444444,
              "#bd3786"
             ],
             [
              0.5555555555555556,
              "#d8576b"
             ],
             [
              0.6666666666666666,
              "#ed7953"
             ],
             [
              0.7777777777777778,
              "#fb9f3a"
             ],
             [
              0.8888888888888888,
              "#fdca26"
             ],
             [
              1,
              "#f0f921"
             ]
            ],
            "type": "heatmap"
           }
          ],
          "heatmapgl": [
           {
            "colorbar": {
             "outlinewidth": 0,
             "ticks": ""
            },
            "colorscale": [
             [
              0,
              "#0d0887"
             ],
             [
              0.1111111111111111,
              "#46039f"
             ],
             [
              0.2222222222222222,
              "#7201a8"
             ],
             [
              0.3333333333333333,
              "#9c179e"
             ],
             [
              0.4444444444444444,
              "#bd3786"
             ],
             [
              0.5555555555555556,
              "#d8576b"
             ],
             [
              0.6666666666666666,
              "#ed7953"
             ],
             [
              0.7777777777777778,
              "#fb9f3a"
             ],
             [
              0.8888888888888888,
              "#fdca26"
             ],
             [
              1,
              "#f0f921"
             ]
            ],
            "type": "heatmapgl"
           }
          ],
          "histogram": [
           {
            "marker": {
             "pattern": {
              "fillmode": "overlay",
              "size": 10,
              "solidity": 0.2
             }
            },
            "type": "histogram"
           }
          ],
          "histogram2d": [
           {
            "colorbar": {
             "outlinewidth": 0,
             "ticks": ""
            },
            "colorscale": [
             [
              0,
              "#0d0887"
             ],
             [
              0.1111111111111111,
              "#46039f"
             ],
             [
              0.2222222222222222,
              "#7201a8"
             ],
             [
              0.3333333333333333,
              "#9c179e"
             ],
             [
              0.4444444444444444,
              "#bd3786"
             ],
             [
              0.5555555555555556,
              "#d8576b"
             ],
             [
              0.6666666666666666,
              "#ed7953"
             ],
             [
              0.7777777777777778,
              "#fb9f3a"
             ],
             [
              0.8888888888888888,
              "#fdca26"
             ],
             [
              1,
              "#f0f921"
             ]
            ],
            "type": "histogram2d"
           }
          ],
          "histogram2dcontour": [
           {
            "colorbar": {
             "outlinewidth": 0,
             "ticks": ""
            },
            "colorscale": [
             [
              0,
              "#0d0887"
             ],
             [
              0.1111111111111111,
              "#46039f"
             ],
             [
              0.2222222222222222,
              "#7201a8"
             ],
             [
              0.3333333333333333,
              "#9c179e"
             ],
             [
              0.4444444444444444,
              "#bd3786"
             ],
             [
              0.5555555555555556,
              "#d8576b"
             ],
             [
              0.6666666666666666,
              "#ed7953"
             ],
             [
              0.7777777777777778,
              "#fb9f3a"
             ],
             [
              0.8888888888888888,
              "#fdca26"
             ],
             [
              1,
              "#f0f921"
             ]
            ],
            "type": "histogram2dcontour"
           }
          ],
          "mesh3d": [
           {
            "colorbar": {
             "outlinewidth": 0,
             "ticks": ""
            },
            "type": "mesh3d"
           }
          ],
          "parcoords": [
           {
            "line": {
             "colorbar": {
              "outlinewidth": 0,
              "ticks": ""
             }
            },
            "type": "parcoords"
           }
          ],
          "pie": [
           {
            "automargin": true,
            "type": "pie"
           }
          ],
          "scatter": [
           {
            "fillpattern": {
             "fillmode": "overlay",
             "size": 10,
             "solidity": 0.2
            },
            "type": "scatter"
           }
          ],
          "scatter3d": [
           {
            "line": {
             "colorbar": {
              "outlinewidth": 0,
              "ticks": ""
             }
            },
            "marker": {
             "colorbar": {
              "outlinewidth": 0,
              "ticks": ""
             }
            },
            "type": "scatter3d"
           }
          ],
          "scattercarpet": [
           {
            "marker": {
             "colorbar": {
              "outlinewidth": 0,
              "ticks": ""
             }
            },
            "type": "scattercarpet"
           }
          ],
          "scattergeo": [
           {
            "marker": {
             "colorbar": {
              "outlinewidth": 0,
              "ticks": ""
             }
            },
            "type": "scattergeo"
           }
          ],
          "scattergl": [
           {
            "marker": {
             "colorbar": {
              "outlinewidth": 0,
              "ticks": ""
             }
            },
            "type": "scattergl"
           }
          ],
          "scattermapbox": [
           {
            "marker": {
             "colorbar": {
              "outlinewidth": 0,
              "ticks": ""
             }
            },
            "type": "scattermapbox"
           }
          ],
          "scatterpolar": [
           {
            "marker": {
             "colorbar": {
              "outlinewidth": 0,
              "ticks": ""
             }
            },
            "type": "scatterpolar"
           }
          ],
          "scatterpolargl": [
           {
            "marker": {
             "colorbar": {
              "outlinewidth": 0,
              "ticks": ""
             }
            },
            "type": "scatterpolargl"
           }
          ],
          "scatterternary": [
           {
            "marker": {
             "colorbar": {
              "outlinewidth": 0,
              "ticks": ""
             }
            },
            "type": "scatterternary"
           }
          ],
          "surface": [
           {
            "colorbar": {
             "outlinewidth": 0,
             "ticks": ""
            },
            "colorscale": [
             [
              0,
              "#0d0887"
             ],
             [
              0.1111111111111111,
              "#46039f"
             ],
             [
              0.2222222222222222,
              "#7201a8"
             ],
             [
              0.3333333333333333,
              "#9c179e"
             ],
             [
              0.4444444444444444,
              "#bd3786"
             ],
             [
              0.5555555555555556,
              "#d8576b"
             ],
             [
              0.6666666666666666,
              "#ed7953"
             ],
             [
              0.7777777777777778,
              "#fb9f3a"
             ],
             [
              0.8888888888888888,
              "#fdca26"
             ],
             [
              1,
              "#f0f921"
             ]
            ],
            "type": "surface"
           }
          ],
          "table": [
           {
            "cells": {
             "fill": {
              "color": "#EBF0F8"
             },
             "line": {
              "color": "white"
             }
            },
            "header": {
             "fill": {
              "color": "#C8D4E3"
             },
             "line": {
              "color": "white"
             }
            },
            "type": "table"
           }
          ]
         },
         "layout": {
          "annotationdefaults": {
           "arrowcolor": "#2a3f5f",
           "arrowhead": 0,
           "arrowwidth": 1
          },
          "autotypenumbers": "strict",
          "coloraxis": {
           "colorbar": {
            "outlinewidth": 0,
            "ticks": ""
           }
          },
          "colorscale": {
           "diverging": [
            [
             0,
             "#8e0152"
            ],
            [
             0.1,
             "#c51b7d"
            ],
            [
             0.2,
             "#de77ae"
            ],
            [
             0.3,
             "#f1b6da"
            ],
            [
             0.4,
             "#fde0ef"
            ],
            [
             0.5,
             "#f7f7f7"
            ],
            [
             0.6,
             "#e6f5d0"
            ],
            [
             0.7,
             "#b8e186"
            ],
            [
             0.8,
             "#7fbc41"
            ],
            [
             0.9,
             "#4d9221"
            ],
            [
             1,
             "#276419"
            ]
           ],
           "sequential": [
            [
             0,
             "#0d0887"
            ],
            [
             0.1111111111111111,
             "#46039f"
            ],
            [
             0.2222222222222222,
             "#7201a8"
            ],
            [
             0.3333333333333333,
             "#9c179e"
            ],
            [
             0.4444444444444444,
             "#bd3786"
            ],
            [
             0.5555555555555556,
             "#d8576b"
            ],
            [
             0.6666666666666666,
             "#ed7953"
            ],
            [
             0.7777777777777778,
             "#fb9f3a"
            ],
            [
             0.8888888888888888,
             "#fdca26"
            ],
            [
             1,
             "#f0f921"
            ]
           ],
           "sequentialminus": [
            [
             0,
             "#0d0887"
            ],
            [
             0.1111111111111111,
             "#46039f"
            ],
            [
             0.2222222222222222,
             "#7201a8"
            ],
            [
             0.3333333333333333,
             "#9c179e"
            ],
            [
             0.4444444444444444,
             "#bd3786"
            ],
            [
             0.5555555555555556,
             "#d8576b"
            ],
            [
             0.6666666666666666,
             "#ed7953"
            ],
            [
             0.7777777777777778,
             "#fb9f3a"
            ],
            [
             0.8888888888888888,
             "#fdca26"
            ],
            [
             1,
             "#f0f921"
            ]
           ]
          },
          "colorway": [
           "#636efa",
           "#EF553B",
           "#00cc96",
           "#ab63fa",
           "#FFA15A",
           "#19d3f3",
           "#FF6692",
           "#B6E880",
           "#FF97FF",
           "#FECB52"
          ],
          "font": {
           "color": "#2a3f5f"
          },
          "geo": {
           "bgcolor": "white",
           "lakecolor": "white",
           "landcolor": "#E5ECF6",
           "showlakes": true,
           "showland": true,
           "subunitcolor": "white"
          },
          "hoverlabel": {
           "align": "left"
          },
          "hovermode": "closest",
          "mapbox": {
           "style": "light"
          },
          "paper_bgcolor": "white",
          "plot_bgcolor": "#E5ECF6",
          "polar": {
           "angularaxis": {
            "gridcolor": "white",
            "linecolor": "white",
            "ticks": ""
           },
           "bgcolor": "#E5ECF6",
           "radialaxis": {
            "gridcolor": "white",
            "linecolor": "white",
            "ticks": ""
           }
          },
          "scene": {
           "xaxis": {
            "backgroundcolor": "#E5ECF6",
            "gridcolor": "white",
            "gridwidth": 2,
            "linecolor": "white",
            "showbackground": true,
            "ticks": "",
            "zerolinecolor": "white"
           },
           "yaxis": {
            "backgroundcolor": "#E5ECF6",
            "gridcolor": "white",
            "gridwidth": 2,
            "linecolor": "white",
            "showbackground": true,
            "ticks": "",
            "zerolinecolor": "white"
           },
           "zaxis": {
            "backgroundcolor": "#E5ECF6",
            "gridcolor": "white",
            "gridwidth": 2,
            "linecolor": "white",
            "showbackground": true,
            "ticks": "",
            "zerolinecolor": "white"
           }
          },
          "shapedefaults": {
           "line": {
            "color": "#2a3f5f"
           }
          },
          "ternary": {
           "aaxis": {
            "gridcolor": "white",
            "linecolor": "white",
            "ticks": ""
           },
           "baxis": {
            "gridcolor": "white",
            "linecolor": "white",
            "ticks": ""
           },
           "bgcolor": "#E5ECF6",
           "caxis": {
            "gridcolor": "white",
            "linecolor": "white",
            "ticks": ""
           }
          },
          "title": {
           "x": 0.05
          },
          "xaxis": {
           "automargin": true,
           "gridcolor": "white",
           "linecolor": "white",
           "ticks": "",
           "title": {
            "standoff": 15
           },
           "zerolinecolor": "white",
           "zerolinewidth": 2
          },
          "yaxis": {
           "automargin": true,
           "gridcolor": "white",
           "linecolor": "white",
           "ticks": "",
           "title": {
            "standoff": 15
           },
           "zerolinecolor": "white",
           "zerolinewidth": 2
          }
         }
        },
        "title": {
         "text": "GCN + SupCon + Complementary Graph"
        },
        "xaxis": {
         "anchor": "y",
         "domain": [
          0,
          1
         ],
         "title": {
          "text": "First t-SNE"
         }
        },
        "yaxis": {
         "anchor": "x",
         "domain": [
          0,
          1
         ],
         "title": {
          "text": "Second t-SNE"
         }
        }
       }
      }
     },
     "metadata": {},
     "output_type": "display_data"
    }
   ],
   "source": [
    "fig = px.scatter(x=X_tsne[:, 0], y=X_tsne[:, 1], color=labels)\n",
    "fig.update_layout(\n",
    "    title=\"GCN + SupCon + Complementary Graph\",\n",
    "    xaxis_title=\"First t-SNE\",\n",
    "    yaxis_title=\"Second t-SNE\",\n",
    ")\n",
    "fig.show()"
   ]
  },
  {
   "cell_type": "markdown",
   "metadata": {},
   "source": [
    "#### After Pre-training (training classifier)"
   ]
  },
  {
   "cell_type": "markdown",
   "metadata": {},
   "source": [
    "freeze model parameter (just the conv layer)"
   ]
  },
  {
   "cell_type": "code",
   "execution_count": 307,
   "metadata": {},
   "outputs": [],
   "source": [
    "for name, para in model.named_parameters():\n",
    "    # if \"conv\" or \"lin1\" in name:\n",
    "    para.requires_grad = True"
   ]
  },
  {
   "cell_type": "code",
   "execution_count": 308,
   "metadata": {},
   "outputs": [],
   "source": [
    "for name, para in model.named_parameters():\n",
    "    if \"conv\" in name:\n",
    "        para.requires_grad = False\n",
    "    if \"lin1\" in name:\n",
    "        para.requires_grad = False"
   ]
  },
  {
   "cell_type": "code",
   "execution_count": 309,
   "metadata": {},
   "outputs": [
    {
     "name": "stdout",
     "output_type": "stream",
     "text": [
      "epoch: 1 loss: 0.3357; train_acc: 0.7234; test_acc: 0.6064\n",
      "epoch: 2 loss: 0.3856; train_acc: 0.883; test_acc: 0.7447\n",
      "epoch: 3 loss: 0.1648; train_acc: 0.8617; test_acc: 0.7553\n",
      "epoch: 4 loss: 0.1371; train_acc: 0.883; test_acc: 0.7979\n",
      "epoch: 5 loss: 0.1872; train_acc: 0.9043; test_acc: 0.7979\n",
      "epoch: 6 loss: 0.1497; train_acc: 0.883; test_acc: 0.7766\n",
      "epoch: 7 loss: 0.1536; train_acc: 0.9149; test_acc: 0.7447\n",
      "epoch: 8 loss: 0.0906; train_acc: 0.883; test_acc: 0.7766\n",
      "epoch: 9 loss: 0.2941; train_acc: 0.9149; test_acc: 0.7447\n",
      "epoch: 10 loss: 0.1423; train_acc: 0.883; test_acc: 0.7979\n",
      "epoch: 11 loss: 0.2695; train_acc: 0.9149; test_acc: 0.7447\n",
      "epoch: 12 loss: 0.1257; train_acc: 0.883; test_acc: 0.7979\n",
      "epoch: 13 loss: 0.0603; train_acc: 0.9149; test_acc: 0.7447\n",
      "epoch: 14 loss: 0.1476; train_acc: 0.9149; test_acc: 0.7447\n",
      "epoch: 15 loss: 0.2703; train_acc: 0.9149; test_acc: 0.7447\n",
      "epoch: 16 loss: 0.1527; train_acc: 0.8936; test_acc: 0.7979\n",
      "epoch: 17 loss: 0.2697; train_acc: 0.9149; test_acc: 0.7447\n",
      "epoch: 18 loss: 0.1250; train_acc: 0.9149; test_acc: 0.7447\n",
      "epoch: 19 loss: 0.2179; train_acc: 0.8936; test_acc: 0.7979\n",
      "epoch: 20 loss: 0.2770; train_acc: 0.9149; test_acc: 0.7447\n",
      "epoch: 21 loss: 0.2855; train_acc: 0.883; test_acc: 0.7979\n",
      "epoch: 22 loss: 0.2428; train_acc: 0.9149; test_acc: 0.7447\n",
      "epoch: 23 loss: 0.1857; train_acc: 0.9149; test_acc: 0.7447\n",
      "epoch: 24 loss: 0.2394; train_acc: 0.9043; test_acc: 0.7979\n",
      "epoch: 25 loss: 0.0626; train_acc: 0.9149; test_acc: 0.7447\n",
      "epoch: 26 loss: 0.2257; train_acc: 0.9149; test_acc: 0.7447\n",
      "epoch: 27 loss: 0.3225; train_acc: 0.9149; test_acc: 0.7447\n",
      "epoch: 28 loss: 0.1833; train_acc: 0.9149; test_acc: 0.7447\n",
      "epoch: 29 loss: 0.1578; train_acc: 0.9149; test_acc: 0.7447\n",
      "epoch: 30 loss: 0.2815; train_acc: 0.9149; test_acc: 0.7447\n",
      "epoch: 31 loss: 0.3386; train_acc: 0.9149; test_acc: 0.7447\n",
      "epoch: 32 loss: 0.2816; train_acc: 0.9149; test_acc: 0.7447\n",
      "epoch: 33 loss: 0.3496; train_acc: 0.9149; test_acc: 0.7447\n",
      "epoch: 34 loss: 0.2011; train_acc: 0.9149; test_acc: 0.7447\n",
      "epoch: 35 loss: 0.2096; train_acc: 0.9149; test_acc: 0.7447\n",
      "epoch: 36 loss: 0.2718; train_acc: 0.9149; test_acc: 0.7447\n",
      "epoch: 37 loss: 0.2119; train_acc: 0.9149; test_acc: 0.7447\n",
      "epoch: 38 loss: 0.0928; train_acc: 0.9468; test_acc: 0.7447\n",
      "epoch: 39 loss: 0.2702; train_acc: 0.9149; test_acc: 0.7447\n",
      "epoch: 40 loss: 0.1872; train_acc: 0.9362; test_acc: 0.7553\n",
      "epoch: 41 loss: 0.2978; train_acc: 0.9149; test_acc: 0.7447\n",
      "epoch: 42 loss: 0.1393; train_acc: 0.9149; test_acc: 0.7447\n",
      "epoch: 43 loss: 0.3327; train_acc: 0.9149; test_acc: 0.7447\n",
      "epoch: 44 loss: 0.3432; train_acc: 0.9149; test_acc: 0.7447\n",
      "epoch: 45 loss: 0.3280; train_acc: 0.9468; test_acc: 0.7447\n",
      "epoch: 46 loss: 0.3648; train_acc: 0.9149; test_acc: 0.7447\n",
      "epoch: 47 loss: 0.2992; train_acc: 0.9362; test_acc: 0.7553\n",
      "epoch: 48 loss: 0.2024; train_acc: 0.9149; test_acc: 0.7447\n",
      "epoch: 49 loss: 0.2291; train_acc: 0.9149; test_acc: 0.7447\n",
      "epoch: 50 loss: 0.3731; train_acc: 0.9149; test_acc: 0.7447\n",
      "epoch: 51 loss: 0.2701; train_acc: 0.9149; test_acc: 0.7447\n",
      "epoch: 52 loss: 0.1532; train_acc: 0.9362; test_acc: 0.7553\n",
      "epoch: 53 loss: 0.0520; train_acc: 0.9043; test_acc: 0.734\n",
      "epoch: 54 loss: 0.1533; train_acc: 0.9149; test_acc: 0.7447\n",
      "epoch: 55 loss: 0.2540; train_acc: 0.9362; test_acc: 0.7553\n",
      "epoch: 56 loss: 0.2535; train_acc: 0.9149; test_acc: 0.7447\n",
      "epoch: 57 loss: 0.2961; train_acc: 0.9149; test_acc: 0.7447\n",
      "epoch: 58 loss: 0.2335; train_acc: 0.9149; test_acc: 0.7447\n",
      "epoch: 59 loss: 0.1959; train_acc: 0.9149; test_acc: 0.7447\n",
      "epoch: 60 loss: 0.3692; train_acc: 0.9149; test_acc: 0.7447\n",
      "epoch: 61 loss: 0.2560; train_acc: 0.9362; test_acc: 0.7553\n",
      "epoch: 62 loss: 0.3518; train_acc: 0.9468; test_acc: 0.7447\n",
      "epoch: 63 loss: 0.6177; train_acc: 0.9149; test_acc: 0.7447\n",
      "epoch: 64 loss: 0.6504; train_acc: 0.9149; test_acc: 0.7447\n",
      "epoch: 65 loss: 0.4630; train_acc: 0.9362; test_acc: 0.7553\n",
      "epoch: 66 loss: 0.3577; train_acc: 0.9149; test_acc: 0.7447\n",
      "epoch: 67 loss: 0.3047; train_acc: 0.9149; test_acc: 0.7447\n",
      "epoch: 68 loss: 0.2820; train_acc: 0.9149; test_acc: 0.7447\n",
      "epoch: 69 loss: 0.5790; train_acc: 0.9149; test_acc: 0.7447\n",
      "epoch: 70 loss: 0.2733; train_acc: 0.9149; test_acc: 0.7447\n",
      "epoch: 71 loss: 0.4063; train_acc: 0.9362; test_acc: 0.7553\n",
      "epoch: 72 loss: 0.6168; train_acc: 0.9149; test_acc: 0.7447\n",
      "epoch: 73 loss: 0.5154; train_acc: 0.9149; test_acc: 0.7447\n",
      "epoch: 74 loss: 0.3265; train_acc: 0.9468; test_acc: 0.7447\n",
      "epoch: 75 loss: 0.3391; train_acc: 0.9149; test_acc: 0.7447\n",
      "epoch: 76 loss: 0.2735; train_acc: 0.9468; test_acc: 0.7447\n",
      "epoch: 77 loss: 0.2227; train_acc: 0.9149; test_acc: 0.7447\n",
      "epoch: 78 loss: 0.4976; train_acc: 0.9362; test_acc: 0.7553\n",
      "epoch: 79 loss: 0.5227; train_acc: 0.9149; test_acc: 0.7447\n",
      "epoch: 80 loss: 0.4532; train_acc: 0.9149; test_acc: 0.7447\n",
      "epoch: 81 loss: 0.4009; train_acc: 0.9468; test_acc: 0.7553\n",
      "epoch: 82 loss: 0.1549; train_acc: 0.9149; test_acc: 0.7447\n",
      "epoch: 83 loss: 0.3389; train_acc: 0.9362; test_acc: 0.7553\n",
      "epoch: 84 loss: 0.1584; train_acc: 0.9149; test_acc: 0.7447\n",
      "epoch: 85 loss: 0.3284; train_acc: 0.9362; test_acc: 0.7553\n",
      "epoch: 86 loss: 0.4328; train_acc: 0.9149; test_acc: 0.7447\n",
      "epoch: 87 loss: 0.4070; train_acc: 0.9362; test_acc: 0.7553\n",
      "epoch: 88 loss: 0.3686; train_acc: 0.9362; test_acc: 0.7553\n",
      "epoch: 89 loss: 0.4638; train_acc: 0.9149; test_acc: 0.7447\n",
      "epoch: 90 loss: 0.6936; train_acc: 0.9362; test_acc: 0.7553\n",
      "epoch: 91 loss: 0.2283; train_acc: 0.9149; test_acc: 0.7447\n",
      "epoch: 92 loss: 0.5022; train_acc: 0.9149; test_acc: 0.7447\n",
      "epoch: 93 loss: 0.5018; train_acc: 0.9149; test_acc: 0.7447\n",
      "epoch: 94 loss: 0.4466; train_acc: 0.9362; test_acc: 0.7553\n",
      "epoch: 95 loss: 0.4149; train_acc: 0.9468; test_acc: 0.7447\n",
      "epoch: 96 loss: 0.5509; train_acc: 0.9468; test_acc: 0.7447\n",
      "epoch: 97 loss: 0.1039; train_acc: 0.9149; test_acc: 0.7447\n",
      "epoch: 98 loss: 0.3566; train_acc: 0.9468; test_acc: 0.7447\n",
      "epoch: 99 loss: 0.2777; train_acc: 0.9149; test_acc: 0.734\n",
      "epoch: 100 loss: 0.5746; train_acc: 0.9468; test_acc: 0.7447\n"
     ]
    }
   ],
   "source": [
    "losses = []\n",
    "train_accs = []\n",
    "test_accs = []\n",
    "\n",
    "for epoch in range(0, 100):\n",
    "    h, loss, y = train(model, g_train_loader, gc_train_loader, classification=True)\n",
    "    train_acc, z = test(model, g_train_loader, gc_train_loader)\n",
    "    test_acc, z = test(model, g_test_loader, gc_test_loader)\n",
    "    \n",
    "    losses.append(round(loss.item(), 4))\n",
    "    train_accs.append(round(train_acc, 4))\n",
    "    test_accs.append(round(test_acc, 4))\n",
    "    \n",
    "    # print(f\"epoch: {epoch+1} training loss: {loss:.4f}\")\n",
    "    print(f\"epoch: {epoch+1} loss: {loss:.4f}; train_acc: {train_acc:.4}; test_acc: {test_acc:.4}\")\n",
    "    # break\n"
   ]
  },
  {
   "cell_type": "markdown",
   "metadata": {},
   "source": [
    "1st Result (embeddings)"
   ]
  },
  {
   "cell_type": "code",
   "execution_count": 310,
   "metadata": {},
   "outputs": [],
   "source": [
    "import matplotlib.pyplot as plt"
   ]
  },
  {
   "cell_type": "code",
   "execution_count": 311,
   "metadata": {},
   "outputs": [
    {
     "data": {
      "image/png": "[encoded data removed]",
      "text/plain": [
       "<Figure size 640x480 with 1 Axes>"
      ]
     },
     "metadata": {},
     "output_type": "display_data"
    }
   ],
   "source": [
    "fig, ax = plt.subplots()\n",
    "ax.plot(train_accs, label='train')\n",
    "ax.plot(test_accs, label='test')\n",
    "ax.set_xlabel('epoch')\n",
    "ax.set_ylabel('accuracy')\n",
    "ax.legend()\n",
    "\n",
    "plt.xlim([0, 100])\n",
    "plt.ylim([0, 1.0])\n",
    "\n",
    "plt.title('GCN + SupCon + Complementary Graph evaluation')\n",
    "plt.show()"
   ]
  },
  {
   "cell_type": "code",
   "execution_count": 312,
   "metadata": {},
   "outputs": [
    {
     "name": "stdout",
     "output_type": "stream",
     "text": [
      "average train accuracy 9.155999999999999\n",
      "average test accuracy 7.497\n"
     ]
    }
   ],
   "source": [
    "print(\"average train accuracy\", round(sum(train_accs)/len(train_accs), 4) * 10)\n",
    "print(\"average test accuracy\", round(sum(test_accs)/len(test_accs), 4) * 10)"
   ]
  },
  {
   "cell_type": "markdown",
   "metadata": {},
   "source": [
    "other"
   ]
  },
  {
   "cell_type": "code",
   "execution_count": 313,
   "metadata": {},
   "outputs": [],
   "source": [
    "classes = {}\n",
    "for cls in dataset.y:\n",
    "    if cls.item() not in classes:\n",
    "        classes[cls.item()] = 1\n",
    "    else:\n",
    "        classes[cls.item()] = classes[cls.item()] + 1 "
   ]
  },
  {
   "cell_type": "code",
   "execution_count": 314,
   "metadata": {},
   "outputs": [
    {
     "data": {
      "text/plain": [
       "{1: 125, 0: 63}"
      ]
     },
     "execution_count": 314,
     "metadata": {},
     "output_type": "execute_result"
    }
   ],
   "source": [
    "classes"
   ]
  },
  {
   "cell_type": "code",
   "execution_count": 315,
   "metadata": {},
   "outputs": [
    {
     "data": {
      "text/plain": [
       "0.6648936170212766"
      ]
     },
     "execution_count": 315,
     "metadata": {},
     "output_type": "execute_result"
    }
   ],
   "source": [
    "classes[1]/(classes[1]+classes[0])"
   ]
  },
  {
   "cell_type": "code",
   "execution_count": 328,
   "metadata": {},
   "outputs": [
    {
     "name": "stdout",
     "output_type": "stream",
     "text": [
      "{1: 1}\n",
      "{1: 1, 0: 1}\n",
      "{1: 1, 0: 2}\n",
      "{1: 2, 0: 2}\n",
      "{1: 2, 0: 3}\n",
      "{1: 3, 0: 3}\n",
      "{1: 3, 0: 4}\n",
      "{1: 4, 0: 4}\n",
      "{1: 4, 0: 5}\n",
      "{1: 5, 0: 5}\n",
      "{1: 6, 0: 5}\n",
      "{1: 7, 0: 5}\n",
      "{1: 8, 0: 5}\n",
      "{1: 8, 0: 6}\n",
      "{1: 9, 0: 6}\n",
      "{1: 10, 0: 6}\n",
      "{1: 10, 0: 7}\n",
      "{1: 11, 0: 7}\n",
      "{1: 11, 0: 8}\n",
      "{1: 12, 0: 8}\n",
      "{1: 13, 0: 8}\n",
      "{1: 14, 0: 8}\n",
      "{1: 15, 0: 8}\n",
      "{1: 16, 0: 8}\n",
      "{1: 17, 0: 8}\n",
      "{1: 18, 0: 8}\n",
      "{1: 19, 0: 8}\n",
      "{1: 20, 0: 8}\n",
      "{1: 21, 0: 8}\n",
      "{1: 22, 0: 8}\n",
      "{1: 23, 0: 8}\n",
      "{1: 24, 0: 8}\n",
      "{1: 25, 0: 8}\n",
      "{1: 25, 0: 9}\n",
      "{1: 26, 0: 9}\n",
      "{1: 26, 0: 10}\n",
      "{1: 27, 0: 10}\n",
      "{1: 27, 0: 11}\n",
      "{1: 27, 0: 12}\n",
      "{1: 27, 0: 13}\n",
      "{1: 28, 0: 13}\n",
      "{1: 28, 0: 14}\n",
      "{1: 29, 0: 14}\n",
      "{1: 30, 0: 14}\n",
      "{1: 31, 0: 14}\n",
      "{1: 32, 0: 14}\n",
      "{1: 33, 0: 14}\n",
      "{1: 34, 0: 14}\n",
      "{1: 35, 0: 14}\n",
      "{1: 36, 0: 14}\n",
      "{1: 37, 0: 14}\n",
      "{1: 38, 0: 14}\n",
      "{1: 39, 0: 14}\n",
      "{1: 40, 0: 14}\n",
      "{1: 40, 0: 15}\n",
      "{1: 41, 0: 15}\n",
      "{1: 42, 0: 15}\n",
      "{1: 43, 0: 15}\n",
      "{1: 44, 0: 15}\n",
      "{1: 45, 0: 15}\n",
      "{1: 46, 0: 15}\n",
      "{1: 46, 0: 16}\n",
      "{1: 47, 0: 16}\n",
      "{1: 48, 0: 16}\n",
      "{1: 48, 0: 17}\n",
      "{1: 48, 0: 18}\n",
      "{1: 49, 0: 18}\n",
      "{1: 50, 0: 18}\n",
      "{1: 51, 0: 18}\n",
      "{1: 51, 0: 19}\n",
      "{1: 52, 0: 19}\n",
      "{1: 53, 0: 19}\n",
      "{1: 53, 0: 20}\n",
      "{1: 54, 0: 20}\n",
      "{1: 55, 0: 20}\n",
      "{1: 55, 0: 21}\n",
      "{1: 55, 0: 22}\n",
      "{1: 55, 0: 23}\n",
      "{1: 56, 0: 23}\n",
      "{1: 57, 0: 23}\n",
      "{1: 58, 0: 23}\n",
      "{1: 59, 0: 23}\n",
      "{1: 60, 0: 23}\n",
      "{1: 60, 0: 24}\n",
      "{1: 61, 0: 24}\n",
      "{1: 62, 0: 24}\n",
      "{1: 63, 0: 24}\n",
      "{1: 63, 0: 25}\n",
      "{1: 63, 0: 26}\n",
      "{1: 64, 0: 26}\n",
      "{1: 65, 0: 26}\n",
      "{1: 66, 0: 26}\n",
      "{1: 67, 0: 26}\n",
      "{1: 68, 0: 26}\n"
     ]
    }
   ],
   "source": [
    "class_train = {}\n",
    "for g in g_train_loader:\n",
    "    for clst in g.y:\n",
    "        if clst.item() not in class_train:\n",
    "            class_train[clst.item()] = 1\n",
    "        else:\n",
    "            class_train[clst.item()] = class_train[clst.item()] + 1\n",
    "        print(class_train)"
   ]
  },
  {
   "cell_type": "code",
   "execution_count": 329,
   "metadata": {},
   "outputs": [
    {
     "data": {
      "text/plain": [
       "{1: 68, 0: 26}"
      ]
     },
     "execution_count": 329,
     "metadata": {},
     "output_type": "execute_result"
    }
   ],
   "source": [
    "class_train"
   ]
  },
  {
   "cell_type": "code",
   "execution_count": 332,
   "metadata": {},
   "outputs": [
    {
     "data": {
      "image/png": "[encoded data removed]",
      "text/plain": [
       "<Figure size 640x480 with 1 Axes>"
      ]
     },
     "metadata": {},
     "output_type": "display_data"
    }
   ],
   "source": [
    "fig, ax = plt.subplots()\n",
    "ax.plot(pretrain_losses, label=\"pretrain loss\")\n",
    "ax.set_title('Pre training loss')\n",
    "plt.show()"
   ]
  },
  {
   "cell_type": "code",
   "execution_count": 334,
   "metadata": {},
   "outputs": [
    {
     "data": {
      "image/png": "[encoded data removed]",
      "text/plain": [
       "<Figure size 640x480 with 1 Axes>"
      ]
     },
     "metadata": {},
     "output_type": "display_data"
    }
   ],
   "source": [
    "fig, ax = plt.subplots()\n",
    "ax.plot(losses, label=\"Training classifier loss\")\n",
    "ax.set_title('Training classifier loss')\n",
    "plt.show()"
   ]
  },
  {
   "cell_type": "code",
   "execution_count": 339,
   "metadata": {},
   "outputs": [
    {
     "data": {
      "text/plain": [
       "0.7496930000000003"
      ]
     },
     "execution_count": 339,
     "metadata": {},
     "output_type": "execute_result"
    }
   ],
   "source": [
    "sum(test_accs)/len(test_accs)"
   ]
  },
  {
   "cell_type": "code",
   "execution_count": 340,
   "metadata": {},
   "outputs": [
    {
     "data": {
      "text/plain": [
       "0.7447"
      ]
     },
     "execution_count": 340,
     "metadata": {},
     "output_type": "execute_result"
    }
   ],
   "source": [
    "import statistics\n",
    "\n",
    "statistics.median(test_accs)"
   ]
  }
 ],
 "metadata": {
  "kernelspec": {
   "display_name": "Python 3",
   "language": "python",
   "name": "python3"
  },
  "language_info": {
   "codemirror_mode": {
    "name": "ipython",
    "version": 3
   },
   "file_extension": ".py",
   "mimetype": "text/x-python",
   "name": "python",
   "nbconvert_exporter": "python",
   "pygments_lexer": "ipython3",
   "version": "3.11.4"
  }
 },
 "nbformat": 4,
 "nbformat_minor": 4
}
