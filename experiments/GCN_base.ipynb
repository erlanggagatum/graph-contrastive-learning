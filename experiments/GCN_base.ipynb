{
 "cells": [
  {
   "cell_type": "code",
   "execution_count": 2,
   "metadata": {},
   "outputs": [],
   "source": [
    "import torch\n",
    "import torch_geometric\n",
    "\n",
    "from torch_geometric.datasets import TUDataset\n",
    "from torch_geometric.loader import DataLoader"
   ]
  },
  {
   "cell_type": "code",
   "execution_count": 3,
   "metadata": {},
   "outputs": [],
   "source": [
    "import matplotlib as plt\n",
    "import numpy as np\n",
    "import networkx\n",
    "from torch_geometric.data import Data\n",
    "from sklearn.manifold import TSNE\n"
   ]
  },
  {
   "cell_type": "code",
   "execution_count": 4,
   "metadata": {},
   "outputs": [],
   "source": [
    "from torch_geometric.utils import to_dense_adj"
   ]
  },
  {
   "cell_type": "markdown",
   "metadata": {},
   "source": [
    "### Data Preprocessing"
   ]
  },
  {
   "cell_type": "markdown",
   "metadata": {},
   "source": [
    "Dataset import"
   ]
  },
  {
   "cell_type": "code",
   "execution_count": 5,
   "metadata": {},
   "outputs": [],
   "source": [
    "dataset = TUDataset(root=\"../dataset\", name='PROTEINS')"
   ]
  },
  {
   "cell_type": "code",
   "execution_count": 6,
   "metadata": {},
   "outputs": [
    {
     "name": "stdout",
     "output_type": "stream",
     "text": [
      "Data(edge_index=[2, 52], x=[14, 3], y=[1])\n",
      "Data(edge_index=[2, 230], x=[51, 3], y=[1])\n",
      "Data(edge_index=[2, 1632], x=[336, 3], y=[1])\n"
     ]
    }
   ],
   "source": [
    "insp = 3\n",
    "print(dataset[insp+851])\n",
    "print(dataset[insp+213])\n",
    "print(dataset[insp+2]) "
   ]
  },
  {
   "cell_type": "markdown",
   "metadata": {},
   "source": [
    "Create complementary graph"
   ]
  },
  {
   "cell_type": "code",
   "execution_count": 7,
   "metadata": {},
   "outputs": [
    {
     "name": "stdout",
     "output_type": "stream",
     "text": [
      "Original: tensor([[[0., 1., 1., 0., 0., 0., 0., 0., 0., 1.],\n",
      "         [1., 0., 1., 0., 0., 0., 0., 0., 0., 1.],\n",
      "         [1., 1., 0., 1., 0., 0., 0., 0., 0., 1.],\n",
      "         [0., 0., 1., 0., 1., 1., 0., 0., 0., 0.],\n",
      "         [0., 0., 0., 1., 0., 1., 1., 0., 0., 0.],\n",
      "         [0., 0., 0., 1., 1., 0., 1., 1., 1., 0.],\n",
      "         [0., 0., 0., 0., 1., 1., 0., 1., 1., 0.],\n",
      "         [0., 0., 0., 0., 0., 1., 1., 0., 1., 0.],\n",
      "         [0., 0., 0., 0., 0., 1., 1., 1., 0., 0.],\n",
      "         [1., 1., 1., 0., 0., 0., 0., 0., 0., 0.]]])\n",
      "Complementary: tensor([[[0., 0., 0., 1., 1., 1., 1., 1., 1., 0.],\n",
      "         [0., 0., 0., 1., 1., 1., 1., 1., 1., 0.],\n",
      "         [0., 0., 0., 0., 1., 1., 1., 1., 1., 0.],\n",
      "         [1., 1., 0., 0., 0., 0., 1., 1., 1., 1.],\n",
      "         [1., 1., 1., 0., 0., 0., 0., 1., 1., 1.],\n",
      "         [1., 1., 1., 0., 0., 0., 0., 0., 0., 1.],\n",
      "         [1., 1., 1., 1., 0., 0., 0., 0., 0., 1.],\n",
      "         [1., 1., 1., 1., 1., 0., 0., 0., 0., 1.],\n",
      "         [1., 1., 1., 1., 1., 0., 0., 0., 0., 1.],\n",
      "         [0., 0., 0., 1., 1., 1., 1., 1., 1., 0.]]])\n"
     ]
    }
   ],
   "source": [
    "adj_o = to_dense_adj(dataset[2].edge_index)\n",
    "adj_c = abs(to_dense_adj(dataset[2].edge_index) - 1) - torch.eye(len(dataset[2].x))\n",
    "\n",
    "print(\"Original:\", adj_o)\n",
    "print(\"Complementary:\", (adj_c))"
   ]
  },
  {
   "cell_type": "code",
   "execution_count": 8,
   "metadata": {},
   "outputs": [
    {
     "name": "stdout",
     "output_type": "stream",
     "text": [
      "tensor([[True, True, True, True, True, True, True, True, True, True, True, True,\n",
      "         True, True, True, True, True, True, True, True, True, True, True, True,\n",
      "         True, True, True, True, True, True, True, True, True, True],\n",
      "        [True, True, True, True, True, True, True, True, True, True, True, True,\n",
      "         True, True, True, True, True, True, True, True, True, True, True, True,\n",
      "         True, True, True, True, True, True, True, True, True, True]])\n"
     ]
    }
   ],
   "source": [
    "print(adj_o[0].nonzero().t().contiguous() == dataset[2].edge_index)"
   ]
  },
  {
   "cell_type": "code",
   "execution_count": 9,
   "metadata": {},
   "outputs": [
    {
     "data": {
      "text/plain": [
       "tensor([[0, 0, 0, 0, 0, 0, 1, 1, 1, 1, 1, 1, 2, 2, 2, 2, 2, 3, 3, 3, 3, 3, 3, 4,\n",
       "         4, 4, 4, 4, 4, 5, 5, 5, 5, 6, 6, 6, 6, 6, 7, 7, 7, 7, 7, 7, 8, 8, 8, 8,\n",
       "         8, 8, 9, 9, 9, 9, 9, 9],\n",
       "        [3, 4, 5, 6, 7, 8, 3, 4, 5, 6, 7, 8, 4, 5, 6, 7, 8, 0, 1, 6, 7, 8, 9, 0,\n",
       "         1, 2, 7, 8, 9, 0, 1, 2, 9, 0, 1, 2, 3, 9, 0, 1, 2, 3, 4, 9, 0, 1, 2, 3,\n",
       "         4, 9, 3, 4, 5, 6, 7, 8]])"
      ]
     },
     "execution_count": 9,
     "metadata": {},
     "output_type": "execute_result"
    }
   ],
   "source": [
    "adj_c[0].nonzero().t().contiguous()"
   ]
  },
  {
   "cell_type": "code",
   "execution_count": 10,
   "metadata": {},
   "outputs": [],
   "source": [
    "def toComplementary(g):\n",
    "    c = abs(to_dense_adj(g.edge_index) - 1) - torch.eye(len(g.x))\n",
    "    c = c[0].nonzero().t().contiguous()\n",
    "    return c"
   ]
  },
  {
   "cell_type": "code",
   "execution_count": 11,
   "metadata": {},
   "outputs": [],
   "source": [
    "dataset_c = []\n",
    "for graph in dataset:\n",
    "    edge_c = toComplementary(graph)\n",
    "    dataset_c.append(Data(edge_index=edge_c, x=graph.x, y=graph.y))"
   ]
  },
  {
   "cell_type": "code",
   "execution_count": 12,
   "metadata": {},
   "outputs": [
    {
     "name": "stdout",
     "output_type": "stream",
     "text": [
      "Data(x=[336, 3], edge_index=[2, 110928], y=[1])\n",
      "Data(edge_index=[2, 1632], x=[336, 3], y=[1])\n"
     ]
    }
   ],
   "source": [
    "print(dataset_c[5])\n",
    "print(dataset[5])"
   ]
  },
  {
   "cell_type": "code",
   "execution_count": 13,
   "metadata": {},
   "outputs": [
    {
     "data": {
      "text/plain": [
       "1113"
      ]
     },
     "execution_count": 13,
     "metadata": {},
     "output_type": "execute_result"
    }
   ],
   "source": [
    "torch.manual_seed(42)\n",
    "len((dataset.shuffle()).y)"
   ]
  },
  {
   "cell_type": "code",
   "execution_count": 14,
   "metadata": {},
   "outputs": [],
   "source": [
    "dataset = TUDataset(root=\"../dataset\", name='MUTAG')"
   ]
  },
  {
   "cell_type": "markdown",
   "metadata": {},
   "source": [
    "Train test split"
   ]
  },
  {
   "cell_type": "code",
   "execution_count": 15,
   "metadata": {},
   "outputs": [],
   "source": [
    "split = 0.8\n",
    "seed = 123\n",
    "\n",
    "num_split = round(len(dataset) * split)\n",
    "# dataset.shuffle()"
   ]
  },
  {
   "cell_type": "code",
   "execution_count": 16,
   "metadata": {},
   "outputs": [
    {
     "name": "stdout",
     "output_type": "stream",
     "text": [
      "Train:  150\n",
      "Test:  38\n"
     ]
    }
   ],
   "source": [
    "train_dataset = dataset[:num_split]\n",
    "test_dataset = dataset[num_split:]\n",
    "print('Train: ', len(train_dataset))\n",
    "print('Test: ', len(test_dataset))"
   ]
  },
  {
   "cell_type": "code",
   "execution_count": 17,
   "metadata": {},
   "outputs": [],
   "source": [
    "train_loader = DataLoader(train_dataset, batch_size=32, shuffle=True)\n",
    "test_loader = DataLoader(test_dataset, batch_size=32, shuffle=True)"
   ]
  },
  {
   "cell_type": "code",
   "execution_count": 18,
   "metadata": {},
   "outputs": [
    {
     "name": "stdout",
     "output_type": "stream",
     "text": [
      "tensor([0, 1, 1, 1, 1, 1, 1, 0, 1, 1, 0, 1, 1, 1, 0, 1, 0, 1, 1, 1, 0, 1, 0, 0,\n",
      "        1, 1, 1, 0, 1, 1, 1, 0])\n"
     ]
    }
   ],
   "source": [
    "for d in train_loader:\n",
    "    print(d.y)\n",
    "    break"
   ]
  },
  {
   "cell_type": "code",
   "execution_count": null,
   "metadata": {},
   "outputs": [],
   "source": []
  },
  {
   "cell_type": "code",
   "execution_count": null,
   "metadata": {},
   "outputs": [],
   "source": []
  },
  {
   "cell_type": "markdown",
   "metadata": {},
   "source": [
    "### Base Model (GCN)"
   ]
  },
  {
   "cell_type": "code",
   "execution_count": 19,
   "metadata": {},
   "outputs": [],
   "source": [
    "from torch_geometric.nn import GCNConv\n",
    "from torch.nn import Linear\n",
    "from torch.nn import Linear\n",
    "from torch_geometric.nn import global_mean_pool\n",
    "from torch_geometric.nn import global_max_pool\n",
    "from torch_geometric.nn import global_add_pool\n",
    "import torch.nn.functional as F"
   ]
  },
  {
   "cell_type": "code",
   "execution_count": 20,
   "metadata": {},
   "outputs": [],
   "source": [
    "class GCN(torch.nn.Module):\n",
    "    def __init__(self, dataset, hidden_channels):\n",
    "        super(GCN, self).__init__()\n",
    "        \n",
    "        # weight seed\n",
    "        torch.manual_seed(42)\n",
    "        self.conv1 = GCNConv(dataset.num_node_features, hidden_channels)\n",
    "        self.conv2 = GCNConv(hidden_channels, hidden_channels)\n",
    "        self.conv3 = GCNConv(hidden_channels, hidden_channels)\n",
    "        self.lin = Linear(hidden_channels, dataset.num_classes) # for final classification\n",
    "\n",
    "    def forward(self, x, edge_index, batch):\n",
    "        # step 1. get node embedding using GCNConv layer\n",
    "        x = self.conv1(x, edge_index)\n",
    "        x = x.relu() # apply relu activation after conv\n",
    "        x = self.conv2(x, edge_index)\n",
    "        x = x.relu()\n",
    "        x = self.conv3(x, edge_index)\n",
    "\n",
    "        # step 2. add readout layer to aggregate all node features of graph\n",
    "        e = global_add_pool(x, batch)\n",
    "\n",
    "        # apply classifier (using linear)\n",
    "        x = F.dropout(e, p=0.5, training=self.training)\n",
    "        x = self.lin(x)\n",
    "\n",
    "        return x, e"
   ]
  },
  {
   "cell_type": "code",
   "execution_count": 21,
   "metadata": {},
   "outputs": [],
   "source": [
    "def train(model, loader):\n",
    "    criterion = torch.nn.CrossEntropyLoss()\n",
    "    optimizer = torch.optim.Adam(model.parameters(), lr=0.01)\n",
    "    \n",
    "    model.train()\n",
    "    \n",
    "    for data in loader:\n",
    "        out, z = model(data.x, data.edge_index, data.batch)\n",
    "        loss = criterion(out, data.y)\n",
    "        loss.backward()\n",
    "        optimizer.step()\n",
    "        optimizer.zero_grad()\n",
    "    return out, loss\n",
    "\n",
    "@torch.no_grad()\n",
    "def test(model, loader):\n",
    "    model.eval()\n",
    "    correct = 0\n",
    "    for data in loader:\n",
    "        out, z = model(data.x, data.edge_index, data.batch)\n",
    "        pred = out.argmax(dim=1)\n",
    "        correct += int((pred == data.y).sum())\n",
    "    return correct/len(loader.dataset), z"
   ]
  },
  {
   "cell_type": "code",
   "execution_count": 22,
   "metadata": {},
   "outputs": [],
   "source": [
    "model = GCN(dataset, 64)\n",
    "# dataset.num_node_features"
   ]
  },
  {
   "cell_type": "code",
   "execution_count": 23,
   "metadata": {},
   "outputs": [
    {
     "name": "stdout",
     "output_type": "stream",
     "text": [
      "epoch: 1 train_acc: 0.6600 loss: 0.9123 test_acc: 0.6842\n",
      "epoch: 2 train_acc: 0.6600 loss: 0.5043 test_acc: 0.6842\n"
     ]
    },
    {
     "name": "stdout",
     "output_type": "stream",
     "text": [
      "epoch: 3 train_acc: 0.6600 loss: 0.5662 test_acc: 0.6842\n",
      "epoch: 4 train_acc: 0.6600 loss: 0.6777 test_acc: 0.6842\n",
      "epoch: 5 train_acc: 0.6600 loss: 0.7570 test_acc: 0.6842\n",
      "epoch: 6 train_acc: 0.7067 loss: 0.6504 test_acc: 0.7105\n",
      "epoch: 7 train_acc: 0.6600 loss: 0.6339 test_acc: 0.7105\n",
      "epoch: 8 train_acc: 0.6933 loss: 0.5130 test_acc: 0.7105\n",
      "epoch: 9 train_acc: 0.6600 loss: 0.8391 test_acc: 0.6842\n",
      "epoch: 10 train_acc: 0.7000 loss: 0.6510 test_acc: 0.7105\n",
      "epoch: 11 train_acc: 0.7467 loss: 0.4059 test_acc: 0.7105\n",
      "epoch: 12 train_acc: 0.6600 loss: 0.4858 test_acc: 0.6842\n",
      "epoch: 13 train_acc: 0.7000 loss: 0.5843 test_acc: 0.7105\n",
      "epoch: 14 train_acc: 0.6600 loss: 0.5435 test_acc: 0.7105\n",
      "epoch: 15 train_acc: 0.6867 loss: 0.6472 test_acc: 0.7105\n"
     ]
    }
   ],
   "source": [
    "list_loss = []\n",
    "list_train_acc = []\n",
    "list_test_acc = []\n",
    "z = None\n",
    "\n",
    "for epoch in range(0, 15):\n",
    "    out, loss = train(model, train_loader)\n",
    "    train_acc, z = test(model, train_loader)\n",
    "    test_acc, z = test(model, test_loader)\n",
    "    \n",
    "    list_train_acc.append(round(train_acc, 4))\n",
    "    list_test_acc.append(round(test_acc, 4))\n",
    "    list_loss.append(round(loss.item(), 4))\n",
    "\n",
    "    print(f\"epoch: {epoch+1} train_acc: {train_acc:.4f} loss: {loss:.4f} test_acc: {test_acc:.4f}\")"
   ]
  },
  {
   "cell_type": "code",
   "execution_count": 24,
   "metadata": {},
   "outputs": [],
   "source": [
    "embeddings = [] \n",
    "labels = [] \n",
    "color_list = ['red', 'blue']\n",
    "\n",
    "for dt in train_loader:\n",
    "    _ , z = model(dt.x, dt.edge_index, dt.batch)\n",
    "    for emb in z:\n",
    "        # print(emb.detach().numpy())|\n",
    "        embeddings.append(emb.detach().numpy())\n",
    "    labels += [color_list[y-1] for y in dt.y]\n",
    "\n",
    "for dt in test_loader:\n",
    "    _ , z = model(dt.x, dt.edge_index, dt.batch)\n",
    "    for emb in z:\n",
    "        # print(emb.detach().numpy())|\n",
    "        embeddings.append(emb.detach().numpy())\n",
    "    labels += [color_list[y-1] for y in dt.y]"
   ]
  },
  {
   "cell_type": "code",
   "execution_count": 25,
   "metadata": {},
   "outputs": [
    {
     "name": "stdout",
     "output_type": "stream",
     "text": [
      "188\n",
      "188\n"
     ]
    }
   ],
   "source": [
    "print(len(embeddings))\n",
    "print(len(labels))"
   ]
  },
  {
   "cell_type": "code",
   "execution_count": 26,
   "metadata": {},
   "outputs": [],
   "source": [
    "embeddings = np.array(embeddings)"
   ]
  },
  {
   "cell_type": "code",
   "execution_count": 27,
   "metadata": {},
   "outputs": [],
   "source": [
    "# !pip install plotly==5.17.0"
   ]
  },
  {
   "cell_type": "code",
   "execution_count": 28,
   "metadata": {},
   "outputs": [],
   "source": [
    "tsne = TSNE(n_components=2, random_state=42)\n",
    "X_tsne = tsne.fit_transform(embeddings)\n",
    "# tsne.kl_divergence_"
   ]
  },
  {
   "cell_type": "code",
   "execution_count": 29,
   "metadata": {},
   "outputs": [],
   "source": [
    "import plotly.express as px"
   ]
  },
  {
   "cell_type": "code",
   "execution_count": 30,
   "metadata": {},
   "outputs": [
    {
     "data": {
      "application/vnd.plotly.v1+json": {
       "config": {
        "plotlyServerURL": "https://plot.ly"
       },
       "data": [
        {
         "hovertemplate": "color=blue<br>x=%{x}<br>y=%{y}<extra></extra>",
         "legendgroup": "blue",
         "marker": {
          "color": "#636efa",
          "symbol": "circle"
         },
         "mode": "markers",
         "name": "blue",
         "orientation": "v",
         "showlegend": true,
         "type": "scatter",
         "x": [
          10.761651039123535,
          7.140573024749756,
          1.5183489322662354,
          7.084285736083984,
          9.37434196472168,
          4.086549282073975,
          6.080117225646973,
          8.882671356201172,
          -6.404579162597656,
          7.837019920349121,
          12.281765937805176,
          6.193132400512695,
          4.946177005767822,
          11.876623153686523,
          8.996068000793457,
          11.293486595153809,
          7.122962951660156,
          3.3936140537261963,
          11.219223022460938,
          12.392143249511719,
          12.846224784851074,
          7.862999439239502,
          0.08046247810125351,
          12.588146209716797,
          11.240236282348633,
          11.50972843170166,
          -3.6639909744262695,
          3.5880417823791504,
          3.0436856746673584,
          2.8497610092163086,
          3.622825860977173,
          3.388458728790283,
          7.080219268798828,
          7.8203654289245605,
          12.882213592529297,
          12.503703117370605,
          1.4598369598388672,
          11.913113594055176,
          9.29269790649414,
          9.313119888305664,
          7.665966510772705,
          11.261975288391113,
          3.3936140537261963,
          7.815557479858398,
          4.086549282073975,
          6.208924293518066,
          -3.9733426570892334,
          7.635703086853027,
          11.652030944824219,
          11.724090576171875,
          12.398786544799805,
          2.748039722442627,
          8.845423698425293,
          6.005676746368408,
          12.04713249206543,
          11.257885932922363,
          12.63012981414795,
          7.867135524749756,
          5.904058933258057,
          8.04421329498291,
          8.16811466217041,
          -7.125194072723389,
          8.291848182678223
         ],
         "xaxis": "x",
         "y": [
          4.01202917098999,
          0.34753668308258057,
          -4.155989170074463,
          -1.5886989831924438,
          2.549753189086914,
          -2.9480903148651123,
          0.22300514578819275,
          0.07806506752967834,
          0.3365859389305115,
          -1.0580171346664429,
          5.291683197021484,
          -2.0840771198272705,
          0.45158135890960693,
          3.811150074005127,
          1.111581563949585,
          5.0439133644104,
          0.31716036796569824,
          0.12328887730836868,
          4.8957037925720215,
          4.520794868469238,
          5.724018573760986,
          -1.3423223495483398,
          -4.275949478149414,
          7.2686004638671875,
          4.714603900909424,
          4.297037124633789,
          -5.450575828552246,
          0.1388799548149109,
          -0.7386053204536438,
          -3.56365966796875,
          -0.14054979383945465,
          0.11316543072462082,
          -1.586787462234497,
          -1.0832135677337646,
          5.98808479309082,
          4.9055891036987305,
          -3.917984962463379,
          5.8091936111450195,
          1.5419025421142578,
          1.5660839080810547,
          0.9763902425765991,
          5.000009059906006,
          0.12328895181417465,
          -1.169889211654663,
          -2.9480903148651123,
          -2.063823938369751,
          -0.42170146107673645,
          0.9562351703643799,
          5.246687412261963,
          4.061988353729248,
          6.843754291534424,
          -1.588301181793213,
          2.455472946166992,
          0.18440815806388855,
          4.847769737243652,
          3.7992196083068848,
          7.391669750213623,
          -1.2713557481765747,
          0.07726060599088669,
          0.4478892385959625,
          0.6439196467399597,
          -2.8366851806640625,
          1.5210492610931396
         ],
         "yaxis": "y"
        },
        {
         "hovertemplate": "color=red<br>x=%{x}<br>y=%{y}<extra></extra>",
         "legendgroup": "red",
         "marker": {
          "color": "#EF553B",
          "symbol": "circle"
         },
         "mode": "markers",
         "name": "red",
         "orientation": "v",
         "showlegend": true,
         "type": "scatter",
         "x": [
          11.102107048034668,
          -11.5203275680542,
          -8.086271286010742,
          -2.341897487640381,
          -0.9791017770767212,
          -7.932913780212402,
          2.6451833248138428,
          -13.49020004272461,
          0.45539674162864685,
          -0.10622144490480423,
          -4.094869136810303,
          -7.731699466705322,
          2.920977830886841,
          -5.304832458496094,
          3.6184098720550537,
          2.5312371253967285,
          2.645183563232422,
          0.08120456337928772,
          -0.9588724970817566,
          -7.681562423706055,
          -12.448493003845215,
          -4.252434730529785,
          -11.448927879333496,
          -11.824446678161621,
          -12.380446434020996,
          -12.280821800231934,
          -0.22380322217941284,
          -3.9772396087646484,
          2.967439651489258,
          -4.094870567321777,
          -6.230627536773682,
          1.5183486938476562,
          -13.211898803710938,
          -12.273797988891602,
          -7.945989608764648,
          -7.0610671043396,
          -4.18419885635376,
          -6.778107643127441,
          -3.916602373123169,
          -1.772629976272583,
          -3.3112034797668457,
          2.628366231918335,
          -7.344956874847412,
          -11.893653869628906,
          0.2791985869407654,
          -3.837376832962036,
          -11.496881484985352,
          -7.463163375854492,
          3.6604630947113037,
          2.8042750358581543,
          1.9843943119049072,
          2.079543352127075,
          -12.280821800231934,
          -8.40013313293457,
          -12.167675018310547,
          0.11738823354244232,
          -11.448927879333496,
          -0.8203200697898865,
          3.6228268146514893,
          -3.125312328338623,
          -11.717790603637695,
          -5.3563971519470215,
          2.092414617538452,
          -12.448493957519531,
          7.9574456214904785,
          -7.688835620880127,
          -4.252434730529785,
          -7.953738212585449,
          3.667466878890991,
          -6.6150898933410645,
          -2.331244468688965,
          3.6210436820983887,
          -3.703984022140503,
          2.920977830886841,
          2.803224802017212,
          -5.385915756225586,
          7.8902692794799805,
          -0.17070025205612183,
          2.967439651489258,
          -5.208032131195068,
          -12.795143127441406,
          1.4612663984298706,
          2.914916515350342,
          7.102537155151367,
          -11.893653869628906,
          -12.015174865722656,
          -3.9772493839263916,
          0.3919520378112793,
          -12.795199394226074,
          0.4284527599811554,
          0.42347452044487,
          -7.069520473480225,
          -0.9586462378501892,
          -4.0950026512146,
          -3.9192912578582764,
          -0.22395452857017517,
          0.8262458443641663,
          11.218742370605469,
          -11.5203275680542,
          -7.731698989868164,
          -11.263468742370605,
          7.102537155151367,
          -7.453260898590088,
          -13.211898803710938,
          -12.448493003845215,
          -7.136706829071045,
          -3.9193103313446045,
          -6.625355243682861,
          -6.347386360168457,
          -7.333841323852539,
          2.8042750358581543,
          -4.184207439422607,
          12.027242660522461,
          8.502790451049805,
          -3.3872063159942627,
          11.849730491638184,
          -7.136706829071045,
          -6.137570381164551,
          3.6216647624969482,
          -5.385915756225586,
          11.633197784423828,
          -7.856231689453125,
          -5.385914325714111,
          -7.856231212615967,
          2.596369504928589
         ],
         "xaxis": "x",
         "y": [
          4.57339334487915,
          -3.863185405731201,
          -0.20346347987651825,
          -2.3115553855895996,
          0.07122212648391724,
          -0.12379609048366547,
          3.3954901695251465,
          -2.5453546047210693,
          -4.907430648803711,
          -4.96840238571167,
          -5.1824774742126465,
          -2.5232903957366943,
          -3.4436964988708496,
          -5.186179161071777,
          2.577127456665039,
          -0.16044048964977264,
          3.3954901695251465,
          -4.275546073913574,
          -2.360105276107788,
          -3.136432409286499,
          -2.2594738006591797,
          -5.78621768951416,
          -4.465458869934082,
          -4.676739692687988,
          -2.2055766582489014,
          -4.310141086578369,
          -4.5185627937316895,
          -0.43579286336898804,
          -0.8569502830505371,
          -5.182477951049805,
          0.41757991909980774,
          -4.155987739562988,
          -2.056729793548584,
          -4.433932304382324,
          -0.1312735378742218,
          -2.234963893890381,
          -5.925660133361816,
          -0.7746345400810242,
          -5.2036285400390625,
          -5.162499904632568,
          -2.3897199630737305,
          3.49381422996521,
          -3.1272027492523193,
          -3.898843765258789,
          -4.291663646697998,
          -5.849150657653809,
          -3.8810603618621826,
          0.4129427373409271,
          -0.07122869789600372,
          -3.2951035499572754,
          0.4211752116680145,
          3.983344793319702,
          -4.310141086578369,
          0.5271889567375183,
          -4.091467380523682,
          -5.086121559143066,
          -4.465458869934082,
          0.17611593008041382,
          -0.1405506581068039,
          -1.7456289529800415,
          -4.657714366912842,
          -5.250393390655518,
          3.9833569526672363,
          -2.259474039077759,
          0.18865902721881866,
          -3.1312365531921387,
          -5.78621768951416,
          -0.1354137808084488,
          2.7069814205169678,
          -5.178686141967773,
          -2.295724630355835,
          2.6634063720703125,
          -5.624141693115234,
          -3.4436964988708496,
          -3.2939584255218506,
          -5.575457572937012,
          0.06886503100395203,
          -4.891750812530518,
          -0.8569502830505371,
          -5.135143756866455,
          -3.1417291164398193,
          -4.0272955894470215,
          -1.2557846307754517,
          -1.6576166152954102,
          -3.898843765258789,
          -4.6591715812683105,
          -0.4357929527759552,
          -4.498504161834717,
          -3.1418137550354004,
          -4.961077690124512,
          -4.96520471572876,
          -2.242356538772583,
          -2.3599624633789062,
          -5.18254280090332,
          -0.3153063952922821,
          -4.53905725479126,
          -2.7065489292144775,
          6.300039768218994,
          -3.863185405731201,
          -2.5232906341552734,
          -4.233817100524902,
          -1.6576166152954102,
          -2.371710777282715,
          -2.056730031967163,
          -2.259474277496338,
          -2.8176352977752686,
          -0.31531238555908203,
          -5.18947696685791,
          0.3606187105178833,
          -3.122328042984009,
          -3.2951035499572754,
          -5.925657272338867,
          4.78080940246582,
          1.7400717735290527,
          -2.5725059509277344,
          4.496916770935059,
          -2.8176352977752686,
          0.4645555019378662,
          2.7972939014434814,
          -5.575456619262695,
          5.230667591094971,
          -2.8365142345428467,
          -5.575458526611328,
          -2.8365120887756348,
          3.5930581092834473
         ],
         "yaxis": "y"
        }
       ],
       "layout": {
        "legend": {
         "title": {
          "text": "color"
         },
         "tracegroupgap": 0
        },
        "margin": {
         "t": 60
        },
        "template": {
         "data": {
          "bar": [
           {
            "error_x": {
             "color": "#2a3f5f"
            },
            "error_y": {
             "color": "#2a3f5f"
            },
            "marker": {
             "line": {
              "color": "#E5ECF6",
              "width": 0.5
             },
             "pattern": {
              "fillmode": "overlay",
              "size": 10,
              "solidity": 0.2
             }
            },
            "type": "bar"
           }
          ],
          "barpolar": [
           {
            "marker": {
             "line": {
              "color": "#E5ECF6",
              "width": 0.5
             },
             "pattern": {
              "fillmode": "overlay",
              "size": 10,
              "solidity": 0.2
             }
            },
            "type": "barpolar"
           }
          ],
          "carpet": [
           {
            "aaxis": {
             "endlinecolor": "#2a3f5f",
             "gridcolor": "white",
             "linecolor": "white",
             "minorgridcolor": "white",
             "startlinecolor": "#2a3f5f"
            },
            "baxis": {
             "endlinecolor": "#2a3f5f",
             "gridcolor": "white",
             "linecolor": "white",
             "minorgridcolor": "white",
             "startlinecolor": "#2a3f5f"
            },
            "type": "carpet"
           }
          ],
          "choropleth": [
           {
            "colorbar": {
             "outlinewidth": 0,
             "ticks": ""
            },
            "type": "choropleth"
           }
          ],
          "contour": [
           {
            "colorbar": {
             "outlinewidth": 0,
             "ticks": ""
            },
            "colorscale": [
             [
              0,
              "#0d0887"
             ],
             [
              0.1111111111111111,
              "#46039f"
             ],
             [
              0.2222222222222222,
              "#7201a8"
             ],
             [
              0.3333333333333333,
              "#9c179e"
             ],
             [
              0.4444444444444444,
              "#bd3786"
             ],
             [
              0.5555555555555556,
              "#d8576b"
             ],
             [
              0.6666666666666666,
              "#ed7953"
             ],
             [
              0.7777777777777778,
              "#fb9f3a"
             ],
             [
              0.8888888888888888,
              "#fdca26"
             ],
             [
              1,
              "#f0f921"
             ]
            ],
            "type": "contour"
           }
          ],
          "contourcarpet": [
           {
            "colorbar": {
             "outlinewidth": 0,
             "ticks": ""
            },
            "type": "contourcarpet"
           }
          ],
          "heatmap": [
           {
            "colorbar": {
             "outlinewidth": 0,
             "ticks": ""
            },
            "colorscale": [
             [
              0,
              "#0d0887"
             ],
             [
              0.1111111111111111,
              "#46039f"
             ],
             [
              0.2222222222222222,
              "#7201a8"
             ],
             [
              0.3333333333333333,
              "#9c179e"
             ],
             [
              0.4444444444444444,
              "#bd3786"
             ],
             [
              0.5555555555555556,
              "#d8576b"
             ],
             [
              0.6666666666666666,
              "#ed7953"
             ],
             [
              0.7777777777777778,
              "#fb9f3a"
             ],
             [
              0.8888888888888888,
              "#fdca26"
             ],
             [
              1,
              "#f0f921"
             ]
            ],
            "type": "heatmap"
           }
          ],
          "heatmapgl": [
           {
            "colorbar": {
             "outlinewidth": 0,
             "ticks": ""
            },
            "colorscale": [
             [
              0,
              "#0d0887"
             ],
             [
              0.1111111111111111,
              "#46039f"
             ],
             [
              0.2222222222222222,
              "#7201a8"
             ],
             [
              0.3333333333333333,
              "#9c179e"
             ],
             [
              0.4444444444444444,
              "#bd3786"
             ],
             [
              0.5555555555555556,
              "#d8576b"
             ],
             [
              0.6666666666666666,
              "#ed7953"
             ],
             [
              0.7777777777777778,
              "#fb9f3a"
             ],
             [
              0.8888888888888888,
              "#fdca26"
             ],
             [
              1,
              "#f0f921"
             ]
            ],
            "type": "heatmapgl"
           }
          ],
          "histogram": [
           {
            "marker": {
             "pattern": {
              "fillmode": "overlay",
              "size": 10,
              "solidity": 0.2
             }
            },
            "type": "histogram"
           }
          ],
          "histogram2d": [
           {
            "colorbar": {
             "outlinewidth": 0,
             "ticks": ""
            },
            "colorscale": [
             [
              0,
              "#0d0887"
             ],
             [
              0.1111111111111111,
              "#46039f"
             ],
             [
              0.2222222222222222,
              "#7201a8"
             ],
             [
              0.3333333333333333,
              "#9c179e"
             ],
             [
              0.4444444444444444,
              "#bd3786"
             ],
             [
              0.5555555555555556,
              "#d8576b"
             ],
             [
              0.6666666666666666,
              "#ed7953"
             ],
             [
              0.7777777777777778,
              "#fb9f3a"
             ],
             [
              0.8888888888888888,
              "#fdca26"
             ],
             [
              1,
              "#f0f921"
             ]
            ],
            "type": "histogram2d"
           }
          ],
          "histogram2dcontour": [
           {
            "colorbar": {
             "outlinewidth": 0,
             "ticks": ""
            },
            "colorscale": [
             [
              0,
              "#0d0887"
             ],
             [
              0.1111111111111111,
              "#46039f"
             ],
             [
              0.2222222222222222,
              "#7201a8"
             ],
             [
              0.3333333333333333,
              "#9c179e"
             ],
             [
              0.4444444444444444,
              "#bd3786"
             ],
             [
              0.5555555555555556,
              "#d8576b"
             ],
             [
              0.6666666666666666,
              "#ed7953"
             ],
             [
              0.7777777777777778,
              "#fb9f3a"
             ],
             [
              0.8888888888888888,
              "#fdca26"
             ],
             [
              1,
              "#f0f921"
             ]
            ],
            "type": "histogram2dcontour"
           }
          ],
          "mesh3d": [
           {
            "colorbar": {
             "outlinewidth": 0,
             "ticks": ""
            },
            "type": "mesh3d"
           }
          ],
          "parcoords": [
           {
            "line": {
             "colorbar": {
              "outlinewidth": 0,
              "ticks": ""
             }
            },
            "type": "parcoords"
           }
          ],
          "pie": [
           {
            "automargin": true,
            "type": "pie"
           }
          ],
          "scatter": [
           {
            "fillpattern": {
             "fillmode": "overlay",
             "size": 10,
             "solidity": 0.2
            },
            "type": "scatter"
           }
          ],
          "scatter3d": [
           {
            "line": {
             "colorbar": {
              "outlinewidth": 0,
              "ticks": ""
             }
            },
            "marker": {
             "colorbar": {
              "outlinewidth": 0,
              "ticks": ""
             }
            },
            "type": "scatter3d"
           }
          ],
          "scattercarpet": [
           {
            "marker": {
             "colorbar": {
              "outlinewidth": 0,
              "ticks": ""
             }
            },
            "type": "scattercarpet"
           }
          ],
          "scattergeo": [
           {
            "marker": {
             "colorbar": {
              "outlinewidth": 0,
              "ticks": ""
             }
            },
            "type": "scattergeo"
           }
          ],
          "scattergl": [
           {
            "marker": {
             "colorbar": {
              "outlinewidth": 0,
              "ticks": ""
             }
            },
            "type": "scattergl"
           }
          ],
          "scattermapbox": [
           {
            "marker": {
             "colorbar": {
              "outlinewidth": 0,
              "ticks": ""
             }
            },
            "type": "scattermapbox"
           }
          ],
          "scatterpolar": [
           {
            "marker": {
             "colorbar": {
              "outlinewidth": 0,
              "ticks": ""
             }
            },
            "type": "scatterpolar"
           }
          ],
          "scatterpolargl": [
           {
            "marker": {
             "colorbar": {
              "outlinewidth": 0,
              "ticks": ""
             }
            },
            "type": "scatterpolargl"
           }
          ],
          "scatterternary": [
           {
            "marker": {
             "colorbar": {
              "outlinewidth": 0,
              "ticks": ""
             }
            },
            "type": "scatterternary"
           }
          ],
          "surface": [
           {
            "colorbar": {
             "outlinewidth": 0,
             "ticks": ""
            },
            "colorscale": [
             [
              0,
              "#0d0887"
             ],
             [
              0.1111111111111111,
              "#46039f"
             ],
             [
              0.2222222222222222,
              "#7201a8"
             ],
             [
              0.3333333333333333,
              "#9c179e"
             ],
             [
              0.4444444444444444,
              "#bd3786"
             ],
             [
              0.5555555555555556,
              "#d8576b"
             ],
             [
              0.6666666666666666,
              "#ed7953"
             ],
             [
              0.7777777777777778,
              "#fb9f3a"
             ],
             [
              0.8888888888888888,
              "#fdca26"
             ],
             [
              1,
              "#f0f921"
             ]
            ],
            "type": "surface"
           }
          ],
          "table": [
           {
            "cells": {
             "fill": {
              "color": "#EBF0F8"
             },
             "line": {
              "color": "white"
             }
            },
            "header": {
             "fill": {
              "color": "#C8D4E3"
             },
             "line": {
              "color": "white"
             }
            },
            "type": "table"
           }
          ]
         },
         "layout": {
          "annotationdefaults": {
           "arrowcolor": "#2a3f5f",
           "arrowhead": 0,
           "arrowwidth": 1
          },
          "autotypenumbers": "strict",
          "coloraxis": {
           "colorbar": {
            "outlinewidth": 0,
            "ticks": ""
           }
          },
          "colorscale": {
           "diverging": [
            [
             0,
             "#8e0152"
            ],
            [
             0.1,
             "#c51b7d"
            ],
            [
             0.2,
             "#de77ae"
            ],
            [
             0.3,
             "#f1b6da"
            ],
            [
             0.4,
             "#fde0ef"
            ],
            [
             0.5,
             "#f7f7f7"
            ],
            [
             0.6,
             "#e6f5d0"
            ],
            [
             0.7,
             "#b8e186"
            ],
            [
             0.8,
             "#7fbc41"
            ],
            [
             0.9,
             "#4d9221"
            ],
            [
             1,
             "#276419"
            ]
           ],
           "sequential": [
            [
             0,
             "#0d0887"
            ],
            [
             0.1111111111111111,
             "#46039f"
            ],
            [
             0.2222222222222222,
             "#7201a8"
            ],
            [
             0.3333333333333333,
             "#9c179e"
            ],
            [
             0.4444444444444444,
             "#bd3786"
            ],
            [
             0.5555555555555556,
             "#d8576b"
            ],
            [
             0.6666666666666666,
             "#ed7953"
            ],
            [
             0.7777777777777778,
             "#fb9f3a"
            ],
            [
             0.8888888888888888,
             "#fdca26"
            ],
            [
             1,
             "#f0f921"
            ]
           ],
           "sequentialminus": [
            [
             0,
             "#0d0887"
            ],
            [
             0.1111111111111111,
             "#46039f"
            ],
            [
             0.2222222222222222,
             "#7201a8"
            ],
            [
             0.3333333333333333,
             "#9c179e"
            ],
            [
             0.4444444444444444,
             "#bd3786"
            ],
            [
             0.5555555555555556,
             "#d8576b"
            ],
            [
             0.6666666666666666,
             "#ed7953"
            ],
            [
             0.7777777777777778,
             "#fb9f3a"
            ],
            [
             0.8888888888888888,
             "#fdca26"
            ],
            [
             1,
             "#f0f921"
            ]
           ]
          },
          "colorway": [
           "#636efa",
           "#EF553B",
           "#00cc96",
           "#ab63fa",
           "#FFA15A",
           "#19d3f3",
           "#FF6692",
           "#B6E880",
           "#FF97FF",
           "#FECB52"
          ],
          "font": {
           "color": "#2a3f5f"
          },
          "geo": {
           "bgcolor": "white",
           "lakecolor": "white",
           "landcolor": "#E5ECF6",
           "showlakes": true,
           "showland": true,
           "subunitcolor": "white"
          },
          "hoverlabel": {
           "align": "left"
          },
          "hovermode": "closest",
          "mapbox": {
           "style": "light"
          },
          "paper_bgcolor": "white",
          "plot_bgcolor": "#E5ECF6",
          "polar": {
           "angularaxis": {
            "gridcolor": "white",
            "linecolor": "white",
            "ticks": ""
           },
           "bgcolor": "#E5ECF6",
           "radialaxis": {
            "gridcolor": "white",
            "linecolor": "white",
            "ticks": ""
           }
          },
          "scene": {
           "xaxis": {
            "backgroundcolor": "#E5ECF6",
            "gridcolor": "white",
            "gridwidth": 2,
            "linecolor": "white",
            "showbackground": true,
            "ticks": "",
            "zerolinecolor": "white"
           },
           "yaxis": {
            "backgroundcolor": "#E5ECF6",
            "gridcolor": "white",
            "gridwidth": 2,
            "linecolor": "white",
            "showbackground": true,
            "ticks": "",
            "zerolinecolor": "white"
           },
           "zaxis": {
            "backgroundcolor": "#E5ECF6",
            "gridcolor": "white",
            "gridwidth": 2,
            "linecolor": "white",
            "showbackground": true,
            "ticks": "",
            "zerolinecolor": "white"
           }
          },
          "shapedefaults": {
           "line": {
            "color": "#2a3f5f"
           }
          },
          "ternary": {
           "aaxis": {
            "gridcolor": "white",
            "linecolor": "white",
            "ticks": ""
           },
           "baxis": {
            "gridcolor": "white",
            "linecolor": "white",
            "ticks": ""
           },
           "bgcolor": "#E5ECF6",
           "caxis": {
            "gridcolor": "white",
            "linecolor": "white",
            "ticks": ""
           }
          },
          "title": {
           "x": 0.05
          },
          "xaxis": {
           "automargin": true,
           "gridcolor": "white",
           "linecolor": "white",
           "ticks": "",
           "title": {
            "standoff": 15
           },
           "zerolinecolor": "white",
           "zerolinewidth": 2
          },
          "yaxis": {
           "automargin": true,
           "gridcolor": "white",
           "linecolor": "white",
           "ticks": "",
           "title": {
            "standoff": 15
           },
           "zerolinecolor": "white",
           "zerolinewidth": 2
          }
         }
        },
        "title": {
         "text": "GCN MUTAG Dataset"
        },
        "xaxis": {
         "anchor": "y",
         "domain": [
          0,
          1
         ],
         "title": {
          "text": "First t-SNE"
         }
        },
        "yaxis": {
         "anchor": "x",
         "domain": [
          0,
          1
         ],
         "title": {
          "text": "Second t-SNE"
         }
        }
       }
      }
     },
     "metadata": {},
     "output_type": "display_data"
    }
   ],
   "source": [
    "fig = px.scatter(x=X_tsne[:, 0], y=X_tsne[:, 1], color=labels)\n",
    "fig.update_layout(\n",
    "    title=\"GCN MUTAG Dataset\",\n",
    "    xaxis_title=\"First t-SNE\",\n",
    "    yaxis_title=\"Second t-SNE\",\n",
    ")\n",
    "fig.show()"
   ]
  },
  {
   "cell_type": "markdown",
   "metadata": {},
   "source": [
    "Evaluation (accuracy)"
   ]
  },
  {
   "cell_type": "code",
   "execution_count": 38,
   "metadata": {},
   "outputs": [
    {
     "data": {
      "image/png": "[encoded data removed]",
      "text/plain": [
       "<Figure size 640x480 with 1 Axes>"
      ]
     },
     "metadata": {},
     "output_type": "display_data"
    }
   ],
   "source": [
    "import matplotlib.pyplot as plt\n",
    "fig, ax = plt.subplots()\n",
    "ax.plot(list_train_acc, label='train')\n",
    "ax.plot(list_test_acc, label='test')\n",
    "ax.set_xlabel('epoch')\n",
    "ax.set_ylabel('accuracy')\n",
    "ax.legend()\n",
    "\n",
    "plt.xlim([0, 15])\n",
    "plt.ylim([0, 1.0])\n",
    "\n",
    "plt.title('GCN (base model) evaluation')\n",
    "plt.show()"
   ]
  },
  {
   "cell_type": "code",
   "execution_count": null,
   "metadata": {},
   "outputs": [],
   "source": []
  }
 ],
 "metadata": {
  "kernelspec": {
   "display_name": "Python 3",
   "language": "python",
   "name": "python3"
  },
  "language_info": {
   "codemirror_mode": {
    "name": "ipython",
    "version": 3
   },
   "file_extension": ".py",
   "mimetype": "text/x-python",
   "name": "python",
   "nbconvert_exporter": "python",
   "pygments_lexer": "ipython3",
   "version": "3.11.4"
  }
 },
 "nbformat": 4,
 "nbformat_minor": 2
}
