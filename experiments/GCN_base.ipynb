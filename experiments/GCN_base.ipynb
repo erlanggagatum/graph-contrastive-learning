{
 "cells": [
  {
   "cell_type": "code",
   "execution_count": 1,
   "metadata": {},
   "outputs": [],
   "source": [
    "import torch\n",
    "import torch_geometric\n",
    "\n",
    "from torch_geometric.datasets import TUDataset\n",
    "from torch_geometric.loader import DataLoader"
   ]
  },
  {
   "cell_type": "code",
   "execution_count": 2,
   "metadata": {},
   "outputs": [],
   "source": [
    "import matplotlib as plt\n",
    "import numpy as np\n",
    "import networkx\n",
    "from torch_geometric.data import Data\n",
    "from sklearn.manifold import TSNE\n"
   ]
  },
  {
   "cell_type": "code",
   "execution_count": 3,
   "metadata": {},
   "outputs": [],
   "source": [
    "from torch_geometric.utils import to_dense_adj"
   ]
  },
  {
   "cell_type": "markdown",
   "metadata": {},
   "source": [
    "### Data Preprocessing"
   ]
  },
  {
   "cell_type": "markdown",
   "metadata": {},
   "source": [
    "Dataset import"
   ]
  },
  {
   "cell_type": "code",
   "execution_count": 4,
   "metadata": {},
   "outputs": [],
   "source": [
    "dataset = TUDataset(root=\"../dataset\", name='PROTEINS')"
   ]
  },
  {
   "cell_type": "code",
   "execution_count": 5,
   "metadata": {},
   "outputs": [
    {
     "name": "stdout",
     "output_type": "stream",
     "text": [
      "Data(edge_index=[2, 52], x=[14, 3], y=[1])\n",
      "Data(edge_index=[2, 230], x=[51, 3], y=[1])\n",
      "Data(edge_index=[2, 1632], x=[336, 3], y=[1])\n"
     ]
    }
   ],
   "source": [
    "insp = 3\n",
    "print(dataset[insp+851])\n",
    "print(dataset[insp+213])\n",
    "print(dataset[insp+2]) "
   ]
  },
  {
   "cell_type": "markdown",
   "metadata": {},
   "source": [
    "Create complementary graph"
   ]
  },
  {
   "cell_type": "code",
   "execution_count": 6,
   "metadata": {},
   "outputs": [
    {
     "name": "stdout",
     "output_type": "stream",
     "text": [
      "Original: tensor([[[0., 1., 1., 0., 0., 0., 0., 0., 0., 1.],\n",
      "         [1., 0., 1., 0., 0., 0., 0., 0., 0., 1.],\n",
      "         [1., 1., 0., 1., 0., 0., 0., 0., 0., 1.],\n",
      "         [0., 0., 1., 0., 1., 1., 0., 0., 0., 0.],\n",
      "         [0., 0., 0., 1., 0., 1., 1., 0., 0., 0.],\n",
      "         [0., 0., 0., 1., 1., 0., 1., 1., 1., 0.],\n",
      "         [0., 0., 0., 0., 1., 1., 0., 1., 1., 0.],\n",
      "         [0., 0., 0., 0., 0., 1., 1., 0., 1., 0.],\n",
      "         [0., 0., 0., 0., 0., 1., 1., 1., 0., 0.],\n",
      "         [1., 1., 1., 0., 0., 0., 0., 0., 0., 0.]]])\n",
      "Complementary: tensor([[[0., 0., 0., 1., 1., 1., 1., 1., 1., 0.],\n",
      "         [0., 0., 0., 1., 1., 1., 1., 1., 1., 0.],\n",
      "         [0., 0., 0., 0., 1., 1., 1., 1., 1., 0.],\n",
      "         [1., 1., 0., 0., 0., 0., 1., 1., 1., 1.],\n",
      "         [1., 1., 1., 0., 0., 0., 0., 1., 1., 1.],\n",
      "         [1., 1., 1., 0., 0., 0., 0., 0., 0., 1.],\n",
      "         [1., 1., 1., 1., 0., 0., 0., 0., 0., 1.],\n",
      "         [1., 1., 1., 1., 1., 0., 0., 0., 0., 1.],\n",
      "         [1., 1., 1., 1., 1., 0., 0., 0., 0., 1.],\n",
      "         [0., 0., 0., 1., 1., 1., 1., 1., 1., 0.]]])\n"
     ]
    }
   ],
   "source": [
    "adj_o = to_dense_adj(dataset[2].edge_index)\n",
    "adj_c = abs(to_dense_adj(dataset[2].edge_index) - 1) - torch.eye(len(dataset[2].x))\n",
    "\n",
    "print(\"Original:\", adj_o)\n",
    "print(\"Complementary:\", (adj_c))"
   ]
  },
  {
   "cell_type": "code",
   "execution_count": 7,
   "metadata": {},
   "outputs": [
    {
     "name": "stdout",
     "output_type": "stream",
     "text": [
      "tensor([[True, True, True, True, True, True, True, True, True, True, True, True,\n",
      "         True, True, True, True, True, True, True, True, True, True, True, True,\n",
      "         True, True, True, True, True, True, True, True, True, True],\n",
      "        [True, True, True, True, True, True, True, True, True, True, True, True,\n",
      "         True, True, True, True, True, True, True, True, True, True, True, True,\n",
      "         True, True, True, True, True, True, True, True, True, True]])\n"
     ]
    }
   ],
   "source": [
    "print(adj_o[0].nonzero().t().contiguous() == dataset[2].edge_index)"
   ]
  },
  {
   "cell_type": "code",
   "execution_count": 8,
   "metadata": {},
   "outputs": [
    {
     "data": {
      "text/plain": [
       "tensor([[0, 0, 0, 0, 0, 0, 1, 1, 1, 1, 1, 1, 2, 2, 2, 2, 2, 3, 3, 3, 3, 3, 3, 4,\n",
       "         4, 4, 4, 4, 4, 5, 5, 5, 5, 6, 6, 6, 6, 6, 7, 7, 7, 7, 7, 7, 8, 8, 8, 8,\n",
       "         8, 8, 9, 9, 9, 9, 9, 9],\n",
       "        [3, 4, 5, 6, 7, 8, 3, 4, 5, 6, 7, 8, 4, 5, 6, 7, 8, 0, 1, 6, 7, 8, 9, 0,\n",
       "         1, 2, 7, 8, 9, 0, 1, 2, 9, 0, 1, 2, 3, 9, 0, 1, 2, 3, 4, 9, 0, 1, 2, 3,\n",
       "         4, 9, 3, 4, 5, 6, 7, 8]])"
      ]
     },
     "execution_count": 8,
     "metadata": {},
     "output_type": "execute_result"
    }
   ],
   "source": [
    "adj_c[0].nonzero().t().contiguous()"
   ]
  },
  {
   "cell_type": "code",
   "execution_count": 9,
   "metadata": {},
   "outputs": [],
   "source": [
    "def toComplementary(g):\n",
    "    c = abs(to_dense_adj(g.edge_index) - 1) - torch.eye(len(g.x))\n",
    "    c = c[0].nonzero().t().contiguous()\n",
    "    return c"
   ]
  },
  {
   "cell_type": "code",
   "execution_count": 10,
   "metadata": {},
   "outputs": [],
   "source": [
    "dataset_c = []\n",
    "for graph in dataset:\n",
    "    edge_c = toComplementary(graph)\n",
    "    dataset_c.append(Data(edge_index=edge_c, x=graph.x, y=graph.y))"
   ]
  },
  {
   "cell_type": "code",
   "execution_count": 11,
   "metadata": {},
   "outputs": [
    {
     "name": "stdout",
     "output_type": "stream",
     "text": [
      "Data(x=[336, 3], edge_index=[2, 110928], y=[1])\n",
      "Data(edge_index=[2, 1632], x=[336, 3], y=[1])\n"
     ]
    }
   ],
   "source": [
    "print(dataset_c[5])\n",
    "print(dataset[5])"
   ]
  },
  {
   "cell_type": "code",
   "execution_count": 12,
   "metadata": {},
   "outputs": [
    {
     "data": {
      "text/plain": [
       "1113"
      ]
     },
     "execution_count": 12,
     "metadata": {},
     "output_type": "execute_result"
    }
   ],
   "source": [
    "torch.manual_seed(42)\n",
    "len((dataset.shuffle()).y)"
   ]
  },
  {
   "cell_type": "code",
   "execution_count": 13,
   "metadata": {},
   "outputs": [],
   "source": [
    "dataset = TUDataset(root=\"../dataset\", name='MUTAG')"
   ]
  },
  {
   "cell_type": "markdown",
   "metadata": {},
   "source": [
    "Train test split"
   ]
  },
  {
   "cell_type": "code",
   "execution_count": 104,
   "metadata": {},
   "outputs": [],
   "source": [
    "split = 0.5\n",
    "seed = 123\n",
    "\n",
    "num_split = round(len(dataset) * split)\n",
    "# dataset.shuffle()"
   ]
  },
  {
   "cell_type": "code",
   "execution_count": 105,
   "metadata": {},
   "outputs": [
    {
     "name": "stdout",
     "output_type": "stream",
     "text": [
      "Train:  94\n",
      "Test:  94\n"
     ]
    }
   ],
   "source": [
    "train_dataset = dataset[:num_split]\n",
    "test_dataset = dataset[num_split:]\n",
    "print('Train: ', len(train_dataset))\n",
    "print('Test: ', len(test_dataset))"
   ]
  },
  {
   "cell_type": "code",
   "execution_count": 106,
   "metadata": {},
   "outputs": [],
   "source": [
    "train_loader = DataLoader(train_dataset, batch_size=32, shuffle=True)\n",
    "test_loader = DataLoader(test_dataset, batch_size=32, shuffle=True)"
   ]
  },
  {
   "cell_type": "code",
   "execution_count": 107,
   "metadata": {},
   "outputs": [
    {
     "name": "stdout",
     "output_type": "stream",
     "text": [
      "tensor([1, 1, 0, 1, 1, 1, 1, 1, 1, 1, 1, 1, 1, 0, 1, 1, 1, 1, 0, 0, 0, 0, 0, 1,\n",
      "        1, 0, 1, 1, 0, 1, 1, 1])\n"
     ]
    }
   ],
   "source": [
    "for d in train_loader:\n",
    "    print(d.y)\n",
    "    break"
   ]
  },
  {
   "cell_type": "code",
   "execution_count": null,
   "metadata": {},
   "outputs": [],
   "source": []
  },
  {
   "cell_type": "code",
   "execution_count": null,
   "metadata": {},
   "outputs": [],
   "source": []
  },
  {
   "cell_type": "markdown",
   "metadata": {},
   "source": [
    "### Base Model (GCN)"
   ]
  },
  {
   "cell_type": "code",
   "execution_count": 108,
   "metadata": {},
   "outputs": [],
   "source": [
    "from torch_geometric.nn import GCNConv\n",
    "from torch.nn import Linear\n",
    "from torch.nn import Linear\n",
    "from torch_geometric.nn import global_mean_pool\n",
    "from torch_geometric.nn import global_max_pool\n",
    "from torch_geometric.nn import global_add_pool\n",
    "import torch.nn.functional as F"
   ]
  },
  {
   "cell_type": "code",
   "execution_count": 109,
   "metadata": {},
   "outputs": [],
   "source": [
    "class GCN(torch.nn.Module):\n",
    "    def __init__(self, dataset, hidden_channels):\n",
    "        super(GCN, self).__init__()\n",
    "        \n",
    "        # weight seed\n",
    "        torch.manual_seed(42)\n",
    "        self.conv1 = GCNConv(dataset.num_node_features, hidden_channels)\n",
    "        self.conv2 = GCNConv(hidden_channels, hidden_channels)\n",
    "        self.conv3 = GCNConv(hidden_channels, hidden_channels)\n",
    "        self.lin1 = Linear(hidden_channels, hidden_channels) # for final classification\n",
    "        self.lin2 = Linear(hidden_channels, dataset.num_classes) # for final classification\n",
    "\n",
    "    def forward(self, x, edge_index, batch):\n",
    "        # step 1. get node embedding using GCNConv layer\n",
    "        x = self.conv1(x, edge_index)\n",
    "        x = x.relu() # apply relu activation after conv\n",
    "        x = self.conv2(x, edge_index)\n",
    "        x = x.relu()\n",
    "        x = self.conv3(x, edge_index)\n",
    "\n",
    "        # step 2. add readout layer to aggregate all node features of graph\n",
    "        e = global_add_pool(x, batch)\n",
    "\n",
    "        # apply classifier (using linear)\n",
    "        x = F.dropout(e, p=0.5, training=self.training)\n",
    "        x = self.lin1(x)\n",
    "        x.relu()\n",
    "        x = self.lin2(x)\n",
    "\n",
    "        return x, e"
   ]
  },
  {
   "cell_type": "code",
   "execution_count": 110,
   "metadata": {},
   "outputs": [],
   "source": [
    "def train(model, loader):\n",
    "    criterion = torch.nn.CrossEntropyLoss()\n",
    "    optimizer = torch.optim.Adam(model.parameters(), lr=0.01)\n",
    "    \n",
    "    model.train()\n",
    "    \n",
    "    for data in loader:\n",
    "        out, z = model(data.x, data.edge_index, data.batch)\n",
    "        loss = criterion(out, data.y)\n",
    "        loss.backward()\n",
    "        optimizer.step()\n",
    "        optimizer.zero_grad()\n",
    "    return out, loss\n",
    "\n",
    "@torch.no_grad()\n",
    "def test(model, loader):\n",
    "    model.eval()\n",
    "    correct = 0\n",
    "    for data in loader:\n",
    "        out, z = model(data.x, data.edge_index, data.batch)\n",
    "        pred = out.argmax(dim=1)\n",
    "        correct += int((pred == data.y).sum())\n",
    "    return correct/len(loader.dataset), z"
   ]
  },
  {
   "cell_type": "code",
   "execution_count": 111,
   "metadata": {},
   "outputs": [],
   "source": [
    "model = GCN(dataset, 64)\n",
    "# dataset.num_node_features"
   ]
  },
  {
   "cell_type": "code",
   "execution_count": 112,
   "metadata": {},
   "outputs": [
    {
     "name": "stdout",
     "output_type": "stream",
     "text": [
      "epoch: 1 train_acc: 0.2766 loss: 0.5995 test_acc: 0.3936\n",
      "epoch: 2 train_acc: 0.7234 loss: 1.1705 test_acc: 0.6064\n",
      "epoch: 3 train_acc: 0.7234 loss: 0.5889 test_acc: 0.6064\n",
      "epoch: 4 train_acc: 0.7234 loss: 0.5554 test_acc: 0.6064\n",
      "epoch: 5 train_acc: 0.7234 loss: 0.5662 test_acc: 0.6064\n",
      "epoch: 6 train_acc: 0.7234 loss: 0.4009 test_acc: 0.6064\n",
      "epoch: 7 train_acc: 0.7234 loss: 0.5644 test_acc: 0.6064\n",
      "epoch: 8 train_acc: 0.7979 loss: 0.5501 test_acc: 0.7872\n",
      "epoch: 9 train_acc: 0.7234 loss: 0.5322 test_acc: 0.6064\n",
      "epoch: 10 train_acc: 0.7979 loss: 0.7425 test_acc: 0.7234\n",
      "epoch: 11 train_acc: 0.7234 loss: 0.5921 test_acc: 0.6064\n",
      "epoch: 12 train_acc: 0.8191 loss: 0.5421 test_acc: 0.7553\n",
      "epoch: 13 train_acc: 0.7766 loss: 0.5814 test_acc: 0.6277\n",
      "epoch: 14 train_acc: 0.8085 loss: 0.4128 test_acc: 0.6809\n",
      "epoch: 15 train_acc: 0.7766 loss: 0.4194 test_acc: 0.6383\n",
      "epoch: 16 train_acc: 0.7553 loss: 1.0274 test_acc: 0.6277\n",
      "epoch: 17 train_acc: 0.7660 loss: 1.0262 test_acc: 0.6277\n",
      "epoch: 18 train_acc: 0.7234 loss: 0.6123 test_acc: 0.6064\n",
      "epoch: 19 train_acc: 0.7234 loss: 0.5104 test_acc: 0.6064\n",
      "epoch: 20 train_acc: 0.7234 loss: 0.4826 test_acc: 0.6064\n",
      "epoch: 21 train_acc: 0.7766 loss: 0.5901 test_acc: 0.6383\n",
      "epoch: 22 train_acc: 0.7979 loss: 0.5323 test_acc: 0.7021\n",
      "epoch: 23 train_acc: 0.7766 loss: 0.6491 test_acc: 0.6489\n",
      "epoch: 24 train_acc: 0.7872 loss: 0.5284 test_acc: 0.6915\n",
      "epoch: 25 train_acc: 0.7766 loss: 0.8085 test_acc: 0.6489\n",
      "epoch: 26 train_acc: 0.7766 loss: 0.4129 test_acc: 0.6489\n",
      "epoch: 27 train_acc: 0.7979 loss: 0.5565 test_acc: 0.6383\n",
      "epoch: 28 train_acc: 0.7766 loss: 0.4299 test_acc: 0.6489\n",
      "epoch: 29 train_acc: 0.7766 loss: 0.4214 test_acc: 0.6489\n",
      "epoch: 30 train_acc: 0.7979 loss: 0.5703 test_acc: 0.6702\n",
      "epoch: 31 train_acc: 0.8085 loss: 0.8881 test_acc: 0.6596\n",
      "epoch: 32 train_acc: 0.8511 loss: 0.6010 test_acc: 0.7021\n",
      "epoch: 33 train_acc: 0.7766 loss: 0.7808 test_acc: 0.6489\n",
      "epoch: 34 train_acc: 0.7553 loss: 0.4231 test_acc: 0.6064\n",
      "epoch: 35 train_acc: 0.7766 loss: 0.4469 test_acc: 0.6489\n",
      "epoch: 36 train_acc: 0.7979 loss: 0.6133 test_acc: 0.6596\n",
      "epoch: 37 train_acc: 0.8191 loss: 0.6771 test_acc: 0.6809\n",
      "epoch: 38 train_acc: 0.8085 loss: 0.6282 test_acc: 0.6702\n",
      "epoch: 39 train_acc: 0.8511 loss: 0.4838 test_acc: 0.7234\n",
      "epoch: 40 train_acc: 0.7979 loss: 0.4817 test_acc: 0.6702\n",
      "epoch: 41 train_acc: 0.7766 loss: 0.4271 test_acc: 0.6064\n",
      "epoch: 42 train_acc: 0.7979 loss: 0.4727 test_acc: 0.6489\n",
      "epoch: 43 train_acc: 0.7766 loss: 0.4537 test_acc: 0.6489\n",
      "epoch: 44 train_acc: 0.7979 loss: 0.4885 test_acc: 0.6489\n",
      "epoch: 45 train_acc: 0.7660 loss: 0.4662 test_acc: 0.6277\n",
      "epoch: 46 train_acc: 0.8085 loss: 1.5474 test_acc: 0.6702\n",
      "epoch: 47 train_acc: 0.7766 loss: 0.4818 test_acc: 0.6170\n",
      "epoch: 48 train_acc: 0.7234 loss: 0.5537 test_acc: 0.6064\n",
      "epoch: 49 train_acc: 0.8191 loss: 0.5313 test_acc: 0.6809\n",
      "epoch: 50 train_acc: 0.8085 loss: 0.3940 test_acc: 0.6915\n",
      "epoch: 51 train_acc: 0.8085 loss: 0.3850 test_acc: 0.6596\n",
      "epoch: 52 train_acc: 0.7766 loss: 0.8721 test_acc: 0.6702\n",
      "epoch: 53 train_acc: 0.8191 loss: 0.3920 test_acc: 0.6915\n",
      "epoch: 54 train_acc: 0.7766 loss: 0.4907 test_acc: 0.6489\n",
      "epoch: 55 train_acc: 0.7979 loss: 0.4425 test_acc: 0.6489\n",
      "epoch: 56 train_acc: 0.7766 loss: 0.4451 test_acc: 0.6489\n",
      "epoch: 57 train_acc: 0.7979 loss: 0.6316 test_acc: 0.6596\n",
      "epoch: 58 train_acc: 0.8191 loss: 0.3921 test_acc: 0.6702\n",
      "epoch: 59 train_acc: 0.8191 loss: 0.3949 test_acc: 0.6809\n",
      "epoch: 60 train_acc: 0.7553 loss: 0.6933 test_acc: 0.6277\n",
      "epoch: 61 train_acc: 0.7766 loss: 0.4252 test_acc: 0.6489\n",
      "epoch: 62 train_acc: 0.7979 loss: 0.4139 test_acc: 0.6383\n",
      "epoch: 63 train_acc: 0.8298 loss: 0.4592 test_acc: 0.6809\n",
      "epoch: 64 train_acc: 0.7766 loss: 0.4526 test_acc: 0.6489\n",
      "epoch: 65 train_acc: 0.8085 loss: 0.3602 test_acc: 0.6809\n",
      "epoch: 66 train_acc: 0.7660 loss: 0.6026 test_acc: 0.6277\n",
      "epoch: 67 train_acc: 0.8085 loss: 0.6291 test_acc: 0.6809\n",
      "epoch: 68 train_acc: 0.7872 loss: 0.5625 test_acc: 0.6702\n",
      "epoch: 69 train_acc: 0.7766 loss: 0.5333 test_acc: 0.6596\n",
      "epoch: 70 train_acc: 0.7766 loss: 0.5233 test_acc: 0.6489\n",
      "epoch: 71 train_acc: 0.7766 loss: 0.4502 test_acc: 0.6489\n",
      "epoch: 72 train_acc: 0.7660 loss: 0.4423 test_acc: 0.6383\n",
      "epoch: 73 train_acc: 0.7979 loss: 0.4778 test_acc: 0.6596\n",
      "epoch: 74 train_acc: 0.8085 loss: 0.5610 test_acc: 0.6809\n",
      "epoch: 75 train_acc: 0.8298 loss: 0.7546 test_acc: 0.6489\n",
      "epoch: 76 train_acc: 0.8298 loss: 0.5754 test_acc: 0.6915\n",
      "epoch: 77 train_acc: 0.7660 loss: 0.5505 test_acc: 0.6277\n",
      "epoch: 78 train_acc: 0.7979 loss: 1.0012 test_acc: 0.6915\n",
      "epoch: 79 train_acc: 0.8298 loss: 0.3639 test_acc: 0.7553\n",
      "epoch: 80 train_acc: 0.8085 loss: 0.4903 test_acc: 0.6915\n",
      "epoch: 81 train_acc: 0.8298 loss: 0.8491 test_acc: 0.7128\n",
      "epoch: 82 train_acc: 0.8085 loss: 0.2795 test_acc: 0.7340\n",
      "epoch: 83 train_acc: 0.7872 loss: 0.6253 test_acc: 0.6702\n",
      "epoch: 84 train_acc: 0.7979 loss: 0.3773 test_acc: 0.6383\n",
      "epoch: 85 train_acc: 0.7766 loss: 0.3960 test_acc: 0.6489\n",
      "epoch: 86 train_acc: 0.8298 loss: 0.5061 test_acc: 0.6596\n",
      "epoch: 87 train_acc: 0.7766 loss: 0.3980 test_acc: 0.6489\n",
      "epoch: 88 train_acc: 0.7979 loss: 0.5649 test_acc: 0.6596\n",
      "epoch: 89 train_acc: 0.7766 loss: 0.3161 test_acc: 0.6489\n",
      "epoch: 90 train_acc: 0.7872 loss: 0.4344 test_acc: 0.6809\n",
      "epoch: 91 train_acc: 0.8085 loss: 0.4326 test_acc: 0.7021\n",
      "epoch: 92 train_acc: 0.7979 loss: 0.5442 test_acc: 0.6596\n",
      "epoch: 93 train_acc: 0.7766 loss: 0.4259 test_acc: 0.6383\n",
      "epoch: 94 train_acc: 0.7872 loss: 0.4075 test_acc: 0.6489\n",
      "epoch: 95 train_acc: 0.7872 loss: 0.7480 test_acc: 0.6383\n",
      "epoch: 96 train_acc: 0.7872 loss: 0.4908 test_acc: 0.6489\n",
      "epoch: 97 train_acc: 0.7979 loss: 0.4376 test_acc: 0.7340\n",
      "epoch: 98 train_acc: 0.7979 loss: 0.5564 test_acc: 0.6702\n",
      "epoch: 99 train_acc: 0.7872 loss: 0.3236 test_acc: 0.6489\n",
      "epoch: 100 train_acc: 0.8085 loss: 0.4972 test_acc: 0.6702\n"
     ]
    }
   ],
   "source": [
    "list_loss = []\n",
    "list_train_acc = []\n",
    "list_test_acc = []\n",
    "z = None\n",
    "\n",
    "for epoch in range(0, 100):\n",
    "    out, loss = train(model, train_loader)\n",
    "    train_acc, z = test(model, train_loader)\n",
    "    test_acc, z = test(model, test_loader)\n",
    "    \n",
    "    list_train_acc.append(round(train_acc, 4))\n",
    "    list_test_acc.append(round(test_acc, 4))\n",
    "    list_loss.append(round(loss.item(), 4))\n",
    "\n",
    "    print(f\"epoch: {epoch+1} train_acc: {train_acc:.4f} loss: {loss:.4f} test_acc: {test_acc:.4f}\")"
   ]
  },
  {
   "cell_type": "code",
   "execution_count": 113,
   "metadata": {},
   "outputs": [],
   "source": [
    "embeddings = [] \n",
    "labels = [] \n",
    "color_list = ['red', 'blue']\n",
    "\n",
    "for dt in train_loader:\n",
    "    _ , z = model(dt.x, dt.edge_index, dt.batch)\n",
    "    for emb in z:\n",
    "        # print(emb.detach().numpy())|\n",
    "        embeddings.append(emb.detach().numpy())\n",
    "    labels += [color_list[y-1] for y in dt.y]\n",
    "\n",
    "for dt in test_loader:\n",
    "    _ , z = model(dt.x, dt.edge_index, dt.batch)\n",
    "    for emb in z:\n",
    "        # print(emb.detach().numpy())|\n",
    "        embeddings.append(emb.detach().numpy())\n",
    "    labels += [color_list[y-1] for y in dt.y]"
   ]
  },
  {
   "cell_type": "code",
   "execution_count": 114,
   "metadata": {},
   "outputs": [
    {
     "name": "stdout",
     "output_type": "stream",
     "text": [
      "188\n",
      "188\n"
     ]
    }
   ],
   "source": [
    "print(len(embeddings))\n",
    "print(len(labels))"
   ]
  },
  {
   "cell_type": "code",
   "execution_count": 115,
   "metadata": {},
   "outputs": [],
   "source": [
    "embeddings = np.array(embeddings)"
   ]
  },
  {
   "cell_type": "code",
   "execution_count": 116,
   "metadata": {},
   "outputs": [],
   "source": [
    "# !pip install plotly==5.17.0"
   ]
  },
  {
   "cell_type": "code",
   "execution_count": 117,
   "metadata": {},
   "outputs": [],
   "source": [
    "tsne = TSNE(n_components=2, random_state=42)\n",
    "X_tsne = tsne.fit_transform(embeddings)\n",
    "# tsne.kl_divergence_"
   ]
  },
  {
   "cell_type": "code",
   "execution_count": 118,
   "metadata": {},
   "outputs": [],
   "source": [
    "import plotly.express as px"
   ]
  },
  {
   "cell_type": "code",
   "execution_count": 119,
   "metadata": {},
   "outputs": [
    {
     "data": {
      "application/vnd.plotly.v1+json": {
       "config": {
        "plotlyServerURL": "https://plot.ly"
       },
       "data": [
        {
         "hovertemplate": "color=blue<br>x=%{x}<br>y=%{y}<extra></extra>",
         "legendgroup": "blue",
         "marker": {
          "color": "#636efa",
          "symbol": "circle"
         },
         "mode": "markers",
         "name": "blue",
         "orientation": "v",
         "showlegend": true,
         "type": "scatter",
         "x": [
          -4.755429744720459,
          -1.2657438516616821,
          -12.646092414855957,
          -8.736251831054688,
          -8.898964881896973,
          -12.526214599609375,
          -4.308198928833008,
          -9.929117202758789,
          -3.097114324569702,
          -5.661270618438721,
          -9.41630744934082,
          -9.546220779418945,
          -0.6607112884521484,
          -9.518009185791016,
          -12.590716361999512,
          -8.717751502990723,
          -2.1697394847869873,
          -3.073328971862793,
          -5.278508186340332,
          -9.221598625183105,
          -0.2729332447052002,
          -0.30975839495658875,
          -11.790513038635254,
          -3.670628547668457,
          -2.1593382358551025,
          -11.933323860168457,
          3.9304635524749756,
          -9.747087478637695,
          -5.182653903961182,
          -12.203900337219238,
          9.558711051940918,
          -12.64366626739502,
          -4.379313945770264,
          0.7957313060760498,
          -9.54864501953125,
          -4.308846473693848,
          -9.060174942016602,
          -5.620997428894043,
          -3.6302077770233154,
          -11.965340614318848,
          -2.8110079765319824,
          -11.71073055267334,
          -4.403325080871582,
          -9.771220207214355,
          -4.855832576751709,
          6.2794976234436035,
          -4.230199337005615,
          -9.75702953338623,
          -4.313014984130859,
          -9.968188285827637,
          -12.159489631652832,
          -11.946942329406738,
          -8.922942161560059,
          -8.897287368774414,
          9.028964042663574,
          9.304400444030762,
          -8.226832389831543,
          9.743698120117188,
          -4.6646037101745605,
          11.55801773071289,
          6.659598350524902,
          -12.646921157836914,
          -4.308309555053711
         ],
         "xaxis": "x",
         "y": [
          -2.6834557056427,
          -0.9815804958343506,
          -12.440807342529297,
          -8.425578117370605,
          -7.935037136077881,
          -12.714457511901855,
          -2.917839765548706,
          -8.38365650177002,
          -2.1975691318511963,
          -4.5210185050964355,
          -8.72082805633545,
          -8.047269821166992,
          -1.113974928855896,
          -8.403475761413574,
          -12.241877555847168,
          -8.390602111816406,
          -1.5127002000808716,
          -2.1664791107177734,
          -4.521771430969238,
          -8.051432609558105,
          0.004400256089866161,
          -0.06302350759506226,
          -11.958184242248535,
          -2.6860997676849365,
          -1.503407597541809,
          -12.368932723999023,
          2.6579887866973877,
          -8.20145034790039,
          -3.7778680324554443,
          -12.737066268920898,
          9.388077735900879,
          -12.394436836242676,
          -1.8725968599319458,
          0.8895165324211121,
          -8.905974388122559,
          -2.7404839992523193,
          -7.658414363861084,
          -4.4776225090026855,
          -2.536166191101074,
          -11.883392333984375,
          -2.086965799331665,
          -11.844767570495605,
          -1.674634337425232,
          -8.542996406555176,
          -3.4830875396728516,
          7.92938232421875,
          -3.018892765045166,
          -9.096732139587402,
          -2.719480037689209,
          -8.7854642868042,
          -11.975075721740723,
          -12.432239532470703,
          -8.055352210998535,
          -7.935439586639404,
          9.071040153503418,
          9.229899406433105,
          -7.4813055992126465,
          5.129811763763428,
          -3.8947153091430664,
          4.50262451171875,
          2.8286964893341064,
          -12.222312927246094,
          -2.917557954788208
         ],
         "yaxis": "y"
        },
        {
         "hovertemplate": "color=red<br>x=%{x}<br>y=%{y}<extra></extra>",
         "legendgroup": "red",
         "marker": {
          "color": "#EF553B",
          "symbol": "circle"
         },
         "mode": "markers",
         "name": "red",
         "orientation": "v",
         "showlegend": true,
         "type": "scatter",
         "x": [
          -8.372886657714844,
          4.138237953186035,
          0.8605813980102539,
          0.9030637145042419,
          11.180764198303223,
          3.594161033630371,
          0.648140013217926,
          0.733200192451477,
          -3.8033699989318848,
          0.23054175078868866,
          11.46337604522705,
          4.27110481262207,
          0.9119312167167664,
          4.367679119110107,
          -3.6447484493255615,
          11.350310325622559,
          -0.48760995268821716,
          8.811323165893555,
          5.382175922393799,
          13.32308292388916,
          11.580965995788574,
          -10.828025817871094,
          9.281527519226074,
          4.053118705749512,
          5.528916358947754,
          11.328132629394531,
          9.350573539733887,
          0.6536874771118164,
          -0.30973944067955017,
          3.538356304168701,
          -10.994503021240234,
          1.8913742303848267,
          2.324249267578125,
          13.436441421508789,
          9.426589965820312,
          11.673133850097656,
          1.891863226890564,
          -8.475076675415039,
          0.8943545818328857,
          6.279854774475098,
          11.10082721710205,
          1.2672263383865356,
          13.908613204956055,
          0.8954359292984009,
          -4.153719425201416,
          9.966157913208008,
          9.527490615844727,
          4.135944843292236,
          13.831090927124023,
          -8.023695945739746,
          10.656866073608398,
          5.402681827545166,
          13.436798095703125,
          11.092864036560059,
          11.281360626220703,
          6.278927326202393,
          -8.769474983215332,
          13.90883731842041,
          14.473912239074707,
          14.254220962524414,
          -0.24893973767757416,
          11.092864990234375,
          11.669979095458984,
          11.631043434143066,
          6.659243106842041,
          0.8901365995407104,
          4.30561637878418,
          -10.787769317626953,
          9.176560401916504,
          2.9966156482696533,
          13.318831443786621,
          9.720198631286621,
          14.423312187194824,
          13.551735877990723,
          13.240411758422852,
          -12.203280448913574,
          -12.220682144165039,
          9.71878719329834,
          4.305613040924072,
          -3.6766610145568848,
          14.423318862915039,
          -1.293448805809021,
          5.440474033355713,
          8.340190887451172,
          11.646387100219727,
          -11.009069442749023,
          5.4148054122924805,
          -8.736920356750488,
          4.305612564086914,
          5.436798572540283,
          -5.030304431915283,
          -10.859378814697266,
          4.271285057067871,
          6.787762641906738,
          11.635790824890137,
          9.34577751159668,
          -3.6766610145568848,
          9.451045036315918,
          -10.824503898620605,
          -1.2933521270751953,
          6.658420085906982,
          1.6465462446212769,
          13.317614555358887,
          9.718740463256836,
          -1.293448805809021,
          -0.5991570949554443,
          -1.275517225265503,
          -12.5630464553833,
          11.831336975097656,
          2.4046895503997803,
          9.522553443908691,
          11.635293960571289,
          11.52283763885498,
          -11.135492324829102,
          -1.2933521270751953,
          4.138141632080078,
          5.411730766296387,
          9.718782424926758,
          8.320535659790039,
          -10.842174530029297,
          6.786791801452637,
          11.573389053344727,
          13.908612251281738,
          9.720198631286621,
          -8.736841201782227
         ],
         "xaxis": "x",
         "y": [
          -7.608747959136963,
          2.7988803386688232,
          0.9986523985862732,
          0.529197096824646,
          6.927737712860107,
          2.0767226219177246,
          0.7809346914291382,
          0.8778607845306396,
          -3.041948080062866,
          -1.0831304788589478,
          6.7784810066223145,
          2.276134490966797,
          0.5388241410255432,
          2.617337226867676,
          -2.175654411315918,
          7.454372406005859,
          -0.4592621326446533,
          8.967602729797363,
          2.736578941345215,
          7.130812168121338,
          7.394278049468994,
          -10.774195671081543,
          4.610179901123047,
          2.779447078704834,
          3.7252423763275146,
          7.448925018310547,
          5.329520225524902,
          0.7739991545677185,
          -0.0631142407655716,
          2.033792495727539,
          -10.856072425842285,
          1.0740535259246826,
          0.26513588428497314,
          8.000482559204102,
          5.477941513061523,
          6.929137706756592,
          1.0758405923843384,
          -8.171619415283203,
          0.5297898650169373,
          7.929632186889648,
          7.22085428237915,
          1.8029429912567139,
          8.067440032958984,
          0.5305250287055969,
          -3.3608505725860596,
          9.647035598754883,
          4.924263000488281,
          2.798605442047119,
          7.608677387237549,
          -7.872278213500977,
          4.632942199707031,
          3.3087005615234375,
          8.000066757202148,
          7.166149616241455,
          6.775371551513672,
          7.928836345672607,
          -8.875524520874023,
          8.067129135131836,
          7.620655059814453,
          8.480655670166016,
          -0.09199830144643784,
          7.166154384613037,
          6.9225077629089355,
          4.636749267578125,
          2.800520896911621,
          0.5260876417160034,
          2.2796218395233154,
          -10.93980884552002,
          4.449236869812012,
          1.3744882345199585,
          7.089170455932617,
          5.123059272766113,
          8.527549743652344,
          6.352276802062988,
          6.747854709625244,
          -12.738746643066406,
          -12.750049591064453,
          5.554121971130371,
          2.2796218395233154,
          -2.6783061027526855,
          8.527474403381348,
          -0.7629417181015015,
          3.5003890991210938,
          4.825101852416992,
          6.881192684173584,
          -10.893401145935059,
          3.384676933288574,
          -8.42617130279541,
          2.2796218395233154,
          3.493722438812256,
          -4.153947830200195,
          -10.829567909240723,
          2.2765121459960938,
          3.1303751468658447,
          7.4572954177856445,
          5.303993225097656,
          -2.6783061027526855,
          5.4940385818481445,
          -10.775318145751953,
          -0.7632215619087219,
          2.8011980056762695,
          -1.1619865894317627,
          7.082748889923096,
          5.560400485992432,
          -0.7629417181015015,
          -0.9461169242858887,
          -0.8607357740402222,
          -12.623980522155762,
          4.929366111755371,
          1.631830096244812,
          4.922106742858887,
          6.865724086761475,
          4.419898986816406,
          -11.134018898010254,
          -0.7632215619087219,
          2.798875570297241,
          3.3870861530303955,
          5.554123401641846,
          4.777534008026123,
          -10.802213668823242,
          3.1323776245117188,
          7.399130344390869,
          8.0674409866333,
          5.123059272766113,
          -8.423269271850586
         ],
         "yaxis": "y"
        }
       ],
       "layout": {
        "legend": {
         "title": {
          "text": "color"
         },
         "tracegroupgap": 0
        },
        "margin": {
         "t": 60
        },
        "template": {
         "data": {
          "bar": [
           {
            "error_x": {
             "color": "#2a3f5f"
            },
            "error_y": {
             "color": "#2a3f5f"
            },
            "marker": {
             "line": {
              "color": "#E5ECF6",
              "width": 0.5
             },
             "pattern": {
              "fillmode": "overlay",
              "size": 10,
              "solidity": 0.2
             }
            },
            "type": "bar"
           }
          ],
          "barpolar": [
           {
            "marker": {
             "line": {
              "color": "#E5ECF6",
              "width": 0.5
             },
             "pattern": {
              "fillmode": "overlay",
              "size": 10,
              "solidity": 0.2
             }
            },
            "type": "barpolar"
           }
          ],
          "carpet": [
           {
            "aaxis": {
             "endlinecolor": "#2a3f5f",
             "gridcolor": "white",
             "linecolor": "white",
             "minorgridcolor": "white",
             "startlinecolor": "#2a3f5f"
            },
            "baxis": {
             "endlinecolor": "#2a3f5f",
             "gridcolor": "white",
             "linecolor": "white",
             "minorgridcolor": "white",
             "startlinecolor": "#2a3f5f"
            },
            "type": "carpet"
           }
          ],
          "choropleth": [
           {
            "colorbar": {
             "outlinewidth": 0,
             "ticks": ""
            },
            "type": "choropleth"
           }
          ],
          "contour": [
           {
            "colorbar": {
             "outlinewidth": 0,
             "ticks": ""
            },
            "colorscale": [
             [
              0,
              "#0d0887"
             ],
             [
              0.1111111111111111,
              "#46039f"
             ],
             [
              0.2222222222222222,
              "#7201a8"
             ],
             [
              0.3333333333333333,
              "#9c179e"
             ],
             [
              0.4444444444444444,
              "#bd3786"
             ],
             [
              0.5555555555555556,
              "#d8576b"
             ],
             [
              0.6666666666666666,
              "#ed7953"
             ],
             [
              0.7777777777777778,
              "#fb9f3a"
             ],
             [
              0.8888888888888888,
              "#fdca26"
             ],
             [
              1,
              "#f0f921"
             ]
            ],
            "type": "contour"
           }
          ],
          "contourcarpet": [
           {
            "colorbar": {
             "outlinewidth": 0,
             "ticks": ""
            },
            "type": "contourcarpet"
           }
          ],
          "heatmap": [
           {
            "colorbar": {
             "outlinewidth": 0,
             "ticks": ""
            },
            "colorscale": [
             [
              0,
              "#0d0887"
             ],
             [
              0.1111111111111111,
              "#46039f"
             ],
             [
              0.2222222222222222,
              "#7201a8"
             ],
             [
              0.3333333333333333,
              "#9c179e"
             ],
             [
              0.4444444444444444,
              "#bd3786"
             ],
             [
              0.5555555555555556,
              "#d8576b"
             ],
             [
              0.6666666666666666,
              "#ed7953"
             ],
             [
              0.7777777777777778,
              "#fb9f3a"
             ],
             [
              0.8888888888888888,
              "#fdca26"
             ],
             [
              1,
              "#f0f921"
             ]
            ],
            "type": "heatmap"
           }
          ],
          "heatmapgl": [
           {
            "colorbar": {
             "outlinewidth": 0,
             "ticks": ""
            },
            "colorscale": [
             [
              0,
              "#0d0887"
             ],
             [
              0.1111111111111111,
              "#46039f"
             ],
             [
              0.2222222222222222,
              "#7201a8"
             ],
             [
              0.3333333333333333,
              "#9c179e"
             ],
             [
              0.4444444444444444,
              "#bd3786"
             ],
             [
              0.5555555555555556,
              "#d8576b"
             ],
             [
              0.6666666666666666,
              "#ed7953"
             ],
             [
              0.7777777777777778,
              "#fb9f3a"
             ],
             [
              0.8888888888888888,
              "#fdca26"
             ],
             [
              1,
              "#f0f921"
             ]
            ],
            "type": "heatmapgl"
           }
          ],
          "histogram": [
           {
            "marker": {
             "pattern": {
              "fillmode": "overlay",
              "size": 10,
              "solidity": 0.2
             }
            },
            "type": "histogram"
           }
          ],
          "histogram2d": [
           {
            "colorbar": {
             "outlinewidth": 0,
             "ticks": ""
            },
            "colorscale": [
             [
              0,
              "#0d0887"
             ],
             [
              0.1111111111111111,
              "#46039f"
             ],
             [
              0.2222222222222222,
              "#7201a8"
             ],
             [
              0.3333333333333333,
              "#9c179e"
             ],
             [
              0.4444444444444444,
              "#bd3786"
             ],
             [
              0.5555555555555556,
              "#d8576b"
             ],
             [
              0.6666666666666666,
              "#ed7953"
             ],
             [
              0.7777777777777778,
              "#fb9f3a"
             ],
             [
              0.8888888888888888,
              "#fdca26"
             ],
             [
              1,
              "#f0f921"
             ]
            ],
            "type": "histogram2d"
           }
          ],
          "histogram2dcontour": [
           {
            "colorbar": {
             "outlinewidth": 0,
             "ticks": ""
            },
            "colorscale": [
             [
              0,
              "#0d0887"
             ],
             [
              0.1111111111111111,
              "#46039f"
             ],
             [
              0.2222222222222222,
              "#7201a8"
             ],
             [
              0.3333333333333333,
              "#9c179e"
             ],
             [
              0.4444444444444444,
              "#bd3786"
             ],
             [
              0.5555555555555556,
              "#d8576b"
             ],
             [
              0.6666666666666666,
              "#ed7953"
             ],
             [
              0.7777777777777778,
              "#fb9f3a"
             ],
             [
              0.8888888888888888,
              "#fdca26"
             ],
             [
              1,
              "#f0f921"
             ]
            ],
            "type": "histogram2dcontour"
           }
          ],
          "mesh3d": [
           {
            "colorbar": {
             "outlinewidth": 0,
             "ticks": ""
            },
            "type": "mesh3d"
           }
          ],
          "parcoords": [
           {
            "line": {
             "colorbar": {
              "outlinewidth": 0,
              "ticks": ""
             }
            },
            "type": "parcoords"
           }
          ],
          "pie": [
           {
            "automargin": true,
            "type": "pie"
           }
          ],
          "scatter": [
           {
            "fillpattern": {
             "fillmode": "overlay",
             "size": 10,
             "solidity": 0.2
            },
            "type": "scatter"
           }
          ],
          "scatter3d": [
           {
            "line": {
             "colorbar": {
              "outlinewidth": 0,
              "ticks": ""
             }
            },
            "marker": {
             "colorbar": {
              "outlinewidth": 0,
              "ticks": ""
             }
            },
            "type": "scatter3d"
           }
          ],
          "scattercarpet": [
           {
            "marker": {
             "colorbar": {
              "outlinewidth": 0,
              "ticks": ""
             }
            },
            "type": "scattercarpet"
           }
          ],
          "scattergeo": [
           {
            "marker": {
             "colorbar": {
              "outlinewidth": 0,
              "ticks": ""
             }
            },
            "type": "scattergeo"
           }
          ],
          "scattergl": [
           {
            "marker": {
             "colorbar": {
              "outlinewidth": 0,
              "ticks": ""
             }
            },
            "type": "scattergl"
           }
          ],
          "scattermapbox": [
           {
            "marker": {
             "colorbar": {
              "outlinewidth": 0,
              "ticks": ""
             }
            },
            "type": "scattermapbox"
           }
          ],
          "scatterpolar": [
           {
            "marker": {
             "colorbar": {
              "outlinewidth": 0,
              "ticks": ""
             }
            },
            "type": "scatterpolar"
           }
          ],
          "scatterpolargl": [
           {
            "marker": {
             "colorbar": {
              "outlinewidth": 0,
              "ticks": ""
             }
            },
            "type": "scatterpolargl"
           }
          ],
          "scatterternary": [
           {
            "marker": {
             "colorbar": {
              "outlinewidth": 0,
              "ticks": ""
             }
            },
            "type": "scatterternary"
           }
          ],
          "surface": [
           {
            "colorbar": {
             "outlinewidth": 0,
             "ticks": ""
            },
            "colorscale": [
             [
              0,
              "#0d0887"
             ],
             [
              0.1111111111111111,
              "#46039f"
             ],
             [
              0.2222222222222222,
              "#7201a8"
             ],
             [
              0.3333333333333333,
              "#9c179e"
             ],
             [
              0.4444444444444444,
              "#bd3786"
             ],
             [
              0.5555555555555556,
              "#d8576b"
             ],
             [
              0.6666666666666666,
              "#ed7953"
             ],
             [
              0.7777777777777778,
              "#fb9f3a"
             ],
             [
              0.8888888888888888,
              "#fdca26"
             ],
             [
              1,
              "#f0f921"
             ]
            ],
            "type": "surface"
           }
          ],
          "table": [
           {
            "cells": {
             "fill": {
              "color": "#EBF0F8"
             },
             "line": {
              "color": "white"
             }
            },
            "header": {
             "fill": {
              "color": "#C8D4E3"
             },
             "line": {
              "color": "white"
             }
            },
            "type": "table"
           }
          ]
         },
         "layout": {
          "annotationdefaults": {
           "arrowcolor": "#2a3f5f",
           "arrowhead": 0,
           "arrowwidth": 1
          },
          "autotypenumbers": "strict",
          "coloraxis": {
           "colorbar": {
            "outlinewidth": 0,
            "ticks": ""
           }
          },
          "colorscale": {
           "diverging": [
            [
             0,
             "#8e0152"
            ],
            [
             0.1,
             "#c51b7d"
            ],
            [
             0.2,
             "#de77ae"
            ],
            [
             0.3,
             "#f1b6da"
            ],
            [
             0.4,
             "#fde0ef"
            ],
            [
             0.5,
             "#f7f7f7"
            ],
            [
             0.6,
             "#e6f5d0"
            ],
            [
             0.7,
             "#b8e186"
            ],
            [
             0.8,
             "#7fbc41"
            ],
            [
             0.9,
             "#4d9221"
            ],
            [
             1,
             "#276419"
            ]
           ],
           "sequential": [
            [
             0,
             "#0d0887"
            ],
            [
             0.1111111111111111,
             "#46039f"
            ],
            [
             0.2222222222222222,
             "#7201a8"
            ],
            [
             0.3333333333333333,
             "#9c179e"
            ],
            [
             0.4444444444444444,
             "#bd3786"
            ],
            [
             0.5555555555555556,
             "#d8576b"
            ],
            [
             0.6666666666666666,
             "#ed7953"
            ],
            [
             0.7777777777777778,
             "#fb9f3a"
            ],
            [
             0.8888888888888888,
             "#fdca26"
            ],
            [
             1,
             "#f0f921"
            ]
           ],
           "sequentialminus": [
            [
             0,
             "#0d0887"
            ],
            [
             0.1111111111111111,
             "#46039f"
            ],
            [
             0.2222222222222222,
             "#7201a8"
            ],
            [
             0.3333333333333333,
             "#9c179e"
            ],
            [
             0.4444444444444444,
             "#bd3786"
            ],
            [
             0.5555555555555556,
             "#d8576b"
            ],
            [
             0.6666666666666666,
             "#ed7953"
            ],
            [
             0.7777777777777778,
             "#fb9f3a"
            ],
            [
             0.8888888888888888,
             "#fdca26"
            ],
            [
             1,
             "#f0f921"
            ]
           ]
          },
          "colorway": [
           "#636efa",
           "#EF553B",
           "#00cc96",
           "#ab63fa",
           "#FFA15A",
           "#19d3f3",
           "#FF6692",
           "#B6E880",
           "#FF97FF",
           "#FECB52"
          ],
          "font": {
           "color": "#2a3f5f"
          },
          "geo": {
           "bgcolor": "white",
           "lakecolor": "white",
           "landcolor": "#E5ECF6",
           "showlakes": true,
           "showland": true,
           "subunitcolor": "white"
          },
          "hoverlabel": {
           "align": "left"
          },
          "hovermode": "closest",
          "mapbox": {
           "style": "light"
          },
          "paper_bgcolor": "white",
          "plot_bgcolor": "#E5ECF6",
          "polar": {
           "angularaxis": {
            "gridcolor": "white",
            "linecolor": "white",
            "ticks": ""
           },
           "bgcolor": "#E5ECF6",
           "radialaxis": {
            "gridcolor": "white",
            "linecolor": "white",
            "ticks": ""
           }
          },
          "scene": {
           "xaxis": {
            "backgroundcolor": "#E5ECF6",
            "gridcolor": "white",
            "gridwidth": 2,
            "linecolor": "white",
            "showbackground": true,
            "ticks": "",
            "zerolinecolor": "white"
           },
           "yaxis": {
            "backgroundcolor": "#E5ECF6",
            "gridcolor": "white",
            "gridwidth": 2,
            "linecolor": "white",
            "showbackground": true,
            "ticks": "",
            "zerolinecolor": "white"
           },
           "zaxis": {
            "backgroundcolor": "#E5ECF6",
            "gridcolor": "white",
            "gridwidth": 2,
            "linecolor": "white",
            "showbackground": true,
            "ticks": "",
            "zerolinecolor": "white"
           }
          },
          "shapedefaults": {
           "line": {
            "color": "#2a3f5f"
           }
          },
          "ternary": {
           "aaxis": {
            "gridcolor": "white",
            "linecolor": "white",
            "ticks": ""
           },
           "baxis": {
            "gridcolor": "white",
            "linecolor": "white",
            "ticks": ""
           },
           "bgcolor": "#E5ECF6",
           "caxis": {
            "gridcolor": "white",
            "linecolor": "white",
            "ticks": ""
           }
          },
          "title": {
           "x": 0.05
          },
          "xaxis": {
           "automargin": true,
           "gridcolor": "white",
           "linecolor": "white",
           "ticks": "",
           "title": {
            "standoff": 15
           },
           "zerolinecolor": "white",
           "zerolinewidth": 2
          },
          "yaxis": {
           "automargin": true,
           "gridcolor": "white",
           "linecolor": "white",
           "ticks": "",
           "title": {
            "standoff": 15
           },
           "zerolinecolor": "white",
           "zerolinewidth": 2
          }
         }
        },
        "title": {
         "text": "GCN MUTAG Dataset"
        },
        "xaxis": {
         "anchor": "y",
         "domain": [
          0,
          1
         ],
         "title": {
          "text": "First t-SNE"
         }
        },
        "yaxis": {
         "anchor": "x",
         "domain": [
          0,
          1
         ],
         "title": {
          "text": "Second t-SNE"
         }
        }
       }
      }
     },
     "metadata": {},
     "output_type": "display_data"
    }
   ],
   "source": [
    "fig = px.scatter(x=X_tsne[:, 0], y=X_tsne[:, 1], color=labels)\n",
    "fig.update_layout(\n",
    "    title=\"GCN MUTAG Dataset\",\n",
    "    xaxis_title=\"First t-SNE\",\n",
    "    yaxis_title=\"Second t-SNE\",\n",
    ")\n",
    "fig.show()"
   ]
  },
  {
   "cell_type": "markdown",
   "metadata": {},
   "source": [
    "Evaluation (accuracy)"
   ]
  },
  {
   "cell_type": "code",
   "execution_count": 120,
   "metadata": {},
   "outputs": [
    {
     "data": {
      "image/png": "[encoded data removed]",
      "text/plain": [
       "<Figure size 640x480 with 1 Axes>"
      ]
     },
     "metadata": {},
     "output_type": "display_data"
    }
   ],
   "source": [
    "import matplotlib.pyplot as plt\n",
    "fig, ax = plt.subplots()\n",
    "ax.plot(list_train_acc, label='train')\n",
    "ax.plot(list_test_acc, label='test')\n",
    "ax.set_xlabel('epoch')\n",
    "ax.set_ylabel('accuracy')\n",
    "ax.legend()\n",
    "\n",
    "plt.xlim([0, 100])\n",
    "plt.ylim([0, 1.0])\n",
    "\n",
    "plt.title('GCN (base model) evaluation')\n",
    "plt.show()"
   ]
  },
  {
   "cell_type": "code",
   "execution_count": 121,
   "metadata": {},
   "outputs": [
    {
     "name": "stdout",
     "output_type": "stream",
     "text": [
      "average train accuracy 7.803\n",
      "average test accuracy 6.552\n"
     ]
    }
   ],
   "source": [
    "print(\"average train accuracy\", round(sum(list_train_acc)/len(list_train_acc), 4) * 10)\n",
    "print(\"average test accuracy\", round(sum(list_test_acc)/len(list_test_acc), 4) * 10)"
   ]
  },
  {
   "cell_type": "code",
   "execution_count": 122,
   "metadata": {},
   "outputs": [
    {
     "name": "stdout",
     "output_type": "stream",
     "text": [
      "min test accuracy 0.3936\n",
      "max test accuracy 0.7872\n"
     ]
    }
   ],
   "source": [
    "print(\"min test accuracy\", round(min(list_test_acc), 4))\n",
    "print(\"max test accuracy\", round(max(list_test_acc), 4))"
   ]
  },
  {
   "cell_type": "code",
   "execution_count": 123,
   "metadata": {},
   "outputs": [
    {
     "data": {
      "text/plain": [
       "0.6489"
      ]
     },
     "execution_count": 123,
     "metadata": {},
     "output_type": "execute_result"
    }
   ],
   "source": [
    "import statistics\n",
    "\n",
    "statistics.median(list_test_acc)"
   ]
  },
  {
   "cell_type": "code",
   "execution_count": null,
   "metadata": {},
   "outputs": [],
   "source": []
  }
 ],
 "metadata": {
  "kernelspec": {
   "display_name": "Python 3",
   "language": "python",
   "name": "python3"
  },
  "language_info": {
   "codemirror_mode": {
    "name": "ipython",
    "version": 3
   },
   "file_extension": ".py",
   "mimetype": "text/x-python",
   "name": "python",
   "nbconvert_exporter": "python",
   "pygments_lexer": "ipython3",
   "version": "3.11.4"
  }
 },
 "nbformat": 4,
 "nbformat_minor": 2
}
