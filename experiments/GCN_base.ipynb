{
 "cells": [
  {
   "cell_type": "code",
   "execution_count": 1,
   "metadata": {},
   "outputs": [],
   "source": [
    "import torch\n",
    "import torch_geometric\n",
    "\n",
    "from torch_geometric.datasets import TUDataset\n",
    "from torch_geometric.loader import DataLoader"
   ]
  },
  {
   "cell_type": "code",
   "execution_count": 2,
   "metadata": {},
   "outputs": [],
   "source": [
    "import matplotlib as plt\n",
    "import numpy as np\n",
    "import networkx\n",
    "from torch_geometric.data import Data\n",
    "from sklearn.manifold import TSNE\n"
   ]
  },
  {
   "cell_type": "code",
   "execution_count": 3,
   "metadata": {},
   "outputs": [],
   "source": [
    "from torch_geometric.utils import to_dense_adj"
   ]
  },
  {
   "cell_type": "markdown",
   "metadata": {},
   "source": [
    "### Data Preprocessing"
   ]
  },
  {
   "cell_type": "markdown",
   "metadata": {},
   "source": [
    "Dataset import"
   ]
  },
  {
   "cell_type": "code",
   "execution_count": 4,
   "metadata": {},
   "outputs": [],
   "source": [
    "dataset = TUDataset(root=\"../dataset\", name='PROTEINS')"
   ]
  },
  {
   "cell_type": "code",
   "execution_count": 5,
   "metadata": {},
   "outputs": [
    {
     "name": "stdout",
     "output_type": "stream",
     "text": [
      "Data(edge_index=[2, 52], x=[14, 3], y=[1])\n",
      "Data(edge_index=[2, 230], x=[51, 3], y=[1])\n",
      "Data(edge_index=[2, 1632], x=[336, 3], y=[1])\n"
     ]
    }
   ],
   "source": [
    "insp = 3\n",
    "print(dataset[insp+851])\n",
    "print(dataset[insp+213])\n",
    "print(dataset[insp+2]) "
   ]
  },
  {
   "cell_type": "markdown",
   "metadata": {},
   "source": [
    "Create complementary graph"
   ]
  },
  {
   "cell_type": "code",
   "execution_count": 6,
   "metadata": {},
   "outputs": [
    {
     "name": "stdout",
     "output_type": "stream",
     "text": [
      "Original: tensor([[[0., 1., 1., 0., 0., 0., 0., 0., 0., 1.],\n",
      "         [1., 0., 1., 0., 0., 0., 0., 0., 0., 1.],\n",
      "         [1., 1., 0., 1., 0., 0., 0., 0., 0., 1.],\n",
      "         [0., 0., 1., 0., 1., 1., 0., 0., 0., 0.],\n",
      "         [0., 0., 0., 1., 0., 1., 1., 0., 0., 0.],\n",
      "         [0., 0., 0., 1., 1., 0., 1., 1., 1., 0.],\n",
      "         [0., 0., 0., 0., 1., 1., 0., 1., 1., 0.],\n",
      "         [0., 0., 0., 0., 0., 1., 1., 0., 1., 0.],\n",
      "         [0., 0., 0., 0., 0., 1., 1., 1., 0., 0.],\n",
      "         [1., 1., 1., 0., 0., 0., 0., 0., 0., 0.]]])\n",
      "Complementary: tensor([[[0., 0., 0., 1., 1., 1., 1., 1., 1., 0.],\n",
      "         [0., 0., 0., 1., 1., 1., 1., 1., 1., 0.],\n",
      "         [0., 0., 0., 0., 1., 1., 1., 1., 1., 0.],\n",
      "         [1., 1., 0., 0., 0., 0., 1., 1., 1., 1.],\n",
      "         [1., 1., 1., 0., 0., 0., 0., 1., 1., 1.],\n",
      "         [1., 1., 1., 0., 0., 0., 0., 0., 0., 1.],\n",
      "         [1., 1., 1., 1., 0., 0., 0., 0., 0., 1.],\n",
      "         [1., 1., 1., 1., 1., 0., 0., 0., 0., 1.],\n",
      "         [1., 1., 1., 1., 1., 0., 0., 0., 0., 1.],\n",
      "         [0., 0., 0., 1., 1., 1., 1., 1., 1., 0.]]])\n"
     ]
    }
   ],
   "source": [
    "adj_o = to_dense_adj(dataset[2].edge_index)\n",
    "adj_c = abs(to_dense_adj(dataset[2].edge_index) - 1) - torch.eye(len(dataset[2].x))\n",
    "\n",
    "print(\"Original:\", adj_o)\n",
    "print(\"Complementary:\", (adj_c))"
   ]
  },
  {
   "cell_type": "code",
   "execution_count": 7,
   "metadata": {},
   "outputs": [
    {
     "name": "stdout",
     "output_type": "stream",
     "text": [
      "tensor([[True, True, True, True, True, True, True, True, True, True, True, True,\n",
      "         True, True, True, True, True, True, True, True, True, True, True, True,\n",
      "         True, True, True, True, True, True, True, True, True, True],\n",
      "        [True, True, True, True, True, True, True, True, True, True, True, True,\n",
      "         True, True, True, True, True, True, True, True, True, True, True, True,\n",
      "         True, True, True, True, True, True, True, True, True, True]])\n"
     ]
    }
   ],
   "source": [
    "print(adj_o[0].nonzero().t().contiguous() == dataset[2].edge_index)"
   ]
  },
  {
   "cell_type": "code",
   "execution_count": 8,
   "metadata": {},
   "outputs": [
    {
     "data": {
      "text/plain": [
       "tensor([[0, 0, 0, 0, 0, 0, 1, 1, 1, 1, 1, 1, 2, 2, 2, 2, 2, 3, 3, 3, 3, 3, 3, 4,\n",
       "         4, 4, 4, 4, 4, 5, 5, 5, 5, 6, 6, 6, 6, 6, 7, 7, 7, 7, 7, 7, 8, 8, 8, 8,\n",
       "         8, 8, 9, 9, 9, 9, 9, 9],\n",
       "        [3, 4, 5, 6, 7, 8, 3, 4, 5, 6, 7, 8, 4, 5, 6, 7, 8, 0, 1, 6, 7, 8, 9, 0,\n",
       "         1, 2, 7, 8, 9, 0, 1, 2, 9, 0, 1, 2, 3, 9, 0, 1, 2, 3, 4, 9, 0, 1, 2, 3,\n",
       "         4, 9, 3, 4, 5, 6, 7, 8]])"
      ]
     },
     "execution_count": 8,
     "metadata": {},
     "output_type": "execute_result"
    }
   ],
   "source": [
    "adj_c[0].nonzero().t().contiguous()"
   ]
  },
  {
   "cell_type": "code",
   "execution_count": 9,
   "metadata": {},
   "outputs": [],
   "source": [
    "def toComplementary(g):\n",
    "    c = abs(to_dense_adj(g.edge_index) - 1) - torch.eye(len(g.x))\n",
    "    c = c[0].nonzero().t().contiguous()\n",
    "    return c"
   ]
  },
  {
   "cell_type": "code",
   "execution_count": 10,
   "metadata": {},
   "outputs": [],
   "source": [
    "dataset_c = []\n",
    "for graph in dataset:\n",
    "    edge_c = toComplementary(graph)\n",
    "    dataset_c.append(Data(edge_index=edge_c, x=graph.x, y=graph.y))"
   ]
  },
  {
   "cell_type": "code",
   "execution_count": 11,
   "metadata": {},
   "outputs": [
    {
     "name": "stdout",
     "output_type": "stream",
     "text": [
      "Data(x=[336, 3], edge_index=[2, 110928], y=[1])\n",
      "Data(edge_index=[2, 1632], x=[336, 3], y=[1])\n"
     ]
    }
   ],
   "source": [
    "print(dataset_c[5])\n",
    "print(dataset[5])"
   ]
  },
  {
   "cell_type": "code",
   "execution_count": 12,
   "metadata": {},
   "outputs": [
    {
     "data": {
      "text/plain": [
       "1113"
      ]
     },
     "execution_count": 12,
     "metadata": {},
     "output_type": "execute_result"
    }
   ],
   "source": [
    "torch.manual_seed(42)\n",
    "len((dataset.shuffle()).y)"
   ]
  },
  {
   "cell_type": "code",
   "execution_count": 13,
   "metadata": {},
   "outputs": [],
   "source": [
    "dataset = TUDataset(root=\"../dataset\", name='MUTAG')"
   ]
  },
  {
   "cell_type": "markdown",
   "metadata": {},
   "source": [
    "Train test split"
   ]
  },
  {
   "cell_type": "code",
   "execution_count": 104,
   "metadata": {},
   "outputs": [],
   "source": [
    "split = 0.5\n",
    "seed = 123\n",
    "\n",
    "num_split = round(len(dataset) * split)\n",
    "# dataset.shuffle()"
   ]
  },
  {
   "cell_type": "code",
   "execution_count": 105,
   "metadata": {},
   "outputs": [
    {
     "name": "stdout",
     "output_type": "stream",
     "text": [
      "Train:  94\n",
      "Test:  94\n"
     ]
    }
   ],
   "source": [
    "train_dataset = dataset[:num_split]\n",
    "test_dataset = dataset[num_split:]\n",
    "print('Train: ', len(train_dataset))\n",
    "print('Test: ', len(test_dataset))"
   ]
  },
  {
   "cell_type": "code",
   "execution_count": 124,
   "metadata": {},
   "outputs": [],
   "source": [
    "train_loader = DataLoader(train_dataset, batch_size=16, shuffle=True)\n",
    "test_loader = DataLoader(test_dataset, batch_size=16, shuffle=True)"
   ]
  },
  {
   "cell_type": "code",
   "execution_count": 125,
   "metadata": {},
   "outputs": [
    {
     "name": "stdout",
     "output_type": "stream",
     "text": [
      "tensor([0, 1, 0, 1, 1, 1, 1, 1, 0, 0, 1, 0, 0, 0, 0, 1])\n"
     ]
    }
   ],
   "source": [
    "for d in train_loader:\n",
    "    print(d.y)\n",
    "    break"
   ]
  },
  {
   "cell_type": "code",
   "execution_count": null,
   "metadata": {},
   "outputs": [],
   "source": []
  },
  {
   "cell_type": "code",
   "execution_count": null,
   "metadata": {},
   "outputs": [],
   "source": []
  },
  {
   "cell_type": "markdown",
   "metadata": {},
   "source": [
    "### Base Model (GCN)"
   ]
  },
  {
   "cell_type": "code",
   "execution_count": 126,
   "metadata": {},
   "outputs": [],
   "source": [
    "from torch_geometric.nn import GCNConv\n",
    "from torch.nn import Linear\n",
    "from torch.nn import Linear\n",
    "from torch_geometric.nn import global_mean_pool\n",
    "from torch_geometric.nn import global_max_pool\n",
    "from torch_geometric.nn import global_add_pool\n",
    "import torch.nn.functional as F"
   ]
  },
  {
   "cell_type": "code",
   "execution_count": 127,
   "metadata": {},
   "outputs": [],
   "source": [
    "class GCN(torch.nn.Module):\n",
    "    def __init__(self, dataset, hidden_channels):\n",
    "        super(GCN, self).__init__()\n",
    "        \n",
    "        # weight seed\n",
    "        torch.manual_seed(42)\n",
    "        self.conv1 = GCNConv(dataset.num_node_features, hidden_channels)\n",
    "        self.conv2 = GCNConv(hidden_channels, hidden_channels)\n",
    "        self.conv3 = GCNConv(hidden_channels, hidden_channels)\n",
    "        self.lin1 = Linear(hidden_channels, hidden_channels) # for final classification\n",
    "        self.lin2 = Linear(hidden_channels, dataset.num_classes) # for final classification\n",
    "\n",
    "    def forward(self, x, edge_index, batch):\n",
    "        # step 1. get node embedding using GCNConv layer\n",
    "        x = self.conv1(x, edge_index)\n",
    "        x = x.relu() # apply relu activation after conv\n",
    "        x = self.conv2(x, edge_index)\n",
    "        x = x.relu()\n",
    "        x = self.conv3(x, edge_index)\n",
    "\n",
    "        # step 2. add readout layer to aggregate all node features of graph\n",
    "        e = global_add_pool(x, batch)\n",
    "\n",
    "        # apply classifier (using linear)\n",
    "        x = F.dropout(e, p=0.5, training=self.training)\n",
    "        x = self.lin1(x)\n",
    "        x.relu()\n",
    "        x = self.lin2(x)\n",
    "\n",
    "        return x, e"
   ]
  },
  {
   "cell_type": "code",
   "execution_count": 128,
   "metadata": {},
   "outputs": [],
   "source": [
    "def train(model, loader):\n",
    "    criterion = torch.nn.CrossEntropyLoss()\n",
    "    optimizer = torch.optim.Adam(model.parameters(), lr=0.01)\n",
    "    \n",
    "    model.train()\n",
    "    \n",
    "    for data in loader:\n",
    "        out, z = model(data.x, data.edge_index, data.batch)\n",
    "        loss = criterion(out, data.y)\n",
    "        loss.backward()\n",
    "        optimizer.step()\n",
    "        optimizer.zero_grad()\n",
    "    return out, loss\n",
    "\n",
    "@torch.no_grad()\n",
    "def test(model, loader):\n",
    "    model.eval()\n",
    "    correct = 0\n",
    "    for data in loader:\n",
    "        out, z = model(data.x, data.edge_index, data.batch)\n",
    "        pred = out.argmax(dim=1)\n",
    "        correct += int((pred == data.y).sum())\n",
    "    return correct/len(loader.dataset), z"
   ]
  },
  {
   "cell_type": "code",
   "execution_count": 129,
   "metadata": {},
   "outputs": [],
   "source": [
    "model = GCN(dataset, 64)\n",
    "# dataset.num_node_features"
   ]
  },
  {
   "cell_type": "code",
   "execution_count": 130,
   "metadata": {},
   "outputs": [
    {
     "name": "stdout",
     "output_type": "stream",
     "text": [
      "epoch: 1 train_acc: 0.7234 loss: 1.3474 test_acc: 0.6064\n",
      "epoch: 2 train_acc: 0.7660 loss: 0.5453 test_acc: 0.7128\n",
      "epoch: 3 train_acc: 0.7234 loss: 0.6855 test_acc: 0.6064\n",
      "epoch: 4 train_acc: 0.7234 loss: 0.3242 test_acc: 0.6064\n",
      "epoch: 5 train_acc: 0.7234 loss: 0.3635 test_acc: 0.6064\n",
      "epoch: 6 train_acc: 0.7234 loss: 0.4844 test_acc: 0.6064\n",
      "epoch: 7 train_acc: 0.7979 loss: 0.5218 test_acc: 0.6915\n",
      "epoch: 8 train_acc: 0.7447 loss: 0.5245 test_acc: 0.6277\n",
      "epoch: 9 train_acc: 0.7234 loss: 0.4679 test_acc: 0.6170\n",
      "epoch: 10 train_acc: 0.7766 loss: 0.5540 test_acc: 0.6277\n",
      "epoch: 11 train_acc: 0.8085 loss: 0.5992 test_acc: 0.6596\n",
      "epoch: 12 train_acc: 0.7447 loss: 0.6130 test_acc: 0.6277\n",
      "epoch: 13 train_acc: 0.7340 loss: 0.4934 test_acc: 0.6170\n",
      "epoch: 14 train_acc: 0.7660 loss: 0.5392 test_acc: 0.6383\n",
      "epoch: 15 train_acc: 0.8191 loss: 0.6030 test_acc: 0.6809\n",
      "epoch: 16 train_acc: 0.7234 loss: 0.6430 test_acc: 0.6064\n",
      "epoch: 17 train_acc: 0.7766 loss: 0.3425 test_acc: 0.6383\n",
      "epoch: 18 train_acc: 0.7766 loss: 0.8104 test_acc: 0.6383\n",
      "epoch: 19 train_acc: 0.7979 loss: 0.4842 test_acc: 0.6383\n",
      "epoch: 20 train_acc: 0.7660 loss: 0.5126 test_acc: 0.6596\n",
      "epoch: 21 train_acc: 0.8191 loss: 0.6146 test_acc: 0.6702\n",
      "epoch: 22 train_acc: 0.7979 loss: 0.3038 test_acc: 0.6489\n",
      "epoch: 23 train_acc: 0.4787 loss: 0.6084 test_acc: 0.4362\n",
      "epoch: 24 train_acc: 0.7766 loss: 0.5722 test_acc: 0.6489\n",
      "epoch: 25 train_acc: 0.7766 loss: 0.3342 test_acc: 0.6489\n",
      "epoch: 26 train_acc: 0.7872 loss: 0.5646 test_acc: 0.6489\n",
      "epoch: 27 train_acc: 0.7979 loss: 0.3176 test_acc: 0.6809\n",
      "epoch: 28 train_acc: 0.8085 loss: 0.5964 test_acc: 0.6702\n",
      "epoch: 29 train_acc: 0.8298 loss: 0.5303 test_acc: 0.7234\n",
      "epoch: 30 train_acc: 0.8298 loss: 0.6135 test_acc: 0.6809\n",
      "epoch: 31 train_acc: 0.8298 loss: 0.4094 test_acc: 0.6915\n",
      "epoch: 32 train_acc: 0.7979 loss: 0.4675 test_acc: 0.6383\n",
      "epoch: 33 train_acc: 0.8085 loss: 0.6446 test_acc: 0.6915\n",
      "epoch: 34 train_acc: 0.8085 loss: 0.6285 test_acc: 0.6915\n",
      "epoch: 35 train_acc: 0.7766 loss: 0.3248 test_acc: 0.6809\n",
      "epoch: 36 train_acc: 0.8085 loss: 1.3815 test_acc: 0.6596\n",
      "epoch: 37 train_acc: 0.7660 loss: 0.4706 test_acc: 0.6277\n",
      "epoch: 38 train_acc: 0.8298 loss: 0.6893 test_acc: 0.6702\n",
      "epoch: 39 train_acc: 0.7234 loss: 0.8484 test_acc: 0.6064\n",
      "epoch: 40 train_acc: 0.8085 loss: 0.7910 test_acc: 0.6702\n",
      "epoch: 41 train_acc: 0.8298 loss: 0.5398 test_acc: 0.6702\n",
      "epoch: 42 train_acc: 0.7979 loss: 0.5004 test_acc: 0.6596\n",
      "epoch: 43 train_acc: 0.8511 loss: 0.4912 test_acc: 0.7553\n",
      "epoch: 44 train_acc: 0.7979 loss: 0.7133 test_acc: 0.6702\n",
      "epoch: 45 train_acc: 0.7553 loss: 0.7004 test_acc: 0.6489\n",
      "epoch: 46 train_acc: 0.8085 loss: 0.4348 test_acc: 0.6809\n",
      "epoch: 47 train_acc: 0.8298 loss: 0.7650 test_acc: 0.6915\n",
      "epoch: 48 train_acc: 0.8191 loss: 0.6388 test_acc: 0.7447\n",
      "epoch: 49 train_acc: 0.8404 loss: 0.6225 test_acc: 0.6915\n",
      "epoch: 50 train_acc: 0.7660 loss: 0.6090 test_acc: 0.6596\n",
      "epoch: 51 train_acc: 0.7979 loss: 0.2504 test_acc: 0.6596\n",
      "epoch: 52 train_acc: 0.7872 loss: 0.5428 test_acc: 0.6489\n",
      "epoch: 53 train_acc: 0.8085 loss: 0.3420 test_acc: 0.6915\n",
      "epoch: 54 train_acc: 0.7766 loss: 0.7737 test_acc: 0.6383\n",
      "epoch: 55 train_acc: 0.7979 loss: 0.4162 test_acc: 0.6383\n",
      "epoch: 56 train_acc: 0.7766 loss: 0.0870 test_acc: 0.6489\n",
      "epoch: 57 train_acc: 0.7234 loss: 0.5530 test_acc: 0.6064\n",
      "epoch: 58 train_acc: 0.8085 loss: 0.9468 test_acc: 0.6915\n",
      "epoch: 59 train_acc: 0.8085 loss: 0.3871 test_acc: 0.7021\n",
      "epoch: 60 train_acc: 0.8298 loss: 0.3996 test_acc: 0.6596\n",
      "epoch: 61 train_acc: 0.8191 loss: 0.5080 test_acc: 0.6702\n",
      "epoch: 62 train_acc: 0.8723 loss: 0.5021 test_acc: 0.7447\n",
      "epoch: 63 train_acc: 0.8085 loss: 0.4948 test_acc: 0.6809\n",
      "epoch: 64 train_acc: 0.8404 loss: 0.6689 test_acc: 0.7128\n",
      "epoch: 65 train_acc: 0.7979 loss: 0.3924 test_acc: 0.6383\n",
      "epoch: 66 train_acc: 0.8085 loss: 0.6412 test_acc: 0.6809\n",
      "epoch: 67 train_acc: 0.7766 loss: 0.3381 test_acc: 0.6489\n",
      "epoch: 68 train_acc: 0.7766 loss: 0.3549 test_acc: 0.6489\n",
      "epoch: 69 train_acc: 0.7766 loss: 0.1411 test_acc: 0.6489\n",
      "epoch: 70 train_acc: 0.7979 loss: 1.0205 test_acc: 0.6489\n",
      "epoch: 71 train_acc: 0.7660 loss: 0.6250 test_acc: 0.6277\n",
      "epoch: 72 train_acc: 0.8511 loss: 0.5373 test_acc: 0.6915\n",
      "epoch: 73 train_acc: 0.7447 loss: 0.3789 test_acc: 0.6064\n",
      "epoch: 74 train_acc: 0.7979 loss: 0.7803 test_acc: 0.6596\n",
      "epoch: 75 train_acc: 0.8085 loss: 0.3255 test_acc: 0.6702\n",
      "epoch: 76 train_acc: 0.7979 loss: 0.6534 test_acc: 0.7340\n",
      "epoch: 77 train_acc: 0.7447 loss: 0.6571 test_acc: 0.6702\n",
      "epoch: 78 train_acc: 0.8191 loss: 0.2827 test_acc: 0.6915\n",
      "epoch: 79 train_acc: 0.7979 loss: 0.3915 test_acc: 0.6702\n",
      "epoch: 80 train_acc: 0.8085 loss: 0.3218 test_acc: 0.6702\n",
      "epoch: 81 train_acc: 0.7766 loss: 0.8163 test_acc: 0.6489\n",
      "epoch: 82 train_acc: 0.7660 loss: 0.4781 test_acc: 0.6489\n",
      "epoch: 83 train_acc: 0.7766 loss: 1.2182 test_acc: 0.6702\n",
      "epoch: 84 train_acc: 0.7979 loss: 0.2582 test_acc: 0.6383\n",
      "epoch: 85 train_acc: 0.8085 loss: 0.5290 test_acc: 0.7021\n",
      "epoch: 86 train_acc: 0.8085 loss: 0.6014 test_acc: 0.6702\n",
      "epoch: 87 train_acc: 0.8191 loss: 0.3449 test_acc: 0.6915\n",
      "epoch: 88 train_acc: 0.8085 loss: 0.4675 test_acc: 0.6809\n",
      "epoch: 89 train_acc: 0.7979 loss: 1.1188 test_acc: 0.6277\n",
      "epoch: 90 train_acc: 0.7979 loss: 0.7725 test_acc: 0.7021\n",
      "epoch: 91 train_acc: 0.8085 loss: 0.7144 test_acc: 0.6809\n",
      "epoch: 92 train_acc: 0.8085 loss: 0.3476 test_acc: 0.7021\n",
      "epoch: 93 train_acc: 0.8085 loss: 0.5422 test_acc: 0.6809\n",
      "epoch: 94 train_acc: 0.8085 loss: 0.3528 test_acc: 0.7234\n",
      "epoch: 95 train_acc: 0.8191 loss: 0.6617 test_acc: 0.7021\n",
      "epoch: 96 train_acc: 0.8191 loss: 1.7434 test_acc: 0.7021\n",
      "epoch: 97 train_acc: 0.8191 loss: 0.2896 test_acc: 0.6915\n",
      "epoch: 98 train_acc: 0.8085 loss: 0.2142 test_acc: 0.6809\n",
      "epoch: 99 train_acc: 0.8298 loss: 0.5515 test_acc: 0.7234\n",
      "epoch: 100 train_acc: 0.7979 loss: 0.5279 test_acc: 0.6702\n"
     ]
    }
   ],
   "source": [
    "list_loss = []\n",
    "list_train_acc = []\n",
    "list_test_acc = []\n",
    "z = None\n",
    "\n",
    "for epoch in range(0, 100):\n",
    "    out, loss = train(model, train_loader)\n",
    "    train_acc, z = test(model, train_loader)\n",
    "    test_acc, z = test(model, test_loader)\n",
    "    \n",
    "    list_train_acc.append(round(train_acc, 4))\n",
    "    list_test_acc.append(round(test_acc, 4))\n",
    "    list_loss.append(round(loss.item(), 4))\n",
    "\n",
    "    print(f\"epoch: {epoch+1} train_acc: {train_acc:.4f} loss: {loss:.4f} test_acc: {test_acc:.4f}\")"
   ]
  },
  {
   "cell_type": "code",
   "execution_count": 131,
   "metadata": {},
   "outputs": [],
   "source": [
    "embeddings = [] \n",
    "labels = [] \n",
    "color_list = ['red', 'blue']\n",
    "\n",
    "for dt in train_loader:\n",
    "    _ , z = model(dt.x, dt.edge_index, dt.batch)\n",
    "    for emb in z:\n",
    "        # print(emb.detach().numpy())|\n",
    "        embeddings.append(emb.detach().numpy())\n",
    "    labels += [color_list[y-1] for y in dt.y]\n",
    "\n",
    "for dt in test_loader:\n",
    "    _ , z = model(dt.x, dt.edge_index, dt.batch)\n",
    "    for emb in z:\n",
    "        # print(emb.detach().numpy())|\n",
    "        embeddings.append(emb.detach().numpy())\n",
    "    labels += [color_list[y-1] for y in dt.y]"
   ]
  },
  {
   "cell_type": "code",
   "execution_count": 132,
   "metadata": {},
   "outputs": [
    {
     "name": "stdout",
     "output_type": "stream",
     "text": [
      "188\n",
      "188\n"
     ]
    }
   ],
   "source": [
    "print(len(embeddings))\n",
    "print(len(labels))"
   ]
  },
  {
   "cell_type": "code",
   "execution_count": 133,
   "metadata": {},
   "outputs": [],
   "source": [
    "embeddings = np.array(embeddings)"
   ]
  },
  {
   "cell_type": "code",
   "execution_count": 134,
   "metadata": {},
   "outputs": [],
   "source": [
    "# !pip install plotly==5.17.0"
   ]
  },
  {
   "cell_type": "code",
   "execution_count": 135,
   "metadata": {},
   "outputs": [],
   "source": [
    "tsne = TSNE(n_components=2, random_state=42)\n",
    "X_tsne = tsne.fit_transform(embeddings)\n",
    "# tsne.kl_divergence_"
   ]
  },
  {
   "cell_type": "code",
   "execution_count": 136,
   "metadata": {},
   "outputs": [],
   "source": [
    "import plotly.express as px"
   ]
  },
  {
   "cell_type": "code",
   "execution_count": 137,
   "metadata": {},
   "outputs": [
    {
     "data": {
      "application/vnd.plotly.v1+json": {
       "config": {
        "plotlyServerURL": "https://plot.ly"
       },
       "data": [
        {
         "hovertemplate": "color=red<br>x=%{x}<br>y=%{y}<extra></extra>",
         "legendgroup": "red",
         "marker": {
          "color": "#636efa",
          "symbol": "circle"
         },
         "mode": "markers",
         "name": "red",
         "orientation": "v",
         "showlegend": true,
         "type": "scatter",
         "x": [
          1.184614896774292,
          1.2333571910858154,
          -1.3076775074005127,
          0.34625300765037537,
          0.8041471838951111,
          -0.5989683866500854,
          0.005282008089125156,
          0.11516549438238144,
          1.1070287227630615,
          1.0289963483810425,
          0.344388484954834,
          -0.6202670335769653,
          0.6719397902488708,
          2.31624436378479,
          -1.0048235654830933,
          3.326292037963867,
          1.4167250394821167,
          -3.0777711868286133,
          -0.37920987606048584,
          0.0249163918197155,
          0.48304709792137146,
          0.9191651344299316,
          -3.758331060409546,
          1.7395055294036865,
          1.6614679098129272,
          2.35212779045105,
          1.2506014108657837,
          0.005330946296453476,
          0.9351991415023804,
          -0.26689884066581726,
          1.0683913230895996,
          0.8874305486679077,
          2.6036012172698975,
          -1.3062504529953003,
          1.6538861989974976,
          -1.6432230472564697,
          -0.1747368425130844,
          -0.6361764669418335,
          1.657180666923523,
          0.47997817397117615,
          -0.019284924492239952,
          -1.1996212005615234,
          0.6312475800514221,
          1.4333407878875732,
          0.22579143941402435,
          0.8882144689559937,
          -0.834821879863739,
          -0.7173116207122803,
          1.927161455154419,
          1.0725617408752441,
          1.268515944480896,
          1.7215269804000854,
          2.065732955932617,
          0.4532155394554138,
          -1.1134192943572998,
          0.7957037687301636,
          3.6847944259643555,
          0.2331750988960266,
          1.00059175491333,
          1.6047823429107666,
          -0.2959626317024231,
          -0.2633151412010193,
          0.02206789143383503,
          -3.436917781829834,
          1.3167698383331299,
          1.5438789129257202,
          -0.9882604479789734,
          -3.754103899002075,
          0.6316497921943665,
          1.5596390962600708,
          3.326292037963867,
          -0.4144316017627716,
          -0.9802343249320984,
          1.2333592176437378,
          0.47522038221359253,
          -0.8817977905273438,
          1.9139820337295532,
          2.856121063232422,
          -0.5779291987419128,
          1.038967251777649,
          4.819778919219971,
          1.0121451616287231,
          0.23318339884281158,
          -0.0863644927740097,
          1.279685139656067,
          1.6160436868667603,
          -0.03641986474394798,
          1.0056054592132568,
          1.6538809537887573,
          -0.9802343249320984,
          1.026329755783081,
          3.266735076904297,
          0.9330270290374756,
          1.1494663953781128,
          -1.4680595397949219,
          -3.2746763229370117,
          1.2539455890655518,
          2.2741644382476807,
          0.7471839189529419,
          -0.2190645933151245,
          -0.14626112580299377,
          2.8427059650421143,
          3.6855039596557617,
          1.6099903583526611,
          2.4046034812927246,
          0.9304081797599792,
          1.5039172172546387,
          4.760972023010254,
          -0.5779293775558472,
          -0.14626091718673706,
          1.233361005783081,
          -0.3519865572452545,
          3.3002212047576904,
          3.7076256275177,
          1.5264123678207397,
          -0.8817977905273438,
          -0.9011699557304382,
          -0.6631757616996765,
          -0.410251259803772,
          1.0725619792938232,
          0.46353429555892944,
          4.820153713226318,
          0.6937288045883179,
          0.906083881855011,
          0.9480628371238708
         ],
         "xaxis": "x",
         "y": [
          11.711437225341797,
          2.4963479042053223,
          14.195632934570312,
          14.61111831665039,
          11.307308197021484,
          1.0989964008331299,
          -0.7286908626556396,
          5.8538713455200195,
          1.818755865097046,
          9.928037643432617,
          5.969282150268555,
          -2.170558214187622,
          2.5433473587036133,
          -15.508467674255371,
          1.0377075672149658,
          -18.309776306152344,
          11.66895866394043,
          12.68921947479248,
          -1.941284418106079,
          -0.7887014746665955,
          0.5757792592048645,
          11.144487380981445,
          9.866649627685547,
          1.2406641244888306,
          11.31734561920166,
          -16.049592971801758,
          2.423971176147461,
          -0.7287051677703857,
          11.632342338562012,
          -0.6691914796829224,
          1.8725489377975464,
          2.7217249870300293,
          -15.03081226348877,
          14.196111679077148,
          11.284000396728516,
          -4.712046146392822,
          -0.5120664238929749,
          1.180033564567566,
          8.475446701049805,
          0.5469300746917725,
          15.402504920959473,
          4.417806625366211,
          2.416161298751831,
          11.063302993774414,
          14.661454200744629,
          2.7219181060791016,
          -6.0690813064575195,
          -6.177992820739746,
          6.69292688369751,
          8.929458618164062,
          11.086893081665039,
          -15.520208358764648,
          -17.308799743652344,
          14.03729248046875,
          6.461477756500244,
          11.374807357788086,
          -18.554784774780273,
          14.661300659179688,
          11.672914505004883,
          9.101284980773926,
          15.079509735107422,
          -0.6532438397407532,
          12.084879875183105,
          11.814009666442871,
          0.16050998866558075,
          12.868783950805664,
          3.054513931274414,
          9.919604301452637,
          2.422858953475952,
          9.217985153198242,
          -18.309776306152344,
          15.34046459197998,
          -5.878453731536865,
          2.496340036392212,
          14.024945259094238,
          -3.1269776821136475,
          6.710024356842041,
          -15.730141639709473,
          -3.2466351985931396,
          9.911477088928223,
          -20.51865577697754,
          9.151966094970703,
          14.661304473876953,
          6.036038398742676,
          7.357571125030518,
          9.021917343139648,
          6.007455825805664,
          7.563207626342773,
          11.283985137939453,
          -5.878453731536865,
          8.980860710144043,
          -18.20306396484375,
          7.605605125427246,
          8.901167869567871,
          13.824071884155273,
          -6.071197509765625,
          7.373223781585693,
          12.908574104309082,
          12.97860050201416,
          -2.4861505031585693,
          6.0080718994140625,
          -15.708800315856934,
          -18.489381790161133,
          8.534977912902832,
          1.0775840282440186,
          2.022590160369873,
          9.268147468566895,
          -20.67808723449707,
          -3.2466347217559814,
          6.0080718994140625,
          2.4963388442993164,
          14.530566215515137,
          -18.257049560546875,
          -18.803796768188477,
          11.608254432678223,
          -3.1269776821136475,
          -3.1033663749694824,
          4.022967338562012,
          15.341323852539062,
          8.929458618164062,
          14.030508041381836,
          -20.566804885864258,
          2.2125625610351562,
          11.153605461120605,
          13.750755310058594
         ],
         "yaxis": "y"
        },
        {
         "hovertemplate": "color=blue<br>x=%{x}<br>y=%{y}<extra></extra>",
         "legendgroup": "blue",
         "marker": {
          "color": "#EF553B",
          "symbol": "circle"
         },
         "mode": "markers",
         "name": "blue",
         "orientation": "v",
         "showlegend": true,
         "type": "scatter",
         "x": [
          2.8589277267456055,
          2.8448326587677,
          -0.21958822011947632,
          -0.8799269795417786,
          -1.716549277305603,
          -0.5330927968025208,
          4.5576324462890625,
          -0.820728600025177,
          -1.1181623935699463,
          4.683900356292725,
          -0.8984767198562622,
          4.279599189758301,
          -3.8738279342651367,
          -1.7830489873886108,
          4.663353443145752,
          3.8472232818603516,
          4.3108062744140625,
          2.7025110721588135,
          -0.8215304017066956,
          -0.5190916061401367,
          3.8261053562164307,
          4.0753173828125,
          -0.5534488558769226,
          0.0575132854282856,
          2.845319986343384,
          3.862847328186035,
          2.498305082321167,
          2.830726385116577,
          2.8530242443084717,
          -3.7582879066467285,
          3.872565269470215,
          -3.2607405185699463,
          -2.643364429473877,
          -3.875687837600708,
          4.161584377288818,
          -0.046690117567777634,
          4.244054794311523,
          -0.15603801608085632,
          4.095880031585693,
          -1.5119082927703857,
          4.0861897468566895,
          2.2675485610961914,
          -1.852998971939087,
          4.1162285804748535,
          4.4927568435668945,
          3.4351773262023926,
          4.264174938201904,
          -1.6193211078643799,
          -1.9162390232086182,
          0.030934138223528862,
          -3.54286789894104,
          -3.3094229698181152,
          3.913816452026367,
          -1.6860195398330688,
          4.172075271606445,
          -3.1944167613983154,
          -3.1363906860351562,
          -2.9956586360931396,
          4.311978816986084,
          1.8856804370880127,
          -2.08882474899292,
          4.4923787117004395,
          -2.9454360008239746
         ],
         "xaxis": "x",
         "y": [
          -15.374072074890137,
          -15.297889709472656,
          -2.484994888305664,
          -5.1843485832214355,
          -5.314098834991455,
          -1.9430580139160156,
          -19.781572341918945,
          -4.232316970825195,
          -6.4833760261535645,
          -20.1948184967041,
          -5.1535820960998535,
          -20.879323959350586,
          -6.447592258453369,
          -6.386073112487793,
          -20.810243606567383,
          -15.439021110534668,
          -15.236936569213867,
          -14.752111434936523,
          -4.230578422546387,
          -1.9084659814834595,
          -15.415264129638672,
          -20.670364379882812,
          -3.302762746810913,
          -5.869497299194336,
          -15.711651802062988,
          -15.76986026763916,
          -14.988580703735352,
          -15.686691284179688,
          -15.312925338745117,
          9.878499984741211,
          -16.079416275024414,
          12.341329574584961,
          -6.647050857543945,
          -6.447211265563965,
          -20.117761611938477,
          4.81433629989624,
          -15.603474617004395,
          10.973740577697754,
          -20.724149703979492,
          -3.841703176498413,
          -19.964679718017578,
          12.90937614440918,
          -5.792027473449707,
          -20.770780563354492,
          -21.056913375854492,
          -15.030059814453125,
          -15.778685569763184,
          -6.007676124572754,
          -5.18553352355957,
          -0.7466293573379517,
          -5.920079231262207,
          -5.989974021911621,
          -16.00275993347168,
          -5.9510321617126465,
          -14.993819236755371,
          12.49930477142334,
          12.607778549194336,
          -4.841978073120117,
          -19.83084487915039,
          6.7474470138549805,
          -5.578197479248047,
          -19.677732467651367,
          -4.881824016571045
         ],
         "yaxis": "y"
        }
       ],
       "layout": {
        "legend": {
         "title": {
          "text": "color"
         },
         "tracegroupgap": 0
        },
        "margin": {
         "t": 60
        },
        "template": {
         "data": {
          "bar": [
           {
            "error_x": {
             "color": "#2a3f5f"
            },
            "error_y": {
             "color": "#2a3f5f"
            },
            "marker": {
             "line": {
              "color": "#E5ECF6",
              "width": 0.5
             },
             "pattern": {
              "fillmode": "overlay",
              "size": 10,
              "solidity": 0.2
             }
            },
            "type": "bar"
           }
          ],
          "barpolar": [
           {
            "marker": {
             "line": {
              "color": "#E5ECF6",
              "width": 0.5
             },
             "pattern": {
              "fillmode": "overlay",
              "size": 10,
              "solidity": 0.2
             }
            },
            "type": "barpolar"
           }
          ],
          "carpet": [
           {
            "aaxis": {
             "endlinecolor": "#2a3f5f",
             "gridcolor": "white",
             "linecolor": "white",
             "minorgridcolor": "white",
             "startlinecolor": "#2a3f5f"
            },
            "baxis": {
             "endlinecolor": "#2a3f5f",
             "gridcolor": "white",
             "linecolor": "white",
             "minorgridcolor": "white",
             "startlinecolor": "#2a3f5f"
            },
            "type": "carpet"
           }
          ],
          "choropleth": [
           {
            "colorbar": {
             "outlinewidth": 0,
             "ticks": ""
            },
            "type": "choropleth"
           }
          ],
          "contour": [
           {
            "colorbar": {
             "outlinewidth": 0,
             "ticks": ""
            },
            "colorscale": [
             [
              0,
              "#0d0887"
             ],
             [
              0.1111111111111111,
              "#46039f"
             ],
             [
              0.2222222222222222,
              "#7201a8"
             ],
             [
              0.3333333333333333,
              "#9c179e"
             ],
             [
              0.4444444444444444,
              "#bd3786"
             ],
             [
              0.5555555555555556,
              "#d8576b"
             ],
             [
              0.6666666666666666,
              "#ed7953"
             ],
             [
              0.7777777777777778,
              "#fb9f3a"
             ],
             [
              0.8888888888888888,
              "#fdca26"
             ],
             [
              1,
              "#f0f921"
             ]
            ],
            "type": "contour"
           }
          ],
          "contourcarpet": [
           {
            "colorbar": {
             "outlinewidth": 0,
             "ticks": ""
            },
            "type": "contourcarpet"
           }
          ],
          "heatmap": [
           {
            "colorbar": {
             "outlinewidth": 0,
             "ticks": ""
            },
            "colorscale": [
             [
              0,
              "#0d0887"
             ],
             [
              0.1111111111111111,
              "#46039f"
             ],
             [
              0.2222222222222222,
              "#7201a8"
             ],
             [
              0.3333333333333333,
              "#9c179e"
             ],
             [
              0.4444444444444444,
              "#bd3786"
             ],
             [
              0.5555555555555556,
              "#d8576b"
             ],
             [
              0.6666666666666666,
              "#ed7953"
             ],
             [
              0.7777777777777778,
              "#fb9f3a"
             ],
             [
              0.8888888888888888,
              "#fdca26"
             ],
             [
              1,
              "#f0f921"
             ]
            ],
            "type": "heatmap"
           }
          ],
          "heatmapgl": [
           {
            "colorbar": {
             "outlinewidth": 0,
             "ticks": ""
            },
            "colorscale": [
             [
              0,
              "#0d0887"
             ],
             [
              0.1111111111111111,
              "#46039f"
             ],
             [
              0.2222222222222222,
              "#7201a8"
             ],
             [
              0.3333333333333333,
              "#9c179e"
             ],
             [
              0.4444444444444444,
              "#bd3786"
             ],
             [
              0.5555555555555556,
              "#d8576b"
             ],
             [
              0.6666666666666666,
              "#ed7953"
             ],
             [
              0.7777777777777778,
              "#fb9f3a"
             ],
             [
              0.8888888888888888,
              "#fdca26"
             ],
             [
              1,
              "#f0f921"
             ]
            ],
            "type": "heatmapgl"
           }
          ],
          "histogram": [
           {
            "marker": {
             "pattern": {
              "fillmode": "overlay",
              "size": 10,
              "solidity": 0.2
             }
            },
            "type": "histogram"
           }
          ],
          "histogram2d": [
           {
            "colorbar": {
             "outlinewidth": 0,
             "ticks": ""
            },
            "colorscale": [
             [
              0,
              "#0d0887"
             ],
             [
              0.1111111111111111,
              "#46039f"
             ],
             [
              0.2222222222222222,
              "#7201a8"
             ],
             [
              0.3333333333333333,
              "#9c179e"
             ],
             [
              0.4444444444444444,
              "#bd3786"
             ],
             [
              0.5555555555555556,
              "#d8576b"
             ],
             [
              0.6666666666666666,
              "#ed7953"
             ],
             [
              0.7777777777777778,
              "#fb9f3a"
             ],
             [
              0.8888888888888888,
              "#fdca26"
             ],
             [
              1,
              "#f0f921"
             ]
            ],
            "type": "histogram2d"
           }
          ],
          "histogram2dcontour": [
           {
            "colorbar": {
             "outlinewidth": 0,
             "ticks": ""
            },
            "colorscale": [
             [
              0,
              "#0d0887"
             ],
             [
              0.1111111111111111,
              "#46039f"
             ],
             [
              0.2222222222222222,
              "#7201a8"
             ],
             [
              0.3333333333333333,
              "#9c179e"
             ],
             [
              0.4444444444444444,
              "#bd3786"
             ],
             [
              0.5555555555555556,
              "#d8576b"
             ],
             [
              0.6666666666666666,
              "#ed7953"
             ],
             [
              0.7777777777777778,
              "#fb9f3a"
             ],
             [
              0.8888888888888888,
              "#fdca26"
             ],
             [
              1,
              "#f0f921"
             ]
            ],
            "type": "histogram2dcontour"
           }
          ],
          "mesh3d": [
           {
            "colorbar": {
             "outlinewidth": 0,
             "ticks": ""
            },
            "type": "mesh3d"
           }
          ],
          "parcoords": [
           {
            "line": {
             "colorbar": {
              "outlinewidth": 0,
              "ticks": ""
             }
            },
            "type": "parcoords"
           }
          ],
          "pie": [
           {
            "automargin": true,
            "type": "pie"
           }
          ],
          "scatter": [
           {
            "fillpattern": {
             "fillmode": "overlay",
             "size": 10,
             "solidity": 0.2
            },
            "type": "scatter"
           }
          ],
          "scatter3d": [
           {
            "line": {
             "colorbar": {
              "outlinewidth": 0,
              "ticks": ""
             }
            },
            "marker": {
             "colorbar": {
              "outlinewidth": 0,
              "ticks": ""
             }
            },
            "type": "scatter3d"
           }
          ],
          "scattercarpet": [
           {
            "marker": {
             "colorbar": {
              "outlinewidth": 0,
              "ticks": ""
             }
            },
            "type": "scattercarpet"
           }
          ],
          "scattergeo": [
           {
            "marker": {
             "colorbar": {
              "outlinewidth": 0,
              "ticks": ""
             }
            },
            "type": "scattergeo"
           }
          ],
          "scattergl": [
           {
            "marker": {
             "colorbar": {
              "outlinewidth": 0,
              "ticks": ""
             }
            },
            "type": "scattergl"
           }
          ],
          "scattermapbox": [
           {
            "marker": {
             "colorbar": {
              "outlinewidth": 0,
              "ticks": ""
             }
            },
            "type": "scattermapbox"
           }
          ],
          "scatterpolar": [
           {
            "marker": {
             "colorbar": {
              "outlinewidth": 0,
              "ticks": ""
             }
            },
            "type": "scatterpolar"
           }
          ],
          "scatterpolargl": [
           {
            "marker": {
             "colorbar": {
              "outlinewidth": 0,
              "ticks": ""
             }
            },
            "type": "scatterpolargl"
           }
          ],
          "scatterternary": [
           {
            "marker": {
             "colorbar": {
              "outlinewidth": 0,
              "ticks": ""
             }
            },
            "type": "scatterternary"
           }
          ],
          "surface": [
           {
            "colorbar": {
             "outlinewidth": 0,
             "ticks": ""
            },
            "colorscale": [
             [
              0,
              "#0d0887"
             ],
             [
              0.1111111111111111,
              "#46039f"
             ],
             [
              0.2222222222222222,
              "#7201a8"
             ],
             [
              0.3333333333333333,
              "#9c179e"
             ],
             [
              0.4444444444444444,
              "#bd3786"
             ],
             [
              0.5555555555555556,
              "#d8576b"
             ],
             [
              0.6666666666666666,
              "#ed7953"
             ],
             [
              0.7777777777777778,
              "#fb9f3a"
             ],
             [
              0.8888888888888888,
              "#fdca26"
             ],
             [
              1,
              "#f0f921"
             ]
            ],
            "type": "surface"
           }
          ],
          "table": [
           {
            "cells": {
             "fill": {
              "color": "#EBF0F8"
             },
             "line": {
              "color": "white"
             }
            },
            "header": {
             "fill": {
              "color": "#C8D4E3"
             },
             "line": {
              "color": "white"
             }
            },
            "type": "table"
           }
          ]
         },
         "layout": {
          "annotationdefaults": {
           "arrowcolor": "#2a3f5f",
           "arrowhead": 0,
           "arrowwidth": 1
          },
          "autotypenumbers": "strict",
          "coloraxis": {
           "colorbar": {
            "outlinewidth": 0,
            "ticks": ""
           }
          },
          "colorscale": {
           "diverging": [
            [
             0,
             "#8e0152"
            ],
            [
             0.1,
             "#c51b7d"
            ],
            [
             0.2,
             "#de77ae"
            ],
            [
             0.3,
             "#f1b6da"
            ],
            [
             0.4,
             "#fde0ef"
            ],
            [
             0.5,
             "#f7f7f7"
            ],
            [
             0.6,
             "#e6f5d0"
            ],
            [
             0.7,
             "#b8e186"
            ],
            [
             0.8,
             "#7fbc41"
            ],
            [
             0.9,
             "#4d9221"
            ],
            [
             1,
             "#276419"
            ]
           ],
           "sequential": [
            [
             0,
             "#0d0887"
            ],
            [
             0.1111111111111111,
             "#46039f"
            ],
            [
             0.2222222222222222,
             "#7201a8"
            ],
            [
             0.3333333333333333,
             "#9c179e"
            ],
            [
             0.4444444444444444,
             "#bd3786"
            ],
            [
             0.5555555555555556,
             "#d8576b"
            ],
            [
             0.6666666666666666,
             "#ed7953"
            ],
            [
             0.7777777777777778,
             "#fb9f3a"
            ],
            [
             0.8888888888888888,
             "#fdca26"
            ],
            [
             1,
             "#f0f921"
            ]
           ],
           "sequentialminus": [
            [
             0,
             "#0d0887"
            ],
            [
             0.1111111111111111,
             "#46039f"
            ],
            [
             0.2222222222222222,
             "#7201a8"
            ],
            [
             0.3333333333333333,
             "#9c179e"
            ],
            [
             0.4444444444444444,
             "#bd3786"
            ],
            [
             0.5555555555555556,
             "#d8576b"
            ],
            [
             0.6666666666666666,
             "#ed7953"
            ],
            [
             0.7777777777777778,
             "#fb9f3a"
            ],
            [
             0.8888888888888888,
             "#fdca26"
            ],
            [
             1,
             "#f0f921"
            ]
           ]
          },
          "colorway": [
           "#636efa",
           "#EF553B",
           "#00cc96",
           "#ab63fa",
           "#FFA15A",
           "#19d3f3",
           "#FF6692",
           "#B6E880",
           "#FF97FF",
           "#FECB52"
          ],
          "font": {
           "color": "#2a3f5f"
          },
          "geo": {
           "bgcolor": "white",
           "lakecolor": "white",
           "landcolor": "#E5ECF6",
           "showlakes": true,
           "showland": true,
           "subunitcolor": "white"
          },
          "hoverlabel": {
           "align": "left"
          },
          "hovermode": "closest",
          "mapbox": {
           "style": "light"
          },
          "paper_bgcolor": "white",
          "plot_bgcolor": "#E5ECF6",
          "polar": {
           "angularaxis": {
            "gridcolor": "white",
            "linecolor": "white",
            "ticks": ""
           },
           "bgcolor": "#E5ECF6",
           "radialaxis": {
            "gridcolor": "white",
            "linecolor": "white",
            "ticks": ""
           }
          },
          "scene": {
           "xaxis": {
            "backgroundcolor": "#E5ECF6",
            "gridcolor": "white",
            "gridwidth": 2,
            "linecolor": "white",
            "showbackground": true,
            "ticks": "",
            "zerolinecolor": "white"
           },
           "yaxis": {
            "backgroundcolor": "#E5ECF6",
            "gridcolor": "white",
            "gridwidth": 2,
            "linecolor": "white",
            "showbackground": true,
            "ticks": "",
            "zerolinecolor": "white"
           },
           "zaxis": {
            "backgroundcolor": "#E5ECF6",
            "gridcolor": "white",
            "gridwidth": 2,
            "linecolor": "white",
            "showbackground": true,
            "ticks": "",
            "zerolinecolor": "white"
           }
          },
          "shapedefaults": {
           "line": {
            "color": "#2a3f5f"
           }
          },
          "ternary": {
           "aaxis": {
            "gridcolor": "white",
            "linecolor": "white",
            "ticks": ""
           },
           "baxis": {
            "gridcolor": "white",
            "linecolor": "white",
            "ticks": ""
           },
           "bgcolor": "#E5ECF6",
           "caxis": {
            "gridcolor": "white",
            "linecolor": "white",
            "ticks": ""
           }
          },
          "title": {
           "x": 0.05
          },
          "xaxis": {
           "automargin": true,
           "gridcolor": "white",
           "linecolor": "white",
           "ticks": "",
           "title": {
            "standoff": 15
           },
           "zerolinecolor": "white",
           "zerolinewidth": 2
          },
          "yaxis": {
           "automargin": true,
           "gridcolor": "white",
           "linecolor": "white",
           "ticks": "",
           "title": {
            "standoff": 15
           },
           "zerolinecolor": "white",
           "zerolinewidth": 2
          }
         }
        },
        "title": {
         "text": "GCN MUTAG Dataset"
        },
        "xaxis": {
         "anchor": "y",
         "domain": [
          0,
          1
         ],
         "title": {
          "text": "First t-SNE"
         }
        },
        "yaxis": {
         "anchor": "x",
         "domain": [
          0,
          1
         ],
         "title": {
          "text": "Second t-SNE"
         }
        }
       }
      }
     },
     "metadata": {},
     "output_type": "display_data"
    }
   ],
   "source": [
    "fig = px.scatter(x=X_tsne[:, 0], y=X_tsne[:, 1], color=labels)\n",
    "fig.update_layout(\n",
    "    title=\"GCN MUTAG Dataset\",\n",
    "    xaxis_title=\"First t-SNE\",\n",
    "    yaxis_title=\"Second t-SNE\",\n",
    ")\n",
    "fig.show()"
   ]
  },
  {
   "cell_type": "markdown",
   "metadata": {},
   "source": [
    "Evaluation (accuracy)"
   ]
  },
  {
   "cell_type": "code",
   "execution_count": 138,
   "metadata": {},
   "outputs": [
    {
     "data": {
      "image/png": "[encoded data removed]",
      "text/plain": [
       "<Figure size 640x480 with 1 Axes>"
      ]
     },
     "metadata": {},
     "output_type": "display_data"
    }
   ],
   "source": [
    "import matplotlib.pyplot as plt\n",
    "fig, ax = plt.subplots()\n",
    "ax.plot(list_train_acc, label='train')\n",
    "ax.plot(list_test_acc, label='test')\n",
    "ax.set_xlabel('epoch')\n",
    "ax.set_ylabel('accuracy')\n",
    "ax.legend()\n",
    "\n",
    "plt.xlim([0, 100])\n",
    "plt.ylim([0, 1.0])\n",
    "\n",
    "plt.title('GCN (base model) evaluation')\n",
    "plt.show()"
   ]
  },
  {
   "cell_type": "code",
   "execution_count": 139,
   "metadata": {},
   "outputs": [
    {
     "name": "stdout",
     "output_type": "stream",
     "text": [
      "average train accuracy 7.890000000000001\n",
      "average test accuracy 6.631\n"
     ]
    }
   ],
   "source": [
    "print(\"average train accuracy\", round(sum(list_train_acc)/len(list_train_acc), 4) * 10)\n",
    "print(\"average test accuracy\", round(sum(list_test_acc)/len(list_test_acc), 4) * 10)"
   ]
  },
  {
   "cell_type": "code",
   "execution_count": 140,
   "metadata": {},
   "outputs": [
    {
     "name": "stdout",
     "output_type": "stream",
     "text": [
      "min test accuracy 0.4362\n",
      "max test accuracy 0.7553\n"
     ]
    }
   ],
   "source": [
    "print(\"min test accuracy\", round(min(list_test_acc), 4))\n",
    "print(\"max test accuracy\", round(max(list_test_acc), 4))"
   ]
  },
  {
   "cell_type": "code",
   "execution_count": 141,
   "metadata": {},
   "outputs": [
    {
     "data": {
      "text/plain": [
       "0.6702"
      ]
     },
     "execution_count": 141,
     "metadata": {},
     "output_type": "execute_result"
    }
   ],
   "source": [
    "import statistics\n",
    "\n",
    "statistics.median(list_test_acc)"
   ]
  },
  {
   "cell_type": "code",
   "execution_count": null,
   "metadata": {},
   "outputs": [],
   "source": []
  },
  {
   "cell_type": "code",
   "execution_count": null,
   "metadata": {},
   "outputs": [],
   "source": []
  }
 ],
 "metadata": {
  "kernelspec": {
   "display_name": "Python 3",
   "language": "python",
   "name": "python3"
  },
  "language_info": {
   "codemirror_mode": {
    "name": "ipython",
    "version": 3
   },
   "file_extension": ".py",
   "mimetype": "text/x-python",
   "name": "python",
   "nbconvert_exporter": "python",
   "pygments_lexer": "ipython3",
   "version": "3.11.4"
  }
 },
 "nbformat": 4,
 "nbformat_minor": 2
}
